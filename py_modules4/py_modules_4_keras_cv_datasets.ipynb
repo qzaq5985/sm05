{
  "nbformat": 4,
  "nbformat_minor": 0,
  "metadata": {
    "colab": {
      "name": "py_modules_4_keras_cv_datasets.ipynb",
      "provenance": [],
      "private_outputs": true,
      "collapsed_sections": [],
      "include_colab_link": true
    },
    "kernelspec": {
      "name": "python3",
      "display_name": "Python 3"
    }
  },
  "cells": [
    {
      "cell_type": "markdown",
      "metadata": {
        "id": "view-in-github",
        "colab_type": "text"
      },
      "source": [
        "<a href=\"https://colab.research.google.com/github/qzaq5985/sm05/blob/master/py_modules4/py_modules_4_keras_cv_datasets.ipynb\" target=\"_parent\"><img src=\"https://colab.research.google.com/assets/colab-badge.svg\" alt=\"Open In Colab\"/></a>"
      ]
    },
    {
      "cell_type": "markdown",
      "metadata": {
        "id": "fgVCR-9B8riA",
        "colab_type": "text"
      },
      "source": [
        "## CV (Computer vision) datasets in AI\n",
        "- from keras\n",
        "    - MNIST\n",
        "    - Fashion-MNIST\n",
        "    - CIFAR-10\n",
        "    - CIFAR-100\n",
        "\n"
      ]
    },
    {
      "cell_type": "markdown",
      "metadata": {
        "id": "oCn56Xh79GPp",
        "colab_type": "text"
      },
      "source": [
        "### MNIST (Modified National Institute of Standards and Technology)\n",
        "- (60000, 28, 28), train\n",
        "- (10000, 28, 28), test\n",
        "- grayscale images of handwritten single digits between 0 and 9"
      ]
    },
    {
      "cell_type": "code",
      "metadata": {
        "id": "jb1j3u9N7qXW",
        "colab_type": "code",
        "colab": {}
      },
      "source": [
        "from keras.datasets import mnist\n",
        "import matplotlib.pyplot as plt\n",
        "%matplotlib inline\n"
      ],
      "execution_count": 0,
      "outputs": []
    },
    {
      "cell_type": "code",
      "metadata": {
        "id": "LrN5-0J_9m6Z",
        "colab_type": "code",
        "colab": {}
      },
      "source": [
        "# use TensorFlow 1.x \n",
        "%tensorflow_version 1.x\n",
        "import tensorflow as tf\n",
        "print(tf.__version__)"
      ],
      "execution_count": 0,
      "outputs": []
    },
    {
      "cell_type": "code",
      "metadata": {
        "id": "vEH3xFY_9FF6",
        "colab_type": "code",
        "colab": {}
      },
      "source": [
        "# load dataset\n",
        "(trainX, trainy), (testX, testy) = mnist.load_data()\n",
        "# summarize loaded dataset\n",
        "print('Train: X=%s, y=%s' % (trainX.shape, trainy.shape))\n",
        "print('Test: X=%s, y=%s' % (testX.shape, testy.shape))\n"
      ],
      "execution_count": 0,
      "outputs": []
    },
    {
      "cell_type": "code",
      "metadata": {
        "id": "xHTllCXd9xm9",
        "colab_type": "code",
        "colab": {}
      },
      "source": [
        "# plot first few images\n",
        "for i in range(9):\n",
        "\t# define subplot\n",
        "\tplt.subplot(330 + 1 + i)\n",
        "\t# plot raw pixel data\n",
        "\tplt.imshow(trainX[i], cmap=plt.get_cmap('gray'))\n",
        "# show the figure\n",
        "# plt.show()"
      ],
      "execution_count": 0,
      "outputs": []
    },
    {
      "cell_type": "markdown",
      "metadata": {
        "id": "4zaxz0p-bDGV",
        "colab_type": "text"
      },
      "source": [
        "###[도전] [DIY] MNIST 데이터의 숫자 분포 통계 및 그래프    [도전]\n",
        "- MNIST 트레이닝, 테스트 데이터의 0 ~ 9 까지의 숫자 분포 통계를 구하시오.\n",
        "- MNIST 트레이닝, 테스트 데이터의 숫자별 히스토그램을 그리시오.\n",
        "- MNIST 트레이닝, 테스트 데이터의 각 숫자의 대표그림을 2 X 5의 배치로 그리시오."
      ]
    },
    {
      "cell_type": "markdown",
      "metadata": {
        "id": "MOFAzto1Apd2",
        "colab_type": "text"
      },
      "source": [
        "### [도전] MNIST trainset"
      ]
    },
    {
      "cell_type": "code",
      "metadata": {
        "id": "fTm_wj9g4SDs",
        "colab_type": "code",
        "colab": {}
      },
      "source": [
        "import numpy as np\n",
        "type(trainy)\n",
        "unique, counts = np.unique(trainy, return_counts=True)\n",
        "mnist_train_dic = dict(zip(unique, counts))\n",
        "mnist_train_dic"
      ],
      "execution_count": 0,
      "outputs": []
    },
    {
      "cell_type": "code",
      "metadata": {
        "id": "1R5fZS7-9K3U",
        "colab_type": "code",
        "colab": {}
      },
      "source": [
        "plt.bar(list(mnist_train_dic.keys()), mnist_train_dic.values(), color = 'g')"
      ],
      "execution_count": 0,
      "outputs": []
    },
    {
      "cell_type": "code",
      "metadata": {
        "id": "nhAP2npN8vWV",
        "colab_type": "code",
        "colab": {}
      },
      "source": [
        "fig = plt.figure(figsize=(10,6))\n",
        "for i in range(10):\n",
        "  plt.subplot(2,5,i+1)\n",
        "  num0_9 = trainX[trainy == i]\n",
        "  plt.imshow(num0_9[0], cmap = 'gray')\n",
        "  plt.title(\"Class %d\" % (i))\n",
        "  plt.xticks([])\n",
        "  plt.yticks([])"
      ],
      "execution_count": 0,
      "outputs": []
    },
    {
      "cell_type": "markdown",
      "metadata": {
        "id": "JnJ_xkcWIRkO",
        "colab_type": "text"
      },
      "source": [
        "### [도전] MNIST testset"
      ]
    },
    {
      "cell_type": "code",
      "metadata": {
        "id": "Y0fLCTbP9nv0",
        "colab_type": "code",
        "colab": {}
      },
      "source": [
        "import numpy as np\n",
        "type(testy)\n",
        "unique, counts = np.unique(testy, return_counts=True)\n",
        "mnist_test_dic = dict(zip(unique, counts))\n",
        "mnist_test_dic"
      ],
      "execution_count": 0,
      "outputs": []
    },
    {
      "cell_type": "code",
      "metadata": {
        "id": "6B0dsF2R9wgf",
        "colab_type": "code",
        "colab": {}
      },
      "source": [
        "plt.bar(list(mnist_test_dic.keys()), mnist_test_dic.values(), color = 'g')"
      ],
      "execution_count": 0,
      "outputs": []
    },
    {
      "cell_type": "code",
      "metadata": {
        "id": "CaiITcNx90QV",
        "colab_type": "code",
        "colab": {}
      },
      "source": [
        "fig = plt.figure(figsize=(10,6))\n",
        "for i in range(10):\n",
        "  plt.subplot(2,5,i+1)\n",
        "  num0_9 = testX[testy == i]\n",
        "  plt.imshow(num0_9[0], cmap = 'gray')\n",
        "  plt.title(\"Class %d\" % (i))\n",
        "  plt.xticks([])\n",
        "  plt.yticks([])"
      ],
      "execution_count": 0,
      "outputs": []
    },
    {
      "cell_type": "markdown",
      "metadata": {
        "colab_type": "text",
        "id": "fDPYiwic_e9R"
      },
      "source": [
        "### Fashion-MNIST Dataset\n",
        "- (60000, 28, 28), train\n",
        "- (10000, 28, 28), test\n",
        "- grayscale images of items of 10 types of clothing, such as shoes, t-shirts, dresses, and more."
      ]
    },
    {
      "cell_type": "code",
      "metadata": {
        "id": "ulcFyOk9_lUB",
        "colab_type": "code",
        "colab": {}
      },
      "source": [
        "from keras.datasets import fashion_mnist\n",
        "# load dataset\n",
        "(trainX, trainy), (testX, testy) = fashion_mnist.load_data()\n",
        "# summarize loaded dataset\n",
        "print('Train: X=%s, y=%s' % (trainX.shape, trainy.shape))\n",
        "print('Test: X=%s, y=%s' % (testX.shape, testy.shape))\n"
      ],
      "execution_count": 0,
      "outputs": []
    },
    {
      "cell_type": "code",
      "metadata": {
        "id": "KKw0JW6t_q7F",
        "colab_type": "code",
        "colab": {}
      },
      "source": [
        "# plot first few images\n",
        "for i in range(9):\n",
        "\t# define subplot\n",
        "\tplt.subplot(330 + 1 + i)\n",
        "\t# plot raw pixel data\n",
        "\tplt.imshow(trainX[i], cmap=plt.get_cmap('gray'))\n",
        "# show the figure\n",
        "# plt.show()"
      ],
      "execution_count": 0,
      "outputs": []
    },
    {
      "cell_type": "markdown",
      "metadata": {
        "id": "JoppM9E5BCKc",
        "colab_type": "text"
      },
      "source": [
        ""
      ]
    },
    {
      "cell_type": "markdown",
      "metadata": {
        "id": "QBT_hoItA1-t",
        "colab_type": "text"
      },
      "source": [
        "### [도전] fashion_MNIST train set"
      ]
    },
    {
      "cell_type": "code",
      "metadata": {
        "colab_type": "code",
        "id": "YUcMK9wF_zm3",
        "colab": {}
      },
      "source": [
        "type(trainy)\n",
        "unique, counts = np.unique(trainy, return_counts=True)\n",
        "mnist_train_dic = dict(zip(unique, counts))\n",
        "mnist_train_dic"
      ],
      "execution_count": 0,
      "outputs": []
    },
    {
      "cell_type": "code",
      "metadata": {
        "colab_type": "code",
        "id": "Aa9d5YIN_znC",
        "colab": {}
      },
      "source": [
        "plt.bar(list(mnist_train_dic.keys()), mnist_train_dic.values(), color = 'g')"
      ],
      "execution_count": 0,
      "outputs": []
    },
    {
      "cell_type": "code",
      "metadata": {
        "colab_type": "code",
        "id": "uAahfzl2_znL",
        "colab": {}
      },
      "source": [
        "fig = plt.figure(figsize=(10,6))\n",
        "for i in range(10):\n",
        "  plt.subplot(2,5,i+1)\n",
        "  num0_9 = trainX[trainy == i]\n",
        "  plt.imshow(num0_9[0], cmap = 'gray')\n",
        "  plt.title(\"Class %d\" % (i))\n",
        "  plt.xticks([])\n",
        "  plt.yticks([])"
      ],
      "execution_count": 0,
      "outputs": []
    },
    {
      "cell_type": "markdown",
      "metadata": {
        "colab_type": "text",
        "id": "wz_i_iVcBFJx"
      },
      "source": [
        "### [도전] fashion_MNIST test set"
      ]
    },
    {
      "cell_type": "code",
      "metadata": {
        "colab_type": "code",
        "id": "nSY-T43LAL9F",
        "colab": {}
      },
      "source": [
        "import numpy as np\n",
        "type(testy)\n",
        "unique, counts = np.unique(testy, return_counts=True)\n",
        "mnist_test_dic = dict(zip(unique, counts))\n",
        "mnist_test_dic"
      ],
      "execution_count": 0,
      "outputs": []
    },
    {
      "cell_type": "code",
      "metadata": {
        "colab_type": "code",
        "id": "4AsUx3sQAL9L",
        "colab": {}
      },
      "source": [
        "plt.bar(list(mnist_test_dic.keys()), mnist_test_dic.values(), color = 'g')"
      ],
      "execution_count": 0,
      "outputs": []
    },
    {
      "cell_type": "code",
      "metadata": {
        "colab_type": "code",
        "id": "n0pW52s6AL9N",
        "colab": {}
      },
      "source": [
        "fig = plt.figure(figsize=(10,6))\n",
        "for i in range(10):\n",
        "  plt.subplot(2,5,i+1)\n",
        "  num0_9 = testX[testy == i]\n",
        "  plt.imshow(num0_9[0], cmap = 'gray')\n",
        "  plt.title(\"Class %d\" % (i))\n",
        "  plt.xticks([])\n",
        "  plt.yticks([])"
      ],
      "execution_count": 0,
      "outputs": []
    },
    {
      "cell_type": "markdown",
      "metadata": {
        "colab_type": "text",
        "id": "M1YAaELN_fQq"
      },
      "source": [
        "### CIFAR-10 Dataset (CIFAR: Canadian Institute For Advanced Research)\n",
        "- (50000, 32, 32), train\n",
        "- (10000, 32, 32) test\n",
        "- color photographs of objects from 10 classes, such as frogs, birds, cats, ships, etc"
      ]
    },
    {
      "cell_type": "code",
      "metadata": {
        "id": "iTJBblaRBAyY",
        "colab_type": "code",
        "colab": {}
      },
      "source": [
        "from keras.datasets import cifar10\n",
        "# load dataset\n",
        "(trainX, trainy), (testX, testy) = cifar10.load_data()\n",
        "# summarize loaded dataset\n",
        "print('Train: X=%s, y=%s' % (trainX.shape, trainy.shape))\n",
        "print('Test: X=%s, y=%s' % (testX.shape, testy.shape))\n"
      ],
      "execution_count": 0,
      "outputs": []
    },
    {
      "cell_type": "code",
      "metadata": {
        "id": "EOuoySmRA8n-",
        "colab_type": "code",
        "colab": {}
      },
      "source": [
        "# plot first few images\n",
        "for i in range(9):\n",
        "\t# define subplot\n",
        "\tplt.subplot(330 + 1 + i)\n",
        "\t# plot raw pixel data\n",
        "\tplt.imshow(trainX[i])\n",
        "# show the figure\n",
        "# plt.show()"
      ],
      "execution_count": 0,
      "outputs": []
    },
    {
      "cell_type": "markdown",
      "metadata": {
        "id": "pax94fKzCOUu",
        "colab_type": "text"
      },
      "source": [
        "### [도전] CIFAR-10 trainset"
      ]
    },
    {
      "cell_type": "code",
      "metadata": {
        "colab_type": "code",
        "id": "LwZBz1wGCMCq",
        "colab": {}
      },
      "source": [
        "type(trainy)\n",
        "unique, counts = np.unique(trainy, return_counts=True)\n",
        "mnist_train_dic = dict(zip(unique, counts))\n",
        "mnist_train_dic"
      ],
      "execution_count": 0,
      "outputs": []
    },
    {
      "cell_type": "code",
      "metadata": {
        "colab_type": "code",
        "id": "VYEhyni7CMCu",
        "colab": {}
      },
      "source": [
        "plt.bar(list(mnist_train_dic.keys()), mnist_train_dic.values(), color = 'g')"
      ],
      "execution_count": 0,
      "outputs": []
    },
    {
      "cell_type": "code",
      "metadata": {
        "colab_type": "code",
        "id": "9ppK3W0JCMCy",
        "colab": {}
      },
      "source": [
        "fig = plt.figure(figsize=(5,4))\n",
        "for i in range(10):\n",
        "  plt.subplot(2,5,i+1)\n",
        "  num0_9 = trainX[trainy[:,0] == i]  # trainy[:,0]  이 중요\n",
        "  plt.imshow(num0_9[0], cmap = 'gray')\n",
        "  plt.title(\"Class %d\" % (i))\n",
        "  plt.xticks([])\n",
        "  plt.yticks([])"
      ],
      "execution_count": 0,
      "outputs": []
    },
    {
      "cell_type": "markdown",
      "metadata": {
        "id": "rLZRK-ZCFNo-",
        "colab_type": "text"
      },
      "source": [
        "### [도전] CIFAR-10 testset"
      ]
    },
    {
      "cell_type": "code",
      "metadata": {
        "colab_type": "code",
        "id": "kUbXulLYE-3P",
        "colab": {}
      },
      "source": [
        "import numpy as np\n",
        "type(testy)\n",
        "unique, counts = np.unique(testy, return_counts=True)\n",
        "mnist_test_dic = dict(zip(unique, counts))\n",
        "mnist_test_dic"
      ],
      "execution_count": 0,
      "outputs": []
    },
    {
      "cell_type": "code",
      "metadata": {
        "colab_type": "code",
        "id": "0s-P9v2AE-3Y",
        "colab": {}
      },
      "source": [
        "plt.bar(list(mnist_test_dic.keys()), mnist_test_dic.values(), color = 'g')"
      ],
      "execution_count": 0,
      "outputs": []
    },
    {
      "cell_type": "code",
      "metadata": {
        "colab_type": "code",
        "id": "xHe2bTx9E-3b",
        "colab": {}
      },
      "source": [
        "fig = plt.figure(figsize=(10,6))\n",
        "for i in range(10):\n",
        "  plt.subplot(2,5,i+1)\n",
        "  num0_9 = testX[testy[:,0]== i]\n",
        "  plt.imshow(num0_9[0], cmap = 'gray')\n",
        "  plt.title(\"Class %d\" % (i))\n",
        "  plt.xticks([])\n",
        "  plt.yticks([])"
      ],
      "execution_count": 0,
      "outputs": []
    },
    {
      "cell_type": "markdown",
      "metadata": {
        "colab_type": "text",
        "id": "6X7hjR20BzzQ"
      },
      "source": [
        "### CIFAR-100 Dataset (CIFAR: Canadian Institute For Advanced Research)\n",
        "- (50000, 32, 32), train\n",
        "- (10000, 32, 32) test\n",
        "- color photographs of objects from 100 classes, such as fish, flowers, insects, and much more"
      ]
    },
    {
      "cell_type": "code",
      "metadata": {
        "id": "pjAEqleIB-5h",
        "colab_type": "code",
        "colab": {}
      },
      "source": [
        "from keras.datasets import cifar100\n",
        "# load dataset\n",
        "(trainX, trainy), (testX, testy) = cifar100.load_data()\n",
        "# summarize loaded dataset\n",
        "print('Train: X=%s, y=%s' % (trainX.shape, trainy.shape))\n",
        "print('Test: X=%s, y=%s' % (testX.shape, testy.shape))"
      ],
      "execution_count": 0,
      "outputs": []
    },
    {
      "cell_type": "code",
      "metadata": {
        "id": "n2opLJIECHRq",
        "colab_type": "code",
        "colab": {}
      },
      "source": [
        "# plot first few images\n",
        "for i in range(9):\n",
        "\t# define subplot\n",
        "\tplt.subplot(330 + 1 + i)\n",
        "\t# plot raw pixel data\n",
        "\tplt.imshow(trainX[i])\n",
        "# show the figure\n",
        "# plt.show()"
      ],
      "execution_count": 0,
      "outputs": []
    },
    {
      "cell_type": "markdown",
      "metadata": {
        "id": "23T56aClFSJQ",
        "colab_type": "text"
      },
      "source": [
        "### CIFAR-100 trainset (CIFAR: Canadian Institute For Advanced Research)"
      ]
    },
    {
      "cell_type": "code",
      "metadata": {
        "colab_type": "code",
        "id": "WmkraWN5FSwE",
        "colab": {}
      },
      "source": [
        "type(trainy)\n",
        "unique, counts = np.unique(trainy, return_counts=True)\n",
        "mnist_train_dic = dict(zip(unique, counts))\n",
        "mnist_train_dic"
      ],
      "execution_count": 0,
      "outputs": []
    },
    {
      "cell_type": "code",
      "metadata": {
        "colab_type": "code",
        "id": "48-O7lVbFSwJ",
        "colab": {}
      },
      "source": [
        "plt.bar(list(mnist_train_dic.keys()), mnist_train_dic.values(), color = 'g')"
      ],
      "execution_count": 0,
      "outputs": []
    },
    {
      "cell_type": "code",
      "metadata": {
        "colab_type": "code",
        "id": "t633QXztFSwL",
        "colab": {}
      },
      "source": [
        "fig = plt.figure(figsize=(12,15))\n",
        "for i in range(100):  # 100개를 봐야하므로 10이아닌 100\n",
        "  plt.subplot(10,10,i+1)\n",
        "  num0_9 = trainX[trainy[:,0] == i]  # trainy[:,0]  이 중요\n",
        "  plt.imshow(num0_9[0])   #, cmap = 'gray')\n",
        "  plt.title(\"Class %d\" % (i))\n",
        "  plt.xticks([])\n",
        "  plt.yticks([])"
      ],
      "execution_count": 0,
      "outputs": []
    },
    {
      "cell_type": "markdown",
      "metadata": {
        "id": "sJVV7T6_GDUd",
        "colab_type": "text"
      },
      "source": [
        "### [도전] CIFAR-100 testset"
      ]
    },
    {
      "cell_type": "code",
      "metadata": {
        "colab_type": "code",
        "id": "NoNW_Ag4GNbR",
        "colab": {}
      },
      "source": [
        "type(trainy)\n",
        "unique, counts = np.unique(trainy, return_counts=True)\n",
        "mnist_train_dic = dict(zip(unique, counts))\n",
        "mnist_train_dic"
      ],
      "execution_count": 0,
      "outputs": []
    },
    {
      "cell_type": "code",
      "metadata": {
        "colab_type": "code",
        "id": "F_JSAOX3GNbX",
        "colab": {}
      },
      "source": [
        "plt.bar(list(mnist_train_dic.keys()), mnist_train_dic.values(), color = 'g')"
      ],
      "execution_count": 0,
      "outputs": []
    },
    {
      "cell_type": "code",
      "metadata": {
        "colab_type": "code",
        "id": "jXnlwJVCGNbZ",
        "colab": {}
      },
      "source": [
        "fig = plt.figure(figsize=(12,15))\n",
        "for i in range(100):  # 100개를 봐야하므로 10이아닌 100\n",
        "  plt.subplot(10,10,i+1)\n",
        "  num0_9 = trainX[trainy[:,0] == i]  # trainy[:,0]  이 중요\n",
        "  plt.imshow(num0_9[0])   #, cmap = 'gray')\n",
        "  plt.title(\"Class %d\" % (i))\n",
        "  plt.xticks([])\n",
        "  plt.yticks([])"
      ],
      "execution_count": 0,
      "outputs": []
    },
    {
      "cell_type": "markdown",
      "metadata": {
        "id": "KzRSE5NPEPAD",
        "colab_type": "text"
      },
      "source": [
        "#### [도전} CIFAR-100의 첫 20개의 사진을 그려보시오."
      ]
    },
    {
      "cell_type": "code",
      "metadata": {
        "id": "VHapgtu6DGh9",
        "colab_type": "code",
        "colab": {}
      },
      "source": [
        "# plot first 20 images\n",
        "\n",
        "\n",
        "\n"
      ],
      "execution_count": 0,
      "outputs": []
    },
    {
      "cell_type": "code",
      "metadata": {
        "colab_type": "code",
        "id": "n_WQ-sZPHLqR",
        "colab": {}
      },
      "source": [
        "type(trainy)\n",
        "unique, counts = np.unique(trainy, return_counts=True)\n",
        "mnist_train_dic = dict(zip(unique, counts))\n",
        "mnist_train_dic"
      ],
      "execution_count": 0,
      "outputs": []
    },
    {
      "cell_type": "code",
      "metadata": {
        "colab_type": "code",
        "id": "rIuLD8i9HLqc",
        "colab": {}
      },
      "source": [
        "plt.bar(list(mnist_train_dic.keys()), mnist_train_dic.values(), color = 'g')"
      ],
      "execution_count": 0,
      "outputs": []
    },
    {
      "cell_type": "code",
      "metadata": {
        "colab_type": "code",
        "id": "aG6ODSoYHLqi",
        "colab": {}
      },
      "source": [
        "fig = plt.figure(figsize=(12,15))\n",
        "for i in range(20):  # 20개를 봐야하므로 100이아닌 20\n",
        "  plt.subplot(10,10,i+1)\n",
        "  num0_9 = trainX[trainy[:,0] == i]  # trainy[:,0]  이 중요\n",
        "  plt.imshow(num0_9[0])   #, cmap = 'gray')  gray는 쓰지 않음\n",
        "  plt.title(\"Class %d\" % (i))\n",
        "  plt.xticks([])\n",
        "  plt.yticks([])"
      ],
      "execution_count": 0,
      "outputs": []
    },
    {
      "cell_type": "markdown",
      "metadata": {
        "id": "Dv7xgN1NCSwC",
        "colab_type": "text"
      },
      "source": [
        "## What is your dataset?"
      ]
    },
    {
      "cell_type": "code",
      "metadata": {
        "id": "J-LVdIFS8czZ",
        "colab_type": "code",
        "colab": {}
      },
      "source": [
        ""
      ],
      "execution_count": 0,
      "outputs": []
    }
  ]
}