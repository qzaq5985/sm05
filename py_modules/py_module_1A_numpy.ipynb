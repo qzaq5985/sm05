{
  "nbformat": 4,
  "nbformat_minor": 0,
  "metadata": {
    "colab": {
      "name": "py_module_1A_numpy.ipynb",
      "provenance": [],
      "collapsed_sections": [],
      "include_colab_link": true
    },
    "kernelspec": {
      "name": "python3",
      "display_name": "Python 3"
    }
  },
  "cells": [
    {
      "cell_type": "markdown",
      "metadata": {
        "id": "view-in-github",
        "colab_type": "text"
      },
      "source": [
        "<a href=\"https://colab.research.google.com/github/qzaq5985/sm05/blob/master/py_modules/py_module_1A_numpy.ipynb\" target=\"_parent\"><img src=\"https://colab.research.google.com/assets/colab-badge.svg\" alt=\"Open In Colab\"/></a>"
      ]
    },
    {
      "cell_type": "markdown",
      "metadata": {
        "id": "_zrirXHfgmyY",
        "colab_type": "text"
      },
      "source": [
        "# numpy\n",
        "## concatenate()를 이용한 배열 결합\n",
        "> [numpy 배열 합치기, concatenate 함수](https://m.blog.naver.com/PostView.nhn?blogId=qbxlvnf11&logNo=221490583222&categoryNo=0&proxyReferer=https%3A%2F%2Fwww.google.com%2F)"
      ]
    },
    {
      "cell_type": "code",
      "metadata": {
        "id": "CDwOGQJ49LE3",
        "colab_type": "code",
        "colab": {}
      },
      "source": [
        "import numpy as np"
      ],
      "execution_count": 0,
      "outputs": []
    },
    {
      "cell_type": "code",
      "metadata": {
        "id": "AJyEO89Y9bwx",
        "colab_type": "code",
        "outputId": "4b59c3ff-60d9-4e5b-cd46-73c361107b3d",
        "colab": {
          "base_uri": "https://localhost:8080/",
          "height": 53
        }
      },
      "source": [
        "ar1 = np.array(range(1,5)).reshape(2,2)\n",
        "ar1"
      ],
      "execution_count": 2,
      "outputs": [
        {
          "output_type": "execute_result",
          "data": {
            "text/plain": [
              "array([[1, 2],\n",
              "       [3, 4]])"
            ]
          },
          "metadata": {
            "tags": []
          },
          "execution_count": 2
        }
      ]
    },
    {
      "cell_type": "code",
      "metadata": {
        "id": "ZihwnXV4-yOt",
        "colab_type": "code",
        "outputId": "4b1ea28a-23b2-4650-b3ef-e2d0764c8a6d",
        "colab": {
          "base_uri": "https://localhost:8080/",
          "height": 35
        }
      },
      "source": [
        "ar1.shape"
      ],
      "execution_count": 3,
      "outputs": [
        {
          "output_type": "execute_result",
          "data": {
            "text/plain": [
              "(2, 2)"
            ]
          },
          "metadata": {
            "tags": []
          },
          "execution_count": 3
        }
      ]
    },
    {
      "cell_type": "code",
      "metadata": {
        "id": "ZzFyvMlgeIGQ",
        "colab_type": "code",
        "outputId": "9168b663-e153-4632-849d-08798af3c0a5",
        "colab": {
          "base_uri": "https://localhost:8080/",
          "height": 53
        }
      },
      "source": [
        "ar2 = np.array(range(5,11)).reshape(2,3)  # np.array(range(5,11)).reshape(-1,3)\n",
        "ar2"
      ],
      "execution_count": 4,
      "outputs": [
        {
          "output_type": "execute_result",
          "data": {
            "text/plain": [
              "array([[ 5,  6,  7],\n",
              "       [ 8,  9, 10]])"
            ]
          },
          "metadata": {
            "tags": []
          },
          "execution_count": 4
        }
      ]
    },
    {
      "cell_type": "code",
      "metadata": {
        "id": "w-1gGrBueSqI",
        "colab_type": "code",
        "outputId": "2bb1394e-907e-4bd4-f349-4d19189ccb24",
        "colab": {
          "base_uri": "https://localhost:8080/",
          "height": 35
        }
      },
      "source": [
        "ar2.shape  # 2 X 3 array"
      ],
      "execution_count": 5,
      "outputs": [
        {
          "output_type": "execute_result",
          "data": {
            "text/plain": [
              "(2, 3)"
            ]
          },
          "metadata": {
            "tags": []
          },
          "execution_count": 5
        }
      ]
    },
    {
      "cell_type": "markdown",
      "metadata": {
        "id": "-RUqNH1jefLd",
        "colab_type": "text"
      },
      "source": [
        "## concatenate()를 이용한 배열 합치기\n"
      ]
    },
    {
      "cell_type": "markdown",
      "metadata": {
        "id": "-rMO4Jzwfqnw",
        "colab_type": "text"
      },
      "source": [
        "- concatenate(array1, array2, axis = 0)  # axis = 0 : 행을 기준\n",
        "- concatenate(array1, array2, axis = 1)  # axis = 1 : 열을 기준\n",
        "- concatenate(array1, array2, axis = None)"
      ]
    },
    {
      "cell_type": "code",
      "metadata": {
        "id": "Ib68XISkeW34",
        "colab_type": "code",
        "outputId": "fd4bb965-a7f1-4070-fe4e-93cf54fa94a2",
        "colab": {
          "base_uri": "https://localhost:8080/",
          "height": 89
        }
      },
      "source": [
        "np.concatenate((ar1,ar1), axis=0)"
      ],
      "execution_count": 6,
      "outputs": [
        {
          "output_type": "execute_result",
          "data": {
            "text/plain": [
              "array([[1, 2],\n",
              "       [3, 4],\n",
              "       [1, 2],\n",
              "       [3, 4]])"
            ]
          },
          "metadata": {
            "tags": []
          },
          "execution_count": 6
        }
      ]
    },
    {
      "cell_type": "code",
      "metadata": {
        "id": "ITVGhy6I5y8f",
        "colab_type": "code",
        "colab": {
          "base_uri": "https://localhost:8080/",
          "height": 35
        },
        "outputId": "5d9a481b-7397-4a88-e6cb-14cc74b1243a"
      },
      "source": [
        "np.concatenate((ar1,ar1), axis=0).shape"
      ],
      "execution_count": 7,
      "outputs": [
        {
          "output_type": "execute_result",
          "data": {
            "text/plain": [
              "(4, 2)"
            ]
          },
          "metadata": {
            "tags": []
          },
          "execution_count": 7
        }
      ]
    },
    {
      "cell_type": "code",
      "metadata": {
        "id": "peJO0eQiezng",
        "colab_type": "code",
        "outputId": "5148bee7-215c-413a-f11f-75dd39137b5f",
        "colab": {
          "base_uri": "https://localhost:8080/",
          "height": 53
        }
      },
      "source": [
        "np.concatenate((ar1,ar1), axis=1)"
      ],
      "execution_count": 8,
      "outputs": [
        {
          "output_type": "execute_result",
          "data": {
            "text/plain": [
              "array([[1, 2, 1, 2],\n",
              "       [3, 4, 3, 4]])"
            ]
          },
          "metadata": {
            "tags": []
          },
          "execution_count": 8
        }
      ]
    },
    {
      "cell_type": "code",
      "metadata": {
        "colab_type": "code",
        "outputId": "758492c1-eb84-4f13-aa51-3c91d5a868e2",
        "id": "HV9kfBoGf_29",
        "colab": {
          "base_uri": "https://localhost:8080/",
          "height": 35
        }
      },
      "source": [
        "np.concatenate((ar1,ar1), axis=None)"
      ],
      "execution_count": 9,
      "outputs": [
        {
          "output_type": "execute_result",
          "data": {
            "text/plain": [
              "array([1, 2, 3, 4, 1, 2, 3, 4])"
            ]
          },
          "metadata": {
            "tags": []
          },
          "execution_count": 9
        }
      ]
    },
    {
      "cell_type": "markdown",
      "metadata": {
        "id": "Hl_PgVdzgEAA",
        "colab_type": "text"
      },
      "source": [
        "### Error in concatenation"
      ]
    },
    {
      "cell_type": "code",
      "metadata": {
        "id": "J9FMJ92G6EJN",
        "colab_type": "code",
        "colab": {
          "base_uri": "https://localhost:8080/",
          "height": 35
        },
        "outputId": "34536a61-d2ad-4991-8556-f0f3a7200cf3"
      },
      "source": [
        "ar1.shape, ar2.shape"
      ],
      "execution_count": 11,
      "outputs": [
        {
          "output_type": "execute_result",
          "data": {
            "text/plain": [
              "((2, 2), (2, 3))"
            ]
          },
          "metadata": {
            "tags": []
          },
          "execution_count": 11
        }
      ]
    },
    {
      "cell_type": "code",
      "metadata": {
        "id": "wdhuj5Vie8FX",
        "colab_type": "code",
        "outputId": "4fd21f3c-c12f-419e-9096-06f097438ac8",
        "colab": {
          "base_uri": "https://localhost:8080/",
          "height": 208
        }
      },
      "source": [
        "np.concatenate((ar1,ar2), axis=0)"
      ],
      "execution_count": 12,
      "outputs": [
        {
          "output_type": "error",
          "ename": "ValueError",
          "evalue": "ignored",
          "traceback": [
            "\u001b[0;31m---------------------------------------------------------------------------\u001b[0m",
            "\u001b[0;31mValueError\u001b[0m                                Traceback (most recent call last)",
            "\u001b[0;32m<ipython-input-12-1c958c5ba355>\u001b[0m in \u001b[0;36m<module>\u001b[0;34m()\u001b[0m\n\u001b[0;32m----> 1\u001b[0;31m \u001b[0mnp\u001b[0m\u001b[0;34m.\u001b[0m\u001b[0mconcatenate\u001b[0m\u001b[0;34m(\u001b[0m\u001b[0;34m(\u001b[0m\u001b[0mar1\u001b[0m\u001b[0;34m,\u001b[0m\u001b[0mar2\u001b[0m\u001b[0;34m)\u001b[0m\u001b[0;34m,\u001b[0m \u001b[0maxis\u001b[0m\u001b[0;34m=\u001b[0m\u001b[0;36m0\u001b[0m\u001b[0;34m)\u001b[0m\u001b[0;34m\u001b[0m\u001b[0;34m\u001b[0m\u001b[0m\n\u001b[0m",
            "\u001b[0;32m<__array_function__ internals>\u001b[0m in \u001b[0;36mconcatenate\u001b[0;34m(*args, **kwargs)\u001b[0m\n",
            "\u001b[0;31mValueError\u001b[0m: all the input array dimensions for the concatenation axis must match exactly, but along dimension 1, the array at index 0 has size 2 and the array at index 1 has size 3"
          ]
        }
      ]
    },
    {
      "cell_type": "markdown",
      "metadata": {
        "id": "5w2gtJc570pG",
        "colab_type": "text"
      },
      "source": [
        "> ar1의 열의 갯수 == ar2의 열의 갯수"
      ]
    },
    {
      "cell_type": "code",
      "metadata": {
        "id": "z3y05uAz8G-X",
        "colab_type": "code",
        "outputId": "d41abdc7-51e3-45b5-c53c-d2372c2af971",
        "colab": {
          "base_uri": "https://localhost:8080/",
          "height": 35
        }
      },
      "source": [
        "ar1.shape, ar2.shape"
      ],
      "execution_count": 13,
      "outputs": [
        {
          "output_type": "execute_result",
          "data": {
            "text/plain": [
              "((2, 2), (2, 3))"
            ]
          },
          "metadata": {
            "tags": []
          },
          "execution_count": 13
        }
      ]
    },
    {
      "cell_type": "code",
      "metadata": {
        "id": "Gxhxr_Zq8cv1",
        "colab_type": "code",
        "outputId": "7323fce2-b7e6-402e-b0c2-b79fa26c19dc",
        "colab": {
          "base_uri": "https://localhost:8080/",
          "height": 35
        }
      },
      "source": [
        "ar2.T.shape"
      ],
      "execution_count": 14,
      "outputs": [
        {
          "output_type": "execute_result",
          "data": {
            "text/plain": [
              "(3, 2)"
            ]
          },
          "metadata": {
            "tags": []
          },
          "execution_count": 14
        }
      ]
    },
    {
      "cell_type": "code",
      "metadata": {
        "id": "-YluBjwJe-ZA",
        "colab_type": "code",
        "outputId": "c71edab8-bf12-48e1-cb53-74b5c5ed5aa2",
        "colab": {
          "base_uri": "https://localhost:8080/",
          "height": 107
        }
      },
      "source": [
        "np.concatenate((ar1,ar2.T), axis=0)"
      ],
      "execution_count": 15,
      "outputs": [
        {
          "output_type": "execute_result",
          "data": {
            "text/plain": [
              "array([[ 1,  2],\n",
              "       [ 3,  4],\n",
              "       [ 5,  8],\n",
              "       [ 6,  9],\n",
              "       [ 7, 10]])"
            ]
          },
          "metadata": {
            "tags": []
          },
          "execution_count": 15
        }
      ]
    },
    {
      "cell_type": "markdown",
      "metadata": {
        "id": "SdshjTzPfesK",
        "colab_type": "text"
      },
      "source": [
        "### concatenate(array1, array2, axis = 1)"
      ]
    },
    {
      "cell_type": "code",
      "metadata": {
        "id": "w9kFrYBhfHk3",
        "colab_type": "code",
        "outputId": "38c2545a-0844-451e-96b1-e82606bf5499",
        "colab": {
          "base_uri": "https://localhost:8080/",
          "height": 53
        }
      },
      "source": [
        "np.concatenate((ar1,ar2), axis=1)"
      ],
      "execution_count": 16,
      "outputs": [
        {
          "output_type": "execute_result",
          "data": {
            "text/plain": [
              "array([[ 1,  2,  5,  6,  7],\n",
              "       [ 3,  4,  8,  9, 10]])"
            ]
          },
          "metadata": {
            "tags": []
          },
          "execution_count": 16
        }
      ]
    },
    {
      "cell_type": "markdown",
      "metadata": {
        "id": "jyLRkxWphKuh",
        "colab_type": "text"
      },
      "source": [
        "\n",
        "\n",
        "---\n",
        "\n",
        "\n",
        "\n",
        "---\n",
        "\n"
      ]
    },
    {
      "cell_type": "markdown",
      "metadata": {
        "colab_type": "text",
        "id": "0bOTc7xGhNL_"
      },
      "source": [
        "## numpy 배열 연산: broadcasting\n",
        "> [파이썬 Numpy 라이브러리 (5) Broadcasting|작성자 예비개발자](https://blog.naver.com/qbxlvnf11/221509303462)"
      ]
    },
    {
      "cell_type": "code",
      "metadata": {
        "id": "dbwtQs2_gW4I",
        "colab_type": "code",
        "outputId": "18609de4-b3da-4125-dcb0-87ed8033e1bd",
        "colab": {
          "base_uri": "https://localhost:8080/",
          "height": 35
        }
      },
      "source": [
        "a = np.array([1.0, 2.0, 3.0])\n",
        "b = np.array([2.0, 2.0, 2.0])\n",
        "a * b   # elementwise multiplication\n",
        "# [출처] 파이썬 Numpy 라이브러리 (5) Broadcasting|작성자 예비개발자\n"
      ],
      "execution_count": 0,
      "outputs": [
        {
          "output_type": "execute_result",
          "data": {
            "text/plain": [
              "array([2., 4., 6.])"
            ]
          },
          "metadata": {
            "tags": []
          },
          "execution_count": 19
        }
      ]
    },
    {
      "cell_type": "code",
      "metadata": {
        "id": "Ulu6tHKKh_KH",
        "colab_type": "code",
        "outputId": "1945ee9e-b244-4bd5-cb04-b83bdce8c6f2",
        "colab": {
          "base_uri": "https://localhost:8080/",
          "height": 35
        }
      },
      "source": [
        "a = np.array([1.0, 2.0, 3.0])\n",
        "b = 2.0\n",
        "a * b   # broadcasted multiplication\n"
      ],
      "execution_count": 17,
      "outputs": [
        {
          "output_type": "execute_result",
          "data": {
            "text/plain": [
              "array([2., 4., 6.])"
            ]
          },
          "metadata": {
            "tags": []
          },
          "execution_count": 17
        }
      ]
    },
    {
      "cell_type": "markdown",
      "metadata": {
        "id": "5GD4KImwiVMK",
        "colab_type": "text"
      },
      "source": [
        "> 차원이 다른 두 개의 피연산자를 산술 연산할 때는 원래 연산이 불가능합니다.\n",
        "하지만, 연산이 가능하도록 배열 b가 브로드캐스팅이 되어 numpy array ([2.0, 2.0, 2.0])으로 확장됩니다."
      ]
    },
    {
      "cell_type": "markdown",
      "metadata": {
        "id": "AawX49nxjTc6",
        "colab_type": "text"
      },
      "source": [
        "### 2차원 broadcasting"
      ]
    },
    {
      "cell_type": "code",
      "metadata": {
        "id": "knujYDR0iYLi",
        "colab_type": "code",
        "outputId": "0a63dce2-97f3-4b51-a9fd-755847fe75db",
        "colab": {
          "base_uri": "https://localhost:8080/",
          "height": 89
        }
      },
      "source": [
        "a = np.array([[ 0.0,  0.0,  0.0],\n",
        "              [10.0, 10.0, 10.0],\n",
        "              [20.0, 20.0, 20.0],\n",
        "              [30.0, 30.0, 30.0]])\n",
        "\n",
        "b = np.array([1.0, 2.0, 3.0])\n",
        "\n",
        "a + b"
      ],
      "execution_count": 18,
      "outputs": [
        {
          "output_type": "execute_result",
          "data": {
            "text/plain": [
              "array([[ 1.,  2.,  3.],\n",
              "       [11., 12., 13.],\n",
              "       [21., 22., 23.],\n",
              "       [31., 32., 33.]])"
            ]
          },
          "metadata": {
            "tags": []
          },
          "execution_count": 18
        }
      ]
    },
    {
      "cell_type": "code",
      "metadata": {
        "id": "cWfxzXxvjdWn",
        "colab_type": "code",
        "outputId": "1610dc7d-10a9-4dc9-f27d-1774b73d1e0f",
        "colab": {
          "base_uri": "https://localhost:8080/",
          "height": 35
        }
      },
      "source": [
        "(a+b).shape"
      ],
      "execution_count": 19,
      "outputs": [
        {
          "output_type": "execute_result",
          "data": {
            "text/plain": [
              "(4, 3)"
            ]
          },
          "metadata": {
            "tags": []
          },
          "execution_count": 19
        }
      ]
    },
    {
      "cell_type": "code",
      "metadata": {
        "id": "LqvXRY40jjZ7",
        "colab_type": "code",
        "outputId": "867839d4-d811-4c02-fe9c-5de5369d730a",
        "colab": {
          "base_uri": "https://localhost:8080/",
          "height": 89
        }
      },
      "source": [
        "from numpy import array, newaxis\n",
        "a = array([0.0, 10.0, 20.0, 30.0])\n",
        "b = array([1.0, 2.0, 3.0])\n",
        "c = a[:,newaxis] + b\n",
        "c\n"
      ],
      "execution_count": 20,
      "outputs": [
        {
          "output_type": "execute_result",
          "data": {
            "text/plain": [
              "array([[ 1.,  2.,  3.],\n",
              "       [11., 12., 13.],\n",
              "       [21., 22., 23.],\n",
              "       [31., 32., 33.]])"
            ]
          },
          "metadata": {
            "tags": []
          },
          "execution_count": 20
        }
      ]
    },
    {
      "cell_type": "code",
      "metadata": {
        "id": "JHIEdW8s8RGN",
        "colab_type": "code",
        "outputId": "1c62ad53-5703-4de8-f3a6-773298351378",
        "colab": {
          "base_uri": "https://localhost:8080/",
          "height": 35
        }
      },
      "source": [
        "c.shape"
      ],
      "execution_count": 21,
      "outputs": [
        {
          "output_type": "execute_result",
          "data": {
            "text/plain": [
              "(4, 3)"
            ]
          },
          "metadata": {
            "tags": []
          },
          "execution_count": 21
        }
      ]
    },
    {
      "cell_type": "code",
      "metadata": {
        "id": "AB3_WR-C7iNl",
        "colab_type": "code",
        "colab": {
          "base_uri": "https://localhost:8080/",
          "height": 89
        },
        "outputId": "381e2de4-35b4-4812-b1fc-1c08bd78ccd4"
      },
      "source": [
        "a[:,newaxis], b"
      ],
      "execution_count": 22,
      "outputs": [
        {
          "output_type": "execute_result",
          "data": {
            "text/plain": [
              "(array([[ 0.],\n",
              "        [10.],\n",
              "        [20.],\n",
              "        [30.]]), array([1., 2., 3.]))"
            ]
          },
          "metadata": {
            "tags": []
          },
          "execution_count": 22
        }
      ]
    },
    {
      "cell_type": "code",
      "metadata": {
        "id": "BlaUHROd7lHa",
        "colab_type": "code",
        "colab": {}
      },
      "source": [
        ""
      ],
      "execution_count": 0,
      "outputs": []
    }
  ]
}