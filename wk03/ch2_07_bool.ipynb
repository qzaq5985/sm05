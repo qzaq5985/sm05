{
  "nbformat": 4,
  "nbformat_minor": 0,
  "metadata": {
    "colab": {
      "name": "ch2_07_bool.ipynb",
      "provenance": [],
      "collapsed_sections": [],
      "include_colab_link": true
    },
    "kernelspec": {
      "name": "python2",
      "display_name": "Python 2"
    }
  },
  "cells": [
    {
      "cell_type": "markdown",
      "metadata": {
        "id": "view-in-github",
        "colab_type": "text"
      },
      "source": [
        "<a href=\"https://colab.research.google.com/github/qzaq5985/sm05/blob/master/wk03/ch2_07_bool.ipynb\" target=\"_parent\"><img src=\"https://colab.research.google.com/assets/colab-badge.svg\" alt=\"Open In Colab\"/></a>"
      ]
    },
    {
      "cell_type": "markdown",
      "metadata": {
        "id": "ipTZypbmmhpl",
        "colab_type": "text"
      },
      "source": [
        "# bool : 불 자료형이란?"
      ]
    },
    {
      "cell_type": "code",
      "metadata": {
        "id": "ifPCj0IBmfRL",
        "colab_type": "code",
        "colab": {}
      },
      "source": [
        "# 불(bool) 자료형이란 참(True)과 거짓(False)을 나타내는 자료형이다.\n",
        "# 불 자료형은 다음 2가지 값만을 가질 수 있다.\n",
        "# True - 참\n",
        "# False - 거짓\n",
        "# True나 False는 파이썬의 예약어로 true, false와 같이 사용하지 말고\n",
        "# 첫 문자를 항상 대문자로 사용해야 한다.\n"
      ],
      "execution_count": 0,
      "outputs": []
    },
    {
      "cell_type": "code",
      "metadata": {
        "id": "lGBTkWXRmnL7",
        "colab_type": "code",
        "colab": {}
      },
      "source": [
        "a = True\n",
        "b = False\n",
        "type(a), type(b)"
      ],
      "execution_count": 0,
      "outputs": []
    },
    {
      "cell_type": "markdown",
      "metadata": {
        "id": "bdS_feBrmwt9",
        "colab_type": "text"
      },
      "source": [
        "\n",
        "## 참과 거짓"
      ]
    },
    {
      "cell_type": "code",
      "metadata": {
        "id": "5FH_RKXRmoHk",
        "colab_type": "code",
        "colab": {}
      },
      "source": [
        "1 == 1\n",
        "2 > 1\n",
        "2 < 1\n",
        "True + 1\n",
        "False + 1\n"
      ],
      "execution_count": 0,
      "outputs": []
    },
    {
      "cell_type": "markdown",
      "metadata": {
        "id": "9lx-ryCVmzUU",
        "colab_type": "text"
      },
      "source": [
        "## 자료형의 참과 거짓"
      ]
    },
    {
      "cell_type": "code",
      "metadata": {
        "id": "PdkgbMQSmpqX",
        "colab_type": "code",
        "colab": {}
      },
      "source": [
        "bool(\"python\")\n",
        "bool(\"\")\n",
        "bool([1, 2, 3])\n",
        "bool([])\n",
        "bool(())\n",
        "bool({})\n",
        "bool(1)\n",
        "bool(0)\n",
        "bool(None)\n"
      ],
      "execution_count": 0,
      "outputs": []
    },
    {
      "cell_type": "markdown",
      "metadata": {
        "id": "n60iiNMRm098",
        "colab_type": "text"
      },
      "source": [
        "## 불 값을 이용한 코드"
      ]
    },
    {
      "cell_type": "code",
      "metadata": {
        "id": "HJFPpizRmqkB",
        "colab_type": "code",
        "colab": {}
      },
      "source": [
        "a = [1, 2, 3, 4]\n",
        "while a:\n",
        "    print(a.pop())\n",
        "\n",
        "\n"
      ],
      "execution_count": 0,
      "outputs": []
    },
    {
      "cell_type": "code",
      "metadata": {
        "id": "oFiCK_1ymrPY",
        "colab_type": "code",
        "colab": {}
      },
      "source": [
        "if []:\n",
        "    print(\"참\")\n",
        "else:\n",
        "    print(\"거짓\")\n",
        "\n",
        "\n"
      ],
      "execution_count": 0,
      "outputs": []
    },
    {
      "cell_type": "markdown",
      "metadata": {
        "id": "bd19HKMmm33s",
        "colab_type": "text"
      },
      "source": [
        "##  Representation error"
      ]
    },
    {
      "cell_type": "markdown",
      "metadata": {
        "id": "1plM0bsJnDM8",
        "colab_type": "text"
      },
      "source": [
        "### 모든프로그램의 문제점 (0.1이 아닌 0.999999가 나옴)"
      ]
    },
    {
      "cell_type": "code",
      "metadata": {
        "id": "A04RqOHbmr-d",
        "colab_type": "code",
        "colab": {}
      },
      "source": [
        "# double precision representation of floating-point numbers\n",
        "\n",
        "# 1-0.9 "
      ],
      "execution_count": 0,
      "outputs": []
    },
    {
      "cell_type": "markdown",
      "metadata": {
        "id": "dEXgOiLZnFI1",
        "colab_type": "text"
      },
      "source": [
        "## 따라서 1-0.9 == 1 : False"
      ]
    },
    {
      "cell_type": "code",
      "metadata": {
        "id": "8cih7iySm8Qi",
        "colab_type": "code",
        "colab": {}
      },
      "source": [
        "1-0.9==.1"
      ],
      "execution_count": 0,
      "outputs": []
    },
    {
      "cell_type": "code",
      "metadata": {
        "id": "BXu4I2GpmtHh",
        "colab_type": "code",
        "colab": {}
      },
      "source": [
        "#####\n",
        "import decimal\n",
        "x=decimal.Decimal(3.14)\n",
        "y=decimal.Decimal(2.74)\n",
        "x,y"
      ],
      "execution_count": 0,
      "outputs": []
    },
    {
      "cell_type": "code",
      "metadata": {
        "id": "NrX6cT8AnJHK",
        "colab_type": "code",
        "colab": {}
      },
      "source": [
        "x*y"
      ],
      "execution_count": 0,
      "outputs": []
    },
    {
      "cell_type": "markdown",
      "metadata": {
        "id": "wM-6c_acnKt1",
        "colab_type": "text"
      },
      "source": [
        "## Decimal('8.603600000000001010036498883')"
      ]
    },
    {
      "cell_type": "code",
      "metadata": {
        "id": "bXosY3GhmtuI",
        "colab_type": "code",
        "colab": {}
      },
      "source": [
        "decimal.getcontext().prec=4\n",
        "x*y\n",
        "# Decimal('8.604')\n",
        "#\n"
      ],
      "execution_count": 0,
      "outputs": []
    }
  ]
}