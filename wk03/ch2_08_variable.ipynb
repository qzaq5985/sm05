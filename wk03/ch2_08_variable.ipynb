{
  "nbformat": 4,
  "nbformat_minor": 0,
  "metadata": {
    "colab": {
      "name": "ch2_08_variable.ipynb",
      "provenance": [],
      "collapsed_sections": [],
      "include_colab_link": true
    },
    "kernelspec": {
      "name": "python2",
      "display_name": "Python 2"
    }
  },
  "cells": [
    {
      "cell_type": "markdown",
      "metadata": {
        "id": "view-in-github",
        "colab_type": "text"
      },
      "source": [
        "<a href=\"https://colab.research.google.com/github/qzaq5985/sm05/blob/master/wk03/ch2_08_variable.ipynb\" target=\"_parent\"><img src=\"https://colab.research.google.com/assets/colab-badge.svg\" alt=\"Open In Colab\"/></a>"
      ]
    },
    {
      "cell_type": "markdown",
      "metadata": {
        "id": "MuemjJ0mpDFO",
        "colab_type": "text"
      },
      "source": [
        "# variable : 변수"
      ]
    },
    {
      "cell_type": "markdown",
      "metadata": {
        "id": "CwYp42mEpHrq",
        "colab_type": "text"
      },
      "source": [
        "## 변수: 변수란?"
      ]
    },
    {
      "cell_type": "markdown",
      "metadata": {
        "id": "9fh-7WpepK_F",
        "colab_type": "text"
      },
      "source": [
        "## 변수는 자료(값)을 저장하는 공간이다."
      ]
    },
    {
      "cell_type": "code",
      "metadata": {
        "id": "5p3vy5gcpBOE",
        "colab_type": "code",
        "colab": {
          "base_uri": "https://localhost:8080/",
          "height": 35
        },
        "outputId": "75c512c2-24c0-452a-a94a-3132dccb2bed"
      },
      "source": [
        "a = [1, 2, 3]\n",
        "id(a)  # a 변수가 가리키는 메모리의 주소"
      ],
      "execution_count": 20,
      "outputs": [
        {
          "output_type": "execute_result",
          "data": {
            "text/plain": [
              "140166937922016"
            ]
          },
          "metadata": {
            "tags": []
          },
          "execution_count": 20
        }
      ]
    },
    {
      "cell_type": "markdown",
      "metadata": {
        "id": "DYUM6tt2pU0W",
        "colab_type": "text"
      },
      "source": [
        "## list"
      ]
    },
    {
      "cell_type": "code",
      "metadata": {
        "id": "5KiY5uiepNA0",
        "colab_type": "code",
        "colab": {}
      },
      "source": [
        "a = [1, 2, 3]\n",
        "b = a"
      ],
      "execution_count": 0,
      "outputs": []
    },
    {
      "cell_type": "code",
      "metadata": {
        "id": "TAJoEdRcpS8g",
        "colab_type": "code",
        "colab": {
          "base_uri": "https://localhost:8080/",
          "height": 35
        },
        "outputId": "ef06c439-a935-47a4-a7c9-5d464e032c82"
      },
      "source": [
        "id(a), id(b)\n",
        "a is b"
      ],
      "execution_count": 22,
      "outputs": [
        {
          "output_type": "execute_result",
          "data": {
            "text/plain": [
              "True"
            ]
          },
          "metadata": {
            "tags": []
          },
          "execution_count": 22
        }
      ]
    },
    {
      "cell_type": "code",
      "metadata": {
        "id": "o72HQn1Oq0xU",
        "colab_type": "code",
        "colab": {
          "base_uri": "https://localhost:8080/",
          "height": 35
        },
        "outputId": "595d9ee3-7a81-4509-8f08-bcf81a7dd788"
      },
      "source": [
        "a[1] = 4\n",
        "a, b"
      ],
      "execution_count": 23,
      "outputs": [
        {
          "output_type": "execute_result",
          "data": {
            "text/plain": [
              "([1, 4, 3], [1, 4, 3])"
            ]
          },
          "metadata": {
            "tags": []
          },
          "execution_count": 23
        }
      ]
    },
    {
      "cell_type": "code",
      "metadata": {
        "id": "1GCIuH0KpWe0",
        "colab_type": "code",
        "colab": {
          "base_uri": "https://localhost:8080/",
          "height": 35
        },
        "outputId": "bb29ed76-4469-46f4-a27a-ef0635f44991"
      },
      "source": [
        "b = [1, 2, 3]\n",
        "id(b)\n",
        "a is b"
      ],
      "execution_count": 24,
      "outputs": [
        {
          "output_type": "execute_result",
          "data": {
            "text/plain": [
              "False"
            ]
          },
          "metadata": {
            "tags": []
          },
          "execution_count": 24
        }
      ]
    },
    {
      "cell_type": "markdown",
      "metadata": {
        "id": "MHW8MP54qWW-",
        "colab_type": "text"
      },
      "source": [
        "## b 변수를 생성할 때 a 변수의 값을 가져오면서\n",
        "## a와는 다른 주소를 가리키도록 만들수는 없을까?\n",
        "## 다음 2가지 방법이 있다."
      ]
    },
    {
      "cell_type": "markdown",
      "metadata": {
        "id": "gL5PyJ-bqZc2",
        "colab_type": "text"
      },
      "source": [
        "## 1. [:] 이용"
      ]
    },
    {
      "cell_type": "code",
      "metadata": {
        "id": "zbxUIR4eqU5_",
        "colab_type": "code",
        "colab": {}
      },
      "source": [
        "a = [1, 2, 3]\n",
        "b = a[:]"
      ],
      "execution_count": 0,
      "outputs": []
    },
    {
      "cell_type": "code",
      "metadata": {
        "id": "IP4PyH-Hqa5o",
        "colab_type": "code",
        "colab": {
          "base_uri": "https://localhost:8080/",
          "height": 35
        },
        "outputId": "ff5af336-7420-4b32-9f6a-cb4a8814b8a8"
      },
      "source": [
        "a[1] = 4\n",
        "a, b"
      ],
      "execution_count": 26,
      "outputs": [
        {
          "output_type": "execute_result",
          "data": {
            "text/plain": [
              "([1, 4, 3], [1, 2, 3])"
            ]
          },
          "metadata": {
            "tags": []
          },
          "execution_count": 26
        }
      ]
    },
    {
      "cell_type": "markdown",
      "metadata": {
        "id": "IekhHWRcqfrB",
        "colab_type": "text"
      },
      "source": [
        "## 2. copy 모듈 이용"
      ]
    },
    {
      "cell_type": "code",
      "metadata": {
        "id": "097EBAkNpOkm",
        "colab_type": "code",
        "colab": {}
      },
      "source": [
        "a = [1, 2, 3]\n",
        "# from copy import copy"
      ],
      "execution_count": 0,
      "outputs": []
    },
    {
      "cell_type": "markdown",
      "metadata": {
        "id": "1OolNGWmqjTV",
        "colab_type": "text"
      },
      "source": [
        "## Error code"
      ]
    },
    {
      "cell_type": "code",
      "metadata": {
        "id": "P8zK58ewqg8N",
        "colab_type": "code",
        "colab": {}
      },
      "source": [
        "# b = copy(a) "
      ],
      "execution_count": 0,
      "outputs": []
    },
    {
      "cell_type": "markdown",
      "metadata": {
        "id": "1Avc4kEhq8Lz",
        "colab_type": "text"
      },
      "source": [
        "## copy 모듈 이용"
      ]
    },
    {
      "cell_type": "code",
      "metadata": {
        "id": "jbRbNMz2qiR6",
        "colab_type": "code",
        "colab": {
          "base_uri": "https://localhost:8080/",
          "height": 35
        },
        "outputId": "7e697969-f898-45eb-b600-44fa65989281"
      },
      "source": [
        "b is a, a is b"
      ],
      "execution_count": 29,
      "outputs": [
        {
          "output_type": "execute_result",
          "data": {
            "text/plain": [
              "(False, False)"
            ]
          },
          "metadata": {
            "tags": []
          },
          "execution_count": 29
        }
      ]
    },
    {
      "cell_type": "markdown",
      "metadata": {
        "id": "Z5y5haq-qrBG",
        "colab_type": "text"
      },
      "source": [
        "## 변수를 만드는 여러 가지 방법\n"
      ]
    },
    {
      "cell_type": "code",
      "metadata": {
        "id": "IhWKfBfbpPth",
        "colab_type": "code",
        "colab": {
          "base_uri": "https://localhost:8080/",
          "height": 35
        },
        "outputId": "2d1a1a68-d1df-42b2-831b-a707fb3acb84"
      },
      "source": [
        "a, b = (\"python\", \"life\")\n",
        "a"
      ],
      "execution_count": 30,
      "outputs": [
        {
          "output_type": "execute_result",
          "data": {
            "text/plain": [
              "'python'"
            ]
          },
          "metadata": {
            "tags": []
          },
          "execution_count": 30
        }
      ]
    },
    {
      "cell_type": "code",
      "metadata": {
        "id": "JPF8iONXqr-h",
        "colab_type": "code",
        "colab": {
          "base_uri": "https://localhost:8080/",
          "height": 35
        },
        "outputId": "00f9ed6d-0260-41b7-afee-a5821d2d2cdb"
      },
      "source": [
        "b"
      ],
      "execution_count": 31,
      "outputs": [
        {
          "output_type": "execute_result",
          "data": {
            "text/plain": [
              "'life'"
            ]
          },
          "metadata": {
            "tags": []
          },
          "execution_count": 31
        }
      ]
    },
    {
      "cell_type": "code",
      "metadata": {
        "id": "ey-jQCJpqsap",
        "colab_type": "code",
        "colab": {
          "base_uri": "https://localhost:8080/",
          "height": 35
        },
        "outputId": "6fbf786d-863b-44b8-ddb6-f63ae1372bff"
      },
      "source": [
        "a, b"
      ],
      "execution_count": 32,
      "outputs": [
        {
          "output_type": "execute_result",
          "data": {
            "text/plain": [
              "('python', 'life')"
            ]
          },
          "metadata": {
            "tags": []
          },
          "execution_count": 32
        }
      ]
    },
    {
      "cell_type": "code",
      "metadata": {
        "id": "11S0pnU1pQUU",
        "colab_type": "code",
        "colab": {
          "base_uri": "https://localhost:8080/",
          "height": 35
        },
        "outputId": "82d433ce-d4c0-429e-c81c-792963c8c0ba"
      },
      "source": [
        "[a, b] = [\"python\", \"life\"]\n",
        "a"
      ],
      "execution_count": 33,
      "outputs": [
        {
          "output_type": "execute_result",
          "data": {
            "text/plain": [
              "'python'"
            ]
          },
          "metadata": {
            "tags": []
          },
          "execution_count": 33
        }
      ]
    },
    {
      "cell_type": "code",
      "metadata": {
        "id": "1ABX8lxIquOO",
        "colab_type": "code",
        "colab": {
          "base_uri": "https://localhost:8080/",
          "height": 35
        },
        "outputId": "5621d379-f1a2-4291-8029-f3c09da81078"
      },
      "source": [
        "b"
      ],
      "execution_count": 34,
      "outputs": [
        {
          "output_type": "execute_result",
          "data": {
            "text/plain": [
              "'life'"
            ]
          },
          "metadata": {
            "tags": []
          },
          "execution_count": 34
        }
      ]
    },
    {
      "cell_type": "code",
      "metadata": {
        "id": "1zuxNBrDpQ-v",
        "colab_type": "code",
        "colab": {}
      },
      "source": [
        "a = 3\n",
        "b = 5\n",
        "a, b = b, a"
      ],
      "execution_count": 0,
      "outputs": []
    },
    {
      "cell_type": "code",
      "metadata": {
        "id": "auLYv9HkqwUz",
        "colab_type": "code",
        "colab": {
          "base_uri": "https://localhost:8080/",
          "height": 35
        },
        "outputId": "ad0f663c-c2f0-47e9-b6d3-658f141b6964"
      },
      "source": [
        "a"
      ],
      "execution_count": 36,
      "outputs": [
        {
          "output_type": "execute_result",
          "data": {
            "text/plain": [
              "5"
            ]
          },
          "metadata": {
            "tags": []
          },
          "execution_count": 36
        }
      ]
    },
    {
      "cell_type": "code",
      "metadata": {
        "id": "NtzrOv04qwrt",
        "colab_type": "code",
        "colab": {
          "base_uri": "https://localhost:8080/",
          "height": 35
        },
        "outputId": "5e9b0326-4941-4c1c-98ef-00f04c67b782"
      },
      "source": [
        "b"
      ],
      "execution_count": 37,
      "outputs": [
        {
          "output_type": "execute_result",
          "data": {
            "text/plain": [
              "3"
            ]
          },
          "metadata": {
            "tags": []
          },
          "execution_count": 37
        }
      ]
    }
  ]
}