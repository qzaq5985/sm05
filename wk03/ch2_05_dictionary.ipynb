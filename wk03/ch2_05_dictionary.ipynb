{
  "nbformat": 4,
  "nbformat_minor": 0,
  "metadata": {
    "colab": {
      "name": "ch2_05_dictionary.ipynb",
      "provenance": [],
      "collapsed_sections": [],
      "include_colab_link": true
    },
    "kernelspec": {
      "name": "python2",
      "display_name": "Python 2"
    }
  },
  "cells": [
    {
      "cell_type": "markdown",
      "metadata": {
        "id": "view-in-github",
        "colab_type": "text"
      },
      "source": [
        "<a href=\"https://colab.research.google.com/github/qzaq5985/sm05/blob/master/wk03/ch2_05_dictionary.ipynb\" target=\"_parent\"><img src=\"https://colab.research.google.com/assets/colab-badge.svg\" alt=\"Open In Colab\"/></a>"
      ]
    },
    {
      "cell_type": "markdown",
      "metadata": {
        "id": "7RQZP0oXYtDQ",
        "colab_type": "text"
      },
      "source": [
        "## dictionary"
      ]
    },
    {
      "cell_type": "code",
      "metadata": {
        "id": "ml2ajEWfYq85",
        "colab_type": "code",
        "colab": {
          "base_uri": "https://localhost:8080/",
          "height": 35
        },
        "outputId": "69ae0e2f-ec03-4e49-a88f-5c263ba8210d"
      },
      "source": [
        "print(\"딕셔너리: 딕셔너리(Dictionary)란?\")\n",
        "# 딕셔너리란 대응 관계를 나타내는 자료형.\n",
        "# 연관 배열(Associative array) 또는 해시(Hash)\n",
        "# 딕셔너리는 Key와 Value를 한 쌍으로 갖는 자료형\n",
        "\n",
        "# 기본 딕셔너리의 모습\n",
        "# {Key1:Value1, Key2:Value2, Key3:Value3, ...}\n",
        "# Key와 Value의 쌍 여러 개가 { }로 둘러싸여 있다.\n",
        "# 각각의 요소는 Key : Value 형태로 이루어져 있고 쉼표(,)로 구분"
      ],
      "execution_count": 58,
      "outputs": [
        {
          "output_type": "stream",
          "text": [
            "딕셔너리: 딕셔너리(Dictionary)란?\n"
          ],
          "name": "stdout"
        }
      ]
    },
    {
      "cell_type": "code",
      "metadata": {
        "id": "QTO2i3EYY2SM",
        "colab_type": "code",
        "colab": {}
      },
      "source": [
        "\n",
        "dic = {\"name\": \"pey\", \"phone\": \"0119993323\", \"birth\": \"1118\"}\n",
        "# Key는 각각 'name', 'phone', 'birth'\n",
        "# 각 Key에 해당하는 Value는 'pey', '0119993323', '1118'\n"
      ],
      "execution_count": 0,
      "outputs": []
    },
    {
      "cell_type": "markdown",
      "metadata": {
        "id": "5bNEkC_OY5r_",
        "colab_type": "text"
      },
      "source": [
        "## 여러 가지 딕셔너리"
      ]
    },
    {
      "cell_type": "code",
      "metadata": {
        "id": "2rz3aEQUYzSG",
        "colab_type": "code",
        "colab": {
          "base_uri": "https://localhost:8080/",
          "height": 35
        },
        "outputId": "250f7584-f28c-4803-9a34-8be25ab21c5e"
      },
      "source": [
        "a = {1: \"hi\"}\n",
        "a[1]"
      ],
      "execution_count": 60,
      "outputs": [
        {
          "output_type": "execute_result",
          "data": {
            "text/plain": [
              "'hi'"
            ]
          },
          "metadata": {
            "tags": []
          },
          "execution_count": 60
        }
      ]
    },
    {
      "cell_type": "code",
      "metadata": {
        "id": "qHiOho30Y9kj",
        "colab_type": "code",
        "colab": {
          "base_uri": "https://localhost:8080/",
          "height": 35
        },
        "outputId": "d97c0298-2ee0-4605-c749-6d56316eb071"
      },
      "source": [
        "a = {\"a\": [1, 2, 3]}  # value에는 복합 자료형도 사용된다.\n",
        "len(a)"
      ],
      "execution_count": 61,
      "outputs": [
        {
          "output_type": "execute_result",
          "data": {
            "text/plain": [
              "1"
            ]
          },
          "metadata": {
            "tags": []
          },
          "execution_count": 61
        }
      ]
    },
    {
      "cell_type": "markdown",
      "metadata": {
        "id": "AKDsGS4vZFRA",
        "colab_type": "text"
      },
      "source": [
        "## TypeError"
      ]
    },
    {
      "cell_type": "code",
      "metadata": {
        "id": "Z_zWFs-_Y7os",
        "colab_type": "code",
        "colab": {}
      },
      "source": [
        "# a[a]  "
      ],
      "execution_count": 0,
      "outputs": []
    },
    {
      "cell_type": "markdown",
      "metadata": {
        "id": "EL_bAKjJZHln",
        "colab_type": "text"
      },
      "source": [
        "## 딕셔너리 쌍 추가하기"
      ]
    },
    {
      "cell_type": "code",
      "metadata": {
        "id": "FfCiDdjecQmd",
        "colab_type": "code",
        "colab": {
          "base_uri": "https://localhost:8080/",
          "height": 35
        },
        "outputId": "5723f6b6-691a-4def-add0-2cb05d5e527e"
      },
      "source": [
        "a[\"a\"]\n",
        "a = {1: \"a\"}\n",
        "a[2] = \"b\"\n",
        "a[\"name\"] = \"pey\"\n",
        "a"
      ],
      "execution_count": 63,
      "outputs": [
        {
          "output_type": "execute_result",
          "data": {
            "text/plain": [
              "{1: 'a', 2: 'b', 'name': 'pey'}"
            ]
          },
          "metadata": {
            "tags": []
          },
          "execution_count": 63
        }
      ]
    },
    {
      "cell_type": "code",
      "metadata": {
        "id": "Z1hBqsDQcVAa",
        "colab_type": "code",
        "colab": {
          "base_uri": "https://localhost:8080/",
          "height": 35
        },
        "outputId": "0e62b519-a3fb-42eb-e263-1cccc99c5652"
      },
      "source": [
        "a[3] = [1, 2, 3]\n",
        "a"
      ],
      "execution_count": 64,
      "outputs": [
        {
          "output_type": "execute_result",
          "data": {
            "text/plain": [
              "{1: 'a', 2: 'b', 3: [1, 2, 3], 'name': 'pey'}"
            ]
          },
          "metadata": {
            "tags": []
          },
          "execution_count": 64
        }
      ]
    },
    {
      "cell_type": "markdown",
      "metadata": {
        "id": "PBUnG-sHccaZ",
        "colab_type": "text"
      },
      "source": [
        "## 딕셔너리 쌍 삭제하기"
      ]
    },
    {
      "cell_type": "code",
      "metadata": {
        "id": "jl8kZgzaZJK-",
        "colab_type": "code",
        "colab": {
          "base_uri": "https://localhost:8080/",
          "height": 35
        },
        "outputId": "1929bed9-e7f3-472c-fbc3-5c20a0f7365d"
      },
      "source": [
        "del a[1]\n",
        "a\n"
      ],
      "execution_count": 65,
      "outputs": [
        {
          "output_type": "execute_result",
          "data": {
            "text/plain": [
              "{2: 'b', 3: [1, 2, 3], 'name': 'pey'}"
            ]
          },
          "metadata": {
            "tags": []
          },
          "execution_count": 65
        }
      ]
    },
    {
      "cell_type": "markdown",
      "metadata": {
        "id": "cTBrHZZNcfoo",
        "colab_type": "text"
      },
      "source": [
        "## 딕셔너리: 사용 방법"
      ]
    },
    {
      "cell_type": "code",
      "metadata": {
        "id": "uHTaC2JGZLM5",
        "colab_type": "code",
        "colab": {
          "base_uri": "https://localhost:8080/",
          "height": 89
        },
        "outputId": "1799e75a-cbda-4d38-d6e7-36acb5fcb9c3"
      },
      "source": [
        "d = {\"김연아\": \"피겨스케이팅\", \"류현진\": \"야구\", \"손흥민\": \"축구\", \"귀도\": \"파이썬\"}\n",
        "d"
      ],
      "execution_count": 66,
      "outputs": [
        {
          "output_type": "execute_result",
          "data": {
            "text/plain": [
              "{'\\xea\\xb7\\x80\\xeb\\x8f\\x84': '\\xed\\x8c\\x8c\\xec\\x9d\\xb4\\xec\\x8d\\xac',\n",
              " '\\xea\\xb9\\x80\\xec\\x97\\xb0\\xec\\x95\\x84': '\\xed\\x94\\xbc\\xea\\xb2\\xa8\\xec\\x8a\\xa4\\xec\\xbc\\x80\\xec\\x9d\\xb4\\xed\\x8c\\x85',\n",
              " '\\xeb\\xa5\\x98\\xed\\x98\\x84\\xec\\xa7\\x84': '\\xec\\x95\\xbc\\xea\\xb5\\xac',\n",
              " '\\xec\\x86\\x90\\xed\\x9d\\xa5\\xeb\\xaf\\xbc': '\\xec\\xb6\\x95\\xea\\xb5\\xac'}"
            ]
          },
          "metadata": {
            "tags": []
          },
          "execution_count": 66
        }
      ]
    },
    {
      "cell_type": "code",
      "metadata": {
        "id": "v79RKymbZ5tH",
        "colab_type": "code",
        "colab": {
          "base_uri": "https://localhost:8080/",
          "height": 35
        },
        "outputId": "09b5950e-da6c-425e-f2ca-101d611456bd"
      },
      "source": [
        "\n",
        "d[\"손흥민\"]\n"
      ],
      "execution_count": 67,
      "outputs": [
        {
          "output_type": "execute_result",
          "data": {
            "text/plain": [
              "'\\xec\\xb6\\x95\\xea\\xb5\\xac'"
            ]
          },
          "metadata": {
            "tags": []
          },
          "execution_count": 67
        }
      ]
    },
    {
      "cell_type": "markdown",
      "metadata": {
        "id": "8TKykehgZ8TP",
        "colab_type": "text"
      },
      "source": [
        "## 딕셔너리에서 Key 사용해 Value 얻기"
      ]
    },
    {
      "cell_type": "code",
      "metadata": {
        "id": "gAbEt-HYZMbJ",
        "colab_type": "code",
        "colab": {
          "base_uri": "https://localhost:8080/",
          "height": 35
        },
        "outputId": "d59327f6-b3f0-4ee4-cb6b-486c5793eced"
      },
      "source": [
        "grade = {\"pey\": 10, \"julliet\": 99}\n",
        "grade[\"pey\"]"
      ],
      "execution_count": 68,
      "outputs": [
        {
          "output_type": "execute_result",
          "data": {
            "text/plain": [
              "10"
            ]
          },
          "metadata": {
            "tags": []
          },
          "execution_count": 68
        }
      ]
    },
    {
      "cell_type": "code",
      "metadata": {
        "id": "WLZ1z1XVZ-GT",
        "colab_type": "code",
        "colab": {
          "base_uri": "https://localhost:8080/",
          "height": 35
        },
        "outputId": "dcffdfca-c364-4b06-cbfb-8ec0b276e2dd"
      },
      "source": [
        "grade[\"julliet\"]"
      ],
      "execution_count": 69,
      "outputs": [
        {
          "output_type": "execute_result",
          "data": {
            "text/plain": [
              "99"
            ]
          },
          "metadata": {
            "tags": []
          },
          "execution_count": 69
        }
      ]
    },
    {
      "cell_type": "code",
      "metadata": {
        "id": "CXxsoV-WZNSJ",
        "colab_type": "code",
        "colab": {
          "base_uri": "https://localhost:8080/",
          "height": 35
        },
        "outputId": "d679e7a0-13a4-443d-9ef0-75db858f8028"
      },
      "source": [
        "a = {1: \"a\", 2: \"b\"}\n",
        "a[1]  # 1은 key"
      ],
      "execution_count": 70,
      "outputs": [
        {
          "output_type": "execute_result",
          "data": {
            "text/plain": [
              "'a'"
            ]
          },
          "metadata": {
            "tags": []
          },
          "execution_count": 70
        }
      ]
    },
    {
      "cell_type": "code",
      "metadata": {
        "id": "VR9lMtpXZN-C",
        "colab_type": "code",
        "colab": {
          "base_uri": "https://localhost:8080/",
          "height": 35
        },
        "outputId": "7b60b581-75af-452a-b3f9-0f47ec94b007"
      },
      "source": [
        "a = {\"a\": 1, \"b\": 2}\n",
        "a[\"b\"]"
      ],
      "execution_count": 71,
      "outputs": [
        {
          "output_type": "execute_result",
          "data": {
            "text/plain": [
              "2"
            ]
          },
          "metadata": {
            "tags": []
          },
          "execution_count": 71
        }
      ]
    },
    {
      "cell_type": "markdown",
      "metadata": {
        "id": "4vhVXmsHcnp5",
        "colab_type": "text"
      },
      "source": [
        "## TypeError"
      ]
    },
    {
      "cell_type": "code",
      "metadata": {
        "id": "Ju5HsaOQck69",
        "colab_type": "code",
        "colab": {}
      },
      "source": [
        "# a[b] "
      ],
      "execution_count": 0,
      "outputs": []
    },
    {
      "cell_type": "markdown",
      "metadata": {
        "id": "K-jCC1xqeePT",
        "colab_type": "text"
      },
      "source": [
        "## dic\n"
      ]
    },
    {
      "cell_type": "code",
      "metadata": {
        "id": "Ddwtyk85ZOqC",
        "colab_type": "code",
        "colab": {
          "base_uri": "https://localhost:8080/",
          "height": 35
        },
        "outputId": "48ef0a59-e87d-4636-b84b-42c4389f0b06"
      },
      "source": [
        "dic = {\"name\": \"pey\", \"phone\": \"0109993323\", \"birth\": \"1118\"}\n",
        "dic[\"birth\"]"
      ],
      "execution_count": 73,
      "outputs": [
        {
          "output_type": "execute_result",
          "data": {
            "text/plain": [
              "'1118'"
            ]
          },
          "metadata": {
            "tags": []
          },
          "execution_count": 73
        }
      ]
    },
    {
      "cell_type": "code",
      "metadata": {
        "id": "PP-MhKYpcrPx",
        "colab_type": "code",
        "colab": {
          "base_uri": "https://localhost:8080/",
          "height": 35
        },
        "outputId": "f7666e3f-8926-4ccc-be7d-faaf45e41de1"
      },
      "source": [
        "dic[\"phone\"]"
      ],
      "execution_count": 74,
      "outputs": [
        {
          "output_type": "execute_result",
          "data": {
            "text/plain": [
              "'0109993323'"
            ]
          },
          "metadata": {
            "tags": []
          },
          "execution_count": 74
        }
      ]
    },
    {
      "cell_type": "markdown",
      "metadata": {
        "id": "auJYwln6cwSw",
        "colab_type": "text"
      },
      "source": [
        "## 딕셔너리 만들 때 주의할 사항 "
      ]
    },
    {
      "cell_type": "code",
      "metadata": {
        "id": "3Y7ssGPJZPKn",
        "colab_type": "code",
        "colab": {
          "base_uri": "https://localhost:8080/",
          "height": 35
        },
        "outputId": "04da610e-1202-4fbd-c67d-655a72cea8d9"
      },
      "source": [
        "# 딕셔너리에서 Key는 고유한 값이므로 중복되는 Key 값을 설정해 놓으면\n",
        "# 하나를 제외한 나머지 것들이 모두 무시된다\n",
        "\n",
        "a = {1: \"a\", 1: \"b\"}\n",
        "a[1]\n"
      ],
      "execution_count": 75,
      "outputs": [
        {
          "output_type": "execute_result",
          "data": {
            "text/plain": [
              "'b'"
            ]
          },
          "metadata": {
            "tags": []
          },
          "execution_count": 75
        }
      ]
    },
    {
      "cell_type": "markdown",
      "metadata": {
        "id": "4_wmBjLhc0r4",
        "colab_type": "text"
      },
      "source": [
        "## 딕셔너리: 관련 내장 함수들\n",
        "\n",
        "## Key 리스트 만들기(keys)"
      ]
    },
    {
      "cell_type": "code",
      "metadata": {
        "id": "KkW9cZIMZQJ1",
        "colab_type": "code",
        "colab": {
          "base_uri": "https://localhost:8080/",
          "height": 35
        },
        "outputId": "97d9f333-741e-4e9f-d55e-b778791281e2"
      },
      "source": [
        "a = {\"name\": \"pey\", \"phone\": \"0119993323\", \"birth\": \"1118\"}\n",
        "a.keys()"
      ],
      "execution_count": 76,
      "outputs": [
        {
          "output_type": "execute_result",
          "data": {
            "text/plain": [
              "['phone', 'name', 'birth']"
            ]
          },
          "metadata": {
            "tags": []
          },
          "execution_count": 76
        }
      ]
    },
    {
      "cell_type": "code",
      "metadata": {
        "id": "6Zf0sq1Wc7fc",
        "colab_type": "code",
        "colab": {
          "base_uri": "https://localhost:8080/",
          "height": 35
        },
        "outputId": "0a85c7f1-7439-4d5d-f6bf-acfeb4552ebf"
      },
      "source": [
        "\n",
        "list(a.keys())\n"
      ],
      "execution_count": 77,
      "outputs": [
        {
          "output_type": "execute_result",
          "data": {
            "text/plain": [
              "['phone', 'name', 'birth']"
            ]
          },
          "metadata": {
            "tags": []
          },
          "execution_count": 77
        }
      ]
    },
    {
      "cell_type": "markdown",
      "metadata": {
        "id": "HxqqeK-hc-RI",
        "colab_type": "text"
      },
      "source": [
        "## 기본적인 반복(iterate) 구문(예: for문)을 실행"
      ]
    },
    {
      "cell_type": "code",
      "metadata": {
        "id": "n7Zd_ULEZRba",
        "colab_type": "code",
        "colab": {
          "base_uri": "https://localhost:8080/",
          "height": 71
        },
        "outputId": "1ee75a5a-50df-4ac1-d02b-ff36dcd4e9b0"
      },
      "source": [
        "for k in a.keys():\n",
        "    print(k)\n",
        "\n",
        "\n"
      ],
      "execution_count": 78,
      "outputs": [
        {
          "output_type": "stream",
          "text": [
            "phone\n",
            "name\n",
            "birth\n"
          ],
          "name": "stdout"
        }
      ]
    },
    {
      "cell_type": "markdown",
      "metadata": {
        "id": "4Rj_ChBudBPr",
        "colab_type": "text"
      },
      "source": [
        "## Value 리스트 만들기(values)"
      ]
    },
    {
      "cell_type": "code",
      "metadata": {
        "id": "ZiG7yVH1ZSaU",
        "colab_type": "code",
        "colab": {
          "base_uri": "https://localhost:8080/",
          "height": 35
        },
        "outputId": "f7fa3c09-5faf-4d7c-cbda-a5a3dd7eb8db"
      },
      "source": [
        "a.values()\n"
      ],
      "execution_count": 79,
      "outputs": [
        {
          "output_type": "execute_result",
          "data": {
            "text/plain": [
              "['0119993323', 'pey', '1118']"
            ]
          },
          "metadata": {
            "tags": []
          },
          "execution_count": 79
        }
      ]
    },
    {
      "cell_type": "markdown",
      "metadata": {
        "id": "yLa2zHqfdDOw",
        "colab_type": "text"
      },
      "source": [
        "## Key, Value 쌍 얻기(items)"
      ]
    },
    {
      "cell_type": "code",
      "metadata": {
        "id": "h97H-WjGZTJk",
        "colab_type": "code",
        "colab": {
          "base_uri": "https://localhost:8080/",
          "height": 35
        },
        "outputId": "6046389c-c033-4986-8916-ecacc2c4f02c"
      },
      "source": [
        "a.items()  # Key와 Value의 쌍을 튜플로 묶은 값을 dict_items 객체로 돌려준다.\n"
      ],
      "execution_count": 80,
      "outputs": [
        {
          "output_type": "execute_result",
          "data": {
            "text/plain": [
              "[('phone', '0119993323'), ('name', 'pey'), ('birth', '1118')]"
            ]
          },
          "metadata": {
            "tags": []
          },
          "execution_count": 80
        }
      ]
    },
    {
      "cell_type": "markdown",
      "metadata": {
        "id": "QFQEUtHAdFpA",
        "colab_type": "text"
      },
      "source": [
        "## Key: Value 쌍 모두 지우기(clear)"
      ]
    },
    {
      "cell_type": "code",
      "metadata": {
        "id": "Ck2do9TTZT_o",
        "colab_type": "code",
        "colab": {
          "base_uri": "https://localhost:8080/",
          "height": 35
        },
        "outputId": "96f05665-d2f1-412d-ea1a-8cd1401e8977"
      },
      "source": [
        "a.clear()\n",
        "a\n"
      ],
      "execution_count": 81,
      "outputs": [
        {
          "output_type": "execute_result",
          "data": {
            "text/plain": [
              "{}"
            ]
          },
          "metadata": {
            "tags": []
          },
          "execution_count": 81
        }
      ]
    },
    {
      "cell_type": "markdown",
      "metadata": {
        "id": "sphlIL_5dHvi",
        "colab_type": "text"
      },
      "source": [
        "## Key로 Value얻기(get)"
      ]
    },
    {
      "cell_type": "code",
      "metadata": {
        "id": "h3UlWAbSZUsc",
        "colab_type": "code",
        "colab": {
          "base_uri": "https://localhost:8080/",
          "height": 35
        },
        "outputId": "10aa1aec-d31b-4d03-de95-9f3c61f80fac"
      },
      "source": [
        "a = {\"name\": \"pey\", \"phone\": \"0119993323\", \"birth\": \"1118\"}\n",
        "a.get(\"name\")  # a['name']"
      ],
      "execution_count": 82,
      "outputs": [
        {
          "output_type": "execute_result",
          "data": {
            "text/plain": [
              "'pey'"
            ]
          },
          "metadata": {
            "tags": []
          },
          "execution_count": 82
        }
      ]
    },
    {
      "cell_type": "code",
      "metadata": {
        "id": "dIHnEj5udNzd",
        "colab_type": "code",
        "colab": {
          "base_uri": "https://localhost:8080/",
          "height": 35
        },
        "outputId": "32ce1800-d24a-4b71-f933-b64efbbe6571"
      },
      "source": [
        "\n",
        "a.get(\"phone\")  # a['phone']"
      ],
      "execution_count": 83,
      "outputs": [
        {
          "output_type": "execute_result",
          "data": {
            "text/plain": [
              "'0119993323'"
            ]
          },
          "metadata": {
            "tags": []
          },
          "execution_count": 83
        }
      ]
    },
    {
      "cell_type": "markdown",
      "metadata": {
        "id": "fOGMN7CDdMI4",
        "colab_type": "text"
      },
      "source": [
        "## KeyError\n"
      ]
    },
    {
      "cell_type": "code",
      "metadata": {
        "id": "4-oGQnUsdKGK",
        "colab_type": "code",
        "colab": {}
      },
      "source": [
        "# print(a[\"nokey\"])  "
      ],
      "execution_count": 0,
      "outputs": []
    },
    {
      "cell_type": "markdown",
      "metadata": {
        "id": "H2LSTt9rdQqg",
        "colab_type": "text"
      },
      "source": [
        "## get(x, '디폴트 값')"
      ]
    },
    {
      "cell_type": "code",
      "metadata": {
        "id": "YAzChjeRZWvw",
        "colab_type": "code",
        "colab": {
          "base_uri": "https://localhost:8080/",
          "height": 35
        },
        "outputId": "4ac199ec-8fba-4193-e7c3-d63bf0b19e49"
      },
      "source": [
        "# 딕셔너리 안에 찾으려는 Key 값이 없을 경우\n",
        "# 미리 정해 둔 디폴트 값을 대신 가져오게 설정.\n",
        "\n",
        "a.get(\"foo\", \"bar\")"
      ],
      "execution_count": 85,
      "outputs": [
        {
          "output_type": "execute_result",
          "data": {
            "text/plain": [
              "'bar'"
            ]
          },
          "metadata": {
            "tags": []
          },
          "execution_count": 85
        }
      ]
    },
    {
      "cell_type": "code",
      "metadata": {
        "id": "R0d_U7wGdRsc",
        "colab_type": "code",
        "colab": {
          "base_uri": "https://localhost:8080/",
          "height": 35
        },
        "outputId": "ea53a6c1-9f9d-4890-bedc-022e2afeca02"
      },
      "source": [
        "\n",
        "a.get(\"name\", \"bar\")\n"
      ],
      "execution_count": 86,
      "outputs": [
        {
          "output_type": "execute_result",
          "data": {
            "text/plain": [
              "'pey'"
            ]
          },
          "metadata": {
            "tags": []
          },
          "execution_count": 86
        }
      ]
    },
    {
      "cell_type": "markdown",
      "metadata": {
        "id": "E69x-QtLdTaQ",
        "colab_type": "text"
      },
      "source": [
        "## 해당 Key가 딕셔너리 안에 있는지 조사하기(in)"
      ]
    },
    {
      "cell_type": "code",
      "metadata": {
        "id": "FyrWW_uwZZVp",
        "colab_type": "code",
        "colab": {
          "base_uri": "https://localhost:8080/",
          "height": 35
        },
        "outputId": "936af5e0-8b97-49cd-8148-3bdd0c71e119"
      },
      "source": [
        "a = {\"name\": \"pey\", \"phone\": \"0119993323\", \"birth\": \"1118\"}\n",
        "\"name\" in a\n"
      ],
      "execution_count": 87,
      "outputs": [
        {
          "output_type": "execute_result",
          "data": {
            "text/plain": [
              "True"
            ]
          },
          "metadata": {
            "tags": []
          },
          "execution_count": 87
        }
      ]
    },
    {
      "cell_type": "code",
      "metadata": {
        "id": "GtL0G5oUdUXa",
        "colab_type": "code",
        "colab": {
          "base_uri": "https://localhost:8080/",
          "height": 35
        },
        "outputId": "4a2e72be-4d64-4e89-ca96-41ad9cd6b726"
      },
      "source": [
        "\"foo\" in a\n"
      ],
      "execution_count": 88,
      "outputs": [
        {
          "output_type": "execute_result",
          "data": {
            "text/plain": [
              "False"
            ]
          },
          "metadata": {
            "tags": []
          },
          "execution_count": 88
        }
      ]
    }
  ]
}