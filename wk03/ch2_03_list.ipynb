{
  "nbformat": 4,
  "nbformat_minor": 0,
  "metadata": {
    "colab": {
      "name": "ch2_03_list.ipynb",
      "provenance": [],
      "collapsed_sections": [],
      "include_colab_link": true
    },
    "kernelspec": {
      "name": "python2",
      "display_name": "Python 2"
    }
  },
  "cells": [
    {
      "cell_type": "markdown",
      "metadata": {
        "id": "view-in-github",
        "colab_type": "text"
      },
      "source": [
        "<a href=\"https://colab.research.google.com/github/qzaq5985/sm05/blob/master/wk03/ch2_03_list.ipynb\" target=\"_parent\"><img src=\"https://colab.research.google.com/assets/colab-badge.svg\" alt=\"Open In Colab\"/></a>"
      ]
    },
    {
      "cell_type": "markdown",
      "metadata": {
        "id": "fNQUYRCfsN_h",
        "colab_type": "text"
      },
      "source": [
        "# list : 리스트란?"
      ]
    },
    {
      "cell_type": "markdown",
      "metadata": {
        "id": "cmbgtwh9sdK3",
        "colab_type": "text"
      },
      "source": [
        "## 리스트: list 란?"
      ]
    },
    {
      "cell_type": "code",
      "metadata": {
        "id": "TaxiTLB6sLUu",
        "colab_type": "code",
        "colab": {}
      },
      "source": [
        "odd = [1, 3, 5, 7, 9]"
      ],
      "execution_count": 0,
      "outputs": []
    },
    {
      "cell_type": "markdown",
      "metadata": {
        "id": "vyGGW31GsfZn",
        "colab_type": "text"
      },
      "source": [
        "## 여러 가지 리스트"
      ]
    },
    {
      "cell_type": "code",
      "metadata": {
        "id": "H8bh3MvpsRFA",
        "colab_type": "code",
        "colab": {}
      },
      "source": [
        "a = []   # list 초기화\n",
        "b = [1, 2, 3]\n",
        "c = ['Life', 'is', 'too', 'short']\n",
        "d = [1, 2, 'Life', 'is']\n",
        "e = [1, 2, ['Life', 'is']]\n"
      ],
      "execution_count": 0,
      "outputs": []
    },
    {
      "cell_type": "code",
      "metadata": {
        "id": "mKJiVUhssiAq",
        "colab_type": "code",
        "colab": {}
      },
      "source": [
        "a = list()"
      ],
      "execution_count": 0,
      "outputs": []
    },
    {
      "cell_type": "code",
      "metadata": {
        "id": "8gDUerxusiaP",
        "colab_type": "code",
        "colab": {
          "base_uri": "https://localhost:8080/",
          "height": 35
        },
        "outputId": "d8c35f6c-83c0-4fea-bce6-592139f1e5bb"
      },
      "source": [
        "a   # []"
      ],
      "execution_count": 114,
      "outputs": [
        {
          "output_type": "execute_result",
          "data": {
            "text/plain": [
              "[]"
            ]
          },
          "metadata": {
            "tags": []
          },
          "execution_count": 114
        }
      ]
    },
    {
      "cell_type": "markdown",
      "metadata": {
        "id": "gTFGQY8msmNv",
        "colab_type": "text"
      },
      "source": [
        "## 리스트: 리스트의 인덱싱과 슬라이싱"
      ]
    },
    {
      "cell_type": "code",
      "metadata": {
        "id": "CDMdki6VsSNQ",
        "colab_type": "code",
        "colab": {
          "base_uri": "https://localhost:8080/",
          "height": 35
        },
        "outputId": "a3629ab5-fc8a-49b5-8b5d-6c4244e877db"
      },
      "source": [
        "a = [1, 2, 3]\n",
        "a"
      ],
      "execution_count": 115,
      "outputs": [
        {
          "output_type": "execute_result",
          "data": {
            "text/plain": [
              "[1, 2, 3]"
            ]
          },
          "metadata": {
            "tags": []
          },
          "execution_count": 115
        }
      ]
    },
    {
      "cell_type": "code",
      "metadata": {
        "id": "8ORGO1Lnsobm",
        "colab_type": "code",
        "colab": {
          "base_uri": "https://localhost:8080/",
          "height": 35
        },
        "outputId": "b7b2f95e-5905-4435-ab95-98efd0ead0bc"
      },
      "source": [
        "a[0]"
      ],
      "execution_count": 116,
      "outputs": [
        {
          "output_type": "execute_result",
          "data": {
            "text/plain": [
              "1"
            ]
          },
          "metadata": {
            "tags": []
          },
          "execution_count": 116
        }
      ]
    },
    {
      "cell_type": "markdown",
      "metadata": {
        "id": "9_ROV-emuJAg",
        "colab_type": "text"
      },
      "source": [
        "## Error code"
      ]
    },
    {
      "cell_type": "code",
      "metadata": {
        "id": "q1yXCMhbso3B",
        "colab_type": "code",
        "colab": {}
      },
      "source": [
        "# a[3]"
      ],
      "execution_count": 0,
      "outputs": []
    },
    {
      "cell_type": "code",
      "metadata": {
        "id": "PyJTDpOmspJ9",
        "colab_type": "code",
        "colab": {
          "base_uri": "https://localhost:8080/",
          "height": 35
        },
        "outputId": "15baa69c-1f2e-4612-cd0d-d9a72aa8d64e"
      },
      "source": [
        "a[0]+a[2]"
      ],
      "execution_count": 118,
      "outputs": [
        {
          "output_type": "execute_result",
          "data": {
            "text/plain": [
              "4"
            ]
          },
          "metadata": {
            "tags": []
          },
          "execution_count": 118
        }
      ]
    },
    {
      "cell_type": "code",
      "metadata": {
        "id": "y-mBa4emspd2",
        "colab_type": "code",
        "colab": {
          "base_uri": "https://localhost:8080/",
          "height": 35
        },
        "outputId": "ccee0c20-56a7-4cdd-8175-a8c3fd5b518b"
      },
      "source": [
        "a[-1]"
      ],
      "execution_count": 119,
      "outputs": [
        {
          "output_type": "execute_result",
          "data": {
            "text/plain": [
              "3"
            ]
          },
          "metadata": {
            "tags": []
          },
          "execution_count": 119
        }
      ]
    },
    {
      "cell_type": "code",
      "metadata": {
        "id": "NBwAh4JMsS6u",
        "colab_type": "code",
        "colab": {}
      },
      "source": [
        "a = [1, 2, 3, ['a', 'b', 'c']]"
      ],
      "execution_count": 0,
      "outputs": []
    },
    {
      "cell_type": "code",
      "metadata": {
        "id": "ZA65Ft-mssDm",
        "colab_type": "code",
        "colab": {
          "base_uri": "https://localhost:8080/",
          "height": 35
        },
        "outputId": "871ddced-c89a-4f79-b637-9f0599fc5b2c"
      },
      "source": [
        "a[0]"
      ],
      "execution_count": 121,
      "outputs": [
        {
          "output_type": "execute_result",
          "data": {
            "text/plain": [
              "1"
            ]
          },
          "metadata": {
            "tags": []
          },
          "execution_count": 121
        }
      ]
    },
    {
      "cell_type": "code",
      "metadata": {
        "id": "1BvT3raossfl",
        "colab_type": "code",
        "colab": {
          "base_uri": "https://localhost:8080/",
          "height": 35
        },
        "outputId": "8e33897d-3459-47a1-fefe-e7f90857ce2b"
      },
      "source": [
        "a[3]"
      ],
      "execution_count": 122,
      "outputs": [
        {
          "output_type": "execute_result",
          "data": {
            "text/plain": [
              "['a', 'b', 'c']"
            ]
          },
          "metadata": {
            "tags": []
          },
          "execution_count": 122
        }
      ]
    },
    {
      "cell_type": "code",
      "metadata": {
        "id": "OfUnkI_-sszC",
        "colab_type": "code",
        "colab": {
          "base_uri": "https://localhost:8080/",
          "height": 35
        },
        "outputId": "4cd3093d-7bf2-42c2-d099-3e93326b70cc"
      },
      "source": [
        "a[-1]"
      ],
      "execution_count": 123,
      "outputs": [
        {
          "output_type": "execute_result",
          "data": {
            "text/plain": [
              "['a', 'b', 'c']"
            ]
          },
          "metadata": {
            "tags": []
          },
          "execution_count": 123
        }
      ]
    },
    {
      "cell_type": "markdown",
      "metadata": {
        "id": "LpmNXJ7gsvgX",
        "colab_type": "text"
      },
      "source": [
        "## chaek this: a[0] + a[-1] -> TypeError\n",
        "## Indexing inner list"
      ]
    },
    {
      "cell_type": "code",
      "metadata": {
        "id": "qMYsZaj-sThM",
        "colab_type": "code",
        "colab": {
          "base_uri": "https://localhost:8080/",
          "height": 35
        },
        "outputId": "b728f08b-d574-4a9c-a046-3ee5c5107ee9"
      },
      "source": [
        "a[-1][0]"
      ],
      "execution_count": 124,
      "outputs": [
        {
          "output_type": "execute_result",
          "data": {
            "text/plain": [
              "'a'"
            ]
          },
          "metadata": {
            "tags": []
          },
          "execution_count": 124
        }
      ]
    },
    {
      "cell_type": "code",
      "metadata": {
        "id": "O7c1rFnIsxxV",
        "colab_type": "code",
        "colab": {
          "base_uri": "https://localhost:8080/",
          "height": 35
        },
        "outputId": "dde374b3-820b-497d-f940-206f8e7503c3"
      },
      "source": [
        "a[-1][-1]"
      ],
      "execution_count": 125,
      "outputs": [
        {
          "output_type": "execute_result",
          "data": {
            "text/plain": [
              "'c'"
            ]
          },
          "metadata": {
            "tags": []
          },
          "execution_count": 125
        }
      ]
    },
    {
      "cell_type": "markdown",
      "metadata": {
        "id": "ahl5vUjEs0BH",
        "colab_type": "text"
      },
      "source": [
        "## Indexing of triple list\n",
        "## 삼중 리스트에서 인덱싱하기"
      ]
    },
    {
      "cell_type": "code",
      "metadata": {
        "id": "3ZOtazO1sT_f",
        "colab_type": "code",
        "colab": {}
      },
      "source": [
        "a = [1, 2, ['a', 'b', ['Life', 'is']]]"
      ],
      "execution_count": 0,
      "outputs": []
    },
    {
      "cell_type": "code",
      "metadata": {
        "id": "-ADAm0c9s2t_",
        "colab_type": "code",
        "colab": {
          "base_uri": "https://localhost:8080/",
          "height": 35
        },
        "outputId": "aef4c1f4-e693-4ba9-ef99-0aac77d94037"
      },
      "source": [
        "a[2]"
      ],
      "execution_count": 127,
      "outputs": [
        {
          "output_type": "execute_result",
          "data": {
            "text/plain": [
              "['a', 'b', ['Life', 'is']]"
            ]
          },
          "metadata": {
            "tags": []
          },
          "execution_count": 127
        }
      ]
    },
    {
      "cell_type": "code",
      "metadata": {
        "id": "lHTOD_gNs3GC",
        "colab_type": "code",
        "colab": {
          "base_uri": "https://localhost:8080/",
          "height": 35
        },
        "outputId": "f93beaa1-6579-4530-fc3a-4f1c2b744fdd"
      },
      "source": [
        "a[2][-1]"
      ],
      "execution_count": 128,
      "outputs": [
        {
          "output_type": "execute_result",
          "data": {
            "text/plain": [
              "['Life', 'is']"
            ]
          },
          "metadata": {
            "tags": []
          },
          "execution_count": 128
        }
      ]
    },
    {
      "cell_type": "code",
      "metadata": {
        "id": "lzWzYzLDs3WY",
        "colab_type": "code",
        "colab": {
          "base_uri": "https://localhost:8080/",
          "height": 35
        },
        "outputId": "96bb01e1-daf8-4a17-d00e-7130167c4685"
      },
      "source": [
        "a[2][-1][0]   # 'Life'"
      ],
      "execution_count": 129,
      "outputs": [
        {
          "output_type": "execute_result",
          "data": {
            "text/plain": [
              "'Life'"
            ]
          },
          "metadata": {
            "tags": []
          },
          "execution_count": 129
        }
      ]
    },
    {
      "cell_type": "markdown",
      "metadata": {
        "id": "p_raTBV3s532",
        "colab_type": "text"
      },
      "source": [
        "## 리스트의 슬라이싱"
      ]
    },
    {
      "cell_type": "code",
      "metadata": {
        "id": "HkxNj1IrsUgL",
        "colab_type": "code",
        "colab": {
          "base_uri": "https://localhost:8080/",
          "height": 35
        },
        "outputId": "ba936624-08d2-49d2-df44-b89b600f288a"
      },
      "source": [
        "a = [1, 2, 3, 4, 5]\n",
        "a[0:2]\n"
      ],
      "execution_count": 130,
      "outputs": [
        {
          "output_type": "execute_result",
          "data": {
            "text/plain": [
              "[1, 2]"
            ]
          },
          "metadata": {
            "tags": []
          },
          "execution_count": 130
        }
      ]
    },
    {
      "cell_type": "code",
      "metadata": {
        "id": "tM5bJYASs7oT",
        "colab_type": "code",
        "colab": {
          "base_uri": "https://localhost:8080/",
          "height": 35
        },
        "outputId": "4e7e5849-9b8b-4049-cb51-de8652136327"
      },
      "source": [
        "a = \"12345\"\n",
        "a[0:2]"
      ],
      "execution_count": 131,
      "outputs": [
        {
          "output_type": "execute_result",
          "data": {
            "text/plain": [
              "'12'"
            ]
          },
          "metadata": {
            "tags": []
          },
          "execution_count": 131
        }
      ]
    },
    {
      "cell_type": "code",
      "metadata": {
        "id": "StJDotcYsVEh",
        "colab_type": "code",
        "colab": {}
      },
      "source": [
        "a = [1, 2, 3, 4, 5]"
      ],
      "execution_count": 0,
      "outputs": []
    },
    {
      "cell_type": "code",
      "metadata": {
        "id": "ISET7ig8s9GQ",
        "colab_type": "code",
        "colab": {
          "base_uri": "https://localhost:8080/",
          "height": 35
        },
        "outputId": "3845562f-9482-4217-afd2-e8bcc9f7a55d"
      },
      "source": [
        "a[0:2]"
      ],
      "execution_count": 133,
      "outputs": [
        {
          "output_type": "execute_result",
          "data": {
            "text/plain": [
              "[1, 2]"
            ]
          },
          "metadata": {
            "tags": []
          },
          "execution_count": 133
        }
      ]
    },
    {
      "cell_type": "code",
      "metadata": {
        "id": "GyyqnI7ls9aA",
        "colab_type": "code",
        "colab": {
          "base_uri": "https://localhost:8080/",
          "height": 35
        },
        "outputId": "9027ed0a-0534-43c3-8bc2-9dba574bbdd3"
      },
      "source": [
        "a[2:]"
      ],
      "execution_count": 134,
      "outputs": [
        {
          "output_type": "execute_result",
          "data": {
            "text/plain": [
              "[3, 4, 5]"
            ]
          },
          "metadata": {
            "tags": []
          },
          "execution_count": 134
        }
      ]
    },
    {
      "cell_type": "markdown",
      "metadata": {
        "id": "V59uV9nNtAWf",
        "colab_type": "text"
      },
      "source": [
        "## stop은 점프 ex) 2 = 두단계씩 점프"
      ]
    },
    {
      "cell_type": "code",
      "metadata": {
        "id": "Vj7VU74Ds9ox",
        "colab_type": "code",
        "colab": {
          "base_uri": "https://localhost:8080/",
          "height": 35
        },
        "outputId": "a31f9e57-36be-49e6-9bd2-48fff605f583"
      },
      "source": [
        "a[0:4:2]  # a[start:end:step]"
      ],
      "execution_count": 135,
      "outputs": [
        {
          "output_type": "execute_result",
          "data": {
            "text/plain": [
              "[1, 3]"
            ]
          },
          "metadata": {
            "tags": []
          },
          "execution_count": 135
        }
      ]
    },
    {
      "cell_type": "markdown",
      "metadata": {
        "id": "EzUV0odNtD9Y",
        "colab_type": "text"
      },
      "source": [
        "## 중첩된 리스트에서 슬라이싱하기"
      ]
    },
    {
      "cell_type": "code",
      "metadata": {
        "id": "ig_lrThQsVll",
        "colab_type": "code",
        "colab": {
          "base_uri": "https://localhost:8080/",
          "height": 35
        },
        "outputId": "a7e5e82c-0cf2-48e6-9157-582f3ba33ded"
      },
      "source": [
        "a = [1, 2, 3, ['a', 'b', 'c'], 4, 5]\n",
        "a[2:5]"
      ],
      "execution_count": 136,
      "outputs": [
        {
          "output_type": "execute_result",
          "data": {
            "text/plain": [
              "[3, ['a', 'b', 'c'], 4]"
            ]
          },
          "metadata": {
            "tags": []
          },
          "execution_count": 136
        }
      ]
    },
    {
      "cell_type": "code",
      "metadata": {
        "id": "JfnnCtsRtgMQ",
        "colab_type": "code",
        "colab": {
          "base_uri": "https://localhost:8080/",
          "height": 35
        },
        "outputId": "61120b41-4fbb-44d0-c7d0-e3d1f2cb2322"
      },
      "source": [
        "\n",
        "a[3][:2]"
      ],
      "execution_count": 137,
      "outputs": [
        {
          "output_type": "execute_result",
          "data": {
            "text/plain": [
              "['a', 'b']"
            ]
          },
          "metadata": {
            "tags": []
          },
          "execution_count": 137
        }
      ]
    },
    {
      "cell_type": "markdown",
      "metadata": {
        "id": "qJysnaxYtF5_",
        "colab_type": "text"
      },
      "source": [
        "## 리스트: 인덱싱, 슬라이싱 연습"
      ]
    },
    {
      "cell_type": "code",
      "metadata": {
        "id": "MmNbf2TUsWJ6",
        "colab_type": "code",
        "colab": {}
      },
      "source": [
        "x = [1, 2, 3, 4, 5, 6, 7, 8, 9]"
      ],
      "execution_count": 0,
      "outputs": []
    },
    {
      "cell_type": "code",
      "metadata": {
        "id": "XxOUw0OStGwy",
        "colab_type": "code",
        "colab": {
          "base_uri": "https://localhost:8080/",
          "height": 35
        },
        "outputId": "213543d8-1d46-402a-fdcc-8e6ca0c1259e"
      },
      "source": [
        "x[0:3]"
      ],
      "execution_count": 139,
      "outputs": [
        {
          "output_type": "execute_result",
          "data": {
            "text/plain": [
              "[1, 2, 3]"
            ]
          },
          "metadata": {
            "tags": []
          },
          "execution_count": 139
        }
      ]
    },
    {
      "cell_type": "code",
      "metadata": {
        "id": "zR8A-DMztHDV",
        "colab_type": "code",
        "colab": {
          "base_uri": "https://localhost:8080/",
          "height": 35
        },
        "outputId": "8b7e63e7-8ca2-4f50-a7f4-a3baf18bcf55"
      },
      "source": [
        "x[3:]"
      ],
      "execution_count": 140,
      "outputs": [
        {
          "output_type": "execute_result",
          "data": {
            "text/plain": [
              "[4, 5, 6, 7, 8, 9]"
            ]
          },
          "metadata": {
            "tags": []
          },
          "execution_count": 140
        }
      ]
    },
    {
      "cell_type": "code",
      "metadata": {
        "id": "dOt3DzTTtHVm",
        "colab_type": "code",
        "colab": {
          "base_uri": "https://localhost:8080/",
          "height": 35
        },
        "outputId": "85af03a2-eb85-452a-8d41-de313ecae6a1"
      },
      "source": [
        "x[:6]"
      ],
      "execution_count": 141,
      "outputs": [
        {
          "output_type": "execute_result",
          "data": {
            "text/plain": [
              "[1, 2, 3, 4, 5, 6]"
            ]
          },
          "metadata": {
            "tags": []
          },
          "execution_count": 141
        }
      ]
    },
    {
      "cell_type": "code",
      "metadata": {
        "id": "AIUPSXgitH5K",
        "colab_type": "code",
        "colab": {
          "base_uri": "https://localhost:8080/",
          "height": 35
        },
        "outputId": "56ed45f6-a788-4b5a-be87-b2847e3e4686"
      },
      "source": [
        "x[0:6:2]  # x[:6:2]"
      ],
      "execution_count": 142,
      "outputs": [
        {
          "output_type": "execute_result",
          "data": {
            "text/plain": [
              "[1, 3, 5]"
            ]
          },
          "metadata": {
            "tags": []
          },
          "execution_count": 142
        }
      ]
    },
    {
      "cell_type": "code",
      "metadata": {
        "id": "3HvK12iatIQA",
        "colab_type": "code",
        "colab": {
          "base_uri": "https://localhost:8080/",
          "height": 35
        },
        "outputId": "37c1b1e8-0d70-46c4-8403-c72e40d3a188"
      },
      "source": [
        "x[-1]"
      ],
      "execution_count": 143,
      "outputs": [
        {
          "output_type": "execute_result",
          "data": {
            "text/plain": [
              "9"
            ]
          },
          "metadata": {
            "tags": []
          },
          "execution_count": 143
        }
      ]
    },
    {
      "cell_type": "code",
      "metadata": {
        "id": "dOOAVoSXtIkn",
        "colab_type": "code",
        "colab": {
          "base_uri": "https://localhost:8080/",
          "height": 35
        },
        "outputId": "ed6799c3-5312-4593-92ea-02934e798411"
      },
      "source": [
        "x[-3]"
      ],
      "execution_count": 144,
      "outputs": [
        {
          "output_type": "execute_result",
          "data": {
            "text/plain": [
              "7"
            ]
          },
          "metadata": {
            "tags": []
          },
          "execution_count": 144
        }
      ]
    },
    {
      "cell_type": "code",
      "metadata": {
        "id": "GVKginB5tI-I",
        "colab_type": "code",
        "colab": {
          "base_uri": "https://localhost:8080/",
          "height": 35
        },
        "outputId": "c3ccfcfc-1873-4817-f2a7-ce1b436faf9c"
      },
      "source": [
        "x[:-3]"
      ],
      "execution_count": 145,
      "outputs": [
        {
          "output_type": "execute_result",
          "data": {
            "text/plain": [
              "[1, 2, 3, 4, 5, 6]"
            ]
          },
          "metadata": {
            "tags": []
          },
          "execution_count": 145
        }
      ]
    },
    {
      "cell_type": "markdown",
      "metadata": {
        "id": "UJqKzNzptM2I",
        "colab_type": "text"
      },
      "source": [
        "## 리스트를 리버스 시킴"
      ]
    },
    {
      "cell_type": "code",
      "metadata": {
        "id": "S-DqIuJNtJRI",
        "colab_type": "code",
        "colab": {
          "base_uri": "https://localhost:8080/",
          "height": 35
        },
        "outputId": "a60b0d6e-fb27-45ea-fb2c-87230d49c902"
      },
      "source": [
        "x[::-1] "
      ],
      "execution_count": 146,
      "outputs": [
        {
          "output_type": "execute_result",
          "data": {
            "text/plain": [
              "[9, 8, 7, 6, 5, 4, 3, 2, 1]"
            ]
          },
          "metadata": {
            "tags": []
          },
          "execution_count": 146
        }
      ]
    },
    {
      "cell_type": "markdown",
      "metadata": {
        "id": "WqVhwMIKtPNK",
        "colab_type": "text"
      },
      "source": [
        "## -3부터 리버스 시킴"
      ]
    },
    {
      "cell_type": "code",
      "metadata": {
        "id": "KzjWgv-ctJl_",
        "colab_type": "code",
        "colab": {
          "base_uri": "https://localhost:8080/",
          "height": 35
        },
        "outputId": "fb51b9cf-e270-4260-bcbe-59a3ca45ffd3"
      },
      "source": [
        "x[-3::-1] "
      ],
      "execution_count": 147,
      "outputs": [
        {
          "output_type": "execute_result",
          "data": {
            "text/plain": [
              "[7, 6, 5, 4, 3, 2, 1]"
            ]
          },
          "metadata": {
            "tags": []
          },
          "execution_count": 147
        }
      ]
    },
    {
      "cell_type": "markdown",
      "metadata": {
        "id": "dTfao-LrtkIX",
        "colab_type": "text"
      },
      "source": [
        "## 리스트: 리스트 연산하기"
      ]
    },
    {
      "cell_type": "markdown",
      "metadata": {
        "id": "sttDZTe2tmb5",
        "colab_type": "text"
      },
      "source": [
        "## 리스트 더하기(+)"
      ]
    },
    {
      "cell_type": "code",
      "metadata": {
        "id": "oqAHvCzKsXfk",
        "colab_type": "code",
        "colab": {
          "base_uri": "https://localhost:8080/",
          "height": 35
        },
        "outputId": "ef690e2e-78ff-42a5-ed3a-155eef6e19d4"
      },
      "source": [
        "a = [1, 2, 3]\n",
        "b = [4, 5, 6]\n",
        "a + b"
      ],
      "execution_count": 148,
      "outputs": [
        {
          "output_type": "execute_result",
          "data": {
            "text/plain": [
              "[1, 2, 3, 4, 5, 6]"
            ]
          },
          "metadata": {
            "tags": []
          },
          "execution_count": 148
        }
      ]
    },
    {
      "cell_type": "markdown",
      "metadata": {
        "id": "b_y0tqP2toow",
        "colab_type": "text"
      },
      "source": [
        "## 리스트 반복하기(*)"
      ]
    },
    {
      "cell_type": "code",
      "metadata": {
        "id": "2k97s02LsYO3",
        "colab_type": "code",
        "colab": {
          "base_uri": "https://localhost:8080/",
          "height": 35
        },
        "outputId": "035b3924-ba15-4d03-88ee-a210534f86e4"
      },
      "source": [
        "a * 3"
      ],
      "execution_count": 149,
      "outputs": [
        {
          "output_type": "execute_result",
          "data": {
            "text/plain": [
              "[1, 2, 3, 1, 2, 3, 1, 2, 3]"
            ]
          },
          "metadata": {
            "tags": []
          },
          "execution_count": 149
        }
      ]
    },
    {
      "cell_type": "markdown",
      "metadata": {
        "id": "0FYY8n9ytqdp",
        "colab_type": "text"
      },
      "source": [
        "## 리스트 길이구하기"
      ]
    },
    {
      "cell_type": "code",
      "metadata": {
        "id": "q2rhJUZQsY0D",
        "colab_type": "code",
        "colab": {
          "base_uri": "https://localhost:8080/",
          "height": 35
        },
        "outputId": "c5758018-3e80-4809-ef35-17f3a2d6be67"
      },
      "source": [
        "len(a)"
      ],
      "execution_count": 150,
      "outputs": [
        {
          "output_type": "execute_result",
          "data": {
            "text/plain": [
              "3"
            ]
          },
          "metadata": {
            "tags": []
          },
          "execution_count": 150
        }
      ]
    },
    {
      "cell_type": "markdown",
      "metadata": {
        "id": "iW3x6h1ptsFv",
        "colab_type": "text"
      },
      "source": [
        "## 초보자가 범하기 쉬운 리스트 연산 오류"
      ]
    },
    {
      "cell_type": "code",
      "metadata": {
        "id": "r4BaY8i7sZTn",
        "colab_type": "code",
        "colab": {}
      },
      "source": [
        "a = [1, 2, 3]"
      ],
      "execution_count": 0,
      "outputs": []
    },
    {
      "cell_type": "markdown",
      "metadata": {
        "id": "BtkvmIahtuyA",
        "colab_type": "text"
      },
      "source": [
        "## Error code"
      ]
    },
    {
      "cell_type": "code",
      "metadata": {
        "id": "k33NvRh1ttFx",
        "colab_type": "code",
        "colab": {}
      },
      "source": [
        "# a[2] + \"hi\" // 에러코드"
      ],
      "execution_count": 0,
      "outputs": []
    },
    {
      "cell_type": "markdown",
      "metadata": {
        "id": "ftVmjZ5_txSv",
        "colab_type": "text"
      },
      "source": [
        "## None Error"
      ]
    },
    {
      "cell_type": "code",
      "metadata": {
        "id": "3gPJgtfTttp1",
        "colab_type": "code",
        "colab": {
          "base_uri": "https://localhost:8080/",
          "height": 35
        },
        "outputId": "4c662f43-392b-4087-eb7d-c1e3181ae355"
      },
      "source": [
        "str(a[2]) + \"hi\""
      ],
      "execution_count": 153,
      "outputs": [
        {
          "output_type": "execute_result",
          "data": {
            "text/plain": [
              "'3hi'"
            ]
          },
          "metadata": {
            "tags": []
          },
          "execution_count": 153
        }
      ]
    },
    {
      "cell_type": "markdown",
      "metadata": {
        "id": "SLLNPedit1OB",
        "colab_type": "text"
      },
      "source": [
        "## 리스트의 수정과 삭제"
      ]
    },
    {
      "cell_type": "code",
      "metadata": {
        "id": "tzLwq0SxsZ1x",
        "colab_type": "code",
        "colab": {}
      },
      "source": [
        "a = [1, 2, 3]\n",
        "a[2] = 4  # list is mutable!!!"
      ],
      "execution_count": 0,
      "outputs": []
    },
    {
      "cell_type": "code",
      "metadata": {
        "id": "vg4oh8VOt2sI",
        "colab_type": "code",
        "colab": {
          "base_uri": "https://localhost:8080/",
          "height": 35
        },
        "outputId": "bfca354f-441d-4218-bce4-7ea44e0e8b79"
      },
      "source": [
        "a"
      ],
      "execution_count": 155,
      "outputs": [
        {
          "output_type": "execute_result",
          "data": {
            "text/plain": [
              "[1, 2, 4]"
            ]
          },
          "metadata": {
            "tags": []
          },
          "execution_count": 155
        }
      ]
    },
    {
      "cell_type": "markdown",
      "metadata": {
        "id": "3fSXT9IWt4mA",
        "colab_type": "text"
      },
      "source": [
        "## del 함수 사용해 리스트 요소 삭제하기"
      ]
    },
    {
      "cell_type": "code",
      "metadata": {
        "id": "m9PWjwDtsaV7",
        "colab_type": "code",
        "colab": {}
      },
      "source": [
        "a = [1, 2, 3]\n",
        "del a[1] # del : 지우개"
      ],
      "execution_count": 0,
      "outputs": []
    },
    {
      "cell_type": "code",
      "metadata": {
        "id": "2zqngaobt7Ul",
        "colab_type": "code",
        "colab": {
          "base_uri": "https://localhost:8080/",
          "height": 35
        },
        "outputId": "9a11741e-c9be-45c2-c762-8357b48d4d18"
      },
      "source": [
        "a"
      ],
      "execution_count": 157,
      "outputs": [
        {
          "output_type": "execute_result",
          "data": {
            "text/plain": [
              "[1, 3]"
            ]
          },
          "metadata": {
            "tags": []
          },
          "execution_count": 157
        }
      ]
    },
    {
      "cell_type": "code",
      "metadata": {
        "id": "knTTyuRKt8bb",
        "colab_type": "code",
        "colab": {}
      },
      "source": [
        "a = [1, 2, 3, 4, 5]"
      ],
      "execution_count": 0,
      "outputs": []
    },
    {
      "cell_type": "markdown",
      "metadata": {
        "id": "13YomP28uTch",
        "colab_type": "text"
      },
      "source": [
        "## a[2:] 뒤로 삭제"
      ]
    },
    {
      "cell_type": "code",
      "metadata": {
        "id": "vk0hV4DYt837",
        "colab_type": "code",
        "colab": {}
      },
      "source": [
        "del a[2:]"
      ],
      "execution_count": 0,
      "outputs": []
    },
    {
      "cell_type": "markdown",
      "metadata": {
        "id": "fYu3gfwAuXTu",
        "colab_type": "text"
      },
      "source": [
        "## a 출력"
      ]
    },
    {
      "cell_type": "code",
      "metadata": {
        "id": "obKqxDiSt9MZ",
        "colab_type": "code",
        "colab": {
          "base_uri": "https://localhost:8080/",
          "height": 35
        },
        "outputId": "eb963387-44ff-4fd7-d138-5435e0032c17"
      },
      "source": [
        "a"
      ],
      "execution_count": 160,
      "outputs": [
        {
          "output_type": "execute_result",
          "data": {
            "text/plain": [
              "[1, 2]"
            ]
          },
          "metadata": {
            "tags": []
          },
          "execution_count": 160
        }
      ]
    }
  ]
}