{
  "nbformat": 4,
  "nbformat_minor": 0,
  "metadata": {
    "colab": {
      "name": "ch2_exercises.ipynb",
      "provenance": [],
      "include_colab_link": true
    },
    "kernelspec": {
      "name": "python2",
      "display_name": "Python 2"
    }
  },
  "cells": [
    {
      "cell_type": "markdown",
      "metadata": {
        "id": "view-in-github",
        "colab_type": "text"
      },
      "source": [
        "<a href=\"https://colab.research.google.com/github/qzaq5985/sm05/blob/master/wk03/ch2_exercises.ipynb\" target=\"_parent\"><img src=\"https://colab.research.google.com/assets/colab-badge.svg\" alt=\"Open In Colab\"/></a>"
      ]
    },
    {
      "cell_type": "markdown",
      "metadata": {
        "id": "phCzXRao2XVl",
        "colab_type": "text"
      },
      "source": [
        "## [Q1]\n",
        "홍길동 씨의 과목별 점수는 다음과 같다. 홍길동 씨의 평균 점수를 구해 보자."
      ]
    },
    {
      "cell_type": "markdown",
      "metadata": {
        "id": "-7OMwCcn2lvQ",
        "colab_type": "text"
      },
      "source": [
        "국어 = a\n",
        "영어 = b\n",
        "수학 = c"
      ]
    },
    {
      "cell_type": "code",
      "metadata": {
        "id": "TJ_9uUGv109R",
        "colab_type": "code",
        "colab": {
          "base_uri": "https://localhost:8080/",
          "height": 34
        },
        "outputId": "efb819cf-a275-428d-858d-84a00d12c0ef"
      },
      "source": [
        "# [Q1]\n",
        "\n",
        "a = 80 \n",
        "b = 75\n",
        "c = 55\n",
        "\n",
        "print((a+b+c)/3)"
      ],
      "execution_count": 2,
      "outputs": [
        {
          "output_type": "stream",
          "text": [
            "70\n"
          ],
          "name": "stdout"
        }
      ]
    },
    {
      "cell_type": "markdown",
      "metadata": {
        "id": "7LA-VN_B3wrW",
        "colab_type": "text"
      },
      "source": [
        "## [Q2] \n",
        "자연수 13이 홀수인지 짝수인지 판별할 수 있는 방법에 대해 말해 보자."
      ]
    },
    {
      "cell_type": "code",
      "metadata": {
        "id": "7hWD0Bcl12QD",
        "colab_type": "code",
        "colab": {}
      },
      "source": [
        "# [Q2]\n",
        "\n",
        "if 13 % 2 == 1:\n",
        "  print(\" 홀수 \")\n",
        "else:\n",
        "  print(\" 짝수 \")"
      ],
      "execution_count": 0,
      "outputs": []
    },
    {
      "cell_type": "markdown",
      "metadata": {
        "id": "L7Ka8-Pw3-yv",
        "colab_type": "text"
      },
      "source": [
        "13 % 2 = 1 (참)"
      ]
    },
    {
      "cell_type": "markdown",
      "metadata": {
        "id": "82nvwGdu4I5f",
        "colab_type": "text"
      },
      "source": [
        "##[Q3] \n",
        "홍길동 씨의 주민등록번호는 881120-1068234이다. \n",
        "홍길동 씨의 주민등록번호를 연월일(YYYYMMDD) 부분과 그 뒤의 숫자 부분으로 나누어 출력해 보자."
      ]
    },
    {
      "cell_type": "code",
      "metadata": {
        "id": "LpUFm6C913MO",
        "colab_type": "code",
        "colab": {
          "base_uri": "https://localhost:8080/",
          "height": 52
        },
        "outputId": "a426b05a-a43b-4c02-9589-fed5ad0c6da6"
      },
      "source": [
        "# [Q3]\n",
        "\n",
        "pin = \"881120-1068234\"\n",
        "\n",
        "yyyymmdd = a[:-8]\n",
        "num = a[-7:]\n",
        "print (b)\n",
        "print (c)"
      ],
      "execution_count": 7,
      "outputs": [
        {
          "output_type": "stream",
          "text": [
            "881120\n",
            "1068234\n"
          ],
          "name": "stdout"
        }
      ]
    },
    {
      "cell_type": "markdown",
      "metadata": {
        "id": "ItILoT385FAQ",
        "colab_type": "text"
      },
      "source": [
        "## [Q4]\n",
        "주민등록번호 뒷자리의 맨 첫 번째 숫자는 성별을 나타낸다.\n",
        " 주민등록번호에서 성별을 나타내는 숫자를 출력해 보자."
      ]
    },
    {
      "cell_type": "code",
      "metadata": {
        "id": "rs4IM9tV130P",
        "colab_type": "code",
        "colab": {
          "base_uri": "https://localhost:8080/",
          "height": 34
        },
        "outputId": "e6fdd2a8-b9a2-4d56-d7e8-33ad469c869c"
      },
      "source": [
        "# Q[4]\n",
        "\n",
        "pin = \"881120-1068234\"\n",
        "\n",
        "if pin[7] == \"1\":\n",
        "  print(\"남자\")\n",
        "else:\n",
        "  print(\"여자\")"
      ],
      "execution_count": 8,
      "outputs": [
        {
          "output_type": "stream",
          "text": [
            "남자\n"
          ],
          "name": "stdout"
        }
      ]
    },
    {
      "cell_type": "markdown",
      "metadata": {
        "id": "KMkWSWGV5som",
        "colab_type": "text"
      },
      "source": [
        "## [Q5] \n",
        "다음과 같은 문자열 a:b:c:d가 있다.\n",
        " 문자열의 replace 함수를 사용하여 a#b#c#d로 바꿔서 출력해 보자."
      ]
    },
    {
      "cell_type": "code",
      "metadata": {
        "id": "eoGJL-CG14fL",
        "colab_type": "code",
        "colab": {
          "base_uri": "https://localhost:8080/",
          "height": 34
        },
        "outputId": "ed3ec85e-c9fe-4371-fd7f-599839e5ce8c"
      },
      "source": [
        "# a = \"a:b:c:d\"\n",
        "\n",
        "a = \"a:b:c:d\"\n",
        "b = a.replace(\":\",\"#\")\n",
        "print(b)"
      ],
      "execution_count": 11,
      "outputs": [
        {
          "output_type": "stream",
          "text": [
            "a#b#c#d\n"
          ],
          "name": "stdout"
        }
      ]
    },
    {
      "cell_type": "markdown",
      "metadata": {
        "id": "eNE4XAff62tY",
        "colab_type": "text"
      },
      "source": [
        "## [Q6] \n",
        "[1, 3, 5, 4, 2] 리스트를 [5, 4, 3, 2, 1]로 만들어 보자."
      ]
    },
    {
      "cell_type": "code",
      "metadata": {
        "id": "0zwQ6x2315Gr",
        "colab_type": "code",
        "colab": {
          "base_uri": "https://localhost:8080/",
          "height": 34
        },
        "outputId": "e2c44e8d-c8e7-47b0-c617-ccd96db76b03"
      },
      "source": [
        "# [Q6]\n",
        "\n",
        "a = [1,3,5,4,2]\n",
        "a.sort()\n",
        "a.reverse()\n",
        "print(a)"
      ],
      "execution_count": 16,
      "outputs": [
        {
          "output_type": "stream",
          "text": [
            "[5, 4, 3, 2, 1]\n"
          ],
          "name": "stdout"
        }
      ]
    },
    {
      "cell_type": "markdown",
      "metadata": {
        "id": "i3Vd5bDD7a3a",
        "colab_type": "text"
      },
      "source": [
        "## [Q7] \n",
        "['Life', 'is', 'too', 'short'] 리스트를\n",
        " Life is too short 문자열로 만들어 출력해 보자."
      ]
    },
    {
      "cell_type": "code",
      "metadata": {
        "id": "DmcsSm7_610H",
        "colab_type": "code",
        "colab": {
          "base_uri": "https://localhost:8080/",
          "height": 34
        },
        "outputId": "7c786ff5-9046-4930-bdcf-3ff2c95b6129"
      },
      "source": [
        "# [Q7]\n",
        "\n",
        "a = [\"Life\", \"is\", \"too\", \"short\"]\n",
        "result = \" \".join(a)\n",
        "print(result)\n",
        "\n",
        "\n"
      ],
      "execution_count": 17,
      "outputs": [
        {
          "output_type": "stream",
          "text": [
            "Life is too short\n"
          ],
          "name": "stdout"
        }
      ]
    },
    {
      "cell_type": "markdown",
      "metadata": {
        "id": "Ur_GqHd58ImH",
        "colab_type": "text"
      },
      "source": [
        "## [Q8] \n",
        "(1,2,3) 튜플에 값 4를 추가하여 (1,2,3,4)를 만들어 출력해 보자."
      ]
    },
    {
      "cell_type": "code",
      "metadata": {
        "id": "nSc1Vq8a15ku",
        "colab_type": "code",
        "colab": {
          "base_uri": "https://localhost:8080/",
          "height": 34
        },
        "outputId": "18a3a7dd-92c9-4cbe-dbcc-93225c638161"
      },
      "source": [
        "# [Q8]\n",
        "\n",
        "a = (1,2,3)\n",
        "b = (4, )\n",
        "c = a+b\n",
        "print(c)\n"
      ],
      "execution_count": 18,
      "outputs": [
        {
          "output_type": "stream",
          "text": [
            "(1, 2, 3, 4)\n"
          ],
          "name": "stdout"
        }
      ]
    },
    {
      "cell_type": "markdown",
      "metadata": {
        "id": "m1GNZWSh8eyX",
        "colab_type": "text"
      },
      "source": [
        "## [Q9]\n",
        "다음과 같은 딕셔너리 a가 있다.\n",
        "###a = dict()\n",
        "###a\n",
        "###{}\n",
        "\n",
        "#### 다음중 오류가 발생하는 경우를 고르고, 그 이유를 설명해 보자.\n",
        "##### 1. a['name'] = 'python'\n",
        "##### 2. a[('a',)] = 'python'\n",
        "##### 3. a[[1]]    = 'python'\n",
        "##### 4. a[250]    = 'python'"
      ]
    },
    {
      "cell_type": "code",
      "metadata": {
        "id": "hi4gspLt16o2",
        "colab_type": "code",
        "colab": {}
      },
      "source": [
        "# [Q9]\n",
        "\n",
        "3. 딕셔너리 key에는리스트를 쓸수없다. 그 이유는 list 값이변할수 있기때문이다.\n"
      ],
      "execution_count": 0,
      "outputs": []
    },
    {
      "cell_type": "markdown",
      "metadata": {
        "id": "JMngdj1f-L2M",
        "colab_type": "text"
      },
      "source": [
        "## [Q10] \n",
        "딕셔너리 a에서 'B'에 해당되는 값을 추출해 보자.\n",
        " a = {'A':90, 'B':80, 'C':70}"
      ]
    },
    {
      "cell_type": "code",
      "metadata": {
        "id": "y08wBOqL18OH",
        "colab_type": "code",
        "colab": {
          "base_uri": "https://localhost:8080/",
          "height": 52
        },
        "outputId": "843e4d5a-d634-42c3-f8be-d547ae0318d8"
      },
      "source": [
        "# Q[10]\n",
        "\n",
        "a = {'A:' :90, 'B' : 80, 'C' : 70}\n",
        "result = a.pop(\"B\")\n",
        "print(a)\n",
        "print(result)"
      ],
      "execution_count": 20,
      "outputs": [
        {
          "output_type": "stream",
          "text": [
            "{'A:': 90, 'C': 70}\n",
            "80\n"
          ],
          "name": "stdout"
        }
      ]
    },
    {
      "cell_type": "markdown",
      "metadata": {
        "id": "7Q9FR_gs_J1r",
        "colab_type": "text"
      },
      "source": [
        "## [Q11]\n",
        "a 리스트에서 중복 숫자를 제거해 보자."
      ]
    },
    {
      "cell_type": "code",
      "metadata": {
        "id": "byRwvlOT18sk",
        "colab_type": "code",
        "colab": {
          "base_uri": "https://localhost:8080/",
          "height": 34
        },
        "outputId": "5c07a0cb-062b-4140-f5c8-379fe8cc1cf1"
      },
      "source": [
        "#Q[11] \n",
        "a = [1, 1, 1, 2, 2, 3, 3, 3, 4, 4, 5]\n",
        "aSet = set(a)\n",
        "a1 = list(aSet)\n",
        "print(a1)"
      ],
      "execution_count": 21,
      "outputs": [
        {
          "output_type": "stream",
          "text": [
            "[1, 2, 3, 4, 5]\n"
          ],
          "name": "stdout"
        }
      ]
    },
    {
      "cell_type": "markdown",
      "metadata": {
        "id": "HHtxIBxgABig",
        "colab_type": "text"
      },
      "source": [
        "## [Q12]\n",
        "### 파이썬은 다음처럼 동일한 값에 여러 개의 변수를 선언할 수 있다.\n",
        "\n",
        "### 다음과 같이 a, b 변수를 선언한 후 a의 두 번째 요솟값을 변경하면\n",
        "### b 값은 어떻게 될까? 그리고 이런 결과가 오는 이유에 대해 설명해 보자."
      ]
    },
    {
      "cell_type": "code",
      "metadata": {
        "id": "_PV2gFxg19jz",
        "colab_type": "code",
        "colab": {
          "base_uri": "https://localhost:8080/",
          "height": 105
        },
        "outputId": "f40c6633-4ff7-4f4b-d504-5d4470948c8f"
      },
      "source": [
        "# Q[12]\n",
        "\n",
        "a = b = [1, 2, 3]\n",
        "a[1]=4\n",
        "print(b)\n",
        "print(\"a의 주소값:\")\n",
        "print(id(a))\n",
        "print(\"b의 주소값:\")\n",
        "print(id(b))"
      ],
      "execution_count": 26,
      "outputs": [
        {
          "output_type": "stream",
          "text": [
            "[1, 4, 3]\n",
            "a의 주소값:\n",
            "140542208076904\n",
            "b의 주소값:\n",
            "140542208076904\n"
          ],
          "name": "stdout"
        }
      ]
    },
    {
      "cell_type": "markdown",
      "metadata": {
        "id": "FoFIssdcAmZA",
        "colab_type": "text"
      },
      "source": [
        "#### [1,4,3] 이 출력된다. 그 이유는 a와 b의 주소가 같기 때문에 a값을 바꾸면 같은 주소인 b값도 바뀌게 되기 때문이다.\n"
      ]
    }
  ]
}