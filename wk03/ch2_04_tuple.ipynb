{
  "nbformat": 4,
  "nbformat_minor": 0,
  "metadata": {
    "colab": {
      "name": "ch2_04_tuple.ipynb",
      "provenance": [],
      "include_colab_link": true
    },
    "kernelspec": {
      "name": "python2",
      "display_name": "Python 2"
    }
  },
  "cells": [
    {
      "cell_type": "markdown",
      "metadata": {
        "id": "view-in-github",
        "colab_type": "text"
      },
      "source": [
        "<a href=\"https://colab.research.google.com/github/qzaq5985/sm05/blob/master/wk03/ch2_04_tuple.ipynb\" target=\"_parent\"><img src=\"https://colab.research.google.com/assets/colab-badge.svg\" alt=\"Open In Colab\"/></a>"
      ]
    },
    {
      "cell_type": "markdown",
      "metadata": {
        "id": "Mt7a-wPTzTMt",
        "colab_type": "text"
      },
      "source": [
        "# 튜플 : tuple 이란?"
      ]
    },
    {
      "cell_type": "markdown",
      "metadata": {
        "id": "O6IA0Gyrz5w0",
        "colab_type": "text"
      },
      "source": [
        "## 여러 가지 튜플"
      ]
    },
    {
      "cell_type": "code",
      "metadata": {
        "id": "bNRAQcGIwd00",
        "colab_type": "code",
        "colab": {}
      },
      "source": [
        "# 리스트는 [ ]으로 둘러싸지만 튜플은 ( )으로 둘러싼다.\n",
        "# 리스트는 그 값의 생성, 삭제, 수정이 가능하지만 튜플은 그 값을 바꿀 수 없다.\n",
        "\n",
        "even = (2, 4, 6, 8)\n"
      ],
      "execution_count": 0,
      "outputs": []
    },
    {
      "cell_type": "code",
      "metadata": {
        "id": "lLRAeVLZz8Dy",
        "colab_type": "code",
        "colab": {}
      },
      "source": [
        "t1 = ()  # 튜플 초기화"
      ],
      "execution_count": 0,
      "outputs": []
    },
    {
      "cell_type": "code",
      "metadata": {
        "id": "oITwG9q6z8ie",
        "colab_type": "code",
        "colab": {}
      },
      "source": [
        "t2 = (1,)"
      ],
      "execution_count": 0,
      "outputs": []
    },
    {
      "cell_type": "code",
      "metadata": {
        "id": "5a2cGLGOz80T",
        "colab_type": "code",
        "colab": {}
      },
      "source": [
        "t3 = (1, 2, 3)"
      ],
      "execution_count": 0,
      "outputs": []
    },
    {
      "cell_type": "code",
      "metadata": {
        "id": "2ZrKBWkQz9HM",
        "colab_type": "code",
        "colab": {}
      },
      "source": [
        "t4 = 1, 2, 3"
      ],
      "execution_count": 0,
      "outputs": []
    },
    {
      "cell_type": "code",
      "metadata": {
        "id": "V4wBBOQXz9iB",
        "colab_type": "code",
        "colab": {}
      },
      "source": [
        "t5 = (\"a\", \"b\", (\"ab\", \"cd\"))"
      ],
      "execution_count": 0,
      "outputs": []
    },
    {
      "cell_type": "markdown",
      "metadata": {
        "id": "SvHBhZCUz061",
        "colab_type": "text"
      },
      "source": [
        "## 튜플의 요소값을 지우거나 변경하려고 하면 어떻게 될까?\n",
        "## 1. 튜플 요솟값을 삭제하려 할 때"
      ]
    },
    {
      "cell_type": "code",
      "metadata": {
        "id": "hc_-BGiKzpxh",
        "colab_type": "code",
        "colab": {}
      },
      "source": [
        "# t2 = (1,)처럼 단지 1개의 요소만을 가질 때는 요소 뒤에\n",
        "# 콤마(,)를 반드시 붙여야 한다는 것과\n",
        "# t4 = 1, 2, 3처럼 괄호( )를 생략해도 무방하다.\n",
        "\n",
        "t1 = (1, 2, \"a\", \"b\")"
      ],
      "execution_count": 0,
      "outputs": []
    },
    {
      "cell_type": "markdown",
      "metadata": {
        "id": "ycaSDrvx0OKF",
        "colab_type": "text"
      },
      "source": [
        "## Error code"
      ]
    },
    {
      "cell_type": "code",
      "metadata": {
        "id": "-G-Hme930NBQ",
        "colab_type": "code",
        "colab": {}
      },
      "source": [
        "# del t1[0]  "
      ],
      "execution_count": 0,
      "outputs": []
    },
    {
      "cell_type": "markdown",
      "metadata": {
        "id": "ogu1D8TW0SVk",
        "colab_type": "text"
      },
      "source": [
        "## 2. 튜플 요솟값을 변경하려 할 때"
      ]
    },
    {
      "cell_type": "markdown",
      "metadata": {
        "id": "WZDuiUrb0T0G",
        "colab_type": "text"
      },
      "source": [
        "## TypeError code"
      ]
    },
    {
      "cell_type": "code",
      "metadata": {
        "id": "9YQNWvmyzr-_",
        "colab_type": "code",
        "colab": {}
      },
      "source": [
        "# t1[0] = \"c\"  "
      ],
      "execution_count": 0,
      "outputs": []
    },
    {
      "cell_type": "markdown",
      "metadata": {
        "id": "qSvbg-DZ0XyA",
        "colab_type": "text"
      },
      "source": [
        "## 튜플: 사용방법"
      ]
    },
    {
      "cell_type": "markdown",
      "metadata": {
        "id": "0Zm7OBe70bO9",
        "colab_type": "text"
      },
      "source": [
        "## 인덱싱하기"
      ]
    },
    {
      "cell_type": "code",
      "metadata": {
        "id": "n6pb8nnizsyt",
        "colab_type": "code",
        "colab": {}
      },
      "source": [
        "t1 = (1, 2, \"a\", \"b\")"
      ],
      "execution_count": 0,
      "outputs": []
    },
    {
      "cell_type": "code",
      "metadata": {
        "id": "o8zTTh7w0c7C",
        "colab_type": "code",
        "colab": {
          "base_uri": "https://localhost:8080/",
          "height": 34
        },
        "outputId": "cd597335-c9d3-4397-8ca9-0da4d94fd1f1"
      },
      "source": [
        "t1[0]"
      ],
      "execution_count": 13,
      "outputs": [
        {
          "output_type": "execute_result",
          "data": {
            "text/plain": [
              "1"
            ]
          },
          "metadata": {
            "tags": []
          },
          "execution_count": 13
        }
      ]
    },
    {
      "cell_type": "code",
      "metadata": {
        "id": "RjqQ8Mqf0dQ-",
        "colab_type": "code",
        "colab": {
          "base_uri": "https://localhost:8080/",
          "height": 34
        },
        "outputId": "62fb0030-bf89-4fa7-cedd-a7cf9fc821d2"
      },
      "source": [
        "t1[3]"
      ],
      "execution_count": 14,
      "outputs": [
        {
          "output_type": "execute_result",
          "data": {
            "text/plain": [
              "'b'"
            ]
          },
          "metadata": {
            "tags": []
          },
          "execution_count": 14
        }
      ]
    },
    {
      "cell_type": "markdown",
      "metadata": {
        "id": "Xh-bShvr0gPF",
        "colab_type": "text"
      },
      "source": [
        "## 슬라이싱하기"
      ]
    },
    {
      "cell_type": "code",
      "metadata": {
        "id": "mPm42Np7ztbF",
        "colab_type": "code",
        "colab": {}
      },
      "source": [
        "t1 = (1, 2, \"a\", \"b\")"
      ],
      "execution_count": 0,
      "outputs": []
    },
    {
      "cell_type": "code",
      "metadata": {
        "id": "Vy7G_qG10iUn",
        "colab_type": "code",
        "colab": {
          "base_uri": "https://localhost:8080/",
          "height": 34
        },
        "outputId": "7ae09f93-6225-40e6-d520-3354a063b4a3"
      },
      "source": [
        "t1[1:]"
      ],
      "execution_count": 16,
      "outputs": [
        {
          "output_type": "execute_result",
          "data": {
            "text/plain": [
              "(2, 'a', 'b')"
            ]
          },
          "metadata": {
            "tags": []
          },
          "execution_count": 16
        }
      ]
    },
    {
      "cell_type": "code",
      "metadata": {
        "id": "IferEAuc0i51",
        "colab_type": "code",
        "colab": {
          "base_uri": "https://localhost:8080/",
          "height": 34
        },
        "outputId": "115f23af-cd75-43aa-e177-3074b85c0350"
      },
      "source": [
        "t1[2:-1]  # ('a',)"
      ],
      "execution_count": 17,
      "outputs": [
        {
          "output_type": "execute_result",
          "data": {
            "text/plain": [
              "('a',)"
            ]
          },
          "metadata": {
            "tags": []
          },
          "execution_count": 17
        }
      ]
    },
    {
      "cell_type": "code",
      "metadata": {
        "id": "RMT11KXe0jOU",
        "colab_type": "code",
        "colab": {
          "base_uri": "https://localhost:8080/",
          "height": 34
        },
        "outputId": "bfa4282d-c220-4236-c1b9-9ecc4f5837e7"
      },
      "source": [
        "t1[2:]"
      ],
      "execution_count": 18,
      "outputs": [
        {
          "output_type": "execute_result",
          "data": {
            "text/plain": [
              "('a', 'b')"
            ]
          },
          "metadata": {
            "tags": []
          },
          "execution_count": 18
        }
      ]
    },
    {
      "cell_type": "markdown",
      "metadata": {
        "id": "g8PdYjHp0mp8",
        "colab_type": "text"
      },
      "source": [
        "## 튜플 더하기"
      ]
    },
    {
      "cell_type": "code",
      "metadata": {
        "id": "Pn_Mc73VzuH7",
        "colab_type": "code",
        "colab": {}
      },
      "source": [
        "t1 = (1, 2, \"a\", \"b\")"
      ],
      "execution_count": 0,
      "outputs": []
    },
    {
      "cell_type": "code",
      "metadata": {
        "id": "vL5lIGrn0nxi",
        "colab_type": "code",
        "colab": {}
      },
      "source": [
        "t2 = (3, 4)"
      ],
      "execution_count": 0,
      "outputs": []
    },
    {
      "cell_type": "code",
      "metadata": {
        "id": "6spg-_RP0oGC",
        "colab_type": "code",
        "colab": {
          "base_uri": "https://localhost:8080/",
          "height": 34
        },
        "outputId": "4f2b1603-36ee-4d22-89e9-6d994f1b4810"
      },
      "source": [
        "t1 + t2"
      ],
      "execution_count": 21,
      "outputs": [
        {
          "output_type": "execute_result",
          "data": {
            "text/plain": [
              "(1, 2, 'a', 'b', 3, 4)"
            ]
          },
          "metadata": {
            "tags": []
          },
          "execution_count": 21
        }
      ]
    },
    {
      "cell_type": "markdown",
      "metadata": {
        "id": "As8bARmH0qdH",
        "colab_type": "text"
      },
      "source": [
        "## 튜플 곱하기"
      ]
    },
    {
      "cell_type": "code",
      "metadata": {
        "id": "CfjdxtAWzvV2",
        "colab_type": "code",
        "colab": {}
      },
      "source": [
        "t2 = (3, 4)"
      ],
      "execution_count": 0,
      "outputs": []
    },
    {
      "cell_type": "code",
      "metadata": {
        "id": "fMLiBxZu0r4P",
        "colab_type": "code",
        "colab": {
          "base_uri": "https://localhost:8080/",
          "height": 34
        },
        "outputId": "bfb22176-5392-4ef2-c039-89ef15da877c"
      },
      "source": [
        "id(t2)"
      ],
      "execution_count": 23,
      "outputs": [
        {
          "output_type": "execute_result",
          "data": {
            "text/plain": [
              "140432515753456"
            ]
          },
          "metadata": {
            "tags": []
          },
          "execution_count": 23
        }
      ]
    },
    {
      "cell_type": "code",
      "metadata": {
        "id": "npEBxzrl0sNs",
        "colab_type": "code",
        "colab": {
          "base_uri": "https://localhost:8080/",
          "height": 34
        },
        "outputId": "c59c6b57-6bdb-498f-d5a9-fb9371605c51"
      },
      "source": [
        "t2 * 3"
      ],
      "execution_count": 24,
      "outputs": [
        {
          "output_type": "execute_result",
          "data": {
            "text/plain": [
              "(3, 4, 3, 4, 3, 4)"
            ]
          },
          "metadata": {
            "tags": []
          },
          "execution_count": 24
        }
      ]
    },
    {
      "cell_type": "code",
      "metadata": {
        "id": "l0E5wLHL0stC",
        "colab_type": "code",
        "colab": {
          "base_uri": "https://localhost:8080/",
          "height": 34
        },
        "outputId": "a8dd1441-3ba2-4741-eb58-1c1c070e9988"
      },
      "source": [
        "id(t2)"
      ],
      "execution_count": 25,
      "outputs": [
        {
          "output_type": "execute_result",
          "data": {
            "text/plain": [
              "140432515753456"
            ]
          },
          "metadata": {
            "tags": []
          },
          "execution_count": 25
        }
      ]
    },
    {
      "cell_type": "code",
      "metadata": {
        "id": "NIq07xEu0tAr",
        "colab_type": "code",
        "colab": {}
      },
      "source": [
        "t2 = t2 * 3"
      ],
      "execution_count": 0,
      "outputs": []
    },
    {
      "cell_type": "code",
      "metadata": {
        "id": "M5VYqrxV0tS5",
        "colab_type": "code",
        "colab": {
          "base_uri": "https://localhost:8080/",
          "height": 34
        },
        "outputId": "08ee2e59-ac03-4641-c3e9-99ceed5aa499"
      },
      "source": [
        "id(t2)"
      ],
      "execution_count": 27,
      "outputs": [
        {
          "output_type": "execute_result",
          "data": {
            "text/plain": [
              "140432524371040"
            ]
          },
          "metadata": {
            "tags": []
          },
          "execution_count": 27
        }
      ]
    },
    {
      "cell_type": "markdown",
      "metadata": {
        "id": "gZ2bPkfr0vnN",
        "colab_type": "text"
      },
      "source": [
        "## 튜플 길이 구하기"
      ]
    },
    {
      "cell_type": "code",
      "metadata": {
        "id": "iI5fP_-kzv9Z",
        "colab_type": "code",
        "colab": {
          "base_uri": "https://localhost:8080/",
          "height": 34
        },
        "outputId": "c360113d-6fca-461e-96b9-4aa989b1cb1b"
      },
      "source": [
        "t1 = (1, 2, \"a\", \"b\")\n",
        "len(t1)\n"
      ],
      "execution_count": 28,
      "outputs": [
        {
          "output_type": "execute_result",
          "data": {
            "text/plain": [
              "4"
            ]
          },
          "metadata": {
            "tags": []
          },
          "execution_count": 28
        }
      ]
    }
  ]
}