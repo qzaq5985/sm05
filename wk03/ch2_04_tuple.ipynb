{
  "nbformat": 4,
  "nbformat_minor": 0,
  "metadata": {
    "colab": {
      "name": "ch2_04_tuple.ipynb",
      "provenance": [],
      "collapsed_sections": [],
      "include_colab_link": true
    },
    "kernelspec": {
      "name": "python2",
      "display_name": "Python 2"
    }
  },
  "cells": [
    {
      "cell_type": "markdown",
      "metadata": {
        "id": "view-in-github",
        "colab_type": "text"
      },
      "source": [
        "<a href=\"https://colab.research.google.com/github/qzaq5985/sm05/blob/master/wk03/ch2_04_tuple.ipynb\" target=\"_parent\"><img src=\"https://colab.research.google.com/assets/colab-badge.svg\" alt=\"Open In Colab\"/></a>"
      ]
    },
    {
      "cell_type": "markdown",
      "metadata": {
        "id": "uBB9_73fXZG-",
        "colab_type": "text"
      },
      "source": [
        "# tuple\n",
        "\n",
        "## 튜플: tuple 이란?"
      ]
    },
    {
      "cell_type": "markdown",
      "metadata": {
        "id": "jCxQcmg7XoeW",
        "colab_type": "text"
      },
      "source": [
        "##리스트에 요소 추가(append)"
      ]
    },
    {
      "cell_type": "code",
      "metadata": {
        "id": "mAQEKZNnTiP8",
        "colab_type": "code",
        "colab": {
          "base_uri": "https://localhost:8080/",
          "height": 35
        },
        "outputId": "0e3a8e6f-3fa2-4c2a-934b-c28714a6b33a"
      },
      "source": [
        "a = [1, 2, 3]\n",
        "a.append(4)\n",
        "a\n",
        "# 리스트 안에는 어떤 자료형도 추가할 수 있다.\n",
        "# 리스트에 다시 리스트를 추가한 결과"
      ],
      "execution_count": 51,
      "outputs": [
        {
          "output_type": "execute_result",
          "data": {
            "text/plain": [
              "[1, 2, 3, 4]"
            ]
          },
          "metadata": {
            "tags": []
          },
          "execution_count": 51
        }
      ]
    },
    {
      "cell_type": "code",
      "metadata": {
        "id": "iGM9iaqWXrsx",
        "colab_type": "code",
        "colab": {
          "base_uri": "https://localhost:8080/",
          "height": 35
        },
        "outputId": "1f6c0213-0d4e-40be-e35c-c5c8e1754ef9"
      },
      "source": [
        "a.append([5, 6])\n",
        "a"
      ],
      "execution_count": 52,
      "outputs": [
        {
          "output_type": "execute_result",
          "data": {
            "text/plain": [
              "[1, 2, 3, 4, [5, 6]]"
            ]
          },
          "metadata": {
            "tags": []
          },
          "execution_count": 52
        }
      ]
    },
    {
      "cell_type": "markdown",
      "metadata": {
        "id": "UTRur_XkXx6e",
        "colab_type": "text"
      },
      "source": [
        "## 리스트 정렬(sort)"
      ]
    },
    {
      "cell_type": "code",
      "metadata": {
        "id": "WZnYRpqeXu6N",
        "colab_type": "code",
        "colab": {
          "base_uri": "https://localhost:8080/",
          "height": 35
        },
        "outputId": "899cbcef-0cbd-4c45-f8d3-9e160f2f87d6"
      },
      "source": [
        "a = [1, 4, 3, 2]\n",
        "a.sort()\n",
        "a\n"
      ],
      "execution_count": 53,
      "outputs": [
        {
          "output_type": "execute_result",
          "data": {
            "text/plain": [
              "[1, 2, 3, 4]"
            ]
          },
          "metadata": {
            "tags": []
          },
          "execution_count": 53
        }
      ]
    },
    {
      "cell_type": "code",
      "metadata": {
        "id": "FGkUem-tXzBH",
        "colab_type": "code",
        "colab": {
          "base_uri": "https://localhost:8080/",
          "height": 35
        },
        "outputId": "9478717d-e55c-4da5-f493-d8c9945396ca"
      },
      "source": [
        "\n",
        "s = [\"a\", \"c\", \"b\"]\n",
        "s.sort()\n",
        "s"
      ],
      "execution_count": 54,
      "outputs": [
        {
          "output_type": "execute_result",
          "data": {
            "text/plain": [
              "['a', 'b', 'c']"
            ]
          },
          "metadata": {
            "tags": []
          },
          "execution_count": 54
        }
      ]
    },
    {
      "cell_type": "markdown",
      "metadata": {
        "id": "CefwT6d8X1ju",
        "colab_type": "text"
      },
      "source": [
        "## 리스트 뒤집기(reverse)"
      ]
    },
    {
      "cell_type": "code",
      "metadata": {
        "id": "niUOkER-Xzjr",
        "colab_type": "code",
        "colab": {
          "base_uri": "https://localhost:8080/",
          "height": 35
        },
        "outputId": "af13fd98-16a5-4b97-fb61-2045f27b23f3"
      },
      "source": [
        "a = [\"a\", \"c\", \"b\"]\n",
        "a.reverse()\n",
        "a"
      ],
      "execution_count": 55,
      "outputs": [
        {
          "output_type": "execute_result",
          "data": {
            "text/plain": [
              "['b', 'c', 'a']"
            ]
          },
          "metadata": {
            "tags": []
          },
          "execution_count": 55
        }
      ]
    },
    {
      "cell_type": "markdown",
      "metadata": {
        "id": "mw5Gs0pRX44_",
        "colab_type": "text"
      },
      "source": [
        "## 위치 반환(index)"
      ]
    },
    {
      "cell_type": "code",
      "metadata": {
        "id": "Cx8QmgjfX26G",
        "colab_type": "code",
        "colab": {
          "base_uri": "https://localhost:8080/",
          "height": 35
        },
        "outputId": "9a48fdf9-56c3-4e62-c8db-551b9f99245f"
      },
      "source": [
        "a = [1, 2, 3]\n",
        "a.index(3)"
      ],
      "execution_count": 56,
      "outputs": [
        {
          "output_type": "execute_result",
          "data": {
            "text/plain": [
              "2"
            ]
          },
          "metadata": {
            "tags": []
          },
          "execution_count": 56
        }
      ]
    },
    {
      "cell_type": "code",
      "metadata": {
        "id": "vLgjX3l6YKN6",
        "colab_type": "code",
        "colab": {
          "base_uri": "https://localhost:8080/",
          "height": 35
        },
        "outputId": "f6400a86-093c-4167-9111-2cc79fe8016c"
      },
      "source": [
        "\n",
        "a.index(1)"
      ],
      "execution_count": 57,
      "outputs": [
        {
          "output_type": "execute_result",
          "data": {
            "text/plain": [
              "0"
            ]
          },
          "metadata": {
            "tags": []
          },
          "execution_count": 57
        }
      ]
    },
    {
      "cell_type": "markdown",
      "metadata": {
        "id": "F2dZ_29iYMJv",
        "colab_type": "text"
      },
      "source": [
        "## Error code"
      ]
    },
    {
      "cell_type": "code",
      "metadata": {
        "id": "Qn0NGSBnYI-i",
        "colab_type": "code",
        "colab": {}
      },
      "source": [
        "# a.index(0)"
      ],
      "execution_count": 0,
      "outputs": []
    },
    {
      "cell_type": "code",
      "metadata": {
        "id": "lmNtEkMgX5_H",
        "colab_type": "code",
        "colab": {}
      },
      "source": [
        "s = [\"a\", \"c\", \"b\"]"
      ],
      "execution_count": 0,
      "outputs": []
    },
    {
      "cell_type": "markdown",
      "metadata": {
        "id": "GXBaNn_AX9Ge",
        "colab_type": "text"
      },
      "source": [
        "## Error code"
      ]
    },
    {
      "cell_type": "code",
      "metadata": {
        "id": "FNg-l6U-X7lf",
        "colab_type": "code",
        "colab": {}
      },
      "source": [
        "# s.index(3)  # Error\n",
        "# s.index(a)  # Error"
      ],
      "execution_count": 0,
      "outputs": []
    },
    {
      "cell_type": "code",
      "metadata": {
        "id": "tXHTijdXX8Nb",
        "colab_type": "code",
        "colab": {
          "base_uri": "https://localhost:8080/",
          "height": 35
        },
        "outputId": "ab7628cc-bfb7-4773-f802-d6c345fd8240"
      },
      "source": [
        "s.index(\"a\")\n"
      ],
      "execution_count": 61,
      "outputs": [
        {
          "output_type": "execute_result",
          "data": {
            "text/plain": [
              "0"
            ]
          },
          "metadata": {
            "tags": []
          },
          "execution_count": 61
        }
      ]
    },
    {
      "cell_type": "markdown",
      "metadata": {
        "id": "K-tZm6GrYEUS",
        "colab_type": "text"
      },
      "source": [
        "## 리스트에 요소 삽입(insert)"
      ]
    },
    {
      "cell_type": "code",
      "metadata": {
        "id": "wg3ue7lDYCjX",
        "colab_type": "code",
        "colab": {
          "base_uri": "https://localhost:8080/",
          "height": 35
        },
        "outputId": "5d181984-36c9-4000-a944-27764838cc3e"
      },
      "source": [
        "a = [1, 2, 3]\n",
        "a.insert(0, 4) # 앞의수는 inedx값 뒤의 수는 밸류값\n",
        "a"
      ],
      "execution_count": 62,
      "outputs": [
        {
          "output_type": "execute_result",
          "data": {
            "text/plain": [
              "[4, 1, 2, 3]"
            ]
          },
          "metadata": {
            "tags": []
          },
          "execution_count": 62
        }
      ]
    },
    {
      "cell_type": "code",
      "metadata": {
        "id": "uKep2dKjYFa6",
        "colab_type": "code",
        "colab": {
          "base_uri": "https://localhost:8080/",
          "height": 35
        },
        "outputId": "cd699e98-7291-47a1-d933-5ba25f9550dc"
      },
      "source": [
        "a.insert(3, 5)\n",
        "a"
      ],
      "execution_count": 63,
      "outputs": [
        {
          "output_type": "execute_result",
          "data": {
            "text/plain": [
              "[4, 1, 2, 5, 3]"
            ]
          },
          "metadata": {
            "tags": []
          },
          "execution_count": 63
        }
      ]
    },
    {
      "cell_type": "markdown",
      "metadata": {
        "id": "NDaVZxFfTmYk",
        "colab_type": "text"
      },
      "source": [
        "## 리스트 요소 제거(remove)"
      ]
    },
    {
      "cell_type": "code",
      "metadata": {
        "id": "z8Z9U5vBTkeX",
        "colab_type": "code",
        "colab": {
          "base_uri": "https://localhost:8080/",
          "height": 35
        },
        "outputId": "264f2fef-01e0-441a-d32b-67f846925e7c"
      },
      "source": [
        "a = [1, 2, 3, 1, 2, 3]\n",
        "a.remove(3)\n",
        "a"
      ],
      "execution_count": 64,
      "outputs": [
        {
          "output_type": "execute_result",
          "data": {
            "text/plain": [
              "[1, 2, 1, 2, 3]"
            ]
          },
          "metadata": {
            "tags": []
          },
          "execution_count": 64
        }
      ]
    },
    {
      "cell_type": "markdown",
      "metadata": {
        "id": "y5nAwJXOTyuc",
        "colab_type": "text"
      },
      "source": [
        "## 3을 리스트 a에서 완전히 제거"
      ]
    },
    {
      "cell_type": "code",
      "metadata": {
        "id": "2nB0-8KJToJ_",
        "colab_type": "code",
        "colab": {
          "base_uri": "https://localhost:8080/",
          "height": 35
        },
        "outputId": "aadc0af7-8ed2-4441-c8d2-d0ef65429737"
      },
      "source": [
        "a.remove(3)\n",
        "a"
      ],
      "execution_count": 65,
      "outputs": [
        {
          "output_type": "execute_result",
          "data": {
            "text/plain": [
              "[1, 2, 1, 2]"
            ]
          },
          "metadata": {
            "tags": []
          },
          "execution_count": 65
        }
      ]
    },
    {
      "cell_type": "markdown",
      "metadata": {
        "id": "nrAi10NWT2Hc",
        "colab_type": "text"
      },
      "source": [
        "## ValueError"
      ]
    },
    {
      "cell_type": "code",
      "metadata": {
        "id": "prJDjY3aTvUR",
        "colab_type": "code",
        "colab": {}
      },
      "source": [
        "# a.remove(3)\n"
      ],
      "execution_count": 0,
      "outputs": []
    },
    {
      "cell_type": "markdown",
      "metadata": {
        "id": "EwNtHPNCT5Ps",
        "colab_type": "text"
      },
      "source": [
        "## 리스트 요소 끄집어내기(pop)"
      ]
    },
    {
      "cell_type": "code",
      "metadata": {
        "id": "rxCliGkoT4fi",
        "colab_type": "code",
        "colab": {}
      },
      "source": [
        "a = [1, 2, 3]"
      ],
      "execution_count": 0,
      "outputs": []
    },
    {
      "cell_type": "markdown",
      "metadata": {
        "id": "Bcycg0mhYVJe",
        "colab_type": "text"
      },
      "source": [
        "## TypeError"
      ]
    },
    {
      "cell_type": "code",
      "metadata": {
        "id": "g9Fv9tN3YS_p",
        "colab_type": "code",
        "colab": {}
      },
      "source": [
        "# a[2] + \"hi\" "
      ],
      "execution_count": 0,
      "outputs": []
    },
    {
      "cell_type": "code",
      "metadata": {
        "id": "3NOKlwPiYTyg",
        "colab_type": "code",
        "colab": {
          "base_uri": "https://localhost:8080/",
          "height": 35
        },
        "outputId": "d62f7c62-8793-4a53-9407-24c4fd18d21c"
      },
      "source": [
        "\n",
        "str(a[2]) + \"hi\"\n"
      ],
      "execution_count": 68,
      "outputs": [
        {
          "output_type": "execute_result",
          "data": {
            "text/plain": [
              "'3hi'"
            ]
          },
          "metadata": {
            "tags": []
          },
          "execution_count": 68
        }
      ]
    },
    {
      "cell_type": "markdown",
      "metadata": {
        "id": "sP74qHsVT9R7",
        "colab_type": "text"
      },
      "source": [
        "## 리스트의 수정과 삭제"
      ]
    },
    {
      "cell_type": "code",
      "metadata": {
        "id": "6yol2xyhT6wl",
        "colab_type": "code",
        "colab": {}
      },
      "source": [
        "a = [1, 2, 3]"
      ],
      "execution_count": 0,
      "outputs": []
    },
    {
      "cell_type": "markdown",
      "metadata": {
        "id": "SUnR0ThmUC28",
        "colab_type": "text"
      },
      "source": [
        "## pop()은 리스트의 맨 마지막 요소를 돌려주고 그 요소는 삭제한다."
      ]
    },
    {
      "cell_type": "code",
      "metadata": {
        "id": "rHlsNmJRUCVM",
        "colab_type": "code",
        "colab": {
          "base_uri": "https://localhost:8080/",
          "height": 35
        },
        "outputId": "0060f82c-ea71-42b8-e0d0-3a95a05d4419"
      },
      "source": [
        "a.pop()\n",
        "a"
      ],
      "execution_count": 70,
      "outputs": [
        {
          "output_type": "execute_result",
          "data": {
            "text/plain": [
              "[1, 2]"
            ]
          },
          "metadata": {
            "tags": []
          },
          "execution_count": 70
        }
      ]
    },
    {
      "cell_type": "markdown",
      "metadata": {
        "id": "B9ixwAvZU5jl",
        "colab_type": "text"
      },
      "source": [
        "## pop(x)는 리스트의 index가 x인 요소를 돌려주고 그 요소는 삭제한다."
      ]
    },
    {
      "cell_type": "code",
      "metadata": {
        "id": "5fsz_qoUUEk3",
        "colab_type": "code",
        "colab": {
          "base_uri": "https://localhost:8080/",
          "height": 35
        },
        "outputId": "e9cb636d-e3e4-4a23-ad21-3acae67a5546"
      },
      "source": [
        "a = [1, 2, 3]\n",
        "a.pop(1)\n",
        "a"
      ],
      "execution_count": 71,
      "outputs": [
        {
          "output_type": "execute_result",
          "data": {
            "text/plain": [
              "[1, 3]"
            ]
          },
          "metadata": {
            "tags": []
          },
          "execution_count": 71
        }
      ]
    },
    {
      "cell_type": "markdown",
      "metadata": {
        "id": "jU9X_bReU8Zl",
        "colab_type": "text"
      },
      "source": [
        "# # IndexError"
      ]
    },
    {
      "cell_type": "code",
      "metadata": {
        "id": "olO2D9liU7Nr",
        "colab_type": "code",
        "colab": {}
      },
      "source": [
        "# a.pop(2) \n"
      ],
      "execution_count": 0,
      "outputs": []
    },
    {
      "cell_type": "markdown",
      "metadata": {
        "id": "Zax-MFznVBVt",
        "colab_type": "text"
      },
      "source": [
        "## 리스트에 포함된 요소 x의 개수 세기(count)"
      ]
    },
    {
      "cell_type": "code",
      "metadata": {
        "id": "MbqJ2lcEU_nn",
        "colab_type": "code",
        "colab": {
          "base_uri": "https://localhost:8080/",
          "height": 35
        },
        "outputId": "069f5696-5a42-4812-91c3-8eb830b66ef8"
      },
      "source": [
        "a = [1, 2, 3, 1]\n",
        "a.count(1)"
      ],
      "execution_count": 72,
      "outputs": [
        {
          "output_type": "execute_result",
          "data": {
            "text/plain": [
              "2"
            ]
          },
          "metadata": {
            "tags": []
          },
          "execution_count": 72
        }
      ]
    },
    {
      "cell_type": "markdown",
      "metadata": {
        "id": "IGpI3fj4VEUN",
        "colab_type": "text"
      },
      "source": [
        "## 리스트 확장(extend)"
      ]
    },
    {
      "cell_type": "code",
      "metadata": {
        "id": "tnZuo6DSVDQ-",
        "colab_type": "code",
        "colab": {
          "base_uri": "https://localhost:8080/",
          "height": 35
        },
        "outputId": "d31f7a2d-ff4c-4d7b-c7b4-81d36c948278"
      },
      "source": [
        "a = [1, 2, 3]\n",
        "a.extend([4, 5])\n",
        "a  # a.extend([4, 5])는 a += [4, 5]와 동일\n"
      ],
      "execution_count": 73,
      "outputs": [
        {
          "output_type": "execute_result",
          "data": {
            "text/plain": [
              "[1, 2, 3, 4, 5]"
            ]
          },
          "metadata": {
            "tags": []
          },
          "execution_count": 73
        }
      ]
    },
    {
      "cell_type": "code",
      "metadata": {
        "id": "vxmFIgC5VGWD",
        "colab_type": "code",
        "colab": {
          "base_uri": "https://localhost:8080/",
          "height": 35
        },
        "outputId": "40944114-33dd-42fb-9068-7b0ab353abc4"
      },
      "source": [
        "b = [6, 7]\n",
        "a.extend(b)\n",
        "a"
      ],
      "execution_count": 74,
      "outputs": [
        {
          "output_type": "execute_result",
          "data": {
            "text/plain": [
              "[1, 2, 3, 4, 5, 6, 7]"
            ]
          },
          "metadata": {
            "tags": []
          },
          "execution_count": 74
        }
      ]
    }
  ]
}