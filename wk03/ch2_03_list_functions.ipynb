{
  "nbformat": 4,
  "nbformat_minor": 0,
  "metadata": {
    "colab": {
      "name": "ch2_03_list_functions.ipynb",
      "provenance": [],
      "collapsed_sections": [],
      "include_colab_link": true
    },
    "kernelspec": {
      "name": "python3",
      "display_name": "Python 3"
    }
  },
  "cells": [
    {
      "cell_type": "markdown",
      "metadata": {
        "id": "view-in-github",
        "colab_type": "text"
      },
      "source": [
        "<a href=\"https://colab.research.google.com/github/qzaq5985/sm05/blob/master/wk03/ch2_03_list_functions.ipynb\" target=\"_parent\"><img src=\"https://colab.research.google.com/assets/colab-badge.svg\" alt=\"Open In Colab\"/></a>"
      ]
    },
    {
      "cell_type": "markdown",
      "metadata": {
        "id": "XdtVeKTzO4IC",
        "colab_type": "text"
      },
      "source": [
        "#list_functions\n",
        "\n",
        "## 리스트: list란?"
      ]
    },
    {
      "cell_type": "code",
      "metadata": {
        "id": "dWcIBE0yK4Qv",
        "colab_type": "code",
        "colab": {}
      },
      "source": [
        "odd = [1, 3, 5, 7, 9]"
      ],
      "execution_count": 0,
      "outputs": []
    },
    {
      "cell_type": "markdown",
      "metadata": {
        "id": "JKQRdCoZO6kN",
        "colab_type": "text"
      },
      "source": [
        "## 여러 가지 리스트"
      ]
    },
    {
      "cell_type": "code",
      "metadata": {
        "id": "U_wOKxYhOP5E",
        "colab_type": "code",
        "colab": {}
      },
      "source": [
        "a = []   # list 초기화\n",
        "b = [1, 2, 3]\n",
        "c = ['Life', 'is', 'too', 'short']\n",
        "d = [1, 2, 'Life', 'is']\n",
        "e = [1, 2, ['Life', 'is']]\n",
        "a = list()"
      ],
      "execution_count": 0,
      "outputs": []
    },
    {
      "cell_type": "code",
      "metadata": {
        "id": "4jD4JHkNSVcT",
        "colab_type": "code",
        "colab": {
          "base_uri": "https://localhost:8080/",
          "height": 35
        },
        "outputId": "32b460ab-7946-486c-fba5-a55455425a17"
      },
      "source": [
        "a   "
      ],
      "execution_count": 116,
      "outputs": [
        {
          "output_type": "execute_result",
          "data": {
            "text/plain": [
              "[]"
            ]
          },
          "metadata": {
            "tags": []
          },
          "execution_count": 116
        }
      ]
    },
    {
      "cell_type": "markdown",
      "metadata": {
        "id": "jxQWgv_dO-MN",
        "colab_type": "text"
      },
      "source": [
        "##리스트: 리스트의 인덱싱과 슬라이싱"
      ]
    },
    {
      "cell_type": "code",
      "metadata": {
        "id": "H9HHqjIFORwB",
        "colab_type": "code",
        "colab": {
          "base_uri": "https://localhost:8080/",
          "height": 35
        },
        "outputId": "6da908c2-46c9-426b-a030-852faf798445"
      },
      "source": [
        "a = [1, 2, 3]\n",
        "a"
      ],
      "execution_count": 75,
      "outputs": [
        {
          "output_type": "execute_result",
          "data": {
            "text/plain": [
              "[1, 2, 3]"
            ]
          },
          "metadata": {
            "tags": []
          },
          "execution_count": 75
        }
      ]
    },
    {
      "cell_type": "code",
      "metadata": {
        "id": "7ttv4nctQxhU",
        "colab_type": "code",
        "colab": {
          "base_uri": "https://localhost:8080/",
          "height": 35
        },
        "outputId": "6991faa7-dee0-42be-c8c5-3d291282249b"
      },
      "source": [
        "a[0]"
      ],
      "execution_count": 76,
      "outputs": [
        {
          "output_type": "execute_result",
          "data": {
            "text/plain": [
              "1"
            ]
          },
          "metadata": {
            "tags": []
          },
          "execution_count": 76
        }
      ]
    },
    {
      "cell_type": "code",
      "metadata": {
        "id": "LV2Zec-4Q1qe",
        "colab_type": "code",
        "colab": {}
      },
      "source": [
        "# a[3]  # 에러코드"
      ],
      "execution_count": 0,
      "outputs": []
    },
    {
      "cell_type": "code",
      "metadata": {
        "id": "hef0MsEFRAE5",
        "colab_type": "code",
        "colab": {
          "base_uri": "https://localhost:8080/",
          "height": 35
        },
        "outputId": "1e22afab-7d45-4b05-b3a2-16c34da9fb4e"
      },
      "source": [
        "a[0]+a[2]"
      ],
      "execution_count": 78,
      "outputs": [
        {
          "output_type": "execute_result",
          "data": {
            "text/plain": [
              "4"
            ]
          },
          "metadata": {
            "tags": []
          },
          "execution_count": 78
        }
      ]
    },
    {
      "cell_type": "code",
      "metadata": {
        "id": "DbTrQn8_RAvq",
        "colab_type": "code",
        "colab": {
          "base_uri": "https://localhost:8080/",
          "height": 35
        },
        "outputId": "c19e764c-3891-4096-ee1e-d8c8fb52619e"
      },
      "source": [
        "a[-1]"
      ],
      "execution_count": 79,
      "outputs": [
        {
          "output_type": "execute_result",
          "data": {
            "text/plain": [
              "3"
            ]
          },
          "metadata": {
            "tags": []
          },
          "execution_count": 79
        }
      ]
    },
    {
      "cell_type": "code",
      "metadata": {
        "id": "oZh3-sg6OT2g",
        "colab_type": "code",
        "colab": {
          "base_uri": "https://localhost:8080/",
          "height": 35
        },
        "outputId": "96ec0739-7308-43df-d793-e0a606d2f0f6"
      },
      "source": [
        "a = [1, 2, 3, ['a', 'b', 'c']]\n",
        "a[0]"
      ],
      "execution_count": 80,
      "outputs": [
        {
          "output_type": "execute_result",
          "data": {
            "text/plain": [
              "1"
            ]
          },
          "metadata": {
            "tags": []
          },
          "execution_count": 80
        }
      ]
    },
    {
      "cell_type": "code",
      "metadata": {
        "id": "30XmE8yqRC6-",
        "colab_type": "code",
        "colab": {
          "base_uri": "https://localhost:8080/",
          "height": 35
        },
        "outputId": "0c7ea099-cb49-4ccd-bef6-28070d9154c1"
      },
      "source": [
        "a[3]"
      ],
      "execution_count": 81,
      "outputs": [
        {
          "output_type": "execute_result",
          "data": {
            "text/plain": [
              "['a', 'b', 'c']"
            ]
          },
          "metadata": {
            "tags": []
          },
          "execution_count": 81
        }
      ]
    },
    {
      "cell_type": "code",
      "metadata": {
        "id": "W5-F6VwxREd8",
        "colab_type": "code",
        "colab": {
          "base_uri": "https://localhost:8080/",
          "height": 35
        },
        "outputId": "ceacebdd-13d8-43ae-81de-4077d02bf1ab"
      },
      "source": [
        "a[-1]"
      ],
      "execution_count": 82,
      "outputs": [
        {
          "output_type": "execute_result",
          "data": {
            "text/plain": [
              "['a', 'b', 'c']"
            ]
          },
          "metadata": {
            "tags": []
          },
          "execution_count": 82
        }
      ]
    },
    {
      "cell_type": "markdown",
      "metadata": {
        "id": "3GucG_rKPCYS",
        "colab_type": "text"
      },
      "source": [
        "## chaek this: a[0] + a[-1] -> TypeError\n",
        "### Indexing inner list"
      ]
    },
    {
      "cell_type": "code",
      "metadata": {
        "id": "UnHaoUuUOXrC",
        "colab_type": "code",
        "colab": {
          "base_uri": "https://localhost:8080/",
          "height": 35
        },
        "outputId": "40798b18-6275-4ba7-8fef-1d6a34b14073"
      },
      "source": [
        "a[-1][0]"
      ],
      "execution_count": 83,
      "outputs": [
        {
          "output_type": "execute_result",
          "data": {
            "text/plain": [
              "'a'"
            ]
          },
          "metadata": {
            "tags": []
          },
          "execution_count": 83
        }
      ]
    },
    {
      "cell_type": "code",
      "metadata": {
        "id": "9hpEjGaTRHpj",
        "colab_type": "code",
        "colab": {
          "base_uri": "https://localhost:8080/",
          "height": 35
        },
        "outputId": "f2843d21-ce68-4397-c7c8-2cbcb69f8452"
      },
      "source": [
        "a[-1][-1]"
      ],
      "execution_count": 84,
      "outputs": [
        {
          "output_type": "execute_result",
          "data": {
            "text/plain": [
              "'c'"
            ]
          },
          "metadata": {
            "tags": []
          },
          "execution_count": 84
        }
      ]
    },
    {
      "cell_type": "markdown",
      "metadata": {
        "id": "jhLVly9ZPVQi",
        "colab_type": "text"
      },
      "source": [
        "## 삼중 리스트에서 인덱싱하기"
      ]
    },
    {
      "cell_type": "code",
      "metadata": {
        "id": "n3nQotKfOYkq",
        "colab_type": "code",
        "colab": {
          "base_uri": "https://localhost:8080/",
          "height": 35
        },
        "outputId": "09d4b1ba-f655-42f3-f23b-ee131b3493a9"
      },
      "source": [
        "a = [1, 2, ['a', 'b', ['Life', 'is']]]\n",
        "a[2]"
      ],
      "execution_count": 85,
      "outputs": [
        {
          "output_type": "execute_result",
          "data": {
            "text/plain": [
              "['a', 'b', ['Life', 'is']]"
            ]
          },
          "metadata": {
            "tags": []
          },
          "execution_count": 85
        }
      ]
    },
    {
      "cell_type": "code",
      "metadata": {
        "id": "h9BgJ_kIRJqf",
        "colab_type": "code",
        "colab": {
          "base_uri": "https://localhost:8080/",
          "height": 35
        },
        "outputId": "599e9023-6c30-4dce-c161-c78ae03dc0c3"
      },
      "source": [
        "a[2][-1]"
      ],
      "execution_count": 86,
      "outputs": [
        {
          "output_type": "execute_result",
          "data": {
            "text/plain": [
              "['Life', 'is']"
            ]
          },
          "metadata": {
            "tags": []
          },
          "execution_count": 86
        }
      ]
    },
    {
      "cell_type": "code",
      "metadata": {
        "id": "rPYNh7qDRKkg",
        "colab_type": "code",
        "colab": {
          "base_uri": "https://localhost:8080/",
          "height": 35
        },
        "outputId": "f4203727-0ef0-491d-92f5-ad3578ad6a7d"
      },
      "source": [
        "a[2][-1][0]   # 'Life'"
      ],
      "execution_count": 87,
      "outputs": [
        {
          "output_type": "execute_result",
          "data": {
            "text/plain": [
              "'Life'"
            ]
          },
          "metadata": {
            "tags": []
          },
          "execution_count": 87
        }
      ]
    },
    {
      "cell_type": "markdown",
      "metadata": {
        "id": "IQrLTjwuPYMa",
        "colab_type": "text"
      },
      "source": [
        "## 리스트의 슬라이싱"
      ]
    },
    {
      "cell_type": "code",
      "metadata": {
        "id": "Lix-hA8nOZZW",
        "colab_type": "code",
        "colab": {
          "base_uri": "https://localhost:8080/",
          "height": 35
        },
        "outputId": "39719193-bbfb-4396-ec7b-773048320539"
      },
      "source": [
        "a = [1, 2, 3, 4, 5]\n",
        "a[0:2]"
      ],
      "execution_count": 88,
      "outputs": [
        {
          "output_type": "execute_result",
          "data": {
            "text/plain": [
              "[1, 2]"
            ]
          },
          "metadata": {
            "tags": []
          },
          "execution_count": 88
        }
      ]
    },
    {
      "cell_type": "code",
      "metadata": {
        "id": "o541h-VARL-f",
        "colab_type": "code",
        "colab": {
          "base_uri": "https://localhost:8080/",
          "height": 35
        },
        "outputId": "72a87697-d612-4ba4-e98a-dbc3c033f4e0"
      },
      "source": [
        "a = \"12345\"\n",
        "a[0:2]"
      ],
      "execution_count": 89,
      "outputs": [
        {
          "output_type": "execute_result",
          "data": {
            "text/plain": [
              "'12'"
            ]
          },
          "metadata": {
            "tags": []
          },
          "execution_count": 89
        }
      ]
    },
    {
      "cell_type": "code",
      "metadata": {
        "id": "0n9xbvHyOaLM",
        "colab_type": "code",
        "colab": {
          "base_uri": "https://localhost:8080/",
          "height": 35
        },
        "outputId": "58d77663-f7fe-4210-d3ab-43a4c2585b49"
      },
      "source": [
        "a = [1, 2, 3, 4, 5]\n",
        "a[0:2]"
      ],
      "execution_count": 90,
      "outputs": [
        {
          "output_type": "execute_result",
          "data": {
            "text/plain": [
              "[1, 2]"
            ]
          },
          "metadata": {
            "tags": []
          },
          "execution_count": 90
        }
      ]
    },
    {
      "cell_type": "code",
      "metadata": {
        "id": "cgdDh2tERNk9",
        "colab_type": "code",
        "colab": {
          "base_uri": "https://localhost:8080/",
          "height": 35
        },
        "outputId": "0f752e25-1b15-4d70-d423-caffab1fbf0e"
      },
      "source": [
        "a[2:]"
      ],
      "execution_count": 91,
      "outputs": [
        {
          "output_type": "execute_result",
          "data": {
            "text/plain": [
              "[3, 4, 5]"
            ]
          },
          "metadata": {
            "tags": []
          },
          "execution_count": 91
        }
      ]
    },
    {
      "cell_type": "code",
      "metadata": {
        "id": "kEQGDY7kROd2",
        "colab_type": "code",
        "colab": {
          "base_uri": "https://localhost:8080/",
          "height": 35
        },
        "outputId": "a7f7951e-3026-4aa2-ec6d-9751b392f11e"
      },
      "source": [
        "a[0:4:2]  # a[start:end:step]  stop은 점프 ex) 2 = 두단계씩 점프"
      ],
      "execution_count": 92,
      "outputs": [
        {
          "output_type": "execute_result",
          "data": {
            "text/plain": [
              "[1, 3]"
            ]
          },
          "metadata": {
            "tags": []
          },
          "execution_count": 92
        }
      ]
    },
    {
      "cell_type": "markdown",
      "metadata": {
        "id": "YkqMRq-iPgr7",
        "colab_type": "text"
      },
      "source": [
        "## 중첩된 리스트에서 슬라이싱하기"
      ]
    },
    {
      "cell_type": "code",
      "metadata": {
        "id": "wj48CEXkOa3_",
        "colab_type": "code",
        "colab": {
          "base_uri": "https://localhost:8080/",
          "height": 35
        },
        "outputId": "e5d07717-11a2-46f1-e175-6ddd73cb46b5"
      },
      "source": [
        "a = [1, 2, 3, ['a', 'b', 'c'], 4, 5]\n",
        "a[2:5]"
      ],
      "execution_count": 93,
      "outputs": [
        {
          "output_type": "execute_result",
          "data": {
            "text/plain": [
              "[3, ['a', 'b', 'c'], 4]"
            ]
          },
          "metadata": {
            "tags": []
          },
          "execution_count": 93
        }
      ]
    },
    {
      "cell_type": "code",
      "metadata": {
        "id": "Jb2ZmsrzRQTx",
        "colab_type": "code",
        "colab": {
          "base_uri": "https://localhost:8080/",
          "height": 35
        },
        "outputId": "28608658-7c68-4566-b419-0924858635fd"
      },
      "source": [
        "a[3][:2]"
      ],
      "execution_count": 94,
      "outputs": [
        {
          "output_type": "execute_result",
          "data": {
            "text/plain": [
              "['a', 'b']"
            ]
          },
          "metadata": {
            "tags": []
          },
          "execution_count": 94
        }
      ]
    },
    {
      "cell_type": "markdown",
      "metadata": {
        "id": "ojZLXg8JPj9a",
        "colab_type": "text"
      },
      "source": [
        "## 리스트: 인덱싱, 슬라이싱 연습"
      ]
    },
    {
      "cell_type": "code",
      "metadata": {
        "id": "fiNwozGjOb1i",
        "colab_type": "code",
        "colab": {
          "base_uri": "https://localhost:8080/",
          "height": 35
        },
        "outputId": "32625483-a3fe-4530-d9b3-ce2b6f20cf83"
      },
      "source": [
        "x = [1, 2, 3, 4, 5, 6, 7, 8, 9]\n",
        "x[0:3]"
      ],
      "execution_count": 95,
      "outputs": [
        {
          "output_type": "execute_result",
          "data": {
            "text/plain": [
              "[1, 2, 3]"
            ]
          },
          "metadata": {
            "tags": []
          },
          "execution_count": 95
        }
      ]
    },
    {
      "cell_type": "code",
      "metadata": {
        "id": "vNwzAfR4RmAr",
        "colab_type": "code",
        "colab": {
          "base_uri": "https://localhost:8080/",
          "height": 35
        },
        "outputId": "31a24b84-44b0-4759-92ff-f3ad1211f227"
      },
      "source": [
        "x[3:]"
      ],
      "execution_count": 96,
      "outputs": [
        {
          "output_type": "execute_result",
          "data": {
            "text/plain": [
              "[4, 5, 6, 7, 8, 9]"
            ]
          },
          "metadata": {
            "tags": []
          },
          "execution_count": 96
        }
      ]
    },
    {
      "cell_type": "code",
      "metadata": {
        "id": "By0Vv5lnRnEr",
        "colab_type": "code",
        "colab": {
          "base_uri": "https://localhost:8080/",
          "height": 35
        },
        "outputId": "f1f54066-3ede-4f33-c4d2-3016fa1be531"
      },
      "source": [
        "x[:6]"
      ],
      "execution_count": 97,
      "outputs": [
        {
          "output_type": "execute_result",
          "data": {
            "text/plain": [
              "[1, 2, 3, 4, 5, 6]"
            ]
          },
          "metadata": {
            "tags": []
          },
          "execution_count": 97
        }
      ]
    },
    {
      "cell_type": "code",
      "metadata": {
        "id": "8OuGsxR1Ro8X",
        "colab_type": "code",
        "colab": {
          "base_uri": "https://localhost:8080/",
          "height": 35
        },
        "outputId": "b8af2f86-7aa7-408f-c994-3b429274ff9d"
      },
      "source": [
        "x[0:6:2]   # x[:6:2]"
      ],
      "execution_count": 98,
      "outputs": [
        {
          "output_type": "execute_result",
          "data": {
            "text/plain": [
              "[1, 3, 5]"
            ]
          },
          "metadata": {
            "tags": []
          },
          "execution_count": 98
        }
      ]
    },
    {
      "cell_type": "code",
      "metadata": {
        "id": "DrkartI_RqAe",
        "colab_type": "code",
        "colab": {
          "base_uri": "https://localhost:8080/",
          "height": 35
        },
        "outputId": "21cd16af-6f2a-4011-fca2-ea5c6163bd67"
      },
      "source": [
        "x[-1]"
      ],
      "execution_count": 99,
      "outputs": [
        {
          "output_type": "execute_result",
          "data": {
            "text/plain": [
              "9"
            ]
          },
          "metadata": {
            "tags": []
          },
          "execution_count": 99
        }
      ]
    },
    {
      "cell_type": "code",
      "metadata": {
        "id": "C_a-NpLIRt7g",
        "colab_type": "code",
        "colab": {
          "base_uri": "https://localhost:8080/",
          "height": 35
        },
        "outputId": "f329a0da-8b54-4c32-c5fa-b9ea0fe7b443"
      },
      "source": [
        "x[-3]"
      ],
      "execution_count": 100,
      "outputs": [
        {
          "output_type": "execute_result",
          "data": {
            "text/plain": [
              "7"
            ]
          },
          "metadata": {
            "tags": []
          },
          "execution_count": 100
        }
      ]
    },
    {
      "cell_type": "code",
      "metadata": {
        "id": "KTcOz2vaRvRr",
        "colab_type": "code",
        "colab": {
          "base_uri": "https://localhost:8080/",
          "height": 35
        },
        "outputId": "48f8b12d-3cb1-43a2-c66b-3b212b0d2cf0"
      },
      "source": [
        "x[:-3]"
      ],
      "execution_count": 101,
      "outputs": [
        {
          "output_type": "execute_result",
          "data": {
            "text/plain": [
              "[1, 2, 3, 4, 5, 6]"
            ]
          },
          "metadata": {
            "tags": []
          },
          "execution_count": 101
        }
      ]
    },
    {
      "cell_type": "code",
      "metadata": {
        "id": "E3w8RgnlRwve",
        "colab_type": "code",
        "colab": {
          "base_uri": "https://localhost:8080/",
          "height": 35
        },
        "outputId": "0d23a080-8b70-4598-e446-7981ef72b937"
      },
      "source": [
        "x[::-1] # 리스트를 리버스 시킴"
      ],
      "execution_count": 102,
      "outputs": [
        {
          "output_type": "execute_result",
          "data": {
            "text/plain": [
              "[9, 8, 7, 6, 5, 4, 3, 2, 1]"
            ]
          },
          "metadata": {
            "tags": []
          },
          "execution_count": 102
        }
      ]
    },
    {
      "cell_type": "code",
      "metadata": {
        "id": "AjbDhCUPRyfd",
        "colab_type": "code",
        "colab": {
          "base_uri": "https://localhost:8080/",
          "height": 35
        },
        "outputId": "6cc54226-3e79-4067-c9e6-9d5440a254a5"
      },
      "source": [
        "x[-3::-1] # -3부터 리버스 시킴"
      ],
      "execution_count": 103,
      "outputs": [
        {
          "output_type": "execute_result",
          "data": {
            "text/plain": [
              "[7, 6, 5, 4, 3, 2, 1]"
            ]
          },
          "metadata": {
            "tags": []
          },
          "execution_count": 103
        }
      ]
    },
    {
      "cell_type": "markdown",
      "metadata": {
        "id": "zAmAqZdVPmFD",
        "colab_type": "text"
      },
      "source": [
        "##리스트: 리스트 연산하기\n",
        "#### 리스트 더하기(+)"
      ]
    },
    {
      "cell_type": "code",
      "metadata": {
        "id": "rxqR_631Ocdm",
        "colab_type": "code",
        "colab": {}
      },
      "source": [
        "a = [1, 2, 3]\n",
        "b = [4, 5, 6]\n"
      ],
      "execution_count": 0,
      "outputs": []
    },
    {
      "cell_type": "code",
      "metadata": {
        "id": "FDdPNcvTOkLf",
        "colab_type": "code",
        "colab": {
          "base_uri": "https://localhost:8080/",
          "height": 35
        },
        "outputId": "fbf471a3-cbaf-4f0d-e540-e54931ed7e90"
      },
      "source": [
        "a + b\n"
      ],
      "execution_count": 105,
      "outputs": [
        {
          "output_type": "execute_result",
          "data": {
            "text/plain": [
              "[1, 2, 3, 4, 5, 6]"
            ]
          },
          "metadata": {
            "tags": []
          },
          "execution_count": 105
        }
      ]
    },
    {
      "cell_type": "markdown",
      "metadata": {
        "id": "-Jv6ft6cPrvT",
        "colab_type": "text"
      },
      "source": [
        "## 리스트 반복하기(*)"
      ]
    },
    {
      "cell_type": "code",
      "metadata": {
        "id": "zIyevz9VOmLZ",
        "colab_type": "code",
        "colab": {
          "base_uri": "https://localhost:8080/",
          "height": 35
        },
        "outputId": "7fba132e-a7a1-4a48-b67c-d05faaee0fbd"
      },
      "source": [
        "a * 3\n"
      ],
      "execution_count": 106,
      "outputs": [
        {
          "output_type": "execute_result",
          "data": {
            "text/plain": [
              "[1, 2, 3, 1, 2, 3, 1, 2, 3]"
            ]
          },
          "metadata": {
            "tags": []
          },
          "execution_count": 106
        }
      ]
    },
    {
      "cell_type": "markdown",
      "metadata": {
        "id": "RNyUO-OuPuNK",
        "colab_type": "text"
      },
      "source": [
        "## 리스트 길이구하기"
      ]
    },
    {
      "cell_type": "code",
      "metadata": {
        "id": "aohBWAWfOpHN",
        "colab_type": "code",
        "colab": {
          "base_uri": "https://localhost:8080/",
          "height": 35
        },
        "outputId": "efa1345c-2967-4d4f-8fc6-14371029c534"
      },
      "source": [
        "len(a)\n"
      ],
      "execution_count": 107,
      "outputs": [
        {
          "output_type": "execute_result",
          "data": {
            "text/plain": [
              "3"
            ]
          },
          "metadata": {
            "tags": []
          },
          "execution_count": 107
        }
      ]
    },
    {
      "cell_type": "markdown",
      "metadata": {
        "id": "zxgzNOf8Pwf7",
        "colab_type": "text"
      },
      "source": [
        "## 초보자가 범하기 쉬운 리스트 연산 오류"
      ]
    },
    {
      "cell_type": "code",
      "metadata": {
        "id": "YdH-3hOXOqXB",
        "colab_type": "code",
        "colab": {}
      },
      "source": [
        "a = [1, 2, 3]"
      ],
      "execution_count": 0,
      "outputs": []
    },
    {
      "cell_type": "markdown",
      "metadata": {
        "id": "v7UkZxx3Pyrr",
        "colab_type": "text"
      },
      "source": [
        "##에러코드"
      ]
    },
    {
      "cell_type": "code",
      "metadata": {
        "id": "GgOOFLFvPxh3",
        "colab_type": "code",
        "colab": {}
      },
      "source": [
        "# a[2] + \"hi\" // 에러코드"
      ],
      "execution_count": 0,
      "outputs": []
    },
    {
      "cell_type": "markdown",
      "metadata": {
        "id": "M2kx61t6P1Pa",
        "colab_type": "text"
      },
      "source": [
        "##실행되는 코드"
      ]
    },
    {
      "cell_type": "code",
      "metadata": {
        "id": "15Eb2LYrPyHt",
        "colab_type": "code",
        "colab": {
          "base_uri": "https://localhost:8080/",
          "height": 35
        },
        "outputId": "dd2a525d-03b6-4444-94d1-240f1a39100e"
      },
      "source": [
        "\n",
        "str(a[2]) + \"hi\"\n",
        "\n"
      ],
      "execution_count": 110,
      "outputs": [
        {
          "output_type": "execute_result",
          "data": {
            "text/plain": [
              "'3hi'"
            ]
          },
          "metadata": {
            "tags": []
          },
          "execution_count": 110
        }
      ]
    },
    {
      "cell_type": "markdown",
      "metadata": {
        "id": "p0joZpGLP4Ba",
        "colab_type": "text"
      },
      "source": [
        "## 리스트의 수정과 삭제"
      ]
    },
    {
      "cell_type": "code",
      "metadata": {
        "id": "CQ7aFv7gOsjY",
        "colab_type": "code",
        "colab": {
          "base_uri": "https://localhost:8080/",
          "height": 35
        },
        "outputId": "79983629-2ea3-4dc8-e023-155a3ba17fe4"
      },
      "source": [
        "a = [1, 2, 3]\n",
        "a[2] = 4  # list is mutable!!!\n",
        "a"
      ],
      "execution_count": 111,
      "outputs": [
        {
          "output_type": "execute_result",
          "data": {
            "text/plain": [
              "[1, 2, 4]"
            ]
          },
          "metadata": {
            "tags": []
          },
          "execution_count": 111
        }
      ]
    },
    {
      "cell_type": "markdown",
      "metadata": {
        "id": "7SnnT07BP6jK",
        "colab_type": "text"
      },
      "source": [
        "## del 함수 사용해 리스트 요소 삭제하기"
      ]
    },
    {
      "cell_type": "code",
      "metadata": {
        "id": "Xl0S95ceOuF-",
        "colab_type": "code",
        "colab": {
          "base_uri": "https://localhost:8080/",
          "height": 35
        },
        "outputId": "b15fc5d3-bdc3-47c4-c199-323d6f77e79b"
      },
      "source": [
        "a = [1, 2, 3]\n",
        "del a[1] # del : 지우개\n",
        "a"
      ],
      "execution_count": 112,
      "outputs": [
        {
          "output_type": "execute_result",
          "data": {
            "text/plain": [
              "[1, 3]"
            ]
          },
          "metadata": {
            "tags": []
          },
          "execution_count": 112
        }
      ]
    },
    {
      "cell_type": "code",
      "metadata": {
        "id": "pCt88wtER7t5",
        "colab_type": "code",
        "colab": {
          "base_uri": "https://localhost:8080/",
          "height": 35
        },
        "outputId": "5661700a-d577-4ee8-838b-e0e2a336e819"
      },
      "source": [
        "a = [1, 2, 3, 4, 5]\n",
        "del a[2:]\n",
        "a"
      ],
      "execution_count": 113,
      "outputs": [
        {
          "output_type": "execute_result",
          "data": {
            "text/plain": [
              "[1, 2]"
            ]
          },
          "metadata": {
            "tags": []
          },
          "execution_count": 113
        }
      ]
    },
    {
      "cell_type": "code",
      "metadata": {
        "id": "e3qzEQ1rOAie",
        "colab_type": "code",
        "colab": {}
      },
      "source": [
        ""
      ],
      "execution_count": 0,
      "outputs": []
    }
  ]
}