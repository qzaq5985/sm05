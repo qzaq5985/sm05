{
  "nbformat": 4,
  "nbformat_minor": 0,
  "metadata": {
    "colab": {
      "name": "ch2_06_set.ipynb",
      "provenance": [],
      "collapsed_sections": [],
      "include_colab_link": true
    },
    "kernelspec": {
      "name": "python2",
      "display_name": "Python 2"
    }
  },
  "cells": [
    {
      "cell_type": "markdown",
      "metadata": {
        "id": "view-in-github",
        "colab_type": "text"
      },
      "source": [
        "<a href=\"https://colab.research.google.com/github/qzaq5985/sm05/blob/master/wk03/ch2_06_set.ipynb\" target=\"_parent\"><img src=\"https://colab.research.google.com/assets/colab-badge.svg\" alt=\"Open In Colab\"/></a>"
      ]
    },
    {
      "cell_type": "markdown",
      "metadata": {
        "id": "ZRTlYPFck3jF",
        "colab_type": "text"
      },
      "source": [
        "# set : 집합"
      ]
    },
    {
      "cell_type": "markdown",
      "metadata": {
        "id": "I_Lxs1Q1lDEU",
        "colab_type": "text"
      },
      "source": [
        "##집합: 집합(Set)이란?"
      ]
    },
    {
      "cell_type": "code",
      "metadata": {
        "id": "le7tEiVjkzo4",
        "colab_type": "code",
        "colab": {
          "base_uri": "https://localhost:8080/",
          "height": 35
        },
        "outputId": "e12ac6e9-b31a-4f9e-8820-6db842e64da2"
      },
      "source": [
        "# 집합에 관련된 것을 쉽게 처리하기 위해 만든 자료형\n",
        "# 중복된 값을 허용하지 않는다.\n",
        "# set 키워드를 사용해서 집합자료형을 만든다.\n",
        "\n",
        "s1 = set([1, 2, 3])\n",
        "s1"
      ],
      "execution_count": 5,
      "outputs": [
        {
          "output_type": "execute_result",
          "data": {
            "text/plain": [
              "{1, 2, 3}"
            ]
          },
          "metadata": {
            "tags": []
          },
          "execution_count": 5
        }
      ]
    },
    {
      "cell_type": "code",
      "metadata": {
        "id": "SKbD9UaClHCM",
        "colab_type": "code",
        "colab": {
          "base_uri": "https://localhost:8080/",
          "height": 35
        },
        "outputId": "72625a1c-1ef5-42a7-b8e6-e883b9a86a34"
      },
      "source": [
        "s1n = set([1, 2, 3, 2])\n",
        "s1n"
      ],
      "execution_count": 6,
      "outputs": [
        {
          "output_type": "execute_result",
          "data": {
            "text/plain": [
              "{1, 2, 3}"
            ]
          },
          "metadata": {
            "tags": []
          },
          "execution_count": 6
        }
      ]
    },
    {
      "cell_type": "code",
      "metadata": {
        "id": "2pUZ-ytXlVqr",
        "colab_type": "code",
        "colab": {
          "base_uri": "https://localhost:8080/",
          "height": 35
        },
        "outputId": "a3901f5c-568d-4b2c-b19d-19ba0443cd28"
      },
      "source": [
        "\n",
        "s2 = set(\"Hello\")\n",
        "s2\n"
      ],
      "execution_count": 7,
      "outputs": [
        {
          "output_type": "execute_result",
          "data": {
            "text/plain": [
              "{'H', 'e', 'l', 'o'}"
            ]
          },
          "metadata": {
            "tags": []
          },
          "execution_count": 7
        }
      ]
    },
    {
      "cell_type": "markdown",
      "metadata": {
        "id": "QWtha7kQlYc8",
        "colab_type": "text"
      },
      "source": [
        "## 집합 자료형의 특징\n",
        "## 1. 중복을 허용하지 않는다.\n",
        "## 2. 순서가 없다(Unordered).\n",
        "## *** set 자료형은 순서가 없기(unordered) 때문에 인덱싱으로 값을 얻을 수 없다."
      ]
    },
    {
      "cell_type": "code",
      "metadata": {
        "id": "Iawy3DLhlLEP",
        "colab_type": "code",
        "colab": {}
      },
      "source": [
        "s1 = set([1,2,3])"
      ],
      "execution_count": 0,
      "outputs": []
    },
    {
      "cell_type": "markdown",
      "metadata": {
        "id": "kVV0Wp1FmSA0",
        "colab_type": "text"
      },
      "source": [
        "## Error code"
      ]
    },
    {
      "cell_type": "code",
      "metadata": {
        "id": "kWwFItcImQK9",
        "colab_type": "code",
        "colab": {}
      },
      "source": [
        "# s1[0]"
      ],
      "execution_count": 0,
      "outputs": []
    },
    {
      "cell_type": "markdown",
      "metadata": {
        "id": "x6p_jfIwmUBF",
        "colab_type": "text"
      },
      "source": [
        "## 집합 자료형"
      ]
    },
    {
      "cell_type": "code",
      "metadata": {
        "id": "OHDkcxBUlbXk",
        "colab_type": "code",
        "colab": {
          "base_uri": "https://localhost:8080/",
          "height": 35
        },
        "outputId": "00b3451f-6972-44f6-a036-e1e43d46d600"
      },
      "source": [
        "l1=list(s1)\n",
        "l1"
      ],
      "execution_count": 10,
      "outputs": [
        {
          "output_type": "execute_result",
          "data": {
            "text/plain": [
              "[1, 2, 3]"
            ]
          },
          "metadata": {
            "tags": []
          },
          "execution_count": 10
        }
      ]
    },
    {
      "cell_type": "code",
      "metadata": {
        "id": "kKMzR1B8lcrD",
        "colab_type": "code",
        "colab": {
          "base_uri": "https://localhost:8080/",
          "height": 35
        },
        "outputId": "32ecb324-c51f-441c-f4d7-d6cd24d9aed0"
      },
      "source": [
        "l1[0]"
      ],
      "execution_count": 11,
      "outputs": [
        {
          "output_type": "execute_result",
          "data": {
            "text/plain": [
              "1"
            ]
          },
          "metadata": {
            "tags": []
          },
          "execution_count": 11
        }
      ]
    },
    {
      "cell_type": "code",
      "metadata": {
        "id": "1IqJMCbzlLz5",
        "colab_type": "code",
        "colab": {
          "base_uri": "https://localhost:8080/",
          "height": 35
        },
        "outputId": "87e5a81b-0242-44de-d24c-91436ff80a43"
      },
      "source": [
        "t1=tuple(s1)\n",
        "t1"
      ],
      "execution_count": 12,
      "outputs": [
        {
          "output_type": "execute_result",
          "data": {
            "text/plain": [
              "(1, 2, 3)"
            ]
          },
          "metadata": {
            "tags": []
          },
          "execution_count": 12
        }
      ]
    },
    {
      "cell_type": "code",
      "metadata": {
        "id": "_4DsKZN8lerA",
        "colab_type": "code",
        "colab": {
          "base_uri": "https://localhost:8080/",
          "height": 35
        },
        "outputId": "8ed5fc67-2e34-4b5c-ef72-1110617974b1"
      },
      "source": [
        "t1[0]"
      ],
      "execution_count": 13,
      "outputs": [
        {
          "output_type": "execute_result",
          "data": {
            "text/plain": [
              "1"
            ]
          },
          "metadata": {
            "tags": []
          },
          "execution_count": 13
        }
      ]
    },
    {
      "cell_type": "markdown",
      "metadata": {
        "id": "MNFEFJzHliWU",
        "colab_type": "text"
      },
      "source": [
        "## 교집합, 합집합, 차집합 구하기"
      ]
    },
    {
      "cell_type": "code",
      "metadata": {
        "id": "UA4HcKPblMfD",
        "colab_type": "code",
        "colab": {}
      },
      "source": [
        "s1 = set([1, 2, 3, 4, 5, 6])\n",
        "s2 = set([4, 5, 6, 7, 8, 9])"
      ],
      "execution_count": 0,
      "outputs": []
    },
    {
      "cell_type": "markdown",
      "metadata": {
        "id": "DSXTIrOmlktc",
        "colab_type": "text"
      },
      "source": [
        "## 1. 교집합"
      ]
    },
    {
      "cell_type": "code",
      "metadata": {
        "id": "7SwWHlMclNbW",
        "colab_type": "code",
        "colab": {
          "base_uri": "https://localhost:8080/",
          "height": 35
        },
        "outputId": "19d3ffd0-77bb-4328-e51b-bc704228f431"
      },
      "source": [
        "s1 & s2\n",
        "s1.intersection(s2)"
      ],
      "execution_count": 15,
      "outputs": [
        {
          "output_type": "execute_result",
          "data": {
            "text/plain": [
              "{4, 5, 6}"
            ]
          },
          "metadata": {
            "tags": []
          },
          "execution_count": 15
        }
      ]
    },
    {
      "cell_type": "markdown",
      "metadata": {
        "id": "A_0hG9lvlmu7",
        "colab_type": "text"
      },
      "source": [
        "## 2. 합집합"
      ]
    },
    {
      "cell_type": "code",
      "metadata": {
        "id": "NUGDGZCrlOAG",
        "colab_type": "code",
        "colab": {
          "base_uri": "https://localhost:8080/",
          "height": 35
        },
        "outputId": "69f8e718-a149-4b06-ab58-7148cefa2140"
      },
      "source": [
        "s1 | s2\n",
        "s1.union(s2)\n"
      ],
      "execution_count": 16,
      "outputs": [
        {
          "output_type": "execute_result",
          "data": {
            "text/plain": [
              "{1, 2, 3, 4, 5, 6, 7, 8, 9}"
            ]
          },
          "metadata": {
            "tags": []
          },
          "execution_count": 16
        }
      ]
    },
    {
      "cell_type": "markdown",
      "metadata": {
        "id": "CYeCzrahloyk",
        "colab_type": "text"
      },
      "source": [
        "## 3. 차집합"
      ]
    },
    {
      "cell_type": "code",
      "metadata": {
        "id": "XHaKzlp5lOwf",
        "colab_type": "code",
        "colab": {
          "base_uri": "https://localhost:8080/",
          "height": 35
        },
        "outputId": "a22459dd-ac33-4c89-8d21-0545ebe1c245"
      },
      "source": [
        "s1 - s2\n",
        "s2 - s1\n",
        "s1.difference(s2)\n",
        "s2.difference(s1)\n"
      ],
      "execution_count": 17,
      "outputs": [
        {
          "output_type": "execute_result",
          "data": {
            "text/plain": [
              "{7, 8, 9}"
            ]
          },
          "metadata": {
            "tags": []
          },
          "execution_count": 17
        }
      ]
    },
    {
      "cell_type": "markdown",
      "metadata": {
        "id": "xF08j_1Vlqoj",
        "colab_type": "text"
      },
      "source": [
        "#집합 (set): 관련 내장 함수들"
      ]
    },
    {
      "cell_type": "markdown",
      "metadata": {
        "id": "H0qNJqxEltYk",
        "colab_type": "text"
      },
      "source": [
        "## 값 1개 추가하기(add)"
      ]
    },
    {
      "cell_type": "code",
      "metadata": {
        "id": "n39z8YmilPbd",
        "colab_type": "code",
        "colab": {
          "base_uri": "https://localhost:8080/",
          "height": 35
        },
        "outputId": "89e17b46-6414-466a-8191-e71a88ff1a7f"
      },
      "source": [
        "s1 = set([1, 2, 3])\n",
        "s1.add(4)\n",
        "s1\n"
      ],
      "execution_count": 18,
      "outputs": [
        {
          "output_type": "execute_result",
          "data": {
            "text/plain": [
              "{1, 2, 3, 4}"
            ]
          },
          "metadata": {
            "tags": []
          },
          "execution_count": 18
        }
      ]
    },
    {
      "cell_type": "markdown",
      "metadata": {
        "id": "thIeqCiplwiv",
        "colab_type": "text"
      },
      "source": [
        "## 값 여러 개 추가하기(update)"
      ]
    },
    {
      "cell_type": "code",
      "metadata": {
        "id": "3gQ7I07VlQ2x",
        "colab_type": "code",
        "colab": {
          "base_uri": "https://localhost:8080/",
          "height": 35
        },
        "outputId": "d32c5773-413d-4c93-c583-f814264bb7ee"
      },
      "source": [
        "s1 = set([1, 2, 3])\n",
        "s1.update([4,5,6])\n",
        "s1"
      ],
      "execution_count": 19,
      "outputs": [
        {
          "output_type": "execute_result",
          "data": {
            "text/plain": [
              "{1, 2, 3, 4, 5, 6}"
            ]
          },
          "metadata": {
            "tags": []
          },
          "execution_count": 19
        }
      ]
    },
    {
      "cell_type": "code",
      "metadata": {
        "id": "4JPu4maPly6n",
        "colab_type": "code",
        "colab": {
          "base_uri": "https://localhost:8080/",
          "height": 35
        },
        "outputId": "d3c13da2-2a32-4959-f496-cce5db923774"
      },
      "source": [
        "s1.add(5)\n",
        "s1"
      ],
      "execution_count": 20,
      "outputs": [
        {
          "output_type": "execute_result",
          "data": {
            "text/plain": [
              "{1, 2, 3, 4, 5, 6}"
            ]
          },
          "metadata": {
            "tags": []
          },
          "execution_count": 20
        }
      ]
    },
    {
      "cell_type": "markdown",
      "metadata": {
        "id": "PRdzYQ9jl1Kk",
        "colab_type": "text"
      },
      "source": [
        "## 특정 값 제거하기(remove)"
      ]
    },
    {
      "cell_type": "code",
      "metadata": {
        "id": "WuQOIeXxlR05",
        "colab_type": "code",
        "colab": {
          "base_uri": "https://localhost:8080/",
          "height": 35
        },
        "outputId": "3c106dca-e286-42cc-c4dd-2015750e536f"
      },
      "source": [
        "s1 = set([1, 2, 3])\n",
        "s1.remove(2)\n",
        "s1\n"
      ],
      "execution_count": 21,
      "outputs": [
        {
          "output_type": "execute_result",
          "data": {
            "text/plain": [
              "{1, 3}"
            ]
          },
          "metadata": {
            "tags": []
          },
          "execution_count": 21
        }
      ]
    },
    {
      "cell_type": "markdown",
      "metadata": {
        "id": "MwDTf8uSl3-M",
        "colab_type": "text"
      },
      "source": [
        "## frozenset()  # immutable set"
      ]
    },
    {
      "cell_type": "code",
      "metadata": {
        "id": "LA6p_NoYlSiR",
        "colab_type": "code",
        "colab": {}
      },
      "source": [
        "small_primes = frozenset([2, 3, 5, 7])\n",
        "bigger_primes = frozenset([5, 7, 11])"
      ],
      "execution_count": 0,
      "outputs": []
    },
    {
      "cell_type": "markdown",
      "metadata": {
        "id": "zV_iDCbCl8GV",
        "colab_type": "text"
      },
      "source": [
        "## we cannot add to a frozenset -> AttributeError"
      ]
    },
    {
      "cell_type": "code",
      "metadata": {
        "id": "hIWFGn1Hl6NS",
        "colab_type": "code",
        "colab": {}
      },
      "source": [
        "# small_primes.add(11)"
      ],
      "execution_count": 0,
      "outputs": []
    },
    {
      "cell_type": "markdown",
      "metadata": {
        "id": "BxJZlfRSmDLt",
        "colab_type": "text"
      },
      "source": [
        "## neither we can remove -> AttributeError"
      ]
    },
    {
      "cell_type": "code",
      "metadata": {
        "id": "Z66yho_Ml48R",
        "colab_type": "code",
        "colab": {}
      },
      "source": [
        "# small_primes.remove(2) "
      ],
      "execution_count": 0,
      "outputs": []
    },
    {
      "cell_type": "markdown",
      "metadata": {
        "id": "Gm1EH5TgmFuE",
        "colab_type": "text"
      },
      "source": [
        "## intersect, union, etc. allowed"
      ]
    },
    {
      "cell_type": "code",
      "metadata": {
        "id": "hrfYBtmal5jF",
        "colab_type": "code",
        "colab": {
          "base_uri": "https://localhost:8080/",
          "height": 35
        },
        "outputId": "ba8e12cb-7846-464e-aff1-2672d59e8623"
      },
      "source": [
        "small_primes & bigger_primes "
      ],
      "execution_count": 25,
      "outputs": [
        {
          "output_type": "execute_result",
          "data": {
            "text/plain": [
              "frozenset({5, 7})"
            ]
          },
          "metadata": {
            "tags": []
          },
          "execution_count": 25
        }
      ]
    },
    {
      "cell_type": "code",
      "metadata": {
        "id": "AWusojTYn6mh",
        "colab_type": "code",
        "colab": {}
      },
      "source": [
        ""
      ],
      "execution_count": 0,
      "outputs": []
    }
  ]
}