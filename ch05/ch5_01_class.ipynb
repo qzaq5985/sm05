{
  "nbformat": 4,
  "nbformat_minor": 0,
  "metadata": {
    "colab": {
      "name": "ch5_01_class.ipynb",
      "provenance": [],
      "collapsed_sections": [],
      "include_colab_link": true
    },
    "kernelspec": {
      "name": "python3",
      "display_name": "Python 3"
    }
  },
  "cells": [
    {
      "cell_type": "markdown",
      "metadata": {
        "id": "view-in-github",
        "colab_type": "text"
      },
      "source": [
        "<a href=\"https://colab.research.google.com/github/qzaq5985/sm05/blob/master/ch05/ch5_01_class.ipynb\" target=\"_parent\"><img src=\"https://colab.research.google.com/assets/colab-badge.svg\" alt=\"Open In Colab\"/></a>"
      ]
    },
    {
      "cell_type": "markdown",
      "metadata": {
        "id": "dhJcARSXQGGO",
        "colab_type": "text"
      },
      "source": [
        "# 클래스(Class) : 클래스란 무엇인가?"
      ]
    },
    {
      "cell_type": "markdown",
      "metadata": {
        "id": "gYayvNOrQNaX",
        "colab_type": "text"
      },
      "source": [
        "## 클래스는 왜 필요한가?\n",
        "\n",
        "### 지정된 기능을 수행하는 변수와 함수의 모음\n",
        "### 인스턴스, 즉 객체를 생성하여 기능을 이용\n",
        "### 코딩을 객체화\n",
        " \n",
        "### [예] 이전에 계산한 결괏값을 기억하고 있는 계산기"
      ]
    },
    {
      "cell_type": "code",
      "metadata": {
        "id": "uphVRKyBQQfg",
        "colab_type": "code",
        "colab": {
          "base_uri": "https://localhost:8080/",
          "height": 52
        },
        "outputId": "0c694a4e-384c-4e93-80bf-3b51dfe42a66"
      },
      "source": [
        "result = 0\n",
        "\n",
        "def add(num):\n",
        "    global result\n",
        "    result += num\n",
        "    return result\n",
        "\n",
        "\n",
        "# 이전에 계산한 결괏값을 기억한다.\n",
        "print(add(3))\n",
        "print(add(4))"
      ],
      "execution_count": 1,
      "outputs": [
        {
          "output_type": "stream",
          "text": [
            "3\n",
            "7\n"
          ],
          "name": "stdout"
        }
      ]
    },
    {
      "cell_type": "markdown",
      "metadata": {
        "id": "oY5CqAkuQ1Mn",
        "colab_type": "text"
      },
      "source": [
        "## 2대의 계산기가 필요한 상황이 발생하면?"
      ]
    },
    {
      "cell_type": "code",
      "metadata": {
        "id": "Z6ZkaC0pQS3j",
        "colab_type": "code",
        "colab": {
          "base_uri": "https://localhost:8080/",
          "height": 87
        },
        "outputId": "ae51f428-992d-4fd0-e545-941c30dd8d9c"
      },
      "source": [
        "result1 = 0\n",
        "result2 = 0\n",
        "\n",
        "def add1(num):\n",
        "    global result1\n",
        "    result1 += num\n",
        "    return result1\n",
        "\n",
        "\n",
        "def add2(num):\n",
        "    global result2\n",
        "    result2 += num\n",
        "    return result2\n",
        "\n",
        "print(add1(3))  # 0 + 3\n",
        "print(add1(4))  # 3 + 4\n",
        "print(add2(3))  # 0 + 3\n",
        "print(add2(7))  # 3 + 7"
      ],
      "execution_count": 2,
      "outputs": [
        {
          "output_type": "stream",
          "text": [
            "3\n",
            "7\n",
            "3\n",
            "10\n"
          ],
          "name": "stdout"
        }
      ]
    },
    {
      "cell_type": "markdown",
      "metadata": {
        "id": "ucRw0pHgQ_XC",
        "colab_type": "text"
      },
      "source": [
        "### 계산기 1의 결괏값이 계산기 2에 아무 영향을 끼치지 않음을 확인할 수 있다. \n",
        "### 하지만 계산기가 3개, 5개, 10개로 점점 더 많이 필요해진다면 어떻게 해야 할까? \n",
        "### 그때마다 전역 변수와 함수를 추가할 것인가? "
      ]
    },
    {
      "cell_type": "markdown",
      "metadata": {
        "id": "pzqW9rjDRCKw",
        "colab_type": "text"
      },
      "source": [
        "## 클래스를 사용하면 간단하게 해결\n",
        "### class Calculator"
      ]
    },
    {
      "cell_type": "code",
      "metadata": {
        "id": "_S-gVJZ_Qq_y",
        "colab_type": "code",
        "colab": {
          "base_uri": "https://localhost:8080/",
          "height": 123
        },
        "outputId": "d1b47d42-860c-417c-e289-2c65bb2b906b"
      },
      "source": [
        "class Calculator:\n",
        "    def __init__(self):\n",
        "        self.result = 0\n",
        "\n",
        "    def add(self, num):\n",
        "        self.result += num\n",
        "        return self.result\n",
        "    \n",
        "    def sub(self, num):\n",
        "        self.result -= num\n",
        "        return self.result\n",
        "\n",
        "\n",
        "\n",
        "cal1 = Calculator()\n",
        "cal2 = Calculator()\n",
        "\n",
        "cal3 = Calculator()\n",
        "\n",
        "print(cal1.add(3))\n",
        "print(cal1.add(4))\n",
        "print(cal2.add(3))\n",
        "print(cal2.add(7))\n",
        "\n",
        "print(cal3.sub(3))\n",
        "print(cal3.sub(7))"
      ],
      "execution_count": 4,
      "outputs": [
        {
          "output_type": "stream",
          "text": [
            "3\n",
            "7\n",
            "3\n",
            "10\n",
            "-3\n",
            "-10\n"
          ],
          "name": "stdout"
        }
      ]
    },
    {
      "cell_type": "markdown",
      "metadata": {
        "id": "zmColxsHT31y",
        "colab_type": "text"
      },
      "source": [
        "## 클래스와 객체\n",
        "\n",
        "### 클래스(class)란 똑같은 무엇인가를 계속해서 만들어 낼 수 있는 설계 도면\n",
        "### 객체(object)란 클래스로 만든 피조물(과자 틀을 사용해 만든 과자)\n",
        "\n",
        "### 클래스(class) : 과자 틀 (ex 붕어빵의 까만색 쇠)\n",
        "### 객체(object) : 과자 틀을 사용해 만든 과자\n",
        "\n",
        "### 동일한 클래스로 만든 객체들은 서로 전혀 영향을 주지 않는다."
      ]
    },
    {
      "cell_type": "markdown",
      "metadata": {
        "id": "865mhnDtUL9r",
        "colab_type": "text"
      },
      "source": [
        "## 간단한 클래스와 객체 \n",
        "\n",
        "### 객체와 인스턴스의 차이\n",
        "###  a = Cookie() 이렇게 만든 a는 객체이다. \n",
        "### 그리고 a 객체는 Cookie의 인스턴스이다. \n",
        "### 즉 인스턴스라는 말은 특정 객체(a)가 \n",
        "### 어떤 클래스(Cookie)의 객체인지를 \n",
        "### 관계 위주로 설명할 때 사용한다"
      ]
    },
    {
      "cell_type": "code",
      "metadata": {
        "id": "hiYNUX4MRIFR",
        "colab_type": "code",
        "colab": {
          "base_uri": "https://localhost:8080/",
          "height": 34
        },
        "outputId": "15a740e5-8901-46b9-83fb-d2d3a4151d94"
      },
      "source": [
        "class Cookie:\n",
        "    pass\n",
        "\n",
        "a = Cookie()\n",
        "b = Cookie()\n",
        "id(a), id(b)  # a 와 b 는 완전 다른것이기 때문에 주소가 다르다."
      ],
      "execution_count": 5,
      "outputs": [
        {
          "output_type": "execute_result",
          "data": {
            "text/plain": [
              "(140679268292984, 140679268292928)"
            ]
          },
          "metadata": {
            "tags": []
          },
          "execution_count": 5
        }
      ]
    },
    {
      "cell_type": "markdown",
      "metadata": {
        "id": "2dETSm9sUuz6",
        "colab_type": "text"
      },
      "source": [
        "## 사칙연산 클래스 만들기"
      ]
    },
    {
      "cell_type": "code",
      "metadata": {
        "id": "tXgqCDGGUNSr",
        "colab_type": "code",
        "colab": {}
      },
      "source": [
        "# 사칙연산을 가능하게 하는 FourCal 클래스\n",
        "# class FourCal\n",
        "\n",
        "# Usage:\n",
        "# a = FourCal()\n",
        "# a.setdata(4, 2)\n",
        "# a.add(), a.sub(), a.mul(), a.div()"
      ],
      "execution_count": 0,
      "outputs": []
    },
    {
      "cell_type": "markdown",
      "metadata": {
        "id": "XL6lvhWNVO-r",
        "colab_type": "text"
      },
      "source": [
        "## FourCal 클래스 구조 만들기"
      ]
    },
    {
      "cell_type": "code",
      "metadata": {
        "id": "BdtKJXNYVI9a",
        "colab_type": "code",
        "colab": {}
      },
      "source": [
        "class FourCal:\n",
        "    pass"
      ],
      "execution_count": 0,
      "outputs": []
    },
    {
      "cell_type": "markdown",
      "metadata": {
        "id": "ZIM4LsH-VbPZ",
        "colab_type": "text"
      },
      "source": [
        "## 객체 만들기"
      ]
    },
    {
      "cell_type": "code",
      "metadata": {
        "id": "mECelK5MVKro",
        "colab_type": "code",
        "colab": {
          "base_uri": "https://localhost:8080/",
          "height": 34
        },
        "outputId": "5142c28a-b5a4-4133-a8be-f97e7b1ddbab"
      },
      "source": [
        "a = FourCal()\n",
        "type(a), id(a)"
      ],
      "execution_count": 7,
      "outputs": [
        {
          "output_type": "execute_result",
          "data": {
            "text/plain": [
              "(__main__.FourCal, 140679268297752)"
            ]
          },
          "metadata": {
            "tags": []
          },
          "execution_count": 7
        }
      ]
    },
    {
      "cell_type": "markdown",
      "metadata": {
        "id": "IP-eC2XpVieB",
        "colab_type": "text"
      },
      "source": [
        "## 객체에 숫자 지정할 수 있게 만들기"
      ]
    },
    {
      "cell_type": "code",
      "metadata": {
        "id": "AYAwaNsTVYpZ",
        "colab_type": "code",
        "colab": {}
      },
      "source": [
        "# function setdata()  # method\n",
        "\n",
        "class FourCal:\n",
        "    def setdata(self, first, second):\n",
        "         self.first = first\n",
        "         self.second = second\n",
        "      \n",
        "a = FourCal()\n",
        "a.setdata(4, 2)"
      ],
      "execution_count": 0,
      "outputs": []
    },
    {
      "cell_type": "markdown",
      "metadata": {
        "id": "PF_EQHuXWNoB",
        "colab_type": "text"
      },
      "source": [
        "## 객체 변수"
      ]
    },
    {
      "cell_type": "code",
      "metadata": {
        "id": "jzL5Vg9FVqWK",
        "colab_type": "code",
        "colab": {}
      },
      "source": [
        "a.first    # self.first\n",
        "a.second   # self.second"
      ],
      "execution_count": 0,
      "outputs": []
    },
    {
      "cell_type": "markdown",
      "metadata": {
        "id": "N-5NqflEWw2L",
        "colab_type": "text"
      },
      "source": [
        "## 객체를 이용하기"
      ]
    },
    {
      "cell_type": "code",
      "metadata": {
        "id": "JkEqK8buWPFP",
        "colab_type": "code",
        "colab": {
          "base_uri": "https://localhost:8080/",
          "height": 52
        },
        "outputId": "23c9f731-a719-4565-a1d5-e9c3e58d5951"
      },
      "source": [
        "a = FourCal()\n",
        "b = FourCal()\n",
        "\n",
        "a is b\n",
        "\n",
        "type(a), id(a)\n",
        "type(b), id(b)\n",
        "\n",
        "a.setdata(4, 2)\n",
        "print(a.first)\n",
        "b.setdata(3, 7)\n",
        "print(b.first)"
      ],
      "execution_count": 20,
      "outputs": [
        {
          "output_type": "stream",
          "text": [
            "4\n",
            "3\n"
          ],
          "name": "stdout"
        }
      ]
    },
    {
      "cell_type": "code",
      "metadata": {
        "id": "X3ppMBrcWyJr",
        "colab_type": "code",
        "colab": {
          "base_uri": "https://localhost:8080/",
          "height": 34
        },
        "outputId": "081a30c3-5447-4204-8c10-fbdcb5a86a1c"
      },
      "source": [
        "print(a.first)  # what value?\n",
        "# a 객체의 first 값은 b 객체의 first 값에 영향받지 않고 원래 값을 유지\n",
        "# 클래스로 만든 객체의 객체변수는 다른 객체의 객체변수에 상관없이 독립적인 값을 유지"
      ],
      "execution_count": 21,
      "outputs": [
        {
          "output_type": "stream",
          "text": [
            "4\n"
          ],
          "name": "stdout"
        }
      ]
    },
    {
      "cell_type": "code",
      "metadata": {
        "id": "sfGCmKwuXZX1",
        "colab_type": "code",
        "colab": {
          "base_uri": "https://localhost:8080/",
          "height": 34
        },
        "outputId": "16ffde26-8a89-4142-9d67-9258ecb1053e"
      },
      "source": [
        "id(a.first), id(b.first)"
      ],
      "execution_count": 22,
      "outputs": [
        {
          "output_type": "execute_result",
          "data": {
            "text/plain": [
              "(10968896, 10968864)"
            ]
          },
          "metadata": {
            "tags": []
          },
          "execution_count": 22
        }
      ]
    },
    {
      "cell_type": "markdown",
      "metadata": {
        "id": "Q2tP_fXLXgU7",
        "colab_type": "text"
      },
      "source": [
        "## 더하기 기능 만들기"
      ]
    },
    {
      "cell_type": "code",
      "metadata": {
        "id": "K_milJV-XeML",
        "colab_type": "code",
        "colab": {
          "base_uri": "https://localhost:8080/",
          "height": 34
        },
        "outputId": "e338921c-f19d-4b99-d8b2-2063756abce3"
      },
      "source": [
        "# function add()  # method\n",
        "\n",
        "class FourCal:\n",
        "    def setdata(self, first, second):\n",
        "        self.first = first\n",
        "        self.second = second\n",
        "\n",
        "    def add(self):\n",
        "        result = self.first + self.second\n",
        "        return result\n",
        "    \n",
        "\n",
        "a = FourCal()\n",
        "a.setdata(4, 2)\n",
        "a.add()"
      ],
      "execution_count": 23,
      "outputs": [
        {
          "output_type": "execute_result",
          "data": {
            "text/plain": [
              "6"
            ]
          },
          "metadata": {
            "tags": []
          },
          "execution_count": 23
        }
      ]
    },
    {
      "cell_type": "markdown",
      "metadata": {
        "id": "DTzEKgM6YLdz",
        "colab_type": "text"
      },
      "source": [
        "## 곱하기, 빼기, 나누기 기능 추가"
      ]
    },
    {
      "cell_type": "code",
      "metadata": {
        "id": "P2A2jlWuXnf-",
        "colab_type": "code",
        "colab": {
          "base_uri": "https://localhost:8080/",
          "height": 52
        },
        "outputId": "a5c62625-cb81-4897-9282-86af9f793749"
      },
      "source": [
        "# function sub(), mul(), div()\n",
        "\n",
        "class FourCal:\n",
        "    def setdata(self, first, second):\n",
        "        self.first = first\n",
        "        self.second = second\n",
        "        \n",
        "    def add(self):\n",
        "        result = self.first + self.second\n",
        "        return result\n",
        "\n",
        "    def sub(self):\n",
        "        result = self.first - self.second\n",
        "        return result\n",
        "\n",
        "    def mul(self):\n",
        "        result = self.first * self.second\n",
        "        return result\n",
        "\n",
        "    def div(self):\n",
        "        result = self.first / self.second\n",
        "        return result\n",
        "    \n",
        "\n",
        "  \n",
        "a = FourCal()\n",
        "b = FourCal()\n",
        "\n",
        "a.setdata(4, 2)\n",
        "b.setdata(3, 8)\n",
        "\n",
        "print(a.add(), a.sub(), a.mul(), a.div())\n",
        "print(b.add(), b.sub(), b.mul(), b.div())"
      ],
      "execution_count": 25,
      "outputs": [
        {
          "output_type": "stream",
          "text": [
            "6 2 8 2.0\n",
            "11 -5 24 0.375\n"
          ],
          "name": "stdout"
        }
      ]
    },
    {
      "cell_type": "markdown",
      "metadata": {
        "id": "zj_O0D6cYfVr",
        "colab_type": "text"
      },
      "source": [
        "## 생성자 (Constructor)\n",
        "\n",
        "### __init__()"
      ]
    },
    {
      "cell_type": "code",
      "metadata": {
        "id": "QPOF-MZDYHU8",
        "colab_type": "code",
        "colab": {}
      },
      "source": [
        "a = FourCal()\n",
        "a.add()   #  AttributeError"
      ],
      "execution_count": 0,
      "outputs": []
    },
    {
      "cell_type": "code",
      "metadata": {
        "id": "74F1utwHYyF9",
        "colab_type": "code",
        "colab": {}
      },
      "source": [
        "class FourCal:\n",
        "    def __init__(self, first, second):\n",
        "        self.first = first\n",
        "        self.second = second\n",
        "\n",
        "    def setdata(self, first, second):\n",
        "        self.first = first\n",
        "        self.second = second\n",
        "        \n",
        "    def add(self):\n",
        "        result = self.first + self.second\n",
        "        return result\n",
        "\n",
        "    def sub(self):\n",
        "        result = self.first - self.second\n",
        "        return result\n",
        "\n",
        "    def mul(self):\n",
        "        result = self.first * self.second\n",
        "        return result\n",
        "\n",
        "    def div(self):\n",
        "        result = self.first / self.second\n",
        "        return result"
      ],
      "execution_count": 0,
      "outputs": []
    },
    {
      "cell_type": "code",
      "metadata": {
        "id": "-Qn8dGLgY5Gb",
        "colab_type": "code",
        "colab": {}
      },
      "source": [
        "a = FourCal()   # TypeError:"
      ],
      "execution_count": 0,
      "outputs": []
    },
    {
      "cell_type": "code",
      "metadata": {
        "colab_type": "code",
        "id": "DU3gFvoQY_2o",
        "colab": {
          "base_uri": "https://localhost:8080/",
          "height": 34
        },
        "outputId": "e49b0de8-fcb0-4e89-cd03-e2f9473de2aa"
      },
      "source": [
        "a = FourCal(4, 2)\n",
        "a.first, a.second"
      ],
      "execution_count": 29,
      "outputs": [
        {
          "output_type": "execute_result",
          "data": {
            "text/plain": [
              "(4, 2)"
            ]
          },
          "metadata": {
            "tags": []
          },
          "execution_count": 29
        }
      ]
    },
    {
      "cell_type": "code",
      "metadata": {
        "id": "tFB3xOiYZLAy",
        "colab_type": "code",
        "colab": {
          "base_uri": "https://localhost:8080/",
          "height": 34
        },
        "outputId": "9b03f733-ea58-4b12-cd64-65e7afa8b18b"
      },
      "source": [
        "a.mul()"
      ],
      "execution_count": 30,
      "outputs": [
        {
          "output_type": "execute_result",
          "data": {
            "text/plain": [
              "8"
            ]
          },
          "metadata": {
            "tags": []
          },
          "execution_count": 30
        }
      ]
    },
    {
      "cell_type": "markdown",
      "metadata": {
        "id": "Y-teMQxRZOT0",
        "colab_type": "text"
      },
      "source": [
        "## 클래스의 상속"
      ]
    },
    {
      "cell_type": "code",
      "metadata": {
        "id": "FDK3SQ2wZAzI",
        "colab_type": "code",
        "colab": {
          "base_uri": "https://localhost:8080/",
          "height": 34
        },
        "outputId": "f9b9ef6e-75c9-414f-e591-6b861beae2eb"
      },
      "source": [
        "# 상속은 기존 클래스를 변경하지 않고 기능을 추가하거나 \n",
        "# 기존 기능을 변경하려고 할 때 사용\n",
        " \n",
        "# class 클래스 이름(상속할 클래스 이름)\n",
        "\n",
        "# 클래스 FourCal를 상속하는 \n",
        "# class MoreFourCal\n",
        "# FourCal 클래스에 a^b (a의 b제곱)을 구할 수 있는 기능을 추가\n",
        "\n",
        "class MoreFourCal(FourCal):  # 매개변수는 자신의 부모 클래스인 FoirCal을 사용한다.\n",
        "    pass\n",
        "\n",
        "\n",
        "a = MoreFourCal(4, 2)\n",
        "a.add(), a.mul()"
      ],
      "execution_count": 35,
      "outputs": [
        {
          "output_type": "execute_result",
          "data": {
            "text/plain": [
              "(6, 8)"
            ]
          },
          "metadata": {
            "tags": []
          },
          "execution_count": 35
        }
      ]
    },
    {
      "cell_type": "code",
      "metadata": {
        "id": "OIln53kWZWo2",
        "colab_type": "code",
        "colab": {
          "base_uri": "https://localhost:8080/",
          "height": 34
        },
        "outputId": "562e04e4-8fc4-432f-b79d-a3054b374c45"
      },
      "source": [
        "class MoreFourCal(FourCal):\n",
        "    def pow(self):\n",
        "        result = self.first ** self.second\n",
        "        return result\n",
        "    \n",
        "\n",
        "a = MoreFourCal(4, 2)\n",
        "a.add(), a.mul()"
      ],
      "execution_count": 39,
      "outputs": [
        {
          "output_type": "execute_result",
          "data": {
            "text/plain": [
              "(6, 8)"
            ]
          },
          "metadata": {
            "tags": []
          },
          "execution_count": 39
        }
      ]
    },
    {
      "cell_type": "code",
      "metadata": {
        "id": "ZF5RhcX-Zu9l",
        "colab_type": "code",
        "colab": {
          "base_uri": "https://localhost:8080/",
          "height": 34
        },
        "outputId": "65344296-8c76-4d1b-9c7c-c74a83aca9a4"
      },
      "source": [
        "a.pow()   # 4^2\n",
        "\n",
        "# 상속은 MoreFourCal 클래스처럼 기존 클래스(FourCal)는 \n",
        "# 그대로 놔둔 채 클래스의 기능을 확장시킬 때 주로 사용."
      ],
      "execution_count": 40,
      "outputs": [
        {
          "output_type": "execute_result",
          "data": {
            "text/plain": [
              "16"
            ]
          },
          "metadata": {
            "tags": []
          },
          "execution_count": 40
        }
      ]
    },
    {
      "cell_type": "markdown",
      "metadata": {
        "id": "x-wvtIrBajUd",
        "colab_type": "text"
      },
      "source": [
        "## 메서드 오버라이딩 : 재정의\n"
      ]
    },
    {
      "cell_type": "code",
      "metadata": {
        "id": "Gi_cxzPGZTKW",
        "colab_type": "code",
        "colab": {}
      },
      "source": [
        "# 기존의 함수(메소드)를 수정/보완하여 재정의\n",
        " \n",
        "a = FourCal(4, 0)\n",
        "a.div()  # ZeroDivisionError:"
      ],
      "execution_count": 0,
      "outputs": []
    },
    {
      "cell_type": "code",
      "metadata": {
        "id": "UbCW-7kDcc6q",
        "colab_type": "code",
        "colab": {
          "base_uri": "https://localhost:8080/",
          "height": 52
        },
        "outputId": "b0a6e464-0de8-4c86-a4ff-c6e601f7bdcb"
      },
      "source": [
        "# 메서드 오버라이딩 (Overriding)\n",
        "class SafeFourCal(FourCal):\n",
        "    def div(self):\n",
        "        if self.second == 0:  # 나누는 값이 0인 경우 0을 리턴하도록 수정\n",
        "            print(\"분모는 0을 사용할 수 없다.\")\n",
        "            return 0\n",
        "        else:\n",
        "            return self.first / self.second\n",
        "\n",
        "a = SafeFourCal(4, 0)\n",
        "a.div()  # 메서드 오버라이딩 사용"
      ],
      "execution_count": 41,
      "outputs": [
        {
          "output_type": "stream",
          "text": [
            "분모는 0을 사용할 수 없다.\n"
          ],
          "name": "stdout"
        },
        {
          "output_type": "execute_result",
          "data": {
            "text/plain": [
              "0"
            ]
          },
          "metadata": {
            "tags": []
          },
          "execution_count": 41
        }
      ]
    },
    {
      "cell_type": "markdown",
      "metadata": {
        "id": "7IBOTaKXeLTe",
        "colab_type": "text"
      },
      "source": [
        "## 클래스 변수"
      ]
    },
    {
      "cell_type": "code",
      "metadata": {
        "id": "ZfNxCMQYcmeg",
        "colab_type": "code",
        "colab": {}
      },
      "source": [
        "# 객체변수와 클래스변수의 차이?\n",
        "# 객체변수   :   객체.변수\n",
        "# 클래스변수 : 클래스.변수\n",
        "\n",
        "class Family:\n",
        "    lastname = \"김\"   # 클래스변수"
      ],
      "execution_count": 0,
      "outputs": []
    },
    {
      "cell_type": "markdown",
      "metadata": {
        "id": "5BFWy913ebF5",
        "colab_type": "text"
      },
      "source": [
        "## 클래스이름.클래스 변수로 사용"
      ]
    },
    {
      "cell_type": "code",
      "metadata": {
        "id": "OvFlQEzleOvk",
        "colab_type": "code",
        "colab": {
          "base_uri": "https://localhost:8080/",
          "height": 34
        },
        "outputId": "8c54c54e-c2ba-4135-d74a-834f0051d347"
      },
      "source": [
        "Family.lastname"
      ],
      "execution_count": 44,
      "outputs": [
        {
          "output_type": "execute_result",
          "data": {
            "text/plain": [
              "'김'"
            ]
          },
          "metadata": {
            "tags": []
          },
          "execution_count": 44
        }
      ]
    },
    {
      "cell_type": "markdown",
      "metadata": {
        "id": "LZ-XZB73ec0W",
        "colab_type": "text"
      },
      "source": [
        "## 객체변수로 접근"
      ]
    },
    {
      "cell_type": "code",
      "metadata": {
        "id": "wwzN42-QeQII",
        "colab_type": "code",
        "colab": {
          "base_uri": "https://localhost:8080/",
          "height": 70
        },
        "outputId": "98f19649-2658-4b89-dda6-37cefbd7746e"
      },
      "source": [
        "a = Family()\n",
        "b = Family()\n",
        "\n",
        "print(a.lastname)\n",
        "print(b.lastname)\n",
        "id(a.lastname), id(b.lastname)"
      ],
      "execution_count": 45,
      "outputs": [
        {
          "output_type": "stream",
          "text": [
            "김\n",
            "김\n"
          ],
          "name": "stdout"
        },
        {
          "output_type": "execute_result",
          "data": {
            "text/plain": [
              "(140679267932160, 140679267932160)"
            ]
          },
          "metadata": {
            "tags": []
          },
          "execution_count": 45
        }
      ]
    },
    {
      "cell_type": "markdown",
      "metadata": {
        "id": "WqANqZJgeem_",
        "colab_type": "text"
      },
      "source": [
        "## 클래스변수를 변경하면?"
      ]
    },
    {
      "cell_type": "code",
      "metadata": {
        "id": "I85mWdPEeRxg",
        "colab_type": "code",
        "colab": {}
      },
      "source": [
        "Family.lastname = \"박\""
      ],
      "execution_count": 0,
      "outputs": []
    },
    {
      "cell_type": "code",
      "metadata": {
        "id": "ssBYHnM-eS42",
        "colab_type": "code",
        "colab": {
          "base_uri": "https://localhost:8080/",
          "height": 70
        },
        "outputId": "39a2e744-b6ea-416b-e3cb-8de116edc6db"
      },
      "source": [
        "print(a.lastname)\n",
        "print(b.lastname)\n",
        "id(a.lastname), id(b.lastname), id(Family.lastname)\n",
        "# 클래스 변수가 공유됨을 확인."
      ],
      "execution_count": 47,
      "outputs": [
        {
          "output_type": "stream",
          "text": [
            "박\n",
            "박\n"
          ],
          "name": "stdout"
        },
        {
          "output_type": "execute_result",
          "data": {
            "text/plain": [
              "(140679267857552, 140679267857552, 140679267857552)"
            ]
          },
          "metadata": {
            "tags": []
          },
          "execution_count": 47
        }
      ]
    },
    {
      "cell_type": "markdown",
      "metadata": {
        "id": "KK70HSr5egXY",
        "colab_type": "text"
      },
      "source": [
        "## 객체변수를 변경하면?"
      ]
    },
    {
      "cell_type": "code",
      "metadata": {
        "id": "k63n0xD8eUI2",
        "colab_type": "code",
        "colab": {
          "base_uri": "https://localhost:8080/",
          "height": 34
        },
        "outputId": "8b5bf3e0-dffa-43fc-dd8b-f9ed5b0896d1"
      },
      "source": [
        "a.lastname = \"이\"\n",
        "a.lastname, b.lastname, Family.lastname\n",
        "id(a.lastname), id(b.lastname), id(Family.lastname)\n",
        "\n",
        "# 실무 프로그래밍에는 클래스 변수보다는 객체변수를 많이 사용."
      ],
      "execution_count": 48,
      "outputs": [
        {
          "output_type": "execute_result",
          "data": {
            "text/plain": [
              "(140679267896736, 140679267857552, 140679267857552)"
            ]
          },
          "metadata": {
            "tags": []
          },
          "execution_count": 48
        }
      ]
    }
  ]
}