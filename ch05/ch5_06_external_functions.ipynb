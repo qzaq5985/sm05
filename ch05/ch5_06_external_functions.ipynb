{
  "nbformat": 4,
  "nbformat_minor": 0,
  "metadata": {
    "colab": {
      "name": "ch5_06_external_functions.ipynb",
      "provenance": [],
      "collapsed_sections": [],
      "include_colab_link": true
    },
    "kernelspec": {
      "name": "python3",
      "display_name": "Python 3"
    }
  },
  "cells": [
    {
      "cell_type": "markdown",
      "metadata": {
        "id": "view-in-github",
        "colab_type": "text"
      },
      "source": [
        "<a href=\"https://colab.research.google.com/github/qzaq5985/sm05/blob/master/ch05/ch5_06_external_functions.ipynb\" target=\"_parent\"><img src=\"https://colab.research.google.com/assets/colab-badge.svg\" alt=\"Open In Colab\"/></a>"
      ]
    },
    {
      "cell_type": "markdown",
      "metadata": {
        "id": "DbiZ6p64vchU",
        "colab_type": "text"
      },
      "source": [
        "## Run *.py in colab"
      ]
    },
    {
      "cell_type": "code",
      "metadata": {
        "id": "YUZIRXBdvbqH",
        "colab_type": "code",
        "colab": {
          "base_uri": "https://localhost:8080/",
          "height": 35
        },
        "outputId": "f0d7719f-9dff-4722-eda8-0077c5387c2e"
      },
      "source": [
        "run argv_test.py comsi iju"
      ],
      "execution_count": 12,
      "outputs": [
        {
          "output_type": "stream",
          "text": [
            "['argv_test.py', 'comsi', 'iju']\n"
          ],
          "name": "stdout"
        }
      ]
    },
    {
      "cell_type": "code",
      "metadata": {
        "id": "2ngKBOY5wfQS",
        "colab_type": "code",
        "colab": {
          "base_uri": "https://localhost:8080/",
          "height": 35
        },
        "outputId": "881c8fbe-d543-4aab-b385-d5c66fda14ea"
      },
      "source": [
        "!python argv_test.py comsi kkk"
      ],
      "execution_count": 13,
      "outputs": [
        {
          "output_type": "stream",
          "text": [
            "['argv_test.py', 'comsi', 'kkk']\n"
          ],
          "name": "stdout"
        }
      ]
    },
    {
      "cell_type": "markdown",
      "metadata": {
        "id": "FjJeQFArrePM",
        "colab_type": "text"
      },
      "source": [
        "# 외장 함수"
      ]
    },
    {
      "cell_type": "code",
      "metadata": {
        "id": "MFog4NNbouqQ",
        "colab_type": "code",
        "colab": {}
      },
      "source": [
        "# 파이썬 사용자들이 만든 유용한 프로그램을 모아 놓은 것이\n",
        "# 바로 파이썬 라이브러리\n",
        "# 외장 모듈은 'import module_name' 형식으로 불러와서 사용"
      ],
      "execution_count": 0,
      "outputs": []
    },
    {
      "cell_type": "markdown",
      "metadata": {
        "id": "Jj6wfBT0riOn",
        "colab_type": "text"
      },
      "source": [
        "## os\n",
        "## ***"
      ]
    },
    {
      "cell_type": "code",
      "metadata": {
        "id": "K7BiHpNdrgwN",
        "colab_type": "code",
        "colab": {}
      },
      "source": [
        "# OS 모듈은 환경 변수나 디렉터리, 파일 등의 OS 자원을\n",
        "# 제어할 수 있게 해주는 모듈\n",
        "# 내 시스템의 환경 변수값을 알고 싶을 때 - os.environ"
      ],
      "execution_count": 0,
      "outputs": []
    },
    {
      "cell_type": "code",
      "metadata": {
        "id": "wqNet4K2rlPF",
        "colab_type": "code",
        "colab": {
          "base_uri": "https://localhost:8080/",
          "height": 55
        },
        "outputId": "f01da208-08c2-4829-a09a-c816c6399d43"
      },
      "source": [
        "import os\n",
        "\n",
        "os.environ"
      ],
      "execution_count": 16,
      "outputs": [
        {
          "output_type": "execute_result",
          "data": {
            "text/plain": [
              "environ({'ENV': '/root/.bashrc', 'GCS_READ_CACHE_BLOCK_SIZE_MB': '16', 'CLOUDSDK_CONFIG': '/content/.config', 'CUDA_VERSION': '10.0.130', 'PATH': '/usr/local/nvidia/bin:/usr/local/cuda/bin:/usr/local/sbin:/usr/local/bin:/usr/sbin:/usr/bin:/sbin:/bin:/tools/node/bin:/tools/google-cloud-sdk/bin:/opt/bin', 'HOME': '/root', 'LD_LIBRARY_PATH': '/usr/local/nvidia/lib:/usr/local/nvidia/lib64', 'LANG': 'en_US.UTF-8', 'SHELL': '/bin/bash', 'LIBRARY_PATH': '/usr/local/cuda/lib64/stubs', 'CUDA_PKG_VERSION': '10-0=10.0.130-1', 'SHLVL': '1', 'NCCL_VERSION': '2.4.8', 'NVIDIA_VISIBLE_DEVICES': 'all', 'TF_FORCE_GPU_ALLOW_GROWTH': 'true', 'DEBIAN_FRONTEND': 'noninteractive', 'CUDNN_VERSION': '7.6.3.30', 'LAST_FORCED_REBUILD': '20191018', 'JPY_PARENT_PID': '23', 'PYTHONPATH': '/env/python', 'DATALAB_SETTINGS_OVERRIDES': '{\"kernelManagerProxyPort\":6000,\"kernelManagerProxyHost\":\"172.28.0.3\",\"jupyterArgs\":[\"--ip=\\\\\"172.28.0.2\\\\\"\"]}', 'NO_GCE_CHECK': 'True', 'GLIBCXX_FORCE_NEW': '1', 'NVIDIA_DRIVER_CAPABILITIES': 'compute,utility', '_': '/tools/node/bin/node', 'LD_PRELOAD': '/usr/lib/x86_64-linux-gnu/libtcmalloc.so.4', 'NVIDIA_REQUIRE_CUDA': 'cuda>=10.0 brand=tesla,driver>=384,driver<385 brand=tesla,driver>=410,driver<411', 'OLDPWD': '/', 'HOSTNAME': '540c6396a2f3', 'COLAB_GPU': '0', 'PWD': '/', 'GLIBCPP_FORCE_NEW': '1', 'PYTHONWARNINGS': 'ignore:::pip._internal.cli.base_command', 'TBE_CREDS_ADDR': '172.28.0.1:8008', 'TERM': 'xterm-color', 'CLICOLOR': '1', 'PAGER': 'cat', 'GIT_PAGER': 'cat', 'MPLBACKEND': 'module://ipykernel.pylab.backend_inline'})"
            ]
          },
          "metadata": {
            "tags": []
          },
          "execution_count": 16
        }
      ]
    },
    {
      "cell_type": "markdown",
      "metadata": {
        "id": "sieJTjNTrojE",
        "colab_type": "text"
      },
      "source": [
        "## 시스템의 PATH 환경 변수 내용"
      ]
    },
    {
      "cell_type": "code",
      "metadata": {
        "id": "GNmfXkKIrmPQ",
        "colab_type": "code",
        "colab": {
          "base_uri": "https://localhost:8080/",
          "height": 55
        },
        "outputId": "fea137a1-a8ad-44b0-94a6-9f68ef32b567"
      },
      "source": [
        "os.environ[\"PATH\"]"
      ],
      "execution_count": 17,
      "outputs": [
        {
          "output_type": "execute_result",
          "data": {
            "text/plain": [
              "'/usr/local/nvidia/bin:/usr/local/cuda/bin:/usr/local/sbin:/usr/local/bin:/usr/sbin:/usr/bin:/sbin:/bin:/tools/node/bin:/tools/google-cloud-sdk/bin:/opt/bin'"
            ]
          },
          "metadata": {
            "tags": []
          },
          "execution_count": 17
        }
      ]
    },
    {
      "cell_type": "markdown",
      "metadata": {
        "id": "8x3MWN9Mrrgk",
        "colab_type": "text"
      },
      "source": [
        "## 현재 디렉터리 위치 확인 - os.getcwd()"
      ]
    },
    {
      "cell_type": "code",
      "metadata": {
        "id": "ckzlquwFrqO_",
        "colab_type": "code",
        "colab": {
          "base_uri": "https://localhost:8080/",
          "height": 35
        },
        "outputId": "1b79f9a1-3803-4836-dcc8-afe35c695b68"
      },
      "source": [
        "os.getcwd()"
      ],
      "execution_count": 18,
      "outputs": [
        {
          "output_type": "execute_result",
          "data": {
            "text/plain": [
              "'/content'"
            ]
          },
          "metadata": {
            "tags": []
          },
          "execution_count": 18
        }
      ]
    },
    {
      "cell_type": "markdown",
      "metadata": {
        "id": "GuCISWrrrte9",
        "colab_type": "text"
      },
      "source": [
        "## 시스템 명령어 호출하기 - os.system"
      ]
    },
    {
      "cell_type": "code",
      "metadata": {
        "id": "gxIKTepFrsxM",
        "colab_type": "code",
        "colab": {
          "base_uri": "https://localhost:8080/",
          "height": 35
        },
        "outputId": "4c74bc16-1e14-4607-ba0b-ee1b1cbde384"
      },
      "source": [
        "os.system(\"dir\")"
      ],
      "execution_count": 19,
      "outputs": [
        {
          "output_type": "execute_result",
          "data": {
            "text/plain": [
              "0"
            ]
          },
          "metadata": {
            "tags": []
          },
          "execution_count": 19
        }
      ]
    },
    {
      "cell_type": "markdown",
      "metadata": {
        "id": "nMvaC15Arv6m",
        "colab_type": "text"
      },
      "source": [
        "## 디렉터리 위치 변경하기 - os.chdir('directory')"
      ]
    },
    {
      "cell_type": "code",
      "metadata": {
        "id": "QwdIW1vZrum_",
        "colab_type": "code",
        "colab": {}
      },
      "source": [
        "os.chdir(\"ch05\")"
      ],
      "execution_count": 0,
      "outputs": []
    },
    {
      "cell_type": "code",
      "metadata": {
        "id": "12eXfhtIrxoa",
        "colab_type": "code",
        "colab": {}
      },
      "source": [
        "# 기타 유용한 os 관련 함수\n",
        "# os.mkdir(디렉터리)\n",
        "# os.rmdir(디렉터리)\n",
        "# os.rename(src, dst)"
      ],
      "execution_count": 0,
      "outputs": []
    },
    {
      "cell_type": "markdown",
      "metadata": {
        "id": "hGlevNQTrz3O",
        "colab_type": "text"
      },
      "source": [
        "## sys\n",
        "## ***"
      ]
    },
    {
      "cell_type": "code",
      "metadata": {
        "id": "r4SfdlaUryoK",
        "colab_type": "code",
        "colab": {}
      },
      "source": [
        "# sys 모듈은 파이썬 인터프리터가 제공하는 변수와 함수를\n",
        "# 직접 제어할 수 있게 해주는 모듈"
      ],
      "execution_count": 0,
      "outputs": []
    },
    {
      "cell_type": "code",
      "metadata": {
        "id": "kTLxWjrFr3Bb",
        "colab_type": "code",
        "colab": {
          "base_uri": "https://localhost:8080/",
          "height": 55
        },
        "outputId": "a1695853-21b0-4421-dc4c-0aad2517555d"
      },
      "source": [
        "# argv_test.py\n",
        "import sys\n",
        "\n",
        "print(sys.argv)"
      ],
      "execution_count": 23,
      "outputs": [
        {
          "output_type": "stream",
          "text": [
            "['/usr/local/lib/python3.6/dist-packages/ipykernel_launcher.py', '-f', '/root/.local/share/jupyter/runtime/kernel-2bcee90d-ed60-4ba3-969d-ebce77aaa2bb.json']\n"
          ],
          "name": "stdout"
        }
      ]
    },
    {
      "cell_type": "markdown",
      "metadata": {
        "id": "qyZPcX12r5Cc",
        "colab_type": "text"
      },
      "source": [
        "## 강제로 스크립트 종료하기 - sys.exit"
      ]
    },
    {
      "cell_type": "code",
      "metadata": {
        "id": "4UeFdJHvr4JI",
        "colab_type": "code",
        "colab": {}
      },
      "source": [
        "import sys\n",
        "\n",
        "sys.exit()  # ^Z"
      ],
      "execution_count": 0,
      "outputs": []
    },
    {
      "cell_type": "code",
      "metadata": {
        "id": "dcwkjFYTr6F0",
        "colab_type": "code",
        "colab": {
          "base_uri": "https://localhost:8080/",
          "height": 179
        },
        "outputId": "bf436fb6-7ba2-4b66-a7e6-8d8571fb7500"
      },
      "source": [
        "import sys\n",
        "\n",
        "sys.path"
      ],
      "execution_count": 25,
      "outputs": [
        {
          "output_type": "execute_result",
          "data": {
            "text/plain": [
              "['',\n",
              " '/env/python',\n",
              " '/usr/lib/python36.zip',\n",
              " '/usr/lib/python3.6',\n",
              " '/usr/lib/python3.6/lib-dynload',\n",
              " '/usr/local/lib/python3.6/dist-packages',\n",
              " '/usr/lib/python3/dist-packages',\n",
              " '/usr/local/lib/python3.6/dist-packages/IPython/extensions',\n",
              " '/root/.ipython']"
            ]
          },
          "metadata": {
            "tags": []
          },
          "execution_count": 25
        }
      ]
    },
    {
      "cell_type": "code",
      "metadata": {
        "id": "giVwUpCHr7XC",
        "colab_type": "code",
        "colab": {
          "base_uri": "https://localhost:8080/",
          "height": 35
        },
        "outputId": "bb427783-1b06-4851-f597-d6bea06938de"
      },
      "source": [
        "import os\n",
        "\n",
        "os.getcwd()"
      ],
      "execution_count": 76,
      "outputs": [
        {
          "output_type": "execute_result",
          "data": {
            "text/plain": [
              "'/content'"
            ]
          },
          "metadata": {
            "tags": []
          },
          "execution_count": 76
        }
      ]
    },
    {
      "cell_type": "code",
      "metadata": {
        "id": "AMADTs8tr8PU",
        "colab_type": "code",
        "colab": {}
      },
      "source": [
        "import sys\n",
        "\n",
        "sys.path.append(\"C:/doit/mymod\")\n",
        "# C:/doit/Mymod 디렉터리에 있는 파이썬 모듈을 불러와서 사용."
      ],
      "execution_count": 0,
      "outputs": []
    },
    {
      "cell_type": "markdown",
      "metadata": {
        "id": "8LfSGqD2r-eS",
        "colab_type": "text"
      },
      "source": [
        "## pickle"
      ]
    },
    {
      "cell_type": "code",
      "metadata": {
        "id": "_wAZ1TUKr9Yi",
        "colab_type": "code",
        "colab": {}
      },
      "source": [
        "# pickle은 객체의 형태를 그대로 유지하면서 파일에 저장하고\n",
        "# 불러올 수 있게 하는 모듈"
      ],
      "execution_count": 0,
      "outputs": []
    },
    {
      "cell_type": "code",
      "metadata": {
        "id": "b-68f4fUsAIY",
        "colab_type": "code",
        "colab": {}
      },
      "source": [
        "import pickle"
      ],
      "execution_count": 0,
      "outputs": []
    },
    {
      "cell_type": "markdown",
      "metadata": {
        "id": "2k0K7kmHsB7i",
        "colab_type": "text"
      },
      "source": [
        "## 객체 그대로 유지하면서 파일에 저장"
      ]
    },
    {
      "cell_type": "code",
      "metadata": {
        "id": "CJKCLOFssBAf",
        "colab_type": "code",
        "colab": {}
      },
      "source": [
        "f = open(\"test.txt\", \"wb\")\n",
        "data = {1: \"python\", 2: \"you need\"}\n",
        "pickle.dump(data, f)\n",
        "f.close()"
      ],
      "execution_count": 0,
      "outputs": []
    },
    {
      "cell_type": "markdown",
      "metadata": {
        "id": "Tph7WLRysERS",
        "colab_type": "text"
      },
      "source": [
        "## pickle.load를 사용해서 원래 있던 딕셔너리 객체(data) 상태 그대로 불러오기\n",
        "## pickle 모듈로 어떤 자료형이든 저장하고 불러올 수 있다."
      ]
    },
    {
      "cell_type": "code",
      "metadata": {
        "id": "AFng8Z_FsDBt",
        "colab_type": "code",
        "colab": {
          "base_uri": "https://localhost:8080/",
          "height": 35
        },
        "outputId": "9260138e-9e9c-49fe-cfa0-d9b12662d1b6"
      },
      "source": [
        "f = open(\"test.txt\", \"rb\")\n",
        "data = pickle.load(f)\n",
        "f.close()\n",
        "\n",
        "print(data)"
      ],
      "execution_count": 83,
      "outputs": [
        {
          "output_type": "stream",
          "text": [
            "{1: 'python', 2: 'you need'}\n"
          ],
          "name": "stdout"
        }
      ]
    },
    {
      "cell_type": "markdown",
      "metadata": {
        "id": "IcQMEZbysLNL",
        "colab_type": "text"
      },
      "source": [
        "## shutil"
      ]
    },
    {
      "cell_type": "code",
      "metadata": {
        "id": "VVXe8gEvsGTd",
        "colab_type": "code",
        "colab": {}
      },
      "source": [
        "# shutil은 파일을 복사해 주는 파이썬 모듈"
      ],
      "execution_count": 0,
      "outputs": []
    },
    {
      "cell_type": "code",
      "metadata": {
        "id": "5W91jDRVsM2C",
        "colab_type": "code",
        "colab": {
          "base_uri": "https://localhost:8080/",
          "height": 35
        },
        "outputId": "80d1c356-582b-495e-ce1e-ed38e7e01030"
      },
      "source": [
        "import shutil\n",
        "\n",
        "os.system(\"dir\")"
      ],
      "execution_count": 91,
      "outputs": [
        {
          "output_type": "execute_result",
          "data": {
            "text/plain": [
              "0"
            ]
          },
          "metadata": {
            "tags": []
          },
          "execution_count": 91
        }
      ]
    },
    {
      "cell_type": "code",
      "metadata": {
        "id": "MoLnqKz3y0gh",
        "colab_type": "code",
        "colab": {
          "base_uri": "https://localhost:8080/",
          "height": 35
        },
        "outputId": "09f3100b-d127-456d-c590-0575bda7fffd"
      },
      "source": [
        "shutil.copy(\"test.txt\", \"zest.txt\")"
      ],
      "execution_count": 93,
      "outputs": [
        {
          "output_type": "execute_result",
          "data": {
            "text/plain": [
              "'zest.txt'"
            ]
          },
          "metadata": {
            "tags": []
          },
          "execution_count": 93
        }
      ]
    },
    {
      "cell_type": "code",
      "metadata": {
        "id": "dB23NDPqy0-Y",
        "colab_type": "code",
        "colab": {
          "base_uri": "https://localhost:8080/",
          "height": 35
        },
        "outputId": "437db253-e19d-4ffa-a78b-b6bf755b3d2d"
      },
      "source": [
        "os.system(\"dir\")  # 확인"
      ],
      "execution_count": 94,
      "outputs": [
        {
          "output_type": "execute_result",
          "data": {
            "text/plain": [
              "0"
            ]
          },
          "metadata": {
            "tags": []
          },
          "execution_count": 94
        }
      ]
    },
    {
      "cell_type": "markdown",
      "metadata": {
        "id": "VdD4XwBRyxGD",
        "colab_type": "text"
      },
      "source": [
        "## glob"
      ]
    },
    {
      "cell_type": "code",
      "metadata": {
        "id": "kstWtXhPsOVf",
        "colab_type": "code",
        "colab": {}
      },
      "source": [
        "# 특정 디렉터리에 있는 파일 이름 모두 확인하는 파이썬 모듈\n",
        "# 디렉터리에 있는 파일들을 리스트로 만들기 - glob(pathname)"
      ],
      "execution_count": 0,
      "outputs": []
    },
    {
      "cell_type": "code",
      "metadata": {
        "id": "zhoGCGlxsQWP",
        "colab_type": "code",
        "colab": {
          "base_uri": "https://localhost:8080/",
          "height": 35
        },
        "outputId": "a6a906f2-df38-4ce1-a883-0dee54c2467c"
      },
      "source": [
        "import glob\n",
        "\n",
        "glob.glob(\"*.txt\")  # txt 파일 목록 확인\n",
        "# ['test.txt', 'zest.txt']\n",
        "\n",
        "print(\"tempfile\")"
      ],
      "execution_count": 35,
      "outputs": [
        {
          "output_type": "stream",
          "text": [
            "tempfile\n"
          ],
          "name": "stdout"
        }
      ]
    },
    {
      "cell_type": "code",
      "metadata": {
        "id": "FpEvSortsREw",
        "colab_type": "code",
        "colab": {}
      },
      "source": [
        "# 파일을 임시로 만들어서 사용할 때 유용한 모듈"
      ],
      "execution_count": 0,
      "outputs": []
    },
    {
      "cell_type": "code",
      "metadata": {
        "id": "lOHDK5e0sTHH",
        "colab_type": "code",
        "colab": {
          "base_uri": "https://localhost:8080/",
          "height": 35
        },
        "outputId": "1b0997f0-99e9-4a35-ff45-be17697cf9db"
      },
      "source": [
        "import tempfile\n",
        "\n",
        "filename = tempfile.mktemp()\n",
        "\n",
        "filename"
      ],
      "execution_count": 86,
      "outputs": [
        {
          "output_type": "execute_result",
          "data": {
            "text/plain": [
              "'/tmp/tmpjqdii7ho'"
            ]
          },
          "metadata": {
            "tags": []
          },
          "execution_count": 86
        }
      ]
    },
    {
      "cell_type": "code",
      "metadata": {
        "id": "zw0m2BjXsUDT",
        "colab_type": "code",
        "colab": {}
      },
      "source": [
        "# tempfile.TemporaryFile()은 임시 저장 공간으로 사용할 파일 객체를 돌려준다.\n",
        "# 이 파일은 기본적으로 바이너리 쓰기 모드(wb)를 갖는다.\n",
        "# f.close()가 호출되면 이 파일 객체는 자동으로 사라진다."
      ],
      "execution_count": 0,
      "outputs": []
    },
    {
      "cell_type": "code",
      "metadata": {
        "id": "y9UV4wbPsVyr",
        "colab_type": "code",
        "colab": {}
      },
      "source": [
        "import tempfile\n",
        "\n",
        "f = tempfile.TemporaryFile()\n",
        "f.close()"
      ],
      "execution_count": 0,
      "outputs": []
    },
    {
      "cell_type": "markdown",
      "metadata": {
        "id": "QFBKWjrXsYIF",
        "colab_type": "text"
      },
      "source": [
        "## time\n",
        "## ***"
      ]
    },
    {
      "cell_type": "code",
      "metadata": {
        "id": "Nrii_jF4sW9m",
        "colab_type": "code",
        "colab": {}
      },
      "source": [
        "# 시간과 관련된 time 모듈"
      ],
      "execution_count": 0,
      "outputs": []
    },
    {
      "cell_type": "code",
      "metadata": {
        "id": "SLYg8REBsbJM",
        "colab_type": "code",
        "colab": {}
      },
      "source": [
        "# time.time()\n",
        "\n",
        "# time.time()은 UTC(Universal Time Coordinated 협정 세계 표준시)를\n",
        "# 사용하여 현재 시간을 실수 형태로 돌려주는 함수이다.\n",
        "# 1970년 1월 1일 0시 0분 0초를 기준으로 지난 시간을 초 단위로 돌려준다."
      ],
      "execution_count": 0,
      "outputs": []
    },
    {
      "cell_type": "code",
      "metadata": {
        "id": "5ImxdW9Wscrx",
        "colab_type": "code",
        "colab": {
          "base_uri": "https://localhost:8080/",
          "height": 35
        },
        "outputId": "094b486c-5fb6-4290-e85c-f60657a87fd4"
      },
      "source": [
        "import time\n",
        "\n",
        "time.time()"
      ],
      "execution_count": 42,
      "outputs": [
        {
          "output_type": "execute_result",
          "data": {
            "text/plain": [
              "1572574993.0925293"
            ]
          },
          "metadata": {
            "tags": []
          },
          "execution_count": 42
        }
      ]
    },
    {
      "cell_type": "code",
      "metadata": {
        "id": "e_jPP8g3sePg",
        "colab_type": "code",
        "colab": {}
      },
      "source": [
        "# time.localtime()\n",
        "# time.localtime은 time.time()이 돌려준 실수 값을 사용해서\n",
        "# 연도, 월, 일, 시, 분, 초, ... 의 형태로 바꾸어 주는 함수"
      ],
      "execution_count": 0,
      "outputs": []
    },
    {
      "cell_type": "code",
      "metadata": {
        "id": "AbvtqzNksfOY",
        "colab_type": "code",
        "colab": {
          "base_uri": "https://localhost:8080/",
          "height": 55
        },
        "outputId": "e6ffde6a-d6a1-4577-aeef-12f546990865"
      },
      "source": [
        "time.localtime(time.time())"
      ],
      "execution_count": 44,
      "outputs": [
        {
          "output_type": "execute_result",
          "data": {
            "text/plain": [
              "time.struct_time(tm_year=2019, tm_mon=11, tm_mday=1, tm_hour=2, tm_min=23, tm_sec=13, tm_wday=4, tm_yday=305, tm_isdst=0)"
            ]
          },
          "metadata": {
            "tags": []
          },
          "execution_count": 44
        }
      ]
    },
    {
      "cell_type": "code",
      "metadata": {
        "id": "L1hmpcursgL3",
        "colab_type": "code",
        "colab": {}
      },
      "source": [
        "# time.struct_time(tm_year=2019, tm_mon=10, tm_mday=30,\n",
        "# tm_hour=21, tm_min=18, tm_sec=15, tm_wday=2, tm_yday=303, tm_isdst=0)"
      ],
      "execution_count": 0,
      "outputs": []
    },
    {
      "cell_type": "markdown",
      "metadata": {
        "id": "ItggNX-hslVK",
        "colab_type": "text"
      },
      "source": [
        "## time.asctime"
      ]
    },
    {
      "cell_type": "code",
      "metadata": {
        "id": "DktiQ2Fuska6",
        "colab_type": "code",
        "colab": {}
      },
      "source": [
        "# 위 time.localtime에 의해서 반환된 튜플 형태의 값을 인수로 받아서\n",
        "# 날짜와 시간을 알아보기 쉬운 형태로 돌려주는 함수"
      ],
      "execution_count": 0,
      "outputs": []
    },
    {
      "cell_type": "code",
      "metadata": {
        "id": "-7OkVj0wsmfb",
        "colab_type": "code",
        "colab": {
          "base_uri": "https://localhost:8080/",
          "height": 35
        },
        "outputId": "127c205d-8960-4da2-9e33-f81591097516"
      },
      "source": [
        "time.asctime(time.localtime(time.time()))"
      ],
      "execution_count": 47,
      "outputs": [
        {
          "output_type": "execute_result",
          "data": {
            "text/plain": [
              "'Fri Nov  1 02:23:13 2019'"
            ]
          },
          "metadata": {
            "tags": []
          },
          "execution_count": 47
        }
      ]
    },
    {
      "cell_type": "code",
      "metadata": {
        "id": "K6cv79Tosm49",
        "colab_type": "code",
        "colab": {}
      },
      "source": [
        "# 'Wed Oct 30 21:19:52 2019'"
      ],
      "execution_count": 0,
      "outputs": []
    },
    {
      "cell_type": "markdown",
      "metadata": {
        "id": "B3Pr70rBso8x",
        "colab_type": "text"
      },
      "source": [
        "## time.ctime"
      ]
    },
    {
      "cell_type": "code",
      "metadata": {
        "id": "nm8D0gVRsokG",
        "colab_type": "code",
        "colab": {
          "base_uri": "https://localhost:8080/",
          "height": 35
        },
        "outputId": "0e908370-dda3-4d1d-f84f-a528a3210ecc"
      },
      "source": [
        "# time.asctime(time.localtime(time.time()))은 time.ctime()과 같다.\n",
        "time.ctime()"
      ],
      "execution_count": 49,
      "outputs": [
        {
          "output_type": "execute_result",
          "data": {
            "text/plain": [
              "'Fri Nov  1 02:23:13 2019'"
            ]
          },
          "metadata": {
            "tags": []
          },
          "execution_count": 49
        }
      ]
    },
    {
      "cell_type": "markdown",
      "metadata": {
        "id": "YeItVXZessVI",
        "colab_type": "text"
      },
      "source": [
        "## time.strftime"
      ]
    },
    {
      "cell_type": "code",
      "metadata": {
        "id": "TLBNpTZBsrZb",
        "colab_type": "code",
        "colab": {}
      },
      "source": [
        "# time.strftime('출력할 형식 포맷 코드', time.localtime(time.time()))\n",
        "# strftime 함수는 여러 가지 포맷 코드로 시간에 관계된 것을 세밀하게 표현"
      ],
      "execution_count": 0,
      "outputs": []
    },
    {
      "cell_type": "code",
      "metadata": {
        "id": "diuk4kLIshvd",
        "colab_type": "code",
        "colab": {}
      },
      "source": [
        "# 시간에 관계된 것을 표현하는 포맷 코드\n",
        "##############################################################\n",
        "# 포맷코드\t설명\t예\n",
        "# %a\t요일 줄임말\tMon\n",
        "# %A\t요일\tMonday\n",
        "# %b\t달 줄임말\tJan\n",
        "# %B\t달\tJanuary\n",
        "# %c\t날짜와 시간을 출력함\t06/01/01 17:22:21\n",
        "# %d\t날(day)\t[01,31]\n",
        "# %H\t시간(hour)-24시간 출력 형태\t[00,23]\n",
        "# %I\t시간(hour)-12시간 출력 형태\t[01,12]\n",
        "# %j\t1년 중 누적 날짜\t[001,366]\n",
        "# %m\t달\t[01,12]\n",
        "# %M\t분\t[01,59]\n",
        "# %p\tAM or PM\tAM\n",
        "# %S\t초\t[00,59]\n",
        "# %U\t1년 중 누적 주-일요일을 시작으로\t[00,53]\n",
        "# %w\t숫자로 된 요일\t[0(일요일),6]\n",
        "# %W\t1년 중 누적 주-월요일을 시작으로\t[00,53]\n",
        "# %x\t현재 설정된 로케일에 기반한 날짜 출력\t06/01/01\n",
        "# %X\t현재 설정된 로케일에 기반한 시간 출력\t17:22:21\n",
        "# %Y\t년도 출력\t2001\n",
        "# %z\t시간대 출력\t대한민국 표준시\n",
        "# %y\t세기부분을 제외한 년도 출력\t01\n",
        "##############################################################"
      ],
      "execution_count": 0,
      "outputs": []
    },
    {
      "cell_type": "code",
      "metadata": {
        "id": "UGum6keZsilf",
        "colab_type": "code",
        "colab": {
          "base_uri": "https://localhost:8080/",
          "height": 35
        },
        "outputId": "12bd5a78-b48f-4dd3-9349-9646342eadfd"
      },
      "source": [
        "import time\n",
        "\n",
        "time.strftime(\"%x\", time.localtime(time.time()))\n",
        "# 년도를 맨 뒤에 붙힘"
      ],
      "execution_count": 98,
      "outputs": [
        {
          "output_type": "execute_result",
          "data": {
            "text/plain": [
              "'11/01/19'"
            ]
          },
          "metadata": {
            "tags": []
          },
          "execution_count": 98
        }
      ]
    },
    {
      "cell_type": "code",
      "metadata": {
        "id": "p4Tr4KRDz5bN",
        "colab_type": "code",
        "colab": {
          "base_uri": "https://localhost:8080/",
          "height": 35
        },
        "outputId": "ca8416a2-c8de-491b-d5b8-25f5de661400"
      },
      "source": [
        "time.strftime(\"%c\", time.localtime(time.time()))"
      ],
      "execution_count": 96,
      "outputs": [
        {
          "output_type": "execute_result",
          "data": {
            "text/plain": [
              "'Fri Nov  1 02:33:45 2019'"
            ]
          },
          "metadata": {
            "tags": []
          },
          "execution_count": 96
        }
      ]
    },
    {
      "cell_type": "code",
      "metadata": {
        "id": "KWeWO1Nzz7Tf",
        "colab_type": "code",
        "colab": {
          "base_uri": "https://localhost:8080/",
          "height": 35
        },
        "outputId": "2f7f0fe9-0df9-48a6-97d8-44e2ac88bac8"
      },
      "source": [
        "time.strftime(\"%z\", time.localtime(time.time()))"
      ],
      "execution_count": 97,
      "outputs": [
        {
          "output_type": "execute_result",
          "data": {
            "text/plain": [
              "'+0000'"
            ]
          },
          "metadata": {
            "tags": []
          },
          "execution_count": 97
        }
      ]
    },
    {
      "cell_type": "markdown",
      "metadata": {
        "id": "KRY0Lj0Ku-1q",
        "colab_type": "text"
      },
      "source": [
        "## time.sleep"
      ]
    },
    {
      "cell_type": "code",
      "metadata": {
        "id": "iGu91l1Uu9b_",
        "colab_type": "code",
        "colab": {}
      },
      "source": [
        "# time.sleep 함수는 주로 루프 안에서 많이 사용한다.\n",
        "# 이 함수를 사용하면 일정한 시간 간격을 두고 루프를 실행"
      ],
      "execution_count": 0,
      "outputs": []
    },
    {
      "cell_type": "code",
      "metadata": {
        "id": "lJxqulJJvCOV",
        "colab_type": "code",
        "colab": {
          "base_uri": "https://localhost:8080/",
          "height": 197
        },
        "outputId": "74ce5b32-9081-46ab-9733-174b833d2442"
      },
      "source": [
        "# sleep1.py\n",
        "import time\n",
        "\n",
        "for i in range(10):\n",
        "    print(i)\n",
        "    time.sleep(1)  # delay = 1 s"
      ],
      "execution_count": 99,
      "outputs": [
        {
          "output_type": "stream",
          "text": [
            "0\n",
            "1\n",
            "2\n",
            "3\n",
            "4\n",
            "5\n",
            "6\n",
            "7\n",
            "8\n",
            "9\n"
          ],
          "name": "stdout"
        }
      ]
    },
    {
      "cell_type": "markdown",
      "metadata": {
        "id": "CMfbvU-fvH0D",
        "colab_type": "text"
      },
      "source": [
        "## calendar\n",
        "\n",
        "## 파이썬에서 달력을 볼 수 있게 해주는 모듈"
      ]
    },
    {
      "cell_type": "code",
      "metadata": {
        "id": "eU9yVxPxvGo3",
        "colab_type": "code",
        "colab": {
          "base_uri": "https://localhost:8080/",
          "height": 665
        },
        "outputId": "06ccb294-7f15-4b5f-b9ee-adb3492515ad"
      },
      "source": [
        "import calendar\n",
        "\n",
        "print(calendar.calendar(2019))"
      ],
      "execution_count": 55,
      "outputs": [
        {
          "output_type": "stream",
          "text": [
            "                                  2019\n",
            "\n",
            "      January                   February                   March\n",
            "Mo Tu We Th Fr Sa Su      Mo Tu We Th Fr Sa Su      Mo Tu We Th Fr Sa Su\n",
            "    1  2  3  4  5  6                   1  2  3                   1  2  3\n",
            " 7  8  9 10 11 12 13       4  5  6  7  8  9 10       4  5  6  7  8  9 10\n",
            "14 15 16 17 18 19 20      11 12 13 14 15 16 17      11 12 13 14 15 16 17\n",
            "21 22 23 24 25 26 27      18 19 20 21 22 23 24      18 19 20 21 22 23 24\n",
            "28 29 30 31               25 26 27 28               25 26 27 28 29 30 31\n",
            "\n",
            "       April                      May                       June\n",
            "Mo Tu We Th Fr Sa Su      Mo Tu We Th Fr Sa Su      Mo Tu We Th Fr Sa Su\n",
            " 1  2  3  4  5  6  7             1  2  3  4  5                      1  2\n",
            " 8  9 10 11 12 13 14       6  7  8  9 10 11 12       3  4  5  6  7  8  9\n",
            "15 16 17 18 19 20 21      13 14 15 16 17 18 19      10 11 12 13 14 15 16\n",
            "22 23 24 25 26 27 28      20 21 22 23 24 25 26      17 18 19 20 21 22 23\n",
            "29 30                     27 28 29 30 31            24 25 26 27 28 29 30\n",
            "\n",
            "        July                     August                  September\n",
            "Mo Tu We Th Fr Sa Su      Mo Tu We Th Fr Sa Su      Mo Tu We Th Fr Sa Su\n",
            " 1  2  3  4  5  6  7                1  2  3  4                         1\n",
            " 8  9 10 11 12 13 14       5  6  7  8  9 10 11       2  3  4  5  6  7  8\n",
            "15 16 17 18 19 20 21      12 13 14 15 16 17 18       9 10 11 12 13 14 15\n",
            "22 23 24 25 26 27 28      19 20 21 22 23 24 25      16 17 18 19 20 21 22\n",
            "29 30 31                  26 27 28 29 30 31         23 24 25 26 27 28 29\n",
            "                                                    30\n",
            "\n",
            "      October                   November                  December\n",
            "Mo Tu We Th Fr Sa Su      Mo Tu We Th Fr Sa Su      Mo Tu We Th Fr Sa Su\n",
            "    1  2  3  4  5  6                   1  2  3                         1\n",
            " 7  8  9 10 11 12 13       4  5  6  7  8  9 10       2  3  4  5  6  7  8\n",
            "14 15 16 17 18 19 20      11 12 13 14 15 16 17       9 10 11 12 13 14 15\n",
            "21 22 23 24 25 26 27      18 19 20 21 22 23 24      16 17 18 19 20 21 22\n",
            "28 29 30 31               25 26 27 28 29 30         23 24 25 26 27 28 29\n",
            "                                                    30 31\n",
            "\n"
          ],
          "name": "stdout"
        }
      ]
    },
    {
      "cell_type": "code",
      "metadata": {
        "id": "2w-wbWi9wvxW",
        "colab_type": "code",
        "colab": {
          "base_uri": "https://localhost:8080/",
          "height": 665
        },
        "outputId": "72c28ab1-6961-4719-8576-9f9efbbfc36d"
      },
      "source": [
        "calendar.prcal(2019)"
      ],
      "execution_count": 56,
      "outputs": [
        {
          "output_type": "stream",
          "text": [
            "                                  2019\n",
            "\n",
            "      January                   February                   March\n",
            "Mo Tu We Th Fr Sa Su      Mo Tu We Th Fr Sa Su      Mo Tu We Th Fr Sa Su\n",
            "    1  2  3  4  5  6                   1  2  3                   1  2  3\n",
            " 7  8  9 10 11 12 13       4  5  6  7  8  9 10       4  5  6  7  8  9 10\n",
            "14 15 16 17 18 19 20      11 12 13 14 15 16 17      11 12 13 14 15 16 17\n",
            "21 22 23 24 25 26 27      18 19 20 21 22 23 24      18 19 20 21 22 23 24\n",
            "28 29 30 31               25 26 27 28               25 26 27 28 29 30 31\n",
            "\n",
            "       April                      May                       June\n",
            "Mo Tu We Th Fr Sa Su      Mo Tu We Th Fr Sa Su      Mo Tu We Th Fr Sa Su\n",
            " 1  2  3  4  5  6  7             1  2  3  4  5                      1  2\n",
            " 8  9 10 11 12 13 14       6  7  8  9 10 11 12       3  4  5  6  7  8  9\n",
            "15 16 17 18 19 20 21      13 14 15 16 17 18 19      10 11 12 13 14 15 16\n",
            "22 23 24 25 26 27 28      20 21 22 23 24 25 26      17 18 19 20 21 22 23\n",
            "29 30                     27 28 29 30 31            24 25 26 27 28 29 30\n",
            "\n",
            "        July                     August                  September\n",
            "Mo Tu We Th Fr Sa Su      Mo Tu We Th Fr Sa Su      Mo Tu We Th Fr Sa Su\n",
            " 1  2  3  4  5  6  7                1  2  3  4                         1\n",
            " 8  9 10 11 12 13 14       5  6  7  8  9 10 11       2  3  4  5  6  7  8\n",
            "15 16 17 18 19 20 21      12 13 14 15 16 17 18       9 10 11 12 13 14 15\n",
            "22 23 24 25 26 27 28      19 20 21 22 23 24 25      16 17 18 19 20 21 22\n",
            "29 30 31                  26 27 28 29 30 31         23 24 25 26 27 28 29\n",
            "                                                    30\n",
            "\n",
            "      October                   November                  December\n",
            "Mo Tu We Th Fr Sa Su      Mo Tu We Th Fr Sa Su      Mo Tu We Th Fr Sa Su\n",
            "    1  2  3  4  5  6                   1  2  3                         1\n",
            " 7  8  9 10 11 12 13       4  5  6  7  8  9 10       2  3  4  5  6  7  8\n",
            "14 15 16 17 18 19 20      11 12 13 14 15 16 17       9 10 11 12 13 14 15\n",
            "21 22 23 24 25 26 27      18 19 20 21 22 23 24      16 17 18 19 20 21 22\n",
            "28 29 30 31               25 26 27 28 29 30         23 24 25 26 27 28 29\n",
            "                                                    30 31\n",
            "\n"
          ],
          "name": "stdout"
        }
      ]
    },
    {
      "cell_type": "code",
      "metadata": {
        "id": "IvU2bFtxwwiY",
        "colab_type": "code",
        "colab": {
          "base_uri": "https://localhost:8080/",
          "height": 143
        },
        "outputId": "94ccbb99-7a59-437d-aac9-ab308572ec42"
      },
      "source": [
        "calendar.prmonth(2019, 11)"
      ],
      "execution_count": 57,
      "outputs": [
        {
          "output_type": "stream",
          "text": [
            "   November 2019\n",
            "Mo Tu We Th Fr Sa Su\n",
            "             1  2  3\n",
            " 4  5  6  7  8  9 10\n",
            "11 12 13 14 15 16 17\n",
            "18 19 20 21 22 23 24\n",
            "25 26 27 28 29 30\n"
          ],
          "name": "stdout"
        }
      ]
    },
    {
      "cell_type": "markdown",
      "metadata": {
        "id": "XLDyLGUXvJwj",
        "colab_type": "text"
      },
      "source": [
        "## calendar.weekday"
      ]
    },
    {
      "cell_type": "code",
      "metadata": {
        "id": "vHPT2mNovI3t",
        "colab_type": "code",
        "colab": {}
      },
      "source": [
        "# calendar 모듈의 또 다른 유용한 함수를 보자.\n",
        "# weekday(연도, 월, 일) 함수는 그 날짜에 해당하는 요일 정보를 돌려준다.\n",
        "# 월요일은 0, 화요일은 1, 수요일은 2, 목요일은 3, 금요일은 4,\n",
        "# 토요일은 5, 일요일은 6이라는 값을 돌려준다."
      ],
      "execution_count": 0,
      "outputs": []
    },
    {
      "cell_type": "code",
      "metadata": {
        "id": "PrtzRbLkvKw9",
        "colab_type": "code",
        "colab": {
          "base_uri": "https://localhost:8080/",
          "height": 35
        },
        "outputId": "892e0476-a46e-4c2e-aeb7-de2184785d36"
      },
      "source": [
        "calendar.weekday(2019, 12, 25)"
      ],
      "execution_count": 59,
      "outputs": [
        {
          "output_type": "execute_result",
          "data": {
            "text/plain": [
              "2"
            ]
          },
          "metadata": {
            "tags": []
          },
          "execution_count": 59
        }
      ]
    },
    {
      "cell_type": "markdown",
      "metadata": {
        "id": "9mGcL182vNdZ",
        "colab_type": "text"
      },
      "source": [
        "## calendar.monthrange"
      ]
    },
    {
      "cell_type": "code",
      "metadata": {
        "id": "b-vH8QD4vLZo",
        "colab_type": "code",
        "colab": {
          "base_uri": "https://localhost:8080/",
          "height": 35
        },
        "outputId": "6e178fe7-5f13-44a1-b09e-5edb57a39ce5"
      },
      "source": [
        "# monthrange(연도, 월) 함수는 입력받은 달의 1일이 무슨 요일인지와\n",
        "# 그 달이 며칠까지 있는지를 튜플 형태로 돌려준다.\n",
        "calendar.monthrange(2019, 12)"
      ],
      "execution_count": 60,
      "outputs": [
        {
          "output_type": "execute_result",
          "data": {
            "text/plain": [
              "(6, 31)"
            ]
          },
          "metadata": {
            "tags": []
          },
          "execution_count": 60
        }
      ]
    },
    {
      "cell_type": "markdown",
      "metadata": {
        "id": "NIl4cLQ7w3L8",
        "colab_type": "text"
      },
      "source": [
        "## random\n",
        "## ***"
      ]
    },
    {
      "cell_type": "code",
      "metadata": {
        "id": "yVzflm1jw2Ae",
        "colab_type": "code",
        "colab": {}
      },
      "source": [
        "# 난수(규칙이 없는 임의의 수)를 발생시키는 모듈\n",
        "# 마구잡이 수 발생\n",
        "# random(), randint()"
      ],
      "execution_count": 0,
      "outputs": []
    },
    {
      "cell_type": "code",
      "metadata": {
        "id": "eVFTtHBcw50Q",
        "colab_type": "code",
        "colab": {}
      },
      "source": [
        "import random"
      ],
      "execution_count": 0,
      "outputs": []
    },
    {
      "cell_type": "markdown",
      "metadata": {
        "id": "fMOwCWMbw8gl",
        "colab_type": "text"
      },
      "source": [
        "## random() : 0.0에서 1.0 사이의 실수 중에서 난수 값을 생성"
      ]
    },
    {
      "cell_type": "code",
      "metadata": {
        "id": "-EQpsiE8w6pJ",
        "colab_type": "code",
        "colab": {
          "base_uri": "https://localhost:8080/",
          "height": 35
        },
        "outputId": "fb9892be-5452-4a83-cd55-871c2e2a2ebb"
      },
      "source": [
        "random.random()"
      ],
      "execution_count": 101,
      "outputs": [
        {
          "output_type": "execute_result",
          "data": {
            "text/plain": [
              "0.8441027934591537"
            ]
          },
          "metadata": {
            "tags": []
          },
          "execution_count": 101
        }
      ]
    },
    {
      "cell_type": "markdown",
      "metadata": {
        "id": "bunt_PFXw99k",
        "colab_type": "text"
      },
      "source": [
        "## randint(start, end) : start에서 end 사이의 정수 중에서 난수 값을 생성"
      ]
    },
    {
      "cell_type": "code",
      "metadata": {
        "id": "9aKsFDsew7d4",
        "colab_type": "code",
        "colab": {
          "base_uri": "https://localhost:8080/",
          "height": 35
        },
        "outputId": "6804bf9d-d58b-449a-9cb3-e932629bb43f"
      },
      "source": [
        "random.randint(1, 10)"
      ],
      "execution_count": 64,
      "outputs": [
        {
          "output_type": "execute_result",
          "data": {
            "text/plain": [
              "10"
            ]
          },
          "metadata": {
            "tags": []
          },
          "execution_count": 64
        }
      ]
    },
    {
      "cell_type": "markdown",
      "metadata": {
        "id": "6yTgMIgi1PVB",
        "colab_type": "text"
      },
      "source": [
        "## 기말고사 문제 중복이 안되게 하려면 어떻게 해야하는가?\n",
        "\n",
        "답: set함수 사용"
      ]
    },
    {
      "cell_type": "code",
      "metadata": {
        "id": "w6abfgBJw-x1",
        "colab_type": "code",
        "colab": {
          "base_uri": "https://localhost:8080/",
          "height": 35
        },
        "outputId": "ca7523b5-b2cf-4f48-add3-56a178853a14"
      },
      "source": [
        "for i in range(6):\n",
        "    print(random.randint(1, 45), end=\",\")"
      ],
      "execution_count": 104,
      "outputs": [
        {
          "output_type": "stream",
          "text": [
            "26,33,34,33,8,33,"
          ],
          "name": "stdout"
        }
      ]
    },
    {
      "cell_type": "markdown",
      "metadata": {
        "id": "9wqaxIDHxA68",
        "colab_type": "text"
      },
      "source": [
        "## random 모듈을 사용해서 재미있는 함수\n",
        "## random_pop.py"
      ]
    },
    {
      "cell_type": "code",
      "metadata": {
        "id": "c0hnZYdPw_gn",
        "colab_type": "code",
        "colab": {}
      },
      "source": [
        "import random\n",
        "\n",
        "def random_pop(data):\n",
        "    number = random.randint(0, len(data) - 1)\n",
        "    return data.pop(number)"
      ],
      "execution_count": 0,
      "outputs": []
    },
    {
      "cell_type": "code",
      "metadata": {
        "id": "984Us3AixFkC",
        "colab_type": "code",
        "colab": {
          "base_uri": "https://localhost:8080/",
          "height": 35
        },
        "outputId": "8a8e9d0e-ba52-4bd9-96c8-64269db5898b"
      },
      "source": [
        "if __name__ == \"__main__\":\n",
        "    data = list(range(1, 10))  # [1, 2, 3, 4, 5]\n",
        "    while data:\n",
        "        print(random_pop(data), end=\" \")\n",
        "    print()"
      ],
      "execution_count": 67,
      "outputs": [
        {
          "output_type": "stream",
          "text": [
            "5 8 6 1 9 7 3 4 2 \n"
          ],
          "name": "stdout"
        }
      ]
    },
    {
      "cell_type": "code",
      "metadata": {
        "id": "6U5FUp_qxGnh",
        "colab_type": "code",
        "colab": {}
      },
      "source": [
        "# 리스트의 요소 중에서 무작위로 하나를 선택하여 꺼낸 다음 그 값을 돌려준다.\n",
        "# 물론 꺼낸 요소는 pop 메서드에 의해 사라진다."
      ],
      "execution_count": 0,
      "outputs": []
    },
    {
      "cell_type": "code",
      "metadata": {
        "id": "C66OEDY4xICb",
        "colab_type": "code",
        "colab": {}
      },
      "source": [
        "# random_pop 함수는 random 모듈의 choice 함수를 사용하여\n",
        "# 다음과 같이 좀 더 직관적으로 만들 수도 있다."
      ],
      "execution_count": 0,
      "outputs": []
    },
    {
      "cell_type": "code",
      "metadata": {
        "id": "8X_U449wxI5S",
        "colab_type": "code",
        "colab": {}
      },
      "source": [
        "def random_pop(data):\n",
        "    number = random.choice(data)\n",
        "    data.remove(number)\n",
        "    return number"
      ],
      "execution_count": 0,
      "outputs": []
    },
    {
      "cell_type": "code",
      "metadata": {
        "id": "SBmLsnSHxJq4",
        "colab_type": "code",
        "colab": {
          "base_uri": "https://localhost:8080/",
          "height": 35
        },
        "outputId": "3dda785d-35e4-4d1e-9be4-23fbec9ed6ec"
      },
      "source": [
        "random_pop([1, 2, 3, 4, 5])\n",
        "\n",
        "if __name__ == \"__main__\":\n",
        "    data = list(range(1, 10))  # [1, 2, 3, 4, 5]\n",
        "    while data:\n",
        "        print(random_pop(data), end=\" \")\n",
        "    print()"
      ],
      "execution_count": 71,
      "outputs": [
        {
          "output_type": "stream",
          "text": [
            "6 2 4 1 5 3 8 9 7 \n"
          ],
          "name": "stdout"
        }
      ]
    },
    {
      "cell_type": "code",
      "metadata": {
        "id": "Q7VDo0KqxKcv",
        "colab_type": "code",
        "colab": {
          "base_uri": "https://localhost:8080/",
          "height": 55
        },
        "outputId": "17d80173-f69a-427b-fcd8-b9810651e04f"
      },
      "source": [
        "# 다음의 의미\n",
        "# if __name__ == \"__main__\":\n",
        "# https://pinocc.tistory.com/175\n",
        "\n",
        "# Filename: using_name.py\n",
        "\"\"\"\n",
        "if __name__ == '__main__':\n",
        "\tprint 'This program is being run by itself'\n",
        "else:\n",
        "\tprint 'I am being imported from another module'\n",
        "\"\"\""
      ],
      "execution_count": 72,
      "outputs": [
        {
          "output_type": "execute_result",
          "data": {
            "text/plain": [
              "\"\\nif __name__ == '__main__':\\n\\tprint 'This program is being run by itself'\\nelse:\\n\\tprint 'I am being imported from another module'\\n\""
            ]
          },
          "metadata": {
            "tags": []
          },
          "execution_count": 72
        }
      ]
    },
    {
      "cell_type": "code",
      "metadata": {
        "id": "Z0HdavaXxNz-",
        "colab_type": "code",
        "colab": {}
      },
      "source": [
        "# 직접 실행\n",
        "# python using_name.py\n",
        "# This program is being run by itself\n",
        "\n",
        "# 모듈로 import 되어 실행\n",
        "# >>> import using_name\n",
        "# >>> I am being imported from another module"
      ],
      "execution_count": 0,
      "outputs": []
    },
    {
      "cell_type": "markdown",
      "metadata": {
        "id": "zpYnvGthxQhZ",
        "colab_type": "text"
      },
      "source": [
        "## 리스트의 항목을 무작위로 섞고 싶을 때는 random.shuffle 함수를 사용"
      ]
    },
    {
      "cell_type": "code",
      "metadata": {
        "id": "GaLD0Pf_xPrJ",
        "colab_type": "code",
        "colab": {
          "base_uri": "https://localhost:8080/",
          "height": 35
        },
        "outputId": "f80ccf27-1cd3-4a38-f7c1-71cdda3cfdc7"
      },
      "source": [
        "import random\n",
        "\n",
        "data = [1, 2, 3, 4, 5]\n",
        "random.shuffle(data)\n",
        "data\n",
        "\n",
        "\n",
        "print(\"webbrowser\")"
      ],
      "execution_count": 73,
      "outputs": [
        {
          "output_type": "stream",
          "text": [
            "webbrowser\n"
          ],
          "name": "stdout"
        }
      ]
    },
    {
      "cell_type": "code",
      "metadata": {
        "id": "1-Jc3yaExR8-",
        "colab_type": "code",
        "colab": {}
      },
      "source": [
        "# webbrowser는 자신의 시스템에서 사용하는 기본 웹 브라우저를\n",
        "# 자동으로 실행하는 모듈"
      ],
      "execution_count": 0,
      "outputs": []
    },
    {
      "cell_type": "code",
      "metadata": {
        "id": "UpHVKnTnxUQD",
        "colab_type": "code",
        "colab": {
          "base_uri": "https://localhost:8080/",
          "height": 35
        },
        "outputId": "a460b117-e7bb-4ef6-df9d-a8068e0593b7"
      },
      "source": [
        "import webbrowser\n",
        "\n",
        "webbrowser.open(\"http://google.com\")"
      ],
      "execution_count": 88,
      "outputs": [
        {
          "output_type": "execute_result",
          "data": {
            "text/plain": [
              "False"
            ]
          },
          "metadata": {
            "tags": []
          },
          "execution_count": 88
        }
      ]
    },
    {
      "cell_type": "code",
      "metadata": {
        "id": "fA3ZZtpMyC7J",
        "colab_type": "code",
        "colab": {
          "base_uri": "https://localhost:8080/",
          "height": 35
        },
        "outputId": "4cd8856f-aa73-4ea1-d705-66f602113645"
      },
      "source": [
        "# 새로운 창/탭으로 열기\n",
        "webbrowser.open_new(\"http://google.com\")"
      ],
      "execution_count": 89,
      "outputs": [
        {
          "output_type": "execute_result",
          "data": {
            "text/plain": [
              "False"
            ]
          },
          "metadata": {
            "tags": []
          },
          "execution_count": 89
        }
      ]
    }
  ]
}