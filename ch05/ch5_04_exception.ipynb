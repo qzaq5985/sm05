{
  "nbformat": 4,
  "nbformat_minor": 0,
  "metadata": {
    "colab": {
      "name": "ch5_04_exception.ipynb",
      "provenance": [],
      "collapsed_sections": [],
      "include_colab_link": true
    },
    "kernelspec": {
      "name": "python3",
      "display_name": "Python 3"
    }
  },
  "cells": [
    {
      "cell_type": "markdown",
      "metadata": {
        "id": "view-in-github",
        "colab_type": "text"
      },
      "source": [
        "<a href=\"https://colab.research.google.com/github/qzaq5985/sm05/blob/master/ch05/ch5_04_exception.ipynb\" target=\"_parent\"><img src=\"https://colab.research.google.com/assets/colab-badge.svg\" alt=\"Open In Colab\"/></a>"
      ]
    },
    {
      "cell_type": "markdown",
      "metadata": {
        "id": "V16yS6Hhq9cT",
        "colab_type": "text"
      },
      "source": [
        "# handling_exception : 예외 처리"
      ]
    },
    {
      "cell_type": "code",
      "metadata": {
        "id": "4olSdTfpq2H0",
        "colab_type": "code",
        "colab": {}
      },
      "source": [
        "# 빈번히 발생하는 오류를 처리\n",
        "# try, except, finally 를 사용"
      ],
      "execution_count": 0,
      "outputs": []
    },
    {
      "cell_type": "markdown",
      "metadata": {
        "id": "KLTpHT6crFbW",
        "colab_type": "text"
      },
      "source": [
        "## 오류는 어떤 때 발생하는가?\n",
        "\n",
        "### 오류가 발생하는 사례"
      ]
    },
    {
      "cell_type": "markdown",
      "metadata": {
        "id": "2kMH8ufSrMUD",
        "colab_type": "text"
      },
      "source": [
        "## 1. 디렉터리 안에 없는 파일을 열려고 시도했을 때"
      ]
    },
    {
      "cell_type": "code",
      "metadata": {
        "id": "NtCLITB_rC33",
        "colab_type": "code",
        "colab": {}
      },
      "source": [
        " f = open(\"나없는파일\", 'r')   # FileNotFoundError:"
      ],
      "execution_count": 0,
      "outputs": []
    },
    {
      "cell_type": "markdown",
      "metadata": {
        "id": "JYCe-YjBrPSb",
        "colab_type": "text"
      },
      "source": [
        "## 2. 0으로 다른 숫자를 나누는 경우 (division by zero)"
      ]
    },
    {
      "cell_type": "code",
      "metadata": {
        "id": "uJNMzYXKrOBY",
        "colab_type": "code",
        "colab": {}
      },
      "source": [
        "4 / 0   # ZeroDivisionError:"
      ],
      "execution_count": 0,
      "outputs": []
    },
    {
      "cell_type": "markdown",
      "metadata": {
        "id": "GOpKdaO0rRwD",
        "colab_type": "text"
      },
      "source": [
        "## 범위를 벗어 난 인덱싱 (list index out of range)"
      ]
    },
    {
      "cell_type": "code",
      "metadata": {
        "id": "t_froRTlrQx5",
        "colab_type": "code",
        "colab": {}
      },
      "source": [
        "a = [1,2,3]\n",
        "\n",
        "a[3]  # IndexError:"
      ],
      "execution_count": 0,
      "outputs": []
    },
    {
      "cell_type": "markdown",
      "metadata": {
        "id": "SdRx6P_QrV9T",
        "colab_type": "text"
      },
      "source": [
        "## 오류 예외 처리 기법\n",
        "### 유연한 프로그래밍을 위한 오류 처리 기법"
      ]
    },
    {
      "cell_type": "markdown",
      "metadata": {
        "id": "4le_r44-rZYT",
        "colab_type": "text"
      },
      "source": [
        "## 1. try, except문"
      ]
    },
    {
      "cell_type": "code",
      "metadata": {
        "id": "YEySEc1yrTKp",
        "colab_type": "code",
        "colab": {}
      },
      "source": [
        "# try, except문의 기본 구조\n",
        "'''\n",
        "try:\n",
        "    ...\n",
        "except [발생 오류[as 오류 메시지 변수]]:\n",
        "    ...\n",
        "'''\n",
        "# try 블록 수행 중 오류가 발생하면 except 블록이 수행된다. \n",
        "# 하지만 try 블록에서 오류가 발생하지 않는다면 \n",
        "# except 블록은 수행되지 않는다."
      ],
      "execution_count": 0,
      "outputs": []
    },
    {
      "cell_type": "markdown",
      "metadata": {
        "id": "x3GBsLHVrnCk",
        "colab_type": "text"
      },
      "source": [
        "## ZeroDivisionError:"
      ]
    },
    {
      "cell_type": "code",
      "metadata": {
        "id": "Q9hsaw-CrmSo",
        "colab_type": "code",
        "colab": {
          "base_uri": "https://localhost:8080/",
          "height": 34
        },
        "outputId": "07dd4a3a-d02a-42c5-84d6-29d4f6aea7db"
      },
      "source": [
        "try:\n",
        "    4 / 0\n",
        "except ZeroDivisionError as e:\n",
        "    print(e)"
      ],
      "execution_count": 1,
      "outputs": [
        {
          "output_type": "stream",
          "text": [
            "division by zero\n"
          ],
          "name": "stdout"
        }
      ]
    },
    {
      "cell_type": "markdown",
      "metadata": {
        "id": "l9poCq8Grxn9",
        "colab_type": "text"
      },
      "source": [
        "## IndexError:"
      ]
    },
    {
      "cell_type": "code",
      "metadata": {
        "id": "ibAWPpR5rstB",
        "colab_type": "code",
        "colab": {
          "base_uri": "https://localhost:8080/",
          "height": 34
        },
        "outputId": "fbd713a5-f35e-4e27-a1f3-0f5e92532e22"
      },
      "source": [
        "a = [1, 2, 3]\n",
        "try:\n",
        "    a[3]\n",
        "except IndexError as e:\n",
        "    print(e)"
      ],
      "execution_count": 2,
      "outputs": [
        {
          "output_type": "stream",
          "text": [
            "list index out of range\n"
          ],
          "name": "stdout"
        }
      ]
    },
    {
      "cell_type": "markdown",
      "metadata": {
        "id": "rvy8_fmJr586",
        "colab_type": "text"
      },
      "source": [
        "## 2. try, finally문"
      ]
    },
    {
      "cell_type": "code",
      "metadata": {
        "id": "Lnd_CLuhrww0",
        "colab_type": "code",
        "colab": {}
      },
      "source": [
        "# try문에는 finally절을 사용할 수 있다. \n",
        "# finally절은 try문 수행 도중 예외 발생 여부에 상관없이 항상 수행\n",
        "\n",
        "try:\n",
        "    f = open('goo.txt', 'w')\n",
        "    # 무언가를 수행한다.\n",
        "finally:\n",
        "    f.close()"
      ],
      "execution_count": 0,
      "outputs": []
    },
    {
      "cell_type": "markdown",
      "metadata": {
        "id": "-m0uKbhfsLV7",
        "colab_type": "text"
      },
      "source": [
        "## 3. 여러개의 오류처리하기\n",
        "### try문 안에서 여러 개의 오류를 처리하는 방법"
      ]
    },
    {
      "cell_type": "code",
      "metadata": {
        "id": "i5393KdhsH_Z",
        "colab_type": "code",
        "colab": {
          "base_uri": "https://localhost:8080/",
          "height": 34
        },
        "outputId": "3940d880-c789-49fc-b45a-64c72c21be87"
      },
      "source": [
        "#\n",
        "'''\n",
        "try:\n",
        "    ...\n",
        "except 발생 오류1:\n",
        "   ... \n",
        "except 발생 오류2:\n",
        "   ...\n",
        "'''\n",
        "\n",
        "try:\n",
        "    a = [1,2]\n",
        "    print(a[2])\n",
        "    4/0\n",
        "except ZeroDivisionError:\n",
        "    print(\"0으로 나눌 수 없습니다.\")\n",
        "except IndexError:\n",
        "    print(\"인덱싱 할 수 없습니다.\")\n",
        "    \n",
        "# 인덱싱 오류가 먼저 발생했으므로 \n",
        "# 4/0으로 발생되는 ZeroDivisionError 오류는 발생하지 않았다."
      ],
      "execution_count": 4,
      "outputs": [
        {
          "output_type": "stream",
          "text": [
            "인덱싱 할 수 없습니다.\n"
          ],
          "name": "stdout"
        }
      ]
    },
    {
      "cell_type": "code",
      "metadata": {
        "id": "OopR7pbXsShr",
        "colab_type": "code",
        "colab": {
          "base_uri": "https://localhost:8080/",
          "height": 34
        },
        "outputId": "4f641af4-f149-4ec6-c70e-e461120231db"
      },
      "source": [
        "try:\n",
        "    a = [1,2]\n",
        "    print(a[3])\n",
        "    4/0\n",
        "except ZeroDivisionError as e:\n",
        "    print(e)\n",
        "except IndexError as e:\n",
        "    print(e)"
      ],
      "execution_count": 5,
      "outputs": [
        {
          "output_type": "stream",
          "text": [
            "list index out of range\n"
          ],
          "name": "stdout"
        }
      ]
    },
    {
      "cell_type": "markdown",
      "metadata": {
        "id": "OCS4Z3EjtZSu",
        "colab_type": "text"
      },
      "source": [
        "## 2개 이상의 오류를 동시에 처리"
      ]
    },
    {
      "cell_type": "code",
      "metadata": {
        "id": "b31J4E8jtRcY",
        "colab_type": "code",
        "colab": {
          "base_uri": "https://localhost:8080/",
          "height": 34
        },
        "outputId": "dce9761b-ae84-4fec-c213-0a63fe5fda84"
      },
      "source": [
        "try:\n",
        "    a = [1,2]\n",
        "    print(a[3])\n",
        "    4/0\n",
        "except (ZeroDivisionError, IndexError) as e:\n",
        "    print(e)"
      ],
      "execution_count": 6,
      "outputs": [
        {
          "output_type": "stream",
          "text": [
            "list index out of range\n"
          ],
          "name": "stdout"
        }
      ]
    },
    {
      "cell_type": "markdown",
      "metadata": {
        "id": "zfYTUGU4tgqe",
        "colab_type": "text"
      },
      "source": [
        "## 오류 회피하기"
      ]
    },
    {
      "cell_type": "code",
      "metadata": {
        "id": "a2nNEvMvtT7j",
        "colab_type": "code",
        "colab": {}
      },
      "source": [
        "# 특정 오류가 발생할 경우 그냥 통과시키는 방법.\n",
        "\n",
        "try:\n",
        "    f = open(\"나없는파일\", 'r')\n",
        "except FileNotFoundError:\n",
        "    pass"
      ],
      "execution_count": 0,
      "outputs": []
    },
    {
      "cell_type": "markdown",
      "metadata": {
        "id": "FrbDz8Kutokf",
        "colab_type": "text"
      },
      "source": [
        "## 오류 일부러 발생시키기"
      ]
    },
    {
      "cell_type": "code",
      "metadata": {
        "id": "s3PZXeOztWjP",
        "colab_type": "code",
        "colab": {}
      },
      "source": [
        "# 일부러 발생시키는 오류\n",
        "# raise 오류 \n",
        "\n",
        "# Bird 클래스를 상속받는 자식 클래스는 반드시 \n",
        "# fly라는 함수를 구현하도록 만들고 싶은 경우\n",
        "\n",
        "class Bird:\n",
        "    def fly(self):\n",
        "        raise NotImplementedError"
      ],
      "execution_count": 0,
      "outputs": []
    },
    {
      "cell_type": "markdown",
      "metadata": {
        "id": "HysbowOWuPt0",
        "colab_type": "text"
      },
      "source": [
        "## Error"
      ]
    },
    {
      "cell_type": "code",
      "metadata": {
        "id": "xH6iGaKhuPHW",
        "colab_type": "code",
        "colab": {}
      },
      "source": [
        "# Bird 클래스를 상속받는 자식 클래스는 \n",
        "# 반드시 fly 함수를 구현해야 한다\n",
        "\n",
        "class Eagle(Bird):\n",
        "    pass\n",
        "\n",
        "eagle = Eagle()\n",
        "eagle.fly()"
      ],
      "execution_count": 0,
      "outputs": []
    },
    {
      "cell_type": "markdown",
      "metadata": {
        "id": "VaU3JUanvEJe",
        "colab_type": "text"
      },
      "source": [
        "## NotImplementedError가 발생되지 않게 하려면 "
      ]
    },
    {
      "cell_type": "code",
      "metadata": {
        "id": "zX7NjuRmuM-j",
        "colab_type": "code",
        "colab": {
          "base_uri": "https://localhost:8080/",
          "height": 34
        },
        "outputId": "0a2ccaff-9d3e-47c3-b1a0-ef23ef8458c4"
      },
      "source": [
        "# 다음과 같이 Eagle 클래스에 fly 함수를 반드시 구현\n",
        "\n",
        "class Eagle(Bird):\n",
        "    def fly(self):\n",
        "        print(\"very fast\")\n",
        "\n",
        "eagle = Eagle()\n",
        "eagle.fly()"
      ],
      "execution_count": 11,
      "outputs": [
        {
          "output_type": "stream",
          "text": [
            "very fast\n"
          ],
          "name": "stdout"
        }
      ]
    },
    {
      "cell_type": "markdown",
      "metadata": {
        "id": "--Y6IVthuU_2",
        "colab_type": "text"
      },
      "source": [
        "## 예외 만들기: 사용자 정의 예외"
      ]
    },
    {
      "cell_type": "code",
      "metadata": {
        "id": "3avGNdlpuTLl",
        "colab_type": "code",
        "colab": {}
      },
      "source": [
        "# 사용자가 정의해서 만들고 발생시키는 오류\n",
        "# 파이썬 내장 클래스인 Exception 클래스를 상속하여 만든다.\n",
        "# raise User_Error() \n",
        "\n",
        "class MyError(Exception):\n",
        "    pass\n",
        "\n",
        "\n",
        "def say_nick(nick):\n",
        "    if nick == '바보':\n",
        "        raise MyError()\n",
        "    print(nick)"
      ],
      "execution_count": 0,
      "outputs": []
    },
    {
      "cell_type": "markdown",
      "metadata": {
        "id": "MBKXnf4SuvIH",
        "colab_type": "text"
      },
      "source": [
        "## 사용자 정의 예외 처리"
      ]
    },
    {
      "cell_type": "code",
      "metadata": {
        "id": "_4FuZZ-TuXWJ",
        "colab_type": "code",
        "colab": {
          "base_uri": "https://localhost:8080/",
          "height": 52
        },
        "outputId": "98fd1d26-199f-4e03-a9f1-2f367ae21135"
      },
      "source": [
        "try:\n",
        "    say_nick(\"천사\")\n",
        "    say_nick(\"바보\")\n",
        "except MyError:\n",
        "    print(\"허용되지 않는 별명입니다.\")"
      ],
      "execution_count": 14,
      "outputs": [
        {
          "output_type": "stream",
          "text": [
            "천사\n",
            "허용되지 않는 별명입니다.\n"
          ],
          "name": "stdout"
        }
      ]
    },
    {
      "cell_type": "markdown",
      "metadata": {
        "id": "-cCHE_KauyEO",
        "colab_type": "text"
      },
      "source": [
        "## 사용자 정의 예외 메시지 출력"
      ]
    },
    {
      "cell_type": "code",
      "metadata": {
        "id": "Dh9LdrONuw3i",
        "colab_type": "code",
        "colab": {}
      },
      "source": [
        "# 오류 메시지: __str__ 메서드를 구현\n",
        "\n",
        "class MyError(Exception):\n",
        "    def __str__(self):\n",
        "        return \"허용되지 않는 별명입니다.\""
      ],
      "execution_count": 0,
      "outputs": []
    },
    {
      "cell_type": "code",
      "metadata": {
        "id": "uElI0QEuu0FN",
        "colab_type": "code",
        "colab": {
          "base_uri": "https://localhost:8080/",
          "height": 52
        },
        "outputId": "eb95500f-b91b-4ac7-d0c3-0964bac2e2cc"
      },
      "source": [
        " try:\n",
        "    say_nick(\"천사\")\n",
        "    say_nick(\"바보\")\n",
        "except MyError as e:\n",
        "    print(e)"
      ],
      "execution_count": 16,
      "outputs": [
        {
          "output_type": "stream",
          "text": [
            "천사\n",
            "허용되지 않는 별명입니다.\n"
          ],
          "name": "stdout"
        }
      ]
    }
  ]
}