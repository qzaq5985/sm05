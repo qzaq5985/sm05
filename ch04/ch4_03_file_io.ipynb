{
  "nbformat": 4,
  "nbformat_minor": 0,
  "metadata": {
    "colab": {
      "name": "ch4_03_file_io.ipynb",
      "provenance": [],
      "collapsed_sections": [],
      "include_colab_link": true
    },
    "kernelspec": {
      "name": "python3",
      "display_name": "Python 3"
    }
  },
  "cells": [
    {
      "cell_type": "markdown",
      "metadata": {
        "id": "view-in-github",
        "colab_type": "text"
      },
      "source": [
        "<a href=\"https://colab.research.google.com/github/qzaq5985/sm05/blob/master/ch04/ch4_03_file_io.ipynb\" target=\"_parent\"><img src=\"https://colab.research.google.com/assets/colab-badge.svg\" alt=\"Open In Colab\"/></a>"
      ]
    },
    {
      "cell_type": "markdown",
      "metadata": {
        "id": "dUh-lzz7c7I8",
        "colab_type": "text"
      },
      "source": [
        "# file : 파일 읽고 쓰기\n",
        "## 파일을 통한 입출력 방법에 대해 알아보자."
      ]
    },
    {
      "cell_type": "markdown",
      "metadata": {
        "id": "BwRkZ85FdDqh",
        "colab_type": "text"
      },
      "source": [
        "## 파일 쓰기(생성하기)"
      ]
    },
    {
      "cell_type": "code",
      "metadata": {
        "id": "gM0PElA8c5lR",
        "colab_type": "code",
        "colab": {}
      },
      "source": [
        "# 파일 객체 = open(파일 이름, 파일 열기 모드)\n",
        "\n",
        "# 파일열기모드\n",
        "# r\t읽기모드 - 파일을 읽기만 할 때 사용\n",
        "# w\t쓰기모드 - 파일에 내용을 쓸 때 사용\n",
        "# a\t추가모드 - 파일의 마지막에 새로운 내용을 추가 시킬 때 사용"
      ],
      "execution_count": 0,
      "outputs": []
    },
    {
      "cell_type": "code",
      "metadata": {
        "id": "HC28dSsfdGkk",
        "colab_type": "code",
        "colab": {}
      },
      "source": [
        "f = open(\"새파일.txt\", \"w\")\n",
        "f.close()\n",
        "# 파일이 어디에 만들어졌는 지 확인하시오!!!"
      ],
      "execution_count": 0,
      "outputs": []
    },
    {
      "cell_type": "markdown",
      "metadata": {
        "id": "_AQ819WLdJ4k",
        "colab_type": "text"
      },
      "source": [
        "## 다른 폴더에 파일 생성"
      ]
    },
    {
      "cell_type": "code",
      "metadata": {
        "id": "4HDO_sqydIX9",
        "colab_type": "code",
        "colab": {
          "base_uri": "https://localhost:8080/",
          "height": 34
        },
        "outputId": "afd0f52c-d0af-4cd4-de43-9718d8f06f1a"
      },
      "source": [
        "\"\"\"\n",
        "f = open(\"C:/doit/새파일.txt\", 'w')\n",
        "f.close()\n",
        "\"\"\""
      ],
      "execution_count": 4,
      "outputs": [
        {
          "output_type": "execute_result",
          "data": {
            "text/plain": [
              "'\\nf = open(\"C:/doit/새파일.txt\", \\'w\\')\\nf.close()\\n'"
            ]
          },
          "metadata": {
            "tags": []
          },
          "execution_count": 4
        }
      ]
    },
    {
      "cell_type": "markdown",
      "metadata": {
        "id": "P8PKSnt0dMeU",
        "colab_type": "text"
      },
      "source": [
        "## 파일을 쓰기 모드로 열어 출력값 적기\n",
        "### 프로그램의 출력값을 파일에 직접 써 보자."
      ]
    },
    {
      "cell_type": "code",
      "metadata": {
        "id": "q14_NWvhd5Jh",
        "colab_type": "code",
        "colab": {}
      },
      "source": [
        ""
      ],
      "execution_count": 0,
      "outputs": []
    },
    {
      "cell_type": "markdown",
      "metadata": {
        "id": "B24KvED9d318",
        "colab_type": "text"
      },
      "source": [
        "## 모니터에 출력"
      ]
    },
    {
      "cell_type": "code",
      "metadata": {
        "id": "SPHmMD1kdLIg",
        "colab_type": "code",
        "colab": {
          "base_uri": "https://localhost:8080/",
          "height": 372
        },
        "outputId": "6ec49f9f-de61-4d98-d6ab-fe3cd2519848"
      },
      "source": [
        "for i in range(1, 11):\n",
        "    data = \"%d번째 줄입니다.\\n\" % i\n",
        "    print(data)"
      ],
      "execution_count": 5,
      "outputs": [
        {
          "output_type": "stream",
          "text": [
            "1번째 줄입니다.\n",
            "\n",
            "2번째 줄입니다.\n",
            "\n",
            "3번째 줄입니다.\n",
            "\n",
            "4번째 줄입니다.\n",
            "\n",
            "5번째 줄입니다.\n",
            "\n",
            "6번째 줄입니다.\n",
            "\n",
            "7번째 줄입니다.\n",
            "\n",
            "8번째 줄입니다.\n",
            "\n",
            "9번째 줄입니다.\n",
            "\n",
            "10번째 줄입니다.\n",
            "\n"
          ],
          "name": "stdout"
        }
      ]
    },
    {
      "cell_type": "markdown",
      "metadata": {
        "id": "ZmAcwf3zd7h0",
        "colab_type": "text"
      },
      "source": [
        "## 파일에 기록(출력)\n",
        "## writedata\n",
        "### 출력 파일의 한글이 깨지면\n",
        "### 파일 > 기본설정 > 설정 > Files: Auto Guess Encoding 을 지정(check)"
      ]
    },
    {
      "cell_type": "code",
      "metadata": {
        "id": "AeYbNR83d52A",
        "colab_type": "code",
        "colab": {}
      },
      "source": [
        "f = open(\"./새파일.txt\", \"w\")\n",
        "for i in range(1, 11):\n",
        "    data = \"%d번째 줄입니다.\\n\" % i\n",
        "    f.write(data)\n",
        "    \n",
        "f.close()"
      ],
      "execution_count": 0,
      "outputs": []
    },
    {
      "cell_type": "markdown",
      "metadata": {
        "id": "lrtIM-eueHFU",
        "colab_type": "text"
      },
      "source": [
        "## 파일 읽기\n",
        "\n",
        "### 파일 객체 = open(파일 이름, 파일 열기 모드)\n",
        "\n",
        "## 파일읽기의 3가지 방법\n",
        "### readline() 함수 이용하기\n",
        "### readlines 함수 사용하기\n",
        "### read 함수 사용하기"
      ]
    },
    {
      "cell_type": "markdown",
      "metadata": {
        "id": "DcR3Pmp2eMT1",
        "colab_type": "text"
      },
      "source": [
        "## 1. readline() 함수\n",
        "## readline_test"
      ]
    },
    {
      "cell_type": "code",
      "metadata": {
        "id": "q1-HdAlzeLJB",
        "colab_type": "code",
        "colab": {
          "base_uri": "https://localhost:8080/",
          "height": 52
        },
        "outputId": "bcd9e897-359e-41fb-fe9a-02ab6e5dbd2a"
      },
      "source": [
        "f = open(\"새파일.txt\", \"r\")\n",
        "line = f.readline()\n",
        "print(line)\n",
        "f.close()"
      ],
      "execution_count": 8,
      "outputs": [
        {
          "output_type": "stream",
          "text": [
            "1번째 줄입니다.\n",
            "\n"
          ],
          "name": "stdout"
        }
      ]
    },
    {
      "cell_type": "markdown",
      "metadata": {
        "id": "0DmNn3XYeT7W",
        "colab_type": "text"
      },
      "source": [
        "## readline_all"
      ]
    },
    {
      "cell_type": "code",
      "metadata": {
        "id": "TGfn23FCeS7W",
        "colab_type": "code",
        "colab": {
          "base_uri": "https://localhost:8080/",
          "height": 372
        },
        "outputId": "9e6fbaba-10e9-49cf-d5dc-7fb2f112452c"
      },
      "source": [
        "\n",
        "f = open(\"새파일.txt\", \"r\")\n",
        "while True:\n",
        "    line = f.readline()\n",
        "    if not line:\n",
        "        break\n",
        "    print(line)\n",
        "f.close()"
      ],
      "execution_count": 9,
      "outputs": [
        {
          "output_type": "stream",
          "text": [
            "1번째 줄입니다.\n",
            "\n",
            "2번째 줄입니다.\n",
            "\n",
            "3번째 줄입니다.\n",
            "\n",
            "4번째 줄입니다.\n",
            "\n",
            "5번째 줄입니다.\n",
            "\n",
            "6번째 줄입니다.\n",
            "\n",
            "7번째 줄입니다.\n",
            "\n",
            "8번째 줄입니다.\n",
            "\n",
            "9번째 줄입니다.\n",
            "\n",
            "10번째 줄입니다.\n",
            "\n"
          ],
          "name": "stdout"
        }
      ]
    },
    {
      "cell_type": "markdown",
      "metadata": {
        "id": "peE3Szh4eYRU",
        "colab_type": "text"
      },
      "source": [
        "## 사용자 입력을 이용한 화면 출력"
      ]
    },
    {
      "cell_type": "code",
      "metadata": {
        "colab_type": "code",
        "id": "TolCLSvIeaG-",
        "colab": {
          "base_uri": "https://localhost:8080/",
          "height": 212
        },
        "outputId": "6794b509-690c-4c2b-b6ca-064f617c5e70"
      },
      "source": [
        "while 1:\n",
        "    data = input()\n",
        "    if not data:\n",
        "        break\n",
        "    print(data)"
      ],
      "execution_count": 10,
      "outputs": [
        {
          "output_type": "stream",
          "text": [
            "10\n",
            "10\n",
            "10\n",
            "10\n",
            "20\n",
            "20\n",
            "50\n",
            "50\n",
            "ㅁㅇㄹ\n",
            "ㅁㅇㄹ\n",
            "\n"
          ],
          "name": "stdout"
        }
      ]
    },
    {
      "cell_type": "markdown",
      "metadata": {
        "id": "_GimUDCtedwk",
        "colab_type": "text"
      },
      "source": [
        "## 2. readlines() 함수"
      ]
    },
    {
      "cell_type": "code",
      "metadata": {
        "id": "h9417oByebQQ",
        "colab_type": "code",
        "colab": {
          "base_uri": "https://localhost:8080/",
          "height": 372
        },
        "outputId": "43d121b2-0105-414a-c454-a2fdba650a4e"
      },
      "source": [
        "f = open(\"새파일.txt\", \"r\")\n",
        "lines = f.readlines()\n",
        "for line in lines:\n",
        "    print(line)  # , end=\"\")\n",
        "f.close()"
      ],
      "execution_count": 11,
      "outputs": [
        {
          "output_type": "stream",
          "text": [
            "1번째 줄입니다.\n",
            "\n",
            "2번째 줄입니다.\n",
            "\n",
            "3번째 줄입니다.\n",
            "\n",
            "4번째 줄입니다.\n",
            "\n",
            "5번째 줄입니다.\n",
            "\n",
            "6번째 줄입니다.\n",
            "\n",
            "7번째 줄입니다.\n",
            "\n",
            "8번째 줄입니다.\n",
            "\n",
            "9번째 줄입니다.\n",
            "\n",
            "10번째 줄입니다.\n",
            "\n"
          ],
          "name": "stdout"
        }
      ]
    },
    {
      "cell_type": "markdown",
      "metadata": {
        "id": "EAc9TuMVei5E",
        "colab_type": "text"
      },
      "source": [
        "## 3. readl() 함수"
      ]
    },
    {
      "cell_type": "code",
      "metadata": {
        "id": "XPkpcnz9eiJp",
        "colab_type": "code",
        "colab": {
          "base_uri": "https://localhost:8080/",
          "height": 212
        },
        "outputId": "10fd4836-56ce-4142-d402-7f32c25713c8"
      },
      "source": [
        "f = open(\"새파일.txt\", \"r\")\n",
        "data = f.read()\n",
        "print(data)\n",
        "f.close()"
      ],
      "execution_count": 12,
      "outputs": [
        {
          "output_type": "stream",
          "text": [
            "1번째 줄입니다.\n",
            "2번째 줄입니다.\n",
            "3번째 줄입니다.\n",
            "4번째 줄입니다.\n",
            "5번째 줄입니다.\n",
            "6번째 줄입니다.\n",
            "7번째 줄입니다.\n",
            "8번째 줄입니다.\n",
            "9번째 줄입니다.\n",
            "10번째 줄입니다.\n",
            "\n"
          ],
          "name": "stdout"
        }
      ]
    },
    {
      "cell_type": "markdown",
      "metadata": {
        "id": "RRm1SkjPel7c",
        "colab_type": "text"
      },
      "source": [
        "## 파일에 새로운 내용 추가하기"
      ]
    },
    {
      "cell_type": "code",
      "metadata": {
        "id": "uK_L74rqekGi",
        "colab_type": "code",
        "colab": {}
      },
      "source": [
        "# 파일에 원래 있던 값을 유지하면서 단지 새로운 값만 추가\n",
        "# 파일을 추가 모드('a')로 열고 쓴다."
      ],
      "execution_count": 0,
      "outputs": []
    },
    {
      "cell_type": "markdown",
      "metadata": {
        "id": "Eg2bJj1YepqL",
        "colab_type": "text"
      },
      "source": [
        "## adddata"
      ]
    },
    {
      "cell_type": "code",
      "metadata": {
        "id": "Eu7x1IaCeovn",
        "colab_type": "code",
        "colab": {}
      },
      "source": [
        "f = open(\"새파일.txt\", \"a\")\n",
        "for i in range(11, 20):\n",
        "    data = \"%d번째 줄입니다.\\n\" % i\n",
        "    f.write(data)\n",
        "f.close()"
      ],
      "execution_count": 0,
      "outputs": []
    },
    {
      "cell_type": "markdown",
      "metadata": {
        "id": "P017RcNlerrM",
        "colab_type": "text"
      },
      "source": [
        "## 수정된 파일 확인"
      ]
    },
    {
      "cell_type": "code",
      "metadata": {
        "id": "xj-5tloueqtJ",
        "colab_type": "code",
        "colab": {
          "base_uri": "https://localhost:8080/",
          "height": 372
        },
        "outputId": "4676c71b-53a9-458a-e997-4ef9549ce3db"
      },
      "source": [
        "f = open(\"새파일.txt\", \"r\")\n",
        "data = f.read()\n",
        "print(data)\n",
        "f.close()"
      ],
      "execution_count": 15,
      "outputs": [
        {
          "output_type": "stream",
          "text": [
            "1번째 줄입니다.\n",
            "2번째 줄입니다.\n",
            "3번째 줄입니다.\n",
            "4번째 줄입니다.\n",
            "5번째 줄입니다.\n",
            "6번째 줄입니다.\n",
            "7번째 줄입니다.\n",
            "8번째 줄입니다.\n",
            "9번째 줄입니다.\n",
            "10번째 줄입니다.\n",
            "11번째 줄입니다.\n",
            "12번째 줄입니다.\n",
            "13번째 줄입니다.\n",
            "14번째 줄입니다.\n",
            "15번째 줄입니다.\n",
            "16번째 줄입니다.\n",
            "17번째 줄입니다.\n",
            "18번째 줄입니다.\n",
            "19번째 줄입니다.\n",
            "\n"
          ],
          "name": "stdout"
        }
      ]
    },
    {
      "cell_type": "markdown",
      "metadata": {
        "id": "4dSeZHOVeuMF",
        "colab_type": "text"
      },
      "source": [
        "## with문과 함께 사용하기"
      ]
    },
    {
      "cell_type": "code",
      "metadata": {
        "id": "kJpu3PrTesiV",
        "colab_type": "code",
        "colab": {}
      },
      "source": [
        "# with문을 사용하면 with 블록을 벗어나는 순간\n",
        "# 열린 파일 객체 f가 자동으로 close 된다."
      ],
      "execution_count": 0,
      "outputs": []
    },
    {
      "cell_type": "code",
      "metadata": {
        "id": "zhOpnCrsewMX",
        "colab_type": "code",
        "colab": {
          "base_uri": "https://localhost:8080/",
          "height": 34
        },
        "outputId": "e6abf913-bd79-419e-dba7-825da08fb8f7"
      },
      "source": [
        "f = open(\"foo.txt\", \"w\")\n",
        "f.write(\"Life is too short, you need python\")"
      ],
      "execution_count": 21,
      "outputs": [
        {
          "output_type": "execute_result",
          "data": {
            "text/plain": [
              "34"
            ]
          },
          "metadata": {
            "tags": []
          },
          "execution_count": 21
        }
      ]
    },
    {
      "cell_type": "code",
      "metadata": {
        "id": "m4BnCnyoj2mx",
        "colab_type": "code",
        "colab": {}
      },
      "source": [
        "f.close()"
      ],
      "execution_count": 0,
      "outputs": []
    },
    {
      "cell_type": "code",
      "metadata": {
        "id": "1CiTdGcEew-T",
        "colab_type": "code",
        "colab": {}
      },
      "source": [
        "with open(\"foo1.txt\", \"w\") as f:\n",
        "    f.write(\"Life is too short, you need python\")"
      ],
      "execution_count": 0,
      "outputs": []
    },
    {
      "cell_type": "markdown",
      "metadata": {
        "id": "3poguvGwezps",
        "colab_type": "text"
      },
      "source": [
        "## sys 모듈로 매개변수 주기"
      ]
    },
    {
      "cell_type": "markdown",
      "metadata": {
        "id": "UinihXuLe3sU",
        "colab_type": "text"
      },
      "source": [
        "## sys1"
      ]
    },
    {
      "cell_type": "code",
      "metadata": {
        "id": "7xv4XGZfexzT",
        "colab_type": "code",
        "colab": {
          "base_uri": "https://localhost:8080/",
          "height": 52
        },
        "outputId": "e159a523-9cc8-43a6-bd81-81b86ba40c9e"
      },
      "source": [
        "\"\"\"\n",
        "import sys\n",
        "\n",
        "args = sys.argv[1:]\n",
        "for i in args:\n",
        "    print(i)\n",
        "\"\"\""
      ],
      "execution_count": 30,
      "outputs": [
        {
          "output_type": "stream",
          "text": [
            "-f\n",
            "/root/.local/share/jupyter/runtime/kernel-ffc5bfa1-18db-442c-9fc2-8766a2cfc7c5.json\n"
          ],
          "name": "stdout"
        }
      ]
    },
    {
      "cell_type": "markdown",
      "metadata": {
        "id": "ccXWVrBLe520",
        "colab_type": "text"
      },
      "source": [
        "## ys2"
      ]
    },
    {
      "cell_type": "code",
      "metadata": {
        "id": "tW0yPQP-e1Tr",
        "colab_type": "code",
        "colab": {
          "base_uri": "https://localhost:8080/",
          "height": 34
        },
        "outputId": "f9c544e2-5207-4d22-ffe6-464ebe115d56"
      },
      "source": [
        "\"\"\"\n",
        "import sys\n",
        "args = sys.argv[1:]\n",
        "for i in args:\n",
        "    print(i.upper(), end=' ')\n",
        "\"\"\""
      ],
      "execution_count": 29,
      "outputs": [
        {
          "output_type": "execute_result",
          "data": {
            "text/plain": [
              "\"\\nimport sys\\nargs = sys.argv[1:]\\nfor i in args:\\n    print(i.upper(), end=' ')\\n\""
            ]
          },
          "metadata": {
            "tags": []
          },
          "execution_count": 29
        }
      ]
    }
  ]
}