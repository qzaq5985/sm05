{
  "nbformat": 4,
  "nbformat_minor": 0,
  "metadata": {
    "colab": {
      "name": "ch4_01_function.ipynb",
      "provenance": [],
      "collapsed_sections": [],
      "toc_visible": true,
      "include_colab_link": true
    },
    "kernelspec": {
      "name": "python3",
      "display_name": "Python 3"
    }
  },
  "cells": [
    {
      "cell_type": "markdown",
      "metadata": {
        "id": "view-in-github",
        "colab_type": "text"
      },
      "source": [
        "<a href=\"https://colab.research.google.com/github/qzaq5985/sm05/blob/master/ch04/ch4_01_function.ipynb\" target=\"_parent\"><img src=\"https://colab.research.google.com/assets/colab-badge.svg\" alt=\"Open In Colab\"/></a>"
      ]
    },
    {
      "cell_type": "markdown",
      "metadata": {
        "id": "B9ZWoo2PQSSe",
        "colab_type": "text"
      },
      "source": [
        "# function : 함수란 무엇인가?\n",
        "### 입력값을 가지고 어떤 일을 수행한 다음에 \n",
        "### 그 결과물을 내어놓는 것"
      ]
    },
    {
      "cell_type": "markdown",
      "metadata": {
        "id": "BG3QjuW6QdTX",
        "colab_type": "text"
      },
      "source": [
        "## 함수를 사용하는 이유는 무엇일까?\n",
        "### 반복되는 부분을 함수로 전환.\n",
        "### 코딩을 모듈화"
      ]
    },
    {
      "cell_type": "markdown",
      "metadata": {
        "id": "_Vkq11e3QvPl",
        "colab_type": "text"
      },
      "source": [
        "## 파이썬 함수의 구조\n",
        "\n",
        "### def 함수명(매개변수):\n",
        "###    <수행할 문장1>\n",
        "###    <수행할 문장2>"
      ]
    },
    {
      "cell_type": "markdown",
      "metadata": {
        "id": "fck4FQhmQ6q9",
        "colab_type": "text"
      },
      "source": [
        "## add() 함수를 정의"
      ]
    },
    {
      "cell_type": "code",
      "metadata": {
        "id": "lKo9Go2OQFpr",
        "colab_type": "code",
        "colab": {}
      },
      "source": [
        "def add(a, b): \n",
        "    return a + b\n"
      ],
      "execution_count": 0,
      "outputs": []
    },
    {
      "cell_type": "markdown",
      "metadata": {
        "id": "fX4KqT-MQ-8V",
        "colab_type": "text"
      },
      "source": [
        "## add() 함수를 사용"
      ]
    },
    {
      "cell_type": "code",
      "metadata": {
        "id": "FhMVkKQ3Q9ip",
        "colab_type": "code",
        "colab": {
          "base_uri": "https://localhost:8080/",
          "height": 34
        },
        "outputId": "8744fbba-9f35-47e3-bc61-63e66e1794a8"
      },
      "source": [
        "a=3\n",
        "b=4\n",
        "c=add(a,b)\n",
        "print(c)"
      ],
      "execution_count": 5,
      "outputs": [
        {
          "output_type": "stream",
          "text": [
            "7\n"
          ],
          "name": "stdout"
        }
      ]
    },
    {
      "cell_type": "code",
      "metadata": {
        "id": "DeIaC7HbRAxG",
        "colab_type": "code",
        "colab": {
          "base_uri": "https://localhost:8080/",
          "height": 34
        },
        "outputId": "2f626ffe-d6d2-45a0-e62c-f77381427b17"
      },
      "source": [
        "\n",
        "\n",
        "x=[1,2,3]\n",
        "y=[4,5,6]\n",
        "z=x+y\n",
        "print(z)"
      ],
      "execution_count": 6,
      "outputs": [
        {
          "output_type": "stream",
          "text": [
            "[1, 2, 3, 4, 5, 6]\n"
          ],
          "name": "stdout"
        }
      ]
    },
    {
      "cell_type": "markdown",
      "metadata": {
        "id": "B3Qx7EFrRD7A",
        "colab_type": "text"
      },
      "source": [
        "## 매개변수와 인수릐 차이를 이해하자!\n",
        "### 매개변수는 함수에 입력으로 전달된 값을 받는 변수\n",
        "### 인수는 함수를 호출할 때 전달하는 입력값을 의미\n",
        "## add() 함수에서의 매개변수와 인수"
      ]
    },
    {
      "cell_type": "code",
      "metadata": {
        "id": "G_iyLdC2RBX8",
        "colab_type": "code",
        "colab": {
          "base_uri": "https://localhost:8080/",
          "height": 54
        },
        "outputId": "e4f501df-b572-4b6b-cecf-419810621543"
      },
      "source": [
        "\"\"\"\n",
        "def add(a, b):  # a, b는 매개변수\n",
        "    return a+b\n",
        "\n",
        "print(add(3, 4))  # 3, 4는 인수\n",
        "\n",
        "\"\"\""
      ],
      "execution_count": 7,
      "outputs": [
        {
          "output_type": "execute_result",
          "data": {
            "text/plain": [
              "'\\ndef add(a, b):  # a, b는 매개변수\\n    return a+b\\n\\nprint(add(3, 4))  # 3, 4는 인수\\n\\n'"
            ]
          },
          "metadata": {
            "tags": []
          },
          "execution_count": 7
        }
      ]
    },
    {
      "cell_type": "markdown",
      "metadata": {
        "id": "YPkf0EvERY6l",
        "colab_type": "text"
      },
      "source": [
        "## 입력값과 결괏값에 따른 함수의 형태"
      ]
    },
    {
      "cell_type": "code",
      "metadata": {
        "id": "4eeLKWAuRWrD",
        "colab_type": "code",
        "colab": {
          "base_uri": "https://localhost:8080/",
          "height": 34
        },
        "outputId": "1980a623-e10b-48a6-c3c7-68790eafd647"
      },
      "source": [
        "# 입력값 ---> 함수 ----> 결괏값\n",
        "# 일반적인 함수\n",
        "# 입력값과 결괏값이 있는 함수\n",
        "\"\"\"\n",
        "def 함수이름(매개변수):\n",
        "    <수행할 문장>\n",
        "    ...\n",
        "    return 결과값\n",
        "\"\"\""
      ],
      "execution_count": 8,
      "outputs": [
        {
          "output_type": "execute_result",
          "data": {
            "text/plain": [
              "'\\ndef 함수이름(매개변수):\\n    <수행할 문장>\\n    ...\\n    return 결과값\\n'"
            ]
          },
          "metadata": {
            "tags": []
          },
          "execution_count": 8
        }
      ]
    },
    {
      "cell_type": "code",
      "metadata": {
        "id": "fbpiDwIARreJ",
        "colab_type": "code",
        "colab": {}
      },
      "source": [
        "def add2(a, b): \n",
        "    result = a + b \n",
        "    return result"
      ],
      "execution_count": 0,
      "outputs": []
    },
    {
      "cell_type": "markdown",
      "metadata": {
        "id": "tnR-R8W5RxQ3",
        "colab_type": "text"
      },
      "source": [
        "## 입력값과 결괏값이 있는 함수의 사용법\n",
        "## 결괏값을 받을 변수 = 함수이름(입력인수1, 입력인수2, ...)"
      ]
    },
    {
      "cell_type": "code",
      "metadata": {
        "id": "62CDjWVlRst4",
        "colab_type": "code",
        "colab": {
          "base_uri": "https://localhost:8080/",
          "height": 34
        },
        "outputId": "007a5ebb-453d-424b-8128-cb2f72f2d352"
      },
      "source": [
        "a = add2(3, 4)\n",
        "print(a)\n"
      ],
      "execution_count": 10,
      "outputs": [
        {
          "output_type": "stream",
          "text": [
            "7\n"
          ],
          "name": "stdout"
        }
      ]
    },
    {
      "cell_type": "markdown",
      "metadata": {
        "id": "-5jfvISjR0qe",
        "colab_type": "text"
      },
      "source": [
        "## 입력값이 없는 함수"
      ]
    },
    {
      "cell_type": "code",
      "metadata": {
        "id": "jD_SbY8NRzNs",
        "colab_type": "code",
        "colab": {}
      },
      "source": [
        "def say(): \n",
        "    return 'Hi'"
      ],
      "execution_count": 0,
      "outputs": []
    },
    {
      "cell_type": "markdown",
      "metadata": {
        "id": "bLGLls-MR3g9",
        "colab_type": "text"
      },
      "source": [
        "## 입력값이 없는 함수의 사용법\n",
        "## 결괏값을 받을 변수 = 함수이름()"
      ]
    },
    {
      "cell_type": "markdown",
      "metadata": {
        "id": "9LtREl14R-pd",
        "colab_type": "text"
      },
      "source": [
        "## 결괏값이 없는 함수"
      ]
    },
    {
      "cell_type": "code",
      "metadata": {
        "id": "GUO7EHlOR2Cg",
        "colab_type": "code",
        "colab": {
          "base_uri": "https://localhost:8080/",
          "height": 34
        },
        "outputId": "0dc6c1f5-14de-4564-f561-d210dc5ac769"
      },
      "source": [
        "a = say()\n",
        "print(a)"
      ],
      "execution_count": 12,
      "outputs": [
        {
          "output_type": "stream",
          "text": [
            "Hi\n"
          ],
          "name": "stdout"
        }
      ]
    },
    {
      "cell_type": "code",
      "metadata": {
        "id": "V3rX6rmqR_b6",
        "colab_type": "code",
        "colab": {}
      },
      "source": [
        "def add3(a, b): \n",
        "    print(\"%d, %d의 합은 %d입니다.\" % (a, b, a+b))"
      ],
      "execution_count": 0,
      "outputs": []
    },
    {
      "cell_type": "markdown",
      "metadata": {
        "id": "VfXTknF8SB7l",
        "colab_type": "text"
      },
      "source": [
        "## 결괏값이 없는 함수의 사용법\n",
        "## 함수이름(입력인수1, 입력인수2, ...)"
      ]
    },
    {
      "cell_type": "code",
      "metadata": {
        "id": "uUlJOQJVSAyo",
        "colab_type": "code",
        "colab": {
          "base_uri": "https://localhost:8080/",
          "height": 34
        },
        "outputId": "37dc7b5c-4254-4ee5-f8f7-28f48dca395b"
      },
      "source": [
        "add3(3, 4)"
      ],
      "execution_count": 14,
      "outputs": [
        {
          "output_type": "stream",
          "text": [
            "3, 4의 합은 7입니다.\n"
          ],
          "name": "stdout"
        }
      ]
    },
    {
      "cell_type": "markdown",
      "metadata": {
        "id": "4m30vsrwSEYu",
        "colab_type": "text"
      },
      "source": [
        "## 다음 결과는 무엇인가?"
      ]
    },
    {
      "cell_type": "code",
      "metadata": {
        "id": "Ugvv1BfdSDgO",
        "colab_type": "code",
        "colab": {
          "base_uri": "https://localhost:8080/",
          "height": 52
        },
        "outputId": "4f74150e-9f6e-4124-de01-9275f425d4ce"
      },
      "source": [
        "a = add3(3, 4)\n",
        "print(a)"
      ],
      "execution_count": 15,
      "outputs": [
        {
          "output_type": "stream",
          "text": [
            "3, 4의 합은 7입니다.\n",
            "None\n"
          ],
          "name": "stdout"
        }
      ]
    },
    {
      "cell_type": "markdown",
      "metadata": {
        "id": "N4QIu-0ySHId",
        "colab_type": "text"
      },
      "source": [
        "## 입력값도 결괏값도 없는 함수\n"
      ]
    },
    {
      "cell_type": "code",
      "metadata": {
        "id": "8UuApxtGSFvf",
        "colab_type": "code",
        "colab": {}
      },
      "source": [
        "def say2(): \n",
        "    print('Hi')"
      ],
      "execution_count": 0,
      "outputs": []
    },
    {
      "cell_type": "markdown",
      "metadata": {
        "id": "xMnG851HSJuO",
        "colab_type": "text"
      },
      "source": [
        "## 입력값도 결괏값도 없는 함수의 사용법\n",
        "## 함수이름()"
      ]
    },
    {
      "cell_type": "code",
      "metadata": {
        "id": "A9Hn9BplSIKp",
        "colab_type": "code",
        "colab": {
          "base_uri": "https://localhost:8080/",
          "height": 34
        },
        "outputId": "b0ffd05c-2334-4ef3-e175-2978ad65186f"
      },
      "source": [
        "say()"
      ],
      "execution_count": 17,
      "outputs": [
        {
          "output_type": "execute_result",
          "data": {
            "text/plain": [
              "'Hi'"
            ]
          },
          "metadata": {
            "tags": []
          },
          "execution_count": 17
        }
      ]
    },
    {
      "cell_type": "markdown",
      "metadata": {
        "id": "iDUZNwHRS591",
        "colab_type": "text"
      },
      "source": [
        "## 매개변수의 값을 지정하여 호출하기"
      ]
    },
    {
      "cell_type": "code",
      "metadata": {
        "id": "ONVF47iXS3q9",
        "colab_type": "code",
        "colab": {}
      },
      "source": [
        "def add4(a, b):\n",
        "    return a+b"
      ],
      "execution_count": 0,
      "outputs": []
    },
    {
      "cell_type": "code",
      "metadata": {
        "id": "q9MdeRvaS7nE",
        "colab_type": "code",
        "colab": {
          "base_uri": "https://localhost:8080/",
          "height": 34
        },
        "outputId": "27125fab-3a83-46ac-c437-c6c738a35588"
      },
      "source": [
        "result = add4(a=3, b=7)  # a에 3, b에 7을 전달\n",
        "print(result)"
      ],
      "execution_count": 19,
      "outputs": [
        {
          "output_type": "stream",
          "text": [
            "10\n"
          ],
          "name": "stdout"
        }
      ]
    },
    {
      "cell_type": "markdown",
      "metadata": {
        "id": "SiM4sXXCS9hr",
        "colab_type": "text"
      },
      "source": [
        "## 매개변수의 순서에 상관없이 사용"
      ]
    },
    {
      "cell_type": "code",
      "metadata": {
        "id": "xBAmv3coS8yP",
        "colab_type": "code",
        "colab": {
          "base_uri": "https://localhost:8080/",
          "height": 34
        },
        "outputId": "1c495bb9-8945-4518-b452-a6e33b93f56a"
      },
      "source": [
        "result = add4(b=5, a=3)  # b에 5, a에 3을 전달\n",
        "print(result)"
      ],
      "execution_count": 20,
      "outputs": [
        {
          "output_type": "stream",
          "text": [
            "8\n"
          ],
          "name": "stdout"
        }
      ]
    },
    {
      "cell_type": "markdown",
      "metadata": {
        "id": "89TdsaF-TBE2",
        "colab_type": "text"
      },
      "source": [
        "## 매개변수의 값을 초기화하여 정의하기"
      ]
    },
    {
      "cell_type": "code",
      "metadata": {
        "id": "Ah4JHW_PS_OE",
        "colab_type": "code",
        "colab": {}
      },
      "source": [
        "def add5(a=1, b=2):\n",
        "    return a+b"
      ],
      "execution_count": 0,
      "outputs": []
    },
    {
      "cell_type": "code",
      "metadata": {
        "id": "_nu874QATCR8",
        "colab_type": "code",
        "colab": {
          "base_uri": "https://localhost:8080/",
          "height": 34
        },
        "outputId": "2ed7ff0d-5121-45ee-dbca-113cd7d0fef1"
      },
      "source": [
        "add5()"
      ],
      "execution_count": 22,
      "outputs": [
        {
          "output_type": "execute_result",
          "data": {
            "text/plain": [
              "3"
            ]
          },
          "metadata": {
            "tags": []
          },
          "execution_count": 22
        }
      ]
    },
    {
      "cell_type": "markdown",
      "metadata": {
        "id": "zoE8nwTiTGV9",
        "colab_type": "text"
      },
      "source": [
        "## 입력값이 몇 개가 될지 모를 때는 어떻게 해야 할까?"
      ]
    },
    {
      "cell_type": "code",
      "metadata": {
        "id": "CYQto8T5TCpw",
        "colab_type": "code",
        "colab": {
          "base_uri": "https://localhost:8080/",
          "height": 34
        },
        "outputId": "8da1ec31-5f2e-4262-9d9d-bfbbc9bdd48f"
      },
      "source": [
        "\"\"\"\n",
        "def 함수이름(*매개변수): \n",
        "    <수행할 문장>\n",
        "    ...\n",
        "\"\"\""
      ],
      "execution_count": 23,
      "outputs": [
        {
          "output_type": "execute_result",
          "data": {
            "text/plain": [
              "'\\ndef 함수이름(*매개변수): \\n    <수행할 문장>\\n    ...\\n'"
            ]
          },
          "metadata": {
            "tags": []
          },
          "execution_count": 23
        }
      ]
    },
    {
      "cell_type": "code",
      "metadata": {
        "id": "ZQu2jahUTHvS",
        "colab_type": "code",
        "colab": {}
      },
      "source": [
        "def add_many(*args):\n",
        "    result = 0 \n",
        "    for i in args: \n",
        "        result = result + i \n",
        "    return result "
      ],
      "execution_count": 0,
      "outputs": []
    },
    {
      "cell_type": "code",
      "metadata": {
        "id": "M95tv0_0TIxC",
        "colab_type": "code",
        "colab": {
          "base_uri": "https://localhost:8080/",
          "height": 34
        },
        "outputId": "c5f38217-da61-4c7d-cfd2-f6025af8d3a7"
      },
      "source": [
        "add_many(1, 2, 3)\n",
        "add_many(1, 2, 3, 4, 5, 6, 7, 8, 9)"
      ],
      "execution_count": 25,
      "outputs": [
        {
          "output_type": "execute_result",
          "data": {
            "text/plain": [
              "45"
            ]
          },
          "metadata": {
            "tags": []
          },
          "execution_count": 25
        }
      ]
    },
    {
      "cell_type": "code",
      "metadata": {
        "id": "H2YJ-TcATJ4r",
        "colab_type": "code",
        "colab": {
          "base_uri": "https://localhost:8080/",
          "height": 34
        },
        "outputId": "bace732d-7738-4d95-a484-42379bf16b8b"
      },
      "source": [
        "result = add_many(1,2,3,4,5,6,7,8,9,10)\n",
        "print(result)"
      ],
      "execution_count": 26,
      "outputs": [
        {
          "output_type": "stream",
          "text": [
            "55\n"
          ],
          "name": "stdout"
        }
      ]
    },
    {
      "cell_type": "markdown",
      "metadata": {
        "id": "eXT_gaCGTpWM",
        "colab_type": "text"
      },
      "source": [
        "## 여러 개의 입력을 처리하는 함수(*args)"
      ]
    },
    {
      "cell_type": "code",
      "metadata": {
        "id": "sgbHDJAfTKxO",
        "colab_type": "code",
        "colab": {}
      },
      "source": [
        "def add_mul(choice, *args):\n",
        "    if choice == \"add\":\n",
        "        result = 0 \n",
        "        for i in args:\n",
        "            result = result + i \n",
        "    elif choice == \"mul\":\n",
        "        result = 1 \n",
        "        for i in args: \n",
        "            result = result * i \n",
        "    return result "
      ],
      "execution_count": 0,
      "outputs": []
    },
    {
      "cell_type": "markdown",
      "metadata": {
        "id": "sC4RtnykTrY_",
        "colab_type": "text"
      },
      "source": [
        "## add"
      ]
    },
    {
      "cell_type": "code",
      "metadata": {
        "id": "pOenuz95TqfN",
        "colab_type": "code",
        "colab": {
          "base_uri": "https://localhost:8080/",
          "height": 34
        },
        "outputId": "88bce3f6-14b0-4434-d0d8-1240021e282f"
      },
      "source": [
        "result = add_mul('add', 1,2,3,4,5)\n",
        "print(result)"
      ],
      "execution_count": 28,
      "outputs": [
        {
          "output_type": "stream",
          "text": [
            "15\n"
          ],
          "name": "stdout"
        }
      ]
    },
    {
      "cell_type": "markdown",
      "metadata": {
        "id": "80_eTVpKTuNA",
        "colab_type": "text"
      },
      "source": [
        "## add"
      ]
    },
    {
      "cell_type": "code",
      "metadata": {
        "id": "vz4g2KERTs4R",
        "colab_type": "code",
        "colab": {
          "base_uri": "https://localhost:8080/",
          "height": 34
        },
        "outputId": "d0e001cb-eba7-49cf-8af6-533a462a023b"
      },
      "source": [
        "result = add_mul('mul', 1,2,3,4,5)\n",
        "print(result)"
      ],
      "execution_count": 29,
      "outputs": [
        {
          "output_type": "stream",
          "text": [
            "120\n"
          ],
          "name": "stdout"
        }
      ]
    },
    {
      "cell_type": "markdown",
      "metadata": {
        "id": "SanyVhDqTxXt",
        "colab_type": "text"
      },
      "source": [
        "## 키워드 파라미터 kwargs"
      ]
    },
    {
      "cell_type": "code",
      "metadata": {
        "id": "wK1Ad6XYTvVV",
        "colab_type": "code",
        "colab": {}
      },
      "source": [
        "def print_kwargs(**kwargs):\n",
        "    print(kwargs)"
      ],
      "execution_count": 0,
      "outputs": []
    },
    {
      "cell_type": "markdown",
      "metadata": {
        "id": "X4620zbUUZfE",
        "colab_type": "text"
      },
      "source": [
        "## print_kwargs 함수는 매개변수 kwargs를 출력하는 함수"
      ]
    },
    {
      "cell_type": "code",
      "metadata": {
        "id": "EsGyNNrqTy5D",
        "colab_type": "code",
        "colab": {
          "base_uri": "https://localhost:8080/",
          "height": 34
        },
        "outputId": "23fa07e7-3948-40d3-e822-cdcd26272536"
      },
      "source": [
        "print_kwargs(a=1)"
      ],
      "execution_count": 31,
      "outputs": [
        {
          "output_type": "stream",
          "text": [
            "{'a': 1}\n"
          ],
          "name": "stdout"
        }
      ]
    },
    {
      "cell_type": "code",
      "metadata": {
        "id": "beSh-ASFUavY",
        "colab_type": "code",
        "colab": {
          "base_uri": "https://localhost:8080/",
          "height": 34
        },
        "outputId": "9807b901-6060-40c2-8c77-ddba2f134286"
      },
      "source": [
        "print_kwargs(name='foo', age=3)"
      ],
      "execution_count": 32,
      "outputs": [
        {
          "output_type": "stream",
          "text": [
            "{'name': 'foo', 'age': 3}\n"
          ],
          "name": "stdout"
        }
      ]
    },
    {
      "cell_type": "markdown",
      "metadata": {
        "id": "LA5ef6sFUdx-",
        "colab_type": "text"
      },
      "source": [
        "### **kwargs처럼 매개변수 이름 앞에 **을 붙이면 매개변수 \n",
        "### kwargs는 딕셔너리가 되고 모든 key=value 형태의 결괏값이 \n",
        "### 그 딕셔너리에 저장된다."
      ]
    },
    {
      "cell_type": "markdown",
      "metadata": {
        "id": "0EVSlf0iUhml",
        "colab_type": "text"
      },
      "source": [
        "## 함수의 결괏값은 언제나 하나"
      ]
    },
    {
      "cell_type": "code",
      "metadata": {
        "id": "mE1gB5fdUbTV",
        "colab_type": "code",
        "colab": {}
      },
      "source": [
        "def add_and_mul(a,b): \n",
        "    return a+b, a*b"
      ],
      "execution_count": 0,
      "outputs": []
    },
    {
      "cell_type": "markdown",
      "metadata": {
        "id": "mykfJL_SUjqO",
        "colab_type": "text"
      },
      "source": [
        "## add_and_mul() 사용 1."
      ]
    },
    {
      "cell_type": "code",
      "metadata": {
        "id": "zm6e87wzUijf",
        "colab_type": "code",
        "colab": {
          "base_uri": "https://localhost:8080/",
          "height": 34
        },
        "outputId": "f43db87a-68a5-4e60-e44f-954dc24b1df1"
      },
      "source": [
        "result = add_and_mul(3,4)\n",
        "\n",
        "print(result)"
      ],
      "execution_count": 34,
      "outputs": [
        {
          "output_type": "stream",
          "text": [
            "(7, 12)\n"
          ],
          "name": "stdout"
        }
      ]
    },
    {
      "cell_type": "markdown",
      "metadata": {
        "id": "N4X-bRtBUlyV",
        "colab_type": "text"
      },
      "source": [
        "## add_and_mul() 사용 2."
      ]
    },
    {
      "cell_type": "code",
      "metadata": {
        "id": "A-i5uGFDUk4X",
        "colab_type": "code",
        "colab": {}
      },
      "source": [
        "result1, result2 = add_and_mul(3, 4)"
      ],
      "execution_count": 0,
      "outputs": []
    },
    {
      "cell_type": "code",
      "metadata": {
        "id": "d53SH51MUoAS",
        "colab_type": "code",
        "colab": {
          "base_uri": "https://localhost:8080/",
          "height": 34
        },
        "outputId": "9554ea9e-6d40-40d7-af0a-0de69bb069de"
      },
      "source": [
        "result1, result2"
      ],
      "execution_count": 36,
      "outputs": [
        {
          "output_type": "execute_result",
          "data": {
            "text/plain": [
              "(7, 12)"
            ]
          },
          "metadata": {
            "tags": []
          },
          "execution_count": 36
        }
      ]
    },
    {
      "cell_type": "markdown",
      "metadata": {
        "id": "-xhyuPH2U4Iv",
        "colab_type": "text"
      },
      "source": [
        "## 잘못된 함수"
      ]
    },
    {
      "cell_type": "code",
      "metadata": {
        "id": "GTJnjynTUogK",
        "colab_type": "code",
        "colab": {}
      },
      "source": [
        "def add_and_mul2(a,b): \n",
        "    return a+b \n",
        "    return a*b  # Not working!!"
      ],
      "execution_count": 0,
      "outputs": []
    },
    {
      "cell_type": "code",
      "metadata": {
        "id": "NrEt_SaQU7Ys",
        "colab_type": "code",
        "outputId": "cace7478-4b16-4ba4-960e-9101ad4715d9",
        "colab": {
          "base_uri": "https://localhost:8080/",
          "height": 34
        }
      },
      "source": [
        "result = add_and_mul2(2, 3)\n",
        "print(result)"
      ],
      "execution_count": 38,
      "outputs": [
        {
          "output_type": "stream",
          "text": [
            "5\n"
          ],
          "name": "stdout"
        }
      ]
    },
    {
      "cell_type": "markdown",
      "metadata": {
        "id": "Rt9m2bkrVd2V",
        "colab_type": "text"
      },
      "source": [
        "## return 의 용도: 함수 실행 종료"
      ]
    },
    {
      "cell_type": "code",
      "metadata": {
        "colab_type": "code",
        "id": "7w9eTvcnVgUb",
        "colab": {}
      },
      "source": [
        "def say_nick(nick): \n",
        "    if nick == \"바보\": \n",
        "        return \n",
        "    print(\"나의 별명은 %s 입니다.\" % nick)"
      ],
      "execution_count": 0,
      "outputs": []
    },
    {
      "cell_type": "code",
      "metadata": {
        "id": "IvzzLyz4VhBx",
        "colab_type": "code",
        "colab": {
          "base_uri": "https://localhost:8080/",
          "height": 34
        },
        "outputId": "c2bf8487-94b2-4a26-931a-221f3479f1b8"
      },
      "source": [
        "say_nick(\"홍길동\")"
      ],
      "execution_count": 40,
      "outputs": [
        {
          "output_type": "stream",
          "text": [
            "나의 별명은 홍길동 입니다.\n"
          ],
          "name": "stdout"
        }
      ]
    },
    {
      "cell_type": "code",
      "metadata": {
        "id": "FS0FToQXVkFG",
        "colab_type": "code",
        "colab": {}
      },
      "source": [
        "say_nick(\"바보\")"
      ],
      "execution_count": 0,
      "outputs": []
    },
    {
      "cell_type": "markdown",
      "metadata": {
        "id": "mW2Thh7mVnHQ",
        "colab_type": "text"
      },
      "source": [
        "## 매개변수에 초깃값 미리 설정하기"
      ]
    },
    {
      "cell_type": "code",
      "metadata": {
        "id": "O-Eq5WR5VjEC",
        "colab_type": "code",
        "colab": {}
      },
      "source": [
        "def say_myself(name, old, man=True): \n",
        "    print(\"나의 이름은 %s 입니다.\" % name) \n",
        "    print(\"나이는 %d살입니다.\" % old) \n",
        "    if man: \n",
        "        print(\"남자입니다.\")\n",
        "    else: \n",
        "        print(\"여자입니다.\")"
      ],
      "execution_count": 0,
      "outputs": []
    },
    {
      "cell_type": "code",
      "metadata": {
        "id": "wl4zwcQAVoIx",
        "colab_type": "code",
        "colab": {
          "base_uri": "https://localhost:8080/",
          "height": 70
        },
        "outputId": "f4da0405-025e-4c25-b692-27aa1681f7aa"
      },
      "source": [
        "say_myself(\"박응용\", 27)"
      ],
      "execution_count": 43,
      "outputs": [
        {
          "output_type": "stream",
          "text": [
            "나의 이름은 박응용 입니다.\n",
            "나이는 27살입니다.\n",
            "남자입니다.\n"
          ],
          "name": "stdout"
        }
      ]
    },
    {
      "cell_type": "code",
      "metadata": {
        "id": "QhFKQPzsVqcB",
        "colab_type": "code",
        "colab": {
          "base_uri": "https://localhost:8080/",
          "height": 70
        },
        "outputId": "2d8e5b9a-41d7-4e0c-b6d7-a479c5e1387c"
      },
      "source": [
        "say_myself(\"박응용\", 27, True)"
      ],
      "execution_count": 44,
      "outputs": [
        {
          "output_type": "stream",
          "text": [
            "나의 이름은 박응용 입니다.\n",
            "나이는 27살입니다.\n",
            "남자입니다.\n"
          ],
          "name": "stdout"
        }
      ]
    },
    {
      "cell_type": "code",
      "metadata": {
        "id": "Qc3xTnvEVq-3",
        "colab_type": "code",
        "colab": {
          "base_uri": "https://localhost:8080/",
          "height": 70
        },
        "outputId": "e7120e43-e9df-4c01-df61-25d7cbc574a6"
      },
      "source": [
        "say_myself(\"박응용\", 27, False)"
      ],
      "execution_count": 45,
      "outputs": [
        {
          "output_type": "stream",
          "text": [
            "나의 이름은 박응용 입니다.\n",
            "나이는 27살입니다.\n",
            "여자입니다.\n"
          ],
          "name": "stdout"
        }
      ]
    },
    {
      "cell_type": "markdown",
      "metadata": {
        "id": "xnHnAh0oWJOF",
        "colab_type": "text"
      },
      "source": [
        "## 파이썬에서 초기값이 지정된 변수는 무조건 맨끝에 있어야한다는 규칙이 있다.\n",
        "\n",
        "### 초깃값을 설정해 놓은 매개변수 뒤에 \n",
        "### 초깃값을 설정해 놓지 않은 매개변수는 사용할 수 없다\n",
        "### 초기화시키고 싶은 매개변수를 항상 뒤쪽에 놓는다.\n",
        "\n",
        "### Error code\n"
      ]
    },
    {
      "cell_type": "code",
      "metadata": {
        "id": "C_PiZJI5Vo7p",
        "colab_type": "code",
        "colab": {
          "base_uri": "https://localhost:8080/",
          "height": 54
        },
        "outputId": "8431596c-df83-49d8-99a2-12ad5b4698e4"
      },
      "source": [
        "\"\"\"\n",
        "def say_myself2(name, man=True, old): \n",
        "    print(\"나의 이름은 %s 입니다.\" % name) \n",
        "    print(\"나이는 %d살입니다.\" % old) \n",
        "    if man: \n",
        "        print(\"남자입니다.\") \n",
        "    else:\n",
        "        print(\"여자입니다.\")\n",
        "\n",
        "\"\"\""
      ],
      "execution_count": 46,
      "outputs": [
        {
          "output_type": "execute_result",
          "data": {
            "text/plain": [
              "'\\ndef say_myself2(name, man=True, old): \\n    print(\"나의 이름은 %s 입니다.\" % name) \\n    print(\"나이는 %d살입니다.\" % old) \\n    if man: \\n        print(\"남자입니다.\") \\n    else:\\n        print(\"여자입니다.\")\\n\\n'"
            ]
          },
          "metadata": {
            "tags": []
          },
          "execution_count": 46
        }
      ]
    },
    {
      "cell_type": "markdown",
      "metadata": {
        "id": "DvV6syTtWc1E",
        "colab_type": "text"
      },
      "source": [
        "## 함수 안에서 선언한 변수의 효력 범위\n",
        "### 전역변수\n",
        "### 지역 변수, 자동 변수"
      ]
    },
    {
      "cell_type": "markdown",
      "metadata": {
        "id": "SfyDfAaVWn4v",
        "colab_type": "text"
      },
      "source": [
        "## vartest"
      ]
    },
    {
      "cell_type": "code",
      "metadata": {
        "id": "ayKojIqEWFtC",
        "colab_type": "code",
        "colab": {}
      },
      "source": [
        "a = 1\n",
        "def vartest(a):\n",
        "    a = a +1"
      ],
      "execution_count": 0,
      "outputs": []
    },
    {
      "cell_type": "code",
      "metadata": {
        "id": "V7ZLWaVqWrDQ",
        "colab_type": "code",
        "colab": {
          "base_uri": "https://localhost:8080/",
          "height": 34
        },
        "outputId": "5fe0f223-3a86-4634-d9a0-04e0095ac4de"
      },
      "source": [
        "vartest(a)\n",
        "print(a)"
      ],
      "execution_count": 48,
      "outputs": [
        {
          "output_type": "stream",
          "text": [
            "1\n"
          ],
          "name": "stdout"
        }
      ]
    },
    {
      "cell_type": "markdown",
      "metadata": {
        "id": "LSmb33WaXIJt",
        "colab_type": "text"
      },
      "source": [
        "\n",
        "## vartest_error"
      ]
    },
    {
      "cell_type": "code",
      "metadata": {
        "colab_type": "code",
        "id": "3x5EkT4eWwvO",
        "outputId": "70ebab25-3fdb-41c4-c6e4-c77a45b64097",
        "colab": {
          "base_uri": "https://localhost:8080/",
          "height": 34
        }
      },
      "source": [
        "'''\n",
        "def vartest2(z):\n",
        "    z = z + 1\n",
        "    vartest2(3)\n",
        "print(z)  # Error\n",
        "'''"
      ],
      "execution_count": 49,
      "outputs": [
        {
          "output_type": "execute_result",
          "data": {
            "text/plain": [
              "'\\ndef vartest2(z):\\n    z = z + 1\\n    vartest2(3)\\nprint(z)  # Error\\n'"
            ]
          },
          "metadata": {
            "tags": []
          },
          "execution_count": 49
        }
      ]
    },
    {
      "cell_type": "markdown",
      "metadata": {
        "id": "hhpFt2a1XXPA",
        "colab_type": "text"
      },
      "source": [
        "## 함수 안에서 함수 밖의 변수를 변경하는 방법\n",
        "### return 사용\n",
        "### global 변수 사용"
      ]
    },
    {
      "cell_type": "markdown",
      "metadata": {
        "id": "7B7WaaadXbJx",
        "colab_type": "text"
      },
      "source": [
        "## 1. return 사용하기"
      ]
    },
    {
      "cell_type": "code",
      "metadata": {
        "id": "ubwae9zdXK2w",
        "colab_type": "code",
        "colab": {}
      },
      "source": [
        "a = 1 \n",
        "def vartest3(a): \n",
        "    a = a +1 \n",
        "    return a"
      ],
      "execution_count": 0,
      "outputs": []
    },
    {
      "cell_type": "code",
      "metadata": {
        "id": "o6lkNO9VXdR5",
        "colab_type": "code",
        "colab": {
          "base_uri": "https://localhost:8080/",
          "height": 34
        },
        "outputId": "e73ed977-e568-4941-f010-09d18af324e3"
      },
      "source": [
        "a = vartest3(a) \n",
        "print(a)"
      ],
      "execution_count": 51,
      "outputs": [
        {
          "output_type": "stream",
          "text": [
            "2\n"
          ],
          "name": "stdout"
        }
      ]
    },
    {
      "cell_type": "markdown",
      "metadata": {
        "id": "pzpOTzIzXe5s",
        "colab_type": "text"
      },
      "source": [
        "## 2. global 명령어 사용하기"
      ]
    },
    {
      "cell_type": "code",
      "metadata": {
        "id": "VlVKBtnoXchP",
        "colab_type": "code",
        "colab": {}
      },
      "source": [
        "a = 1 \n",
        "def vartest4(): \n",
        "    global a \n",
        "    a = a+1"
      ],
      "execution_count": 0,
      "outputs": []
    },
    {
      "cell_type": "code",
      "metadata": {
        "id": "Gew6u5uxXf1O",
        "colab_type": "code",
        "colab": {
          "base_uri": "https://localhost:8080/",
          "height": 34
        },
        "outputId": "b9104354-bb4b-4fa3-8d1d-a28a06d41dcd"
      },
      "source": [
        "vartest4() \n",
        "print(a)"
      ],
      "execution_count": 53,
      "outputs": [
        {
          "output_type": "stream",
          "text": [
            "2\n"
          ],
          "name": "stdout"
        }
      ]
    },
    {
      "cell_type": "markdown",
      "metadata": {
        "id": "5BZ2fEvpXj0U",
        "colab_type": "text"
      },
      "source": [
        "## lambda\n",
        "\n",
        "#### lambda는 함수를 생성할 때 사용하는 예약어로 def와 동일한 역할을 한다. \n",
        "### 보통 함수를 한줄로 간결하게 만들 때 사용한다."
      ]
    },
    {
      "cell_type": "markdown",
      "metadata": {
        "id": "VG6amGqbXoO0",
        "colab_type": "text"
      },
      "source": [
        "### lambda 사용법\n",
        "### lambda 매개변수1, 매개변수2, ... : 매개변수를 이용한 표현식"
      ]
    },
    {
      "cell_type": "markdown",
      "metadata": {
        "id": "SCI8bqbFXtXl",
        "colab_type": "text"
      },
      "source": [
        "## lambda를 이용한 add 함수"
      ]
    },
    {
      "cell_type": "code",
      "metadata": {
        "id": "fWjO01zMXgzM",
        "colab_type": "code",
        "colab": {}
      },
      "source": [
        "add = lambda a, b: a+b"
      ],
      "execution_count": 0,
      "outputs": []
    },
    {
      "cell_type": "code",
      "metadata": {
        "id": "oKLhz8BRXv6n",
        "colab_type": "code",
        "colab": {
          "base_uri": "https://localhost:8080/",
          "height": 34
        },
        "outputId": "cffea3af-f9a4-4272-c808-c6692a615d7a"
      },
      "source": [
        "result = add(3, 4)\n",
        "print(result)\n",
        "# lambda 예약어로 만든 함수는 return 명령어가 없어도 결괏값을 돌려준다."
      ],
      "execution_count": 55,
      "outputs": [
        {
          "output_type": "stream",
          "text": [
            "7\n"
          ],
          "name": "stdout"
        }
      ]
    },
    {
      "cell_type": "markdown",
      "metadata": {
        "id": "ireRN0F8Xzl8",
        "colab_type": "text"
      },
      "source": [
        "## lambda 함수의 응용"
      ]
    },
    {
      "cell_type": "code",
      "metadata": {
        "id": "couLseGkXw-7",
        "colab_type": "code",
        "colab": {
          "base_uri": "https://localhost:8080/",
          "height": 34
        },
        "outputId": "60dfc88d-af2e-4110-b497-a197a6cc421a"
      },
      "source": [
        "models = ['K-3000', 'N-1000', 'T-2000', 'X-5000']\n",
        "sorted(models, key=lambda x: x[-4:])"
      ],
      "execution_count": 56,
      "outputs": [
        {
          "output_type": "execute_result",
          "data": {
            "text/plain": [
              "['N-1000', 'T-2000', 'K-3000', 'X-5000']"
            ]
          },
          "metadata": {
            "tags": []
          },
          "execution_count": 56
        }
      ]
    }
  ]
}