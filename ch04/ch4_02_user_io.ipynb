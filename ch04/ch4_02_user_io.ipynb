{
  "nbformat": 4,
  "nbformat_minor": 0,
  "metadata": {
    "colab": {
      "name": "ch4_02_user_io.ipynb",
      "provenance": [],
      "collapsed_sections": [],
      "include_colab_link": true
    },
    "kernelspec": {
      "name": "python3",
      "display_name": "Python 3"
    }
  },
  "cells": [
    {
      "cell_type": "markdown",
      "metadata": {
        "id": "view-in-github",
        "colab_type": "text"
      },
      "source": [
        "<a href=\"https://colab.research.google.com/github/qzaq5985/sm05/blob/master/ch04/ch4_02_user_io.ipynb\" target=\"_parent\"><img src=\"https://colab.research.google.com/assets/colab-badge.svg\" alt=\"Open In Colab\"/></a>"
      ]
    },
    {
      "cell_type": "markdown",
      "metadata": {
        "id": "iw6WGhqabw1W",
        "colab_type": "text"
      },
      "source": [
        "# user : 사용자 입력과 출력"
      ]
    },
    {
      "cell_type": "markdown",
      "metadata": {
        "id": "04Vdbeanb4QU",
        "colab_type": "text"
      },
      "source": [
        "## 사용자의 입력을 받는 방법과 출력하는 방법"
      ]
    },
    {
      "cell_type": "markdown",
      "metadata": {
        "id": "vuH3o7F5b75E",
        "colab_type": "text"
      },
      "source": [
        "## 사용자 입력"
      ]
    },
    {
      "cell_type": "code",
      "metadata": {
        "id": "HW0KLzj9buXl",
        "colab_type": "code",
        "colab": {}
      },
      "source": [
        "# 사용자가 입력한 값을 어떤 변수에 대입"
      ],
      "execution_count": 0,
      "outputs": []
    },
    {
      "cell_type": "markdown",
      "metadata": {
        "id": "qTMKNFltb_fE",
        "colab_type": "text"
      },
      "source": [
        "## input의 사용"
      ]
    },
    {
      "cell_type": "code",
      "metadata": {
        "id": "btHYvfn1b-Wx",
        "colab_type": "code",
        "colab": {
          "base_uri": "https://localhost:8080/",
          "height": 34
        },
        "outputId": "829d5374-53d3-450f-b361-1ec1a3485175"
      },
      "source": [
        "a = input()\n",
        "# Life is too short, you need python"
      ],
      "execution_count": 2,
      "outputs": [
        {
          "output_type": "stream",
          "text": [
            "1\n"
          ],
          "name": "stdout"
        }
      ]
    },
    {
      "cell_type": "code",
      "metadata": {
        "id": "zDPakLkScB0T",
        "colab_type": "code",
        "colab": {
          "base_uri": "https://localhost:8080/",
          "height": 34
        },
        "outputId": "59c59b50-8581-4d39-bc21-3994ebc1cac6"
      },
      "source": [
        "a"
      ],
      "execution_count": 3,
      "outputs": [
        {
          "output_type": "execute_result",
          "data": {
            "text/plain": [
              "'1'"
            ]
          },
          "metadata": {
            "tags": []
          },
          "execution_count": 3
        }
      ]
    },
    {
      "cell_type": "markdown",
      "metadata": {
        "id": "HtRTJFQUcEws",
        "colab_type": "text"
      },
      "source": [
        "## 입력 안내 문구를 이용한 input의 사용"
      ]
    },
    {
      "cell_type": "code",
      "metadata": {
        "id": "jfRLitTNcCw5",
        "colab_type": "code",
        "colab": {
          "base_uri": "https://localhost:8080/",
          "height": 52
        },
        "outputId": "0877fd21-f0cf-4449-b980-d431ab9e2d66"
      },
      "source": [
        "# input(\"안내 문구\")\n",
        "\n",
        "number = input(\"숫자를 입력하세요: \")\n",
        "\n",
        "print(number)"
      ],
      "execution_count": 4,
      "outputs": [
        {
          "output_type": "stream",
          "text": [
            "숫자를 입력하세요: 13\n",
            "13\n"
          ],
          "name": "stdout"
        }
      ]
    },
    {
      "cell_type": "markdown",
      "metadata": {
        "id": "bezY810tcI08",
        "colab_type": "text"
      },
      "source": [
        "## 사용자 출력: print()"
      ]
    },
    {
      "cell_type": "code",
      "metadata": {
        "id": "Uhsui3vEcGzX",
        "colab_type": "code",
        "colab": {}
      },
      "source": [
        "# 입력한 자료형을 출력"
      ],
      "execution_count": 0,
      "outputs": []
    },
    {
      "cell_type": "markdown",
      "metadata": {
        "id": "yPEKOaDCcNSw",
        "colab_type": "text"
      },
      "source": [
        "## print의 사용"
      ]
    },
    {
      "cell_type": "code",
      "metadata": {
        "id": "uVbbd8MWcM2L",
        "colab_type": "code",
        "colab": {
          "base_uri": "https://localhost:8080/",
          "height": 34
        },
        "outputId": "bc5c5f50-f27b-4b54-a237-6185da35801a"
      },
      "source": [
        "a = 123\n",
        "print(a)"
      ],
      "execution_count": 6,
      "outputs": [
        {
          "output_type": "stream",
          "text": [
            "123\n"
          ],
          "name": "stdout"
        }
      ]
    },
    {
      "cell_type": "code",
      "metadata": {
        "id": "lw-novdbcOzT",
        "colab_type": "code",
        "colab": {
          "base_uri": "https://localhost:8080/",
          "height": 34
        },
        "outputId": "a53101d0-cf1b-4ecd-b85e-dded548c3575"
      },
      "source": [
        "a = \"Python\"\n",
        "print(a)"
      ],
      "execution_count": 7,
      "outputs": [
        {
          "output_type": "stream",
          "text": [
            "Python\n"
          ],
          "name": "stdout"
        }
      ]
    },
    {
      "cell_type": "code",
      "metadata": {
        "id": "kICch2S6cPoM",
        "colab_type": "code",
        "colab": {
          "base_uri": "https://localhost:8080/",
          "height": 34
        },
        "outputId": "985663d8-28c1-49fb-fcbf-c22a0b115bb8"
      },
      "source": [
        "a = [1, 2, 3]\n",
        "print(a)"
      ],
      "execution_count": 8,
      "outputs": [
        {
          "output_type": "stream",
          "text": [
            "[1, 2, 3]\n"
          ],
          "name": "stdout"
        }
      ]
    },
    {
      "cell_type": "markdown",
      "metadata": {
        "id": "o52cVM0QcSlC",
        "colab_type": "text"
      },
      "source": [
        "## 큰따옴표(\\\")로 둘러싸인 문자열은 + 연산과 동일"
      ]
    },
    {
      "cell_type": "code",
      "metadata": {
        "id": "h65KmOcDcQhY",
        "colab_type": "code",
        "colab": {
          "base_uri": "https://localhost:8080/",
          "height": 52
        },
        "outputId": "87d6fba6-7643-4124-dfeb-72a8b2e01685"
      },
      "source": [
        "print(\"life\" \"is\" \"too short\")\n",
        "print(\"life\"+\"is\"+\"too short\")"
      ],
      "execution_count": 9,
      "outputs": [
        {
          "output_type": "stream",
          "text": [
            "lifeistoo short\n",
            "lifeistoo short\n"
          ],
          "name": "stdout"
        }
      ]
    },
    {
      "cell_type": "markdown",
      "metadata": {
        "id": "5vSzhK64cVjV",
        "colab_type": "text"
      },
      "source": [
        "## 문자열 띄어쓰기는 콤마로 한다"
      ]
    },
    {
      "cell_type": "code",
      "metadata": {
        "id": "xX_ZpKo8cTnt",
        "colab_type": "code",
        "colab": {
          "base_uri": "https://localhost:8080/",
          "height": 34
        },
        "outputId": "2caa0cfe-b783-4f7f-8e27-3194e2ecca5d"
      },
      "source": [
        "print(\"life\", \"is\", \"too short\")"
      ],
      "execution_count": 10,
      "outputs": [
        {
          "output_type": "stream",
          "text": [
            "life is too short\n"
          ],
          "name": "stdout"
        }
      ]
    },
    {
      "cell_type": "markdown",
      "metadata": {
        "id": "wYahejvqcZf0",
        "colab_type": "text"
      },
      "source": [
        "## 한 줄에 결괏값 출력하기"
      ]
    },
    {
      "cell_type": "code",
      "metadata": {
        "id": "YOEafgCScWzV",
        "colab_type": "code",
        "colab": {
          "base_uri": "https://localhost:8080/",
          "height": 34
        },
        "outputId": "034815f5-6249-4e9a-d74b-05dc8b1bd195"
      },
      "source": [
        "for i in range(10):\n",
        "    print(i, end=' ') # end = ' ' 이 한줄로 결괏값을 출력하게 해준다."
      ],
      "execution_count": 11,
      "outputs": [
        {
          "output_type": "stream",
          "text": [
            "0 1 2 3 4 5 6 7 8 9 "
          ],
          "name": "stdout"
        }
      ]
    }
  ]
}