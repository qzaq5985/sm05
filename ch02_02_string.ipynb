{
  "nbformat": 4,
  "nbformat_minor": 0,
  "metadata": {
    "colab": {
      "name": "ch02_02_string.ipynb",
      "provenance": [],
      "collapsed_sections": [],
      "include_colab_link": true
    },
    "kernelspec": {
      "name": "python2",
      "display_name": "Python 2"
    }
  },
  "cells": [
    {
      "cell_type": "markdown",
      "metadata": {
        "id": "view-in-github",
        "colab_type": "text"
      },
      "source": [
        "<a href=\"https://colab.research.google.com/github/qzaq5985/sm05/blob/master/ch02_02_string.ipynb\" target=\"_parent\"><img src=\"https://colab.research.google.com/assets/colab-badge.svg\" alt=\"Open In Colab\"/></a>"
      ]
    },
    {
      "cell_type": "markdown",
      "metadata": {
        "id": "K82Xq-6LuNaE",
        "colab_type": "text"
      },
      "source": [
        "# 파이썬 데이터형: 문자형"
      ]
    },
    {
      "cell_type": "markdown",
      "metadata": {
        "id": "T1EIcUpYsx23",
        "colab_type": "text"
      },
      "source": [
        "##파이썬 데이터 문자열"
      ]
    },
    {
      "cell_type": "code",
      "metadata": {
        "id": "0dr8vV0zoAiP",
        "colab_type": "code",
        "colab": {
          "base_uri": "https://localhost:8080/",
          "height": 53
        },
        "outputId": "4632dc86-bf8c-46ab-9c74-026e4a62d519"
      },
      "source": [
        "print(\"문자열: '\")\n",
        "food = \"Python's favorite food is perl\"\n",
        "print(food)\n",
        "\n"
      ],
      "execution_count": 14,
      "outputs": [
        {
          "output_type": "stream",
          "text": [
            "문자열: '\n",
            "Python's favorite food is perl\n"
          ],
          "name": "stdout"
        }
      ]
    },
    {
      "cell_type": "markdown",
      "metadata": {
        "id": "3y9Q6oMes07Z",
        "colab_type": "text"
      },
      "source": [
        "## 에러뜨는경우"
      ]
    },
    {
      "cell_type": "code",
      "metadata": {
        "id": "baih1fbfp1Jo",
        "colab_type": "code",
        "colab": {
          "base_uri": "https://localhost:8080/",
          "height": 136
        },
        "outputId": "a13190ff-ecee-47f6-be57-50e24f685479"
      },
      "source": [
        "\n",
        "food = 'Python's favorite food is perl'  # Error"
      ],
      "execution_count": 62,
      "outputs": [
        {
          "output_type": "error",
          "ename": "SyntaxError",
          "evalue": "ignored",
          "traceback": [
            "\u001b[0;36m  File \u001b[0;32m\"<ipython-input-62-34120456e536>\"\u001b[0;36m, line \u001b[0;32m2\u001b[0m\n\u001b[0;31m    food = 'Python's favorite food is perl'  # Error\u001b[0m\n\u001b[0m                   ^\u001b[0m\n\u001b[0;31mSyntaxError\u001b[0m\u001b[0;31m:\u001b[0m invalid syntax\n"
          ]
        }
      ]
    },
    {
      "cell_type": "markdown",
      "metadata": {
        "id": "ZPUoKToBs3cQ",
        "colab_type": "text"
      },
      "source": [
        "## 에러가 안뜨려면 ''안에 \"\" 이용"
      ]
    },
    {
      "cell_type": "code",
      "metadata": {
        "id": "q9A3VrjspoYj",
        "colab_type": "code",
        "colab": {
          "base_uri": "https://localhost:8080/",
          "height": 71
        },
        "outputId": "0d54c881-3856-4884-a372-0f47e2e02f3e"
      },
      "source": [
        "say = '\"Python is very easy.\" he says.'\n",
        "\n",
        "print(\"문자열: \\ 이용\")\n",
        "food = 'Python\\'s favorite food is perl'\n",
        "say = \"\\\"Python is very easy.\\\" he says.\"\n",
        "print(food)\n",
        "print(say)\n",
        "\n"
      ],
      "execution_count": 12,
      "outputs": [
        {
          "output_type": "stream",
          "text": [
            "문자열: \\ 이용\n",
            "Python's favorite food is perl\n",
            "\"Python is very easy.\" he says.\n"
          ],
          "name": "stdout"
        }
      ]
    },
    {
      "cell_type": "markdown",
      "metadata": {
        "id": "DUmoafh0tDSB",
        "colab_type": "text"
      },
      "source": [
        "## 이스케이프 코드"
      ]
    },
    {
      "cell_type": "code",
      "metadata": {
        "id": "_OoVZC9VoHWh",
        "colab_type": "code",
        "colab": {
          "base_uri": "https://localhost:8080/",
          "height": 107
        },
        "outputId": "461c22c8-269e-4e67-ba54-e5872ac032b2"
      },
      "source": [
        "print(\"문자열: 이스케이프 코드 이용\")\n",
        "multiline = \"Life is too short\\nYou need python\"\n",
        "print(multiline)\n",
        "print(multiline) # print함수는 제어코드를 처리해줌\n"
      ],
      "execution_count": 16,
      "outputs": [
        {
          "output_type": "stream",
          "text": [
            "문자열: 이스케이프 코드 이용\n",
            "Life is too short\n",
            "You need python\n",
            "Life is too short\n",
            "You need python\n"
          ],
          "name": "stdout"
        }
      ]
    },
    {
      "cell_type": "markdown",
      "metadata": {
        "id": "eeMM6POMtF3L",
        "colab_type": "text"
      },
      "source": [
        "## 여러줄 문자열 처리"
      ]
    },
    {
      "cell_type": "code",
      "metadata": {
        "id": "L1Fmbkl9oQBp",
        "colab_type": "code",
        "colab": {
          "base_uri": "https://localhost:8080/",
          "height": 35
        },
        "outputId": "dbcf125e-4e38-4fe4-9acb-070ec741f602"
      },
      "source": [
        "\n",
        "multiline = '''\n",
        "... Life is too short\n",
        "... You need python\n",
        "... '''\n",
        "multiline"
      ],
      "execution_count": 67,
      "outputs": [
        {
          "output_type": "execute_result",
          "data": {
            "text/plain": [
              "'\\n... Life is too short\\n... You need python\\n... '"
            ]
          },
          "metadata": {
            "tags": []
          },
          "execution_count": 67
        }
      ]
    },
    {
      "cell_type": "code",
      "metadata": {
        "id": "b8oUm4ChthKE",
        "colab_type": "code",
        "colab": {
          "base_uri": "https://localhost:8080/",
          "height": 89
        },
        "outputId": "9a461e23-555a-46f1-9505-226cffd0874c"
      },
      "source": [
        "print(multiline)"
      ],
      "execution_count": 66,
      "outputs": [
        {
          "output_type": "stream",
          "text": [
            "\n",
            "... Life is too short\n",
            "... You need python\n",
            "... \n"
          ],
          "name": "stdout"
        }
      ]
    },
    {
      "cell_type": "markdown",
      "metadata": {
        "id": "ft2o7aCBtH1o",
        "colab_type": "text"
      },
      "source": [
        "## 문자열 연산: 더하기"
      ]
    },
    {
      "cell_type": "code",
      "metadata": {
        "id": "df7cxVH-oSUx",
        "colab_type": "code",
        "colab": {
          "base_uri": "https://localhost:8080/",
          "height": 53
        },
        "outputId": "02fe0bee-eaf1-4fa8-81ad-216dd3c6f526"
      },
      "source": [
        "print(\"문자열 연산: 더하기\")\n",
        "head = \"Python\"\n",
        "tail = \" is fun!\"\n",
        "print(head + tail)\n"
      ],
      "execution_count": 18,
      "outputs": [
        {
          "output_type": "stream",
          "text": [
            "문자열 연산: 더하기\n",
            "Python is fun!\n"
          ],
          "name": "stdout"
        }
      ]
    },
    {
      "cell_type": "markdown",
      "metadata": {
        "id": "TrTVoEIUtJwn",
        "colab_type": "text"
      },
      "source": [
        "## 문자열 연산: 곱하기"
      ]
    },
    {
      "cell_type": "code",
      "metadata": {
        "id": "ou-7kCqkoUZy",
        "colab_type": "code",
        "colab": {
          "base_uri": "https://localhost:8080/",
          "height": 53
        },
        "outputId": "a961e282-a78f-484b-97e1-c291a9306c89"
      },
      "source": [
        "print(\"문자열 연산: 곱하기\")\n",
        "a = \"python\"\n",
        "print(a * 2)\n",
        "\n"
      ],
      "execution_count": 19,
      "outputs": [
        {
          "output_type": "stream",
          "text": [
            "문자열 연산: 곱하기\n",
            "pythonpython\n"
          ],
          "name": "stdout"
        }
      ]
    },
    {
      "cell_type": "markdown",
      "metadata": {
        "id": "auhpkkSvtPQf",
        "colab_type": "text"
      },
      "source": [
        "## multistring.py"
      ]
    },
    {
      "cell_type": "code",
      "metadata": {
        "id": "sCJ6S6f2oW3Z",
        "colab_type": "code",
        "colab": {
          "base_uri": "https://localhost:8080/",
          "height": 71
        },
        "outputId": "642a5276-9f44-4c62-8138-38a5ab2f8a70"
      },
      "source": [
        "print(\"=\" * 50)\n",
        "print(\"I am now coding Python!\")\n",
        "print(\"=\" * 50)"
      ],
      "execution_count": 20,
      "outputs": [
        {
          "output_type": "stream",
          "text": [
            "==================================================\n",
            "I am now coding Python!\n",
            "==================================================\n"
          ],
          "name": "stdout"
        }
      ]
    },
    {
      "cell_type": "markdown",
      "metadata": {
        "id": "CJ7AhPsktRRy",
        "colab_type": "text"
      },
      "source": [
        "## 내장함수: len()"
      ]
    },
    {
      "cell_type": "code",
      "metadata": {
        "id": "gBuHyr19oZIR",
        "colab_type": "code",
        "colab": {
          "base_uri": "https://localhost:8080/",
          "height": 53
        },
        "outputId": "87af0fa0-8a6f-4809-d555-99f586ec6466"
      },
      "source": [
        "print(\"문자열 연산: 길이 구하기 - len()\")\n",
        "a = \"Life is too short\"\n",
        "print(len(a))\n",
        "\n"
      ],
      "execution_count": 21,
      "outputs": [
        {
          "output_type": "stream",
          "text": [
            "문자열 연산: 길이 구하기 - len()\n",
            "17\n"
          ],
          "name": "stdout"
        }
      ]
    },
    {
      "cell_type": "markdown",
      "metadata": {
        "id": "Fm2nQuZjtU8b",
        "colab_type": "text"
      },
      "source": [
        "\n",
        "## 문자열 인덱싱과 슬라이싱"
      ]
    },
    {
      "cell_type": "code",
      "metadata": {
        "id": "JR9iPa9Mobd6",
        "colab_type": "code",
        "colab": {
          "base_uri": "https://localhost:8080/",
          "height": 71
        },
        "outputId": "cc8c1a5c-1af3-43c4-9f84-da73c7fe3e4e"
      },
      "source": [
        "print(\"문자열: 인덱싱이란?\")\n",
        "a = \"Life is too short, You need Python\"\n",
        "print(a[3])\n",
        "print(a[15])"
      ],
      "execution_count": 22,
      "outputs": [
        {
          "output_type": "stream",
          "text": [
            "문자열: 인덱싱이란?\n",
            "e\n",
            "r\n"
          ],
          "name": "stdout"
        }
      ]
    },
    {
      "cell_type": "markdown",
      "metadata": {
        "id": "PW9CwvtatrBE",
        "colab_type": "text"
      },
      "source": [
        "## \"문자열: 인덱싱 활용.\""
      ]
    },
    {
      "cell_type": "code",
      "metadata": {
        "id": "lulETz5soepo",
        "colab_type": "code",
        "colab": {
          "base_uri": "https://localhost:8080/",
          "height": 89
        },
        "outputId": "f5586202-b1a4-44b5-b0b9-b5da76c3196a"
      },
      "source": [
        "print(\"문자열: 인덱싱 활용\")\n",
        "\n",
        "a = \"Life is too short, You need Python\"\n",
        "print(a[0])\n",
        "\n",
        "print(a[12])\n",
        "\n",
        "print(a[-1])\n",
        "# -1은 맨끝문자\n",
        "\n"
      ],
      "execution_count": 23,
      "outputs": [
        {
          "output_type": "stream",
          "text": [
            "문자열: 인덱싱 활용\n",
            "L\n",
            "s\n",
            "n\n"
          ],
          "name": "stdout"
        }
      ]
    },
    {
      "cell_type": "code",
      "metadata": {
        "id": "eDnfT373ohgh",
        "colab_type": "code",
        "colab": {
          "base_uri": "https://localhost:8080/",
          "height": 71
        },
        "outputId": "a1224fa9-7019-45c6-e499-8b470a000966"
      },
      "source": [
        "# a[-0]\n",
        "print(a[-2])\n",
        "print(a[-5])\n",
        "print(a[-12])\n",
        "\n"
      ],
      "execution_count": 24,
      "outputs": [
        {
          "output_type": "stream",
          "text": [
            "o\n",
            "y\n",
            " \n"
          ],
          "name": "stdout"
        }
      ]
    },
    {
      "cell_type": "markdown",
      "metadata": {
        "id": "M2L79cNitwcw",
        "colab_type": "text"
      },
      "source": [
        "## 문자열: 슬라이싱"
      ]
    },
    {
      "cell_type": "code",
      "metadata": {
        "id": "E9BV0oI3ojBx",
        "colab_type": "code",
        "colab": {
          "base_uri": "https://localhost:8080/",
          "height": 215
        },
        "outputId": "cb57d2bb-ee98-4266-d82e-245795f545ed"
      },
      "source": [
        "print(\"문자열: 슬라이싱이란?\")\n",
        "a = \"Life is too short, You need Python\"\n",
        "# Life 를 뽑아낼려면 어떻게?\n",
        "b = a[0] + a[1] + a[2] + a[3]  # 문자열 뎌하기 연산\n",
        "print(b)\n",
        "# a[0:4]  0부터 4번째 문자까지 나타냄\n",
        "# a[:]    문자를 모두 나타냄\n",
        "# a[19:-1]맨뒤에서 하나 뺀 문자를 나타냄\n",
        "\n",
        "# slicing (슬라이싱)\n",
        "print(a[0:4])  # 0 <= index < 4\n",
        "print(a[0:5])\n",
        "print(a[5:7])\n",
        "print(a[12:17])\n",
        "# : 의 사용\n",
        "print(a[:4])\n",
        "print(a[19:])\n",
        "print(a[:17])\n",
        "\n",
        "print(a[:])\n",
        "\n",
        "# a[19:-7] ?\n",
        "print(a[19:-7])\n",
        "\n"
      ],
      "execution_count": 27,
      "outputs": [
        {
          "output_type": "stream",
          "text": [
            "문자열: 슬라이싱이란?\n",
            "Life\n",
            "Life\n",
            "Life \n",
            "is\n",
            "short\n",
            "Life\n",
            "You need Python\n",
            "Life is too short\n",
            "Life is too short, You need Python\n",
            "You need\n"
          ],
          "name": "stdout"
        }
      ]
    },
    {
      "cell_type": "markdown",
      "metadata": {
        "id": "TPu2vQt1tzQ0",
        "colab_type": "text"
      },
      "source": [
        "## 문자열: 슬라이싱 응용"
      ]
    },
    {
      "cell_type": "code",
      "metadata": {
        "id": "BSgL_v1eo35w",
        "colab_type": "code",
        "colab": {
          "base_uri": "https://localhost:8080/",
          "height": 35
        },
        "outputId": "b6f03f3d-ffac-4baf-9607-54356705180c"
      },
      "source": [
        "print(\"문자열: 슬라이싱 응용?\")\n",
        "a = \"20190909Sunny\"\n",
        "date = a[:8]\n",
        "\n",
        "\n"
      ],
      "execution_count": 55,
      "outputs": [
        {
          "output_type": "stream",
          "text": [
            "문자열: 슬라이싱 응용?\n"
          ],
          "name": "stdout"
        }
      ]
    },
    {
      "cell_type": "code",
      "metadata": {
        "id": "njGSpSp2sQsN",
        "colab_type": "code",
        "colab": {}
      },
      "source": [
        "weather = a[8:]\n"
      ],
      "execution_count": 0,
      "outputs": []
    },
    {
      "cell_type": "code",
      "metadata": {
        "id": "0Y1Zg1OTsSj4",
        "colab_type": "code",
        "colab": {
          "base_uri": "https://localhost:8080/",
          "height": 35
        },
        "outputId": "f2c4fd6a-49f4-4b19-9867-fc439b14bab8"
      },
      "source": [
        "date\n"
      ],
      "execution_count": 57,
      "outputs": [
        {
          "output_type": "execute_result",
          "data": {
            "text/plain": [
              "'20190909'"
            ]
          },
          "metadata": {
            "tags": []
          },
          "execution_count": 57
        }
      ]
    },
    {
      "cell_type": "code",
      "metadata": {
        "id": "Kz3cRJ9RsTfo",
        "colab_type": "code",
        "colab": {
          "base_uri": "https://localhost:8080/",
          "height": 35
        },
        "outputId": "1c9353ab-3c39-4a93-c155-29c71b95466f"
      },
      "source": [
        "weather"
      ],
      "execution_count": 58,
      "outputs": [
        {
          "output_type": "execute_result",
          "data": {
            "text/plain": [
              "'Sunny'"
            ]
          },
          "metadata": {
            "tags": []
          },
          "execution_count": 58
        }
      ]
    },
    {
      "cell_type": "code",
      "metadata": {
        "id": "P3dA_y2zsE1w",
        "colab_type": "code",
        "colab": {
          "base_uri": "https://localhost:8080/",
          "height": 35
        },
        "outputId": "d1f14608-3886-49dd-9240-767294f22ee0"
      },
      "source": [
        "day = a[4:8]"
      ],
      "execution_count": 49,
      "outputs": [
        {
          "output_type": "execute_result",
          "data": {
            "text/plain": [
              "('2019', '0909', 'Sunny')"
            ]
          },
          "metadata": {
            "tags": []
          },
          "execution_count": 49
        }
      ]
    },
    {
      "cell_type": "code",
      "metadata": {
        "id": "zEH_TTIesIrv",
        "colab_type": "code",
        "colab": {}
      },
      "source": [
        "weather = a[8:]"
      ],
      "execution_count": 0,
      "outputs": []
    },
    {
      "cell_type": "code",
      "metadata": {
        "id": "TQJTRXg-sXdX",
        "colab_type": "code",
        "colab": {
          "base_uri": "https://localhost:8080/",
          "height": 35
        },
        "outputId": "3e38e234-8b63-483a-af88-c3412999ef61"
      },
      "source": [
        "year,day,weather"
      ],
      "execution_count": 60,
      "outputs": [
        {
          "output_type": "execute_result",
          "data": {
            "text/plain": [
              "('2019', '0909', 'Sunny')"
            ]
          },
          "metadata": {
            "tags": []
          },
          "execution_count": 60
        }
      ]
    },
    {
      "cell_type": "code",
      "metadata": {
        "id": "3_aPbOH9q9Zg",
        "colab_type": "code",
        "colab": {}
      },
      "source": [
        "a = \"20190917Rainy\"\n",
        "year = a[:4]"
      ],
      "execution_count": 0,
      "outputs": []
    },
    {
      "cell_type": "code",
      "metadata": {
        "id": "ZQYG8CgUq_Iw",
        "colab_type": "code",
        "colab": {
          "base_uri": "https://localhost:8080/",
          "height": 35
        },
        "outputId": "b52212f6-2352-4bd8-879a-7299df17e3a4"
      },
      "source": [
        "# \"Pithon\"이라는 문자열을 \"Python\"으로 바꾸려면?\n",
        "a = \"Pithon\"\n",
        "a[1]"
      ],
      "execution_count": 61,
      "outputs": [
        {
          "output_type": "execute_result",
          "data": {
            "text/plain": [
              "'i'"
            ]
          },
          "metadata": {
            "tags": []
          },
          "execution_count": 61
        }
      ]
    },
    {
      "cell_type": "markdown",
      "metadata": {
        "id": "vTOtRcbit3l7",
        "colab_type": "text"
      },
      "source": [
        ""
      ]
    },
    {
      "cell_type": "code",
      "metadata": {
        "id": "RFMgnG8crO1p",
        "colab_type": "code",
        "colab": {
          "base_uri": "https://localhost:8080/",
          "height": 136
        },
        "outputId": "37ae5721-ad50-46ee-ccea-42f16014cfbc"
      },
      "source": [
        "print(a[1] = 'y')  # Error (immutable한 자료형)"
      ],
      "execution_count": 31,
      "outputs": [
        {
          "output_type": "error",
          "ename": "SyntaxError",
          "evalue": "ignored",
          "traceback": [
            "\u001b[0;36m  File \u001b[0;32m\"<ipython-input-31-7b86ebea5ba3>\"\u001b[0;36m, line \u001b[0;32m1\u001b[0m\n\u001b[0;31m    print(a[1] = 'y')  # Error (immutable한 자료형)\u001b[0m\n\u001b[0m               ^\u001b[0m\n\u001b[0;31mSyntaxError\u001b[0m\u001b[0;31m:\u001b[0m invalid syntax\n"
          ]
        }
      ]
    },
    {
      "cell_type": "code",
      "metadata": {
        "id": "UjE9THEbrARw",
        "colab_type": "code",
        "colab": {
          "base_uri": "https://localhost:8080/",
          "height": 71
        },
        "outputId": "b67f9c02-587b-4afc-e76a-8b01de5d5da9"
      },
      "source": [
        "a = \"Pithon\"\n",
        "print(a[:1])\n",
        "print(a[2:])\n",
        "print(a[:1] + 'y' + a[2:])  # Python"
      ],
      "execution_count": 32,
      "outputs": [
        {
          "output_type": "stream",
          "text": [
            "P\n",
            "thon\n",
            "Python\n"
          ],
          "name": "stdout"
        }
      ]
    },
    {
      "cell_type": "code",
      "metadata": {
        "id": "RVODLtr0o6Nw",
        "colab_type": "code",
        "colab": {
          "base_uri": "https://localhost:8080/",
          "height": 35
        },
        "outputId": "1ddf5b0f-46b0-4e49-d70b-e9490f468363"
      },
      "source": [
        "a = \"20190917Rainy\"\n",
        "year = a[:4]\n",
        "day = a[4:8]\n",
        "weather = a[8:]\n",
        "year,day,weather\n",
        "\n"
      ],
      "execution_count": 33,
      "outputs": [
        {
          "output_type": "execute_result",
          "data": {
            "text/plain": [
              "('2019', '0917', 'Rainy')"
            ]
          },
          "metadata": {
            "tags": []
          },
          "execution_count": 33
        }
      ]
    },
    {
      "cell_type": "code",
      "metadata": {
        "id": "z6wHci1ko7aQ",
        "colab_type": "code",
        "colab": {
          "base_uri": "https://localhost:8080/",
          "height": 35
        },
        "outputId": "a9fb83af-5daa-4dae-ed46-2ccb27ed7de8"
      },
      "source": [
        "# \"Pithon\"이라는 문자열을 \"Python\"으로 바꾸려면?\n",
        "a = \"Pithon\"\n",
        "a[1]"
      ],
      "execution_count": 40,
      "outputs": [
        {
          "output_type": "execute_result",
          "data": {
            "text/plain": [
              "'i'"
            ]
          },
          "metadata": {
            "tags": []
          },
          "execution_count": 40
        }
      ]
    },
    {
      "cell_type": "code",
      "metadata": {
        "id": "2wRLDUlUrcwy",
        "colab_type": "code",
        "colab": {
          "base_uri": "https://localhost:8080/",
          "height": 172
        },
        "outputId": "9525a84e-40f8-4ddb-ffb8-f5355cdd1b8b"
      },
      "source": [
        "a[1] = 'y'  # Error (immutable한 자료형)"
      ],
      "execution_count": 39,
      "outputs": [
        {
          "output_type": "error",
          "ename": "TypeError",
          "evalue": "ignored",
          "traceback": [
            "\u001b[0;31m\u001b[0m",
            "\u001b[0;31mTypeError\u001b[0mTraceback (most recent call last)",
            "\u001b[0;32m<ipython-input-39-d2c265c7dc4d>\u001b[0m in \u001b[0;36m<module>\u001b[0;34m()\u001b[0m\n\u001b[0;32m----> 1\u001b[0;31m \u001b[0ma\u001b[0m\u001b[0;34m[\u001b[0m\u001b[0;36m1\u001b[0m\u001b[0;34m]\u001b[0m \u001b[0;34m=\u001b[0m \u001b[0;34m'y'\u001b[0m  \u001b[0;31m# Error (immutable한 자료형)\u001b[0m\u001b[0;34m\u001b[0m\u001b[0;34m\u001b[0m\u001b[0m\n\u001b[0m",
            "\u001b[0;31mTypeError\u001b[0m: 'str' object does not support item assignment"
          ]
        }
      ]
    },
    {
      "cell_type": "code",
      "metadata": {
        "id": "hM64XgARraDt",
        "colab_type": "code",
        "colab": {
          "base_uri": "https://localhost:8080/",
          "height": 35
        },
        "outputId": "bfc261c4-e704-4b86-ba55-c99df2f11b7e"
      },
      "source": [
        "#################\n",
        "a = \"Pithon\"\n",
        "a[:1]\n"
      ],
      "execution_count": 41,
      "outputs": [
        {
          "output_type": "execute_result",
          "data": {
            "text/plain": [
              "'P'"
            ]
          },
          "metadata": {
            "tags": []
          },
          "execution_count": 41
        }
      ]
    },
    {
      "cell_type": "code",
      "metadata": {
        "id": "bR58OWqirblY",
        "colab_type": "code",
        "colab": {
          "base_uri": "https://localhost:8080/",
          "height": 35
        },
        "outputId": "d1da6139-8560-42c6-c220-0ce82a8380b6"
      },
      "source": [
        "a[2:]\n"
      ],
      "execution_count": 42,
      "outputs": [
        {
          "output_type": "execute_result",
          "data": {
            "text/plain": [
              "'thon'"
            ]
          },
          "metadata": {
            "tags": []
          },
          "execution_count": 42
        }
      ]
    },
    {
      "cell_type": "code",
      "metadata": {
        "id": "YaYaoxzlrxcu",
        "colab_type": "code",
        "colab": {
          "base_uri": "https://localhost:8080/",
          "height": 35
        },
        "outputId": "9220baa9-1828-4c38-f957-cb070b09ab2c"
      },
      "source": [
        "a[:1] + 'y' + a[2:]  # Python"
      ],
      "execution_count": 43,
      "outputs": [
        {
          "output_type": "execute_result",
          "data": {
            "text/plain": [
              "'Python'"
            ]
          },
          "metadata": {
            "tags": []
          },
          "execution_count": 43
        }
      ]
    },
    {
      "cell_type": "markdown",
      "metadata": {
        "id": "TAoAm-qzutZI",
        "colab_type": "text"
      },
      "source": [
        "## String_formating"
      ]
    },
    {
      "cell_type": "markdown",
      "metadata": {
        "id": "44SoYzAXwGjk",
        "colab_type": "text"
      },
      "source": [
        "## 문자열: 포매팅"
      ]
    },
    {
      "cell_type": "code",
      "metadata": {
        "id": "1UL21IhGrxzX",
        "colab_type": "code",
        "colab": {
          "base_uri": "https://localhost:8080/",
          "height": 53
        },
        "outputId": "e79ded20-e3c4-40e7-d87d-3a1e7301f97c"
      },
      "source": [
        "print(\"문자열: 포매팅이란?\")\n",
        "# 1. 숫자 바로 대입\n",
        "\"I eat %d apples.\" % 3"
      ],
      "execution_count": 68,
      "outputs": [
        {
          "output_type": "stream",
          "text": [
            "문자열: 포매팅이란?\n"
          ],
          "name": "stdout"
        },
        {
          "output_type": "execute_result",
          "data": {
            "text/plain": [
              "'I eat 3 apples.'"
            ]
          },
          "metadata": {
            "tags": []
          },
          "execution_count": 68
        }
      ]
    },
    {
      "cell_type": "markdown",
      "metadata": {
        "id": "GWuKlDJ_wMc9",
        "colab_type": "text"
      },
      "source": [
        "##  문자열 바로 대입"
      ]
    },
    {
      "cell_type": "code",
      "metadata": {
        "id": "SuEPE4ouu7GA",
        "colab_type": "code",
        "colab": {
          "base_uri": "https://localhost:8080/",
          "height": 35
        },
        "outputId": "c38927bf-d80a-49f3-f28b-abe0608f96ae"
      },
      "source": [
        "\"I eat %s apples.\" % \"five\""
      ],
      "execution_count": 103,
      "outputs": [
        {
          "output_type": "execute_result",
          "data": {
            "text/plain": [
              "'I eat five apples.'"
            ]
          },
          "metadata": {
            "tags": []
          },
          "execution_count": 103
        }
      ]
    },
    {
      "cell_type": "markdown",
      "metadata": {
        "id": "4T3zBQRQwOX1",
        "colab_type": "text"
      },
      "source": [
        "## 숫자 값을 나타내는 변수로 대입"
      ]
    },
    {
      "cell_type": "code",
      "metadata": {
        "id": "_y-TeQS2u7wJ",
        "colab_type": "code",
        "colab": {
          "base_uri": "https://localhost:8080/",
          "height": 35
        },
        "outputId": "3b2fae47-bb5d-475b-c58e-35e1c85f6f6c"
      },
      "source": [
        "number = 3\n",
        "\"I eat %d apples.\" % number"
      ],
      "execution_count": 70,
      "outputs": [
        {
          "output_type": "execute_result",
          "data": {
            "text/plain": [
              "'I eat 3 apples.'"
            ]
          },
          "metadata": {
            "tags": []
          },
          "execution_count": 70
        }
      ]
    },
    {
      "cell_type": "markdown",
      "metadata": {
        "id": "1U2izZDiwP9x",
        "colab_type": "text"
      },
      "source": [
        "## 2개 이상의 값 넣기"
      ]
    },
    {
      "cell_type": "code",
      "metadata": {
        "id": "oZgZnrFWvA5S",
        "colab_type": "code",
        "colab": {
          "base_uri": "https://localhost:8080/",
          "height": 35
        },
        "outputId": "08049b56-dca3-40ec-852e-4f43841a308e"
      },
      "source": [
        "number = 10\n",
        "day = \"three\"\n",
        "#\"I ate %d apples. so I was sick for %s days.\" % number  # , day   # Error 튜플구조()로 넣어줘야 에러가 안뜸\n",
        "\"I ate %d apples. so I was sick for %s days.\" % (number, day)\n",
        "# 소괄호 안에 콤마(,)로 구분하여 각각의 값을 넣어 준다."
      ],
      "execution_count": 106,
      "outputs": [
        {
          "output_type": "execute_result",
          "data": {
            "text/plain": [
              "'I ate 10 apples. so I was sick for three days.'"
            ]
          },
          "metadata": {
            "tags": []
          },
          "execution_count": 106
        }
      ]
    },
    {
      "cell_type": "markdown",
      "metadata": {
        "id": "gTS3L19iwepM",
        "colab_type": "text"
      },
      "source": [
        "## 문자열: 포맷 코드"
      ]
    },
    {
      "cell_type": "code",
      "metadata": {
        "id": "SW869AmEvHJj",
        "colab_type": "code",
        "colab": {
          "base_uri": "https://localhost:8080/",
          "height": 53
        },
        "outputId": "9a73ca8e-bcd0-4a14-bb99-272c01d1bbab"
      },
      "source": [
        "print(\"문자열: 포맷 코드\")\n",
        "# %d, %s, %c, %f, %o, %x, %%\n",
        "# %s, 묵시적 형변환\n",
        "\"I have %s apples\" % 3\n",
        "\"rate is %s\" % 3.234\n",
        "\n",
        "#\"Error is %d%.\" % 98\n",
        "\"Error is %d%%.\" % 98\n",
        "# %를 출력하려면 %를 두번써야함 ex)%d%%"
      ],
      "execution_count": 107,
      "outputs": [
        {
          "output_type": "stream",
          "text": [
            "문자열: 포맷 코드\n"
          ],
          "name": "stdout"
        },
        {
          "output_type": "execute_result",
          "data": {
            "text/plain": [
              "'Error is 98%.'"
            ]
          },
          "metadata": {
            "tags": []
          },
          "execution_count": 107
        }
      ]
    },
    {
      "cell_type": "markdown",
      "metadata": {
        "id": "ojLZrqRLwmGS",
        "colab_type": "text"
      },
      "source": [
        "## 문자열: 포맷 코드와 숫자 함께 사용하기"
      ]
    },
    {
      "cell_type": "code",
      "metadata": {
        "id": "kGj8W6RQvKJY",
        "colab_type": "code",
        "colab": {
          "base_uri": "https://localhost:8080/",
          "height": 53
        },
        "outputId": "b81dfba1-2976-4de3-cdb8-953e11ddfcd2"
      },
      "source": [
        "print(\"문자열: 포맷 코드와 숫자 함께 사용하기\")\n",
        "# 1. 정렬과 공백\n",
        "\"%10s\" % \"hi\""
      ],
      "execution_count": 112,
      "outputs": [
        {
          "output_type": "stream",
          "text": [
            "문자열: 포맷 코드와 숫자 함께 사용하기\n"
          ],
          "name": "stdout"
        },
        {
          "output_type": "execute_result",
          "data": {
            "text/plain": [
              "'        hi'"
            ]
          },
          "metadata": {
            "tags": []
          },
          "execution_count": 112
        }
      ]
    },
    {
      "cell_type": "code",
      "metadata": {
        "id": "Fpupio2TwvxE",
        "colab_type": "code",
        "colab": {
          "base_uri": "https://localhost:8080/",
          "height": 35
        },
        "outputId": "6a22b793-1382-4ba9-ee68-2d2e779a5ae1"
      },
      "source": [
        "|\n",
        "\"%-10sjane.\" % \"hi\""
      ],
      "execution_count": 111,
      "outputs": [
        {
          "output_type": "execute_result",
          "data": {
            "text/plain": [
              "'hi        jane.'"
            ]
          },
          "metadata": {
            "tags": []
          },
          "execution_count": 111
        }
      ]
    },
    {
      "cell_type": "code",
      "metadata": {
        "id": "D6Erj_sTwsC4",
        "colab_type": "code",
        "colab": {
          "base_uri": "https://localhost:8080/",
          "height": 35
        },
        "outputId": "b0d5cd77-a288-4451-a849-93b3fab27224"
      },
      "source": [
        "# 2. 소수점 표현하기\n",
        "\"%0.4f\" % 3.42134234"
      ],
      "execution_count": 109,
      "outputs": [
        {
          "output_type": "execute_result",
          "data": {
            "text/plain": [
              "'3.4213'"
            ]
          },
          "metadata": {
            "tags": []
          },
          "execution_count": 109
        }
      ]
    },
    {
      "cell_type": "code",
      "metadata": {
        "id": "uZvkLPmMwtiF",
        "colab_type": "code",
        "colab": {
          "base_uri": "https://localhost:8080/",
          "height": 35
        },
        "outputId": "0955d178-3588-4946-e944-2041a4dd65b0"
      },
      "source": [
        "\n",
        "\"%10.4f\" % 3.42134234\n",
        "# 반올림이 자동으로 됨"
      ],
      "execution_count": 108,
      "outputs": [
        {
          "output_type": "execute_result",
          "data": {
            "text/plain": [
              "'    3.4213'"
            ]
          },
          "metadata": {
            "tags": []
          },
          "execution_count": 108
        }
      ]
    },
    {
      "cell_type": "markdown",
      "metadata": {
        "id": "lkV9RWBmwyQ3",
        "colab_type": "text"
      },
      "source": [
        "## 문자열: 포맷함수를 사용한 포매팅"
      ]
    },
    {
      "cell_type": "code",
      "metadata": {
        "id": "1Lvgpk-wvMix",
        "colab_type": "code",
        "colab": {
          "base_uri": "https://localhost:8080/",
          "height": 53
        },
        "outputId": "95a8d246-9df0-4573-efd8-c8063944113d"
      },
      "source": [
        "print(\"문자열: format 함수를 사용한 포매팅\")\n",
        "# 1. 숫자 바로 대입하기\n",
        "\"I eat {0} apples\".format(3)"
      ],
      "execution_count": 114,
      "outputs": [
        {
          "output_type": "stream",
          "text": [
            "문자열: format 함수를 사용한 포매팅\n"
          ],
          "name": "stdout"
        },
        {
          "output_type": "execute_result",
          "data": {
            "text/plain": [
              "'I eat 3 apples'"
            ]
          },
          "metadata": {
            "tags": []
          },
          "execution_count": 114
        }
      ]
    },
    {
      "cell_type": "code",
      "metadata": {
        "id": "gCwk4JuPw1nz",
        "colab_type": "code",
        "colab": {
          "base_uri": "https://localhost:8080/",
          "height": 35
        },
        "outputId": "11e353ad-10e3-4295-fc18-5013d5f8ac24"
      },
      "source": [
        "\n",
        "\"I eat {0} {1} apples\".format(3, 4)"
      ],
      "execution_count": 113,
      "outputs": [
        {
          "output_type": "execute_result",
          "data": {
            "text/plain": [
              "'I eat 3 4 apples'"
            ]
          },
          "metadata": {
            "tags": []
          },
          "execution_count": 113
        }
      ]
    },
    {
      "cell_type": "markdown",
      "metadata": {
        "id": "5ZLvnsKbw4sv",
        "colab_type": "text"
      },
      "source": [
        "## 2. 문자열 바로 대입하기"
      ]
    },
    {
      "cell_type": "code",
      "metadata": {
        "id": "JVuCWf83vPQV",
        "colab_type": "code",
        "colab": {
          "base_uri": "https://localhost:8080/",
          "height": 35
        },
        "outputId": "1098eaec-fd85-4a56-8090-55c680e490ee"
      },
      "source": [
        "\"I eat {0} apples\".format(\"five\")"
      ],
      "execution_count": 116,
      "outputs": [
        {
          "output_type": "execute_result",
          "data": {
            "text/plain": [
              "'I eat five apples'"
            ]
          },
          "metadata": {
            "tags": []
          },
          "execution_count": 116
        }
      ]
    },
    {
      "cell_type": "code",
      "metadata": {
        "id": "kMEGyq37w28t",
        "colab_type": "code",
        "colab": {
          "base_uri": "https://localhost:8080/",
          "height": 35
        },
        "outputId": "0d04b9eb-db73-472e-baa8-f11c67228762"
      },
      "source": [
        "\n",
        "\"I eat {0} apples from {1} boxes\".format(\"five\", \"three\")"
      ],
      "execution_count": 115,
      "outputs": [
        {
          "output_type": "execute_result",
          "data": {
            "text/plain": [
              "'I eat five apples from three boxes'"
            ]
          },
          "metadata": {
            "tags": []
          },
          "execution_count": 115
        }
      ]
    },
    {
      "cell_type": "markdown",
      "metadata": {
        "id": "xdYS47Miw67w",
        "colab_type": "text"
      },
      "source": [
        "## 3. 숫자 값을 가진 변수로 대입하기"
      ]
    },
    {
      "cell_type": "code",
      "metadata": {
        "id": "AVqmdSXBvRGd",
        "colab_type": "code",
        "colab": {
          "base_uri": "https://localhost:8080/",
          "height": 35
        },
        "outputId": "d2a93f24-eb44-4aad-da1a-e7acc972fe6d"
      },
      "source": [
        "number = 3\n",
        "\"I eat {0} apples\".format(number)"
      ],
      "execution_count": 119,
      "outputs": [
        {
          "output_type": "execute_result",
          "data": {
            "text/plain": [
              "'I eat 3 apples'"
            ]
          },
          "metadata": {
            "tags": []
          },
          "execution_count": 119
        }
      ]
    },
    {
      "cell_type": "code",
      "metadata": {
        "id": "95bUEpZAw8mz",
        "colab_type": "code",
        "colab": {
          "base_uri": "https://localhost:8080/",
          "height": 35
        },
        "outputId": "c5a7ed4d-b757-4f97-82b6-6517a05da4e2"
      },
      "source": [
        "\n",
        "\"I eat {0} apples\".format(number + 1) # number + 1 을 연산한 결과가 출력됨"
      ],
      "execution_count": 118,
      "outputs": [
        {
          "output_type": "execute_result",
          "data": {
            "text/plain": [
              "'I eat 4 apples'"
            ]
          },
          "metadata": {
            "tags": []
          },
          "execution_count": 118
        }
      ]
    },
    {
      "cell_type": "markdown",
      "metadata": {
        "id": "szoX2pJdw-h2",
        "colab_type": "text"
      },
      "source": [
        "## 2개 이상의 값 넣기"
      ]
    },
    {
      "cell_type": "code",
      "metadata": {
        "id": "ubKsCoSTvTBR",
        "colab_type": "code",
        "colab": {
          "base_uri": "https://localhost:8080/",
          "height": 35
        },
        "outputId": "a4a98d35-338a-4fd4-fde4-23c10eeb863d"
      },
      "source": [
        "number = 10\n",
        "day = \"three\"\n",
        "\"I ate {0} apples. so I was sick for {1} days.\".format(number, day)"
      ],
      "execution_count": 77,
      "outputs": [
        {
          "output_type": "execute_result",
          "data": {
            "text/plain": [
              "'I ate 10 apples. so I was sick for three days.'"
            ]
          },
          "metadata": {
            "tags": []
          },
          "execution_count": 77
        }
      ]
    },
    {
      "cell_type": "markdown",
      "metadata": {
        "id": "9c0u9yA5xCYC",
        "colab_type": "text"
      },
      "source": [
        "## 이름으로 넣기"
      ]
    },
    {
      "cell_type": "code",
      "metadata": {
        "id": "KxJc9QoxvVrz",
        "colab_type": "code",
        "colab": {
          "base_uri": "https://localhost:8080/",
          "height": 35
        },
        "outputId": "6618424b-2afb-44f2-ac2f-eec9b5b1ca37"
      },
      "source": [
        "\"I ate {number} apples. so I was sick for {day} days.\".format(number=10, day=3)"
      ],
      "execution_count": 120,
      "outputs": [
        {
          "output_type": "execute_result",
          "data": {
            "text/plain": [
              "'I ate 10 apples. so I was sick for 3 days.'"
            ]
          },
          "metadata": {
            "tags": []
          },
          "execution_count": 120
        }
      ]
    },
    {
      "cell_type": "markdown",
      "metadata": {
        "id": "4pdAC-xuxEeY",
        "colab_type": "text"
      },
      "source": [
        "## 인덱스와 이름을 혼용해서 넣기"
      ]
    },
    {
      "cell_type": "code",
      "metadata": {
        "id": "KUTMJLJCvYF1",
        "colab_type": "code",
        "colab": {
          "base_uri": "https://localhost:8080/",
          "height": 35
        },
        "outputId": "4f479804-00af-45b0-e814-87cd7b590abb"
      },
      "source": [
        "\"I ate {0} apples. so I was sick for {day} days.\".format(10, day=3)"
      ],
      "execution_count": 122,
      "outputs": [
        {
          "output_type": "execute_result",
          "data": {
            "text/plain": [
              "'I ate 10 apples. so I was sick for 3 days.'"
            ]
          },
          "metadata": {
            "tags": []
          },
          "execution_count": 122
        }
      ]
    },
    {
      "cell_type": "markdown",
      "metadata": {
        "id": "xsZWbU01xIqS",
        "colab_type": "text"
      },
      "source": [
        "## 왼쪽 정렬/ 오른쪽 정렬"
      ]
    },
    {
      "cell_type": "code",
      "metadata": {
        "id": "oe9hLUzPvarw",
        "colab_type": "code",
        "colab": {
          "base_uri": "https://localhost:8080/",
          "height": 35
        },
        "outputId": "10a9dd4d-bcc2-444a-d767-f4c8c0dfd54e"
      },
      "source": [
        "\"{0:<10}\".format(\"hi\")"
      ],
      "execution_count": 124,
      "outputs": [
        {
          "output_type": "execute_result",
          "data": {
            "text/plain": [
              "'hi        '"
            ]
          },
          "metadata": {
            "tags": []
          },
          "execution_count": 124
        }
      ]
    },
    {
      "cell_type": "code",
      "metadata": {
        "id": "f1R31ywpxHhl",
        "colab_type": "code",
        "colab": {
          "base_uri": "https://localhost:8080/",
          "height": 35
        },
        "outputId": "6f6e614d-f1a4-48fc-8afe-1bdc6377224a"
      },
      "source": [
        "\n",
        "\"{0:>10}\".format(\"hi\")"
      ],
      "execution_count": 123,
      "outputs": [
        {
          "output_type": "execute_result",
          "data": {
            "text/plain": [
              "'        hi'"
            ]
          },
          "metadata": {
            "tags": []
          },
          "execution_count": 123
        }
      ]
    },
    {
      "cell_type": "markdown",
      "metadata": {
        "id": "T067ac8TxLyj",
        "colab_type": "text"
      },
      "source": [
        "## 가운데 정렬\n"
      ]
    },
    {
      "cell_type": "code",
      "metadata": {
        "id": "MMSfNtClvc5C",
        "colab_type": "code",
        "colab": {
          "base_uri": "https://localhost:8080/",
          "height": 35
        },
        "outputId": "cd82bb0a-4992-4221-b9d2-7acd33617e73"
      },
      "source": [
        "\"{0:^10}\".format(\"hi\")"
      ],
      "execution_count": 81,
      "outputs": [
        {
          "output_type": "execute_result",
          "data": {
            "text/plain": [
              "'    hi    '"
            ]
          },
          "metadata": {
            "tags": []
          },
          "execution_count": 81
        }
      ]
    },
    {
      "cell_type": "markdown",
      "metadata": {
        "id": "PMu4TqLXxOym",
        "colab_type": "text"
      },
      "source": [
        "## 공백 채우기"
      ]
    },
    {
      "cell_type": "code",
      "metadata": {
        "id": "HUnakALqvebl",
        "colab_type": "code",
        "colab": {
          "base_uri": "https://localhost:8080/",
          "height": 35
        },
        "outputId": "c05dc99c-0d89-4dca-948c-07340696d07e"
      },
      "source": [
        "\"{0:=^10}\".format(\"hi\")\n",
        "\"{0:!<10}\".format(\"hi\")"
      ],
      "execution_count": 82,
      "outputs": [
        {
          "output_type": "execute_result",
          "data": {
            "text/plain": [
              "'hi!!!!!!!!'"
            ]
          },
          "metadata": {
            "tags": []
          },
          "execution_count": 82
        }
      ]
    },
    {
      "cell_type": "markdown",
      "metadata": {
        "id": "YzXX4U8BxRug",
        "colab_type": "text"
      },
      "source": [
        "## 도전하기"
      ]
    },
    {
      "cell_type": "code",
      "metadata": {
        "id": "htDeAzOfvgZ9",
        "colab_type": "code",
        "colab": {
          "base_uri": "https://localhost:8080/",
          "height": 35
        },
        "outputId": "59357c76-c991-43a0-f957-e945cd975704"
      },
      "source": [
        "\"{0:<10}{1:>10}\".format(\"hi\",'comsi')"
      ],
      "execution_count": 125,
      "outputs": [
        {
          "output_type": "execute_result",
          "data": {
            "text/plain": [
              "'hi             comsi'"
            ]
          },
          "metadata": {
            "tags": []
          },
          "execution_count": 125
        }
      ]
    },
    {
      "cell_type": "markdown",
      "metadata": {
        "id": "-sU5_8eJxVEq",
        "colab_type": "text"
      },
      "source": [
        "## 소수점 표현하기"
      ]
    },
    {
      "cell_type": "code",
      "metadata": {
        "id": "DjOmDfQPvjnU",
        "colab_type": "code",
        "colab": {
          "base_uri": "https://localhost:8080/",
          "height": 35
        },
        "outputId": "0303f931-76a9-4d25-95b2-e266bd8f721a"
      },
      "source": [
        "y = 3.42134234\n",
        "\"{0:0.4f}\".format(y)"
      ],
      "execution_count": 127,
      "outputs": [
        {
          "output_type": "execute_result",
          "data": {
            "text/plain": [
              "'3.4213'"
            ]
          },
          "metadata": {
            "tags": []
          },
          "execution_count": 127
        }
      ]
    },
    {
      "cell_type": "code",
      "metadata": {
        "id": "JQSGfrUpxWPJ",
        "colab_type": "code",
        "colab": {
          "base_uri": "https://localhost:8080/",
          "height": 35
        },
        "outputId": "bae0185a-dcea-4748-8fdc-627398f268ba"
      },
      "source": [
        "\n",
        "\"{0:10.4f}\".format(y)"
      ],
      "execution_count": 126,
      "outputs": [
        {
          "output_type": "execute_result",
          "data": {
            "text/plain": [
              "'    3.4213'"
            ]
          },
          "metadata": {
            "tags": []
          },
          "execution_count": 126
        }
      ]
    },
    {
      "cell_type": "markdown",
      "metadata": {
        "id": "9m5hoqF2xXtB",
        "colab_type": "text"
      },
      "source": [
        "## { 또는 } 문자 표현하기"
      ]
    },
    {
      "cell_type": "code",
      "metadata": {
        "id": "ib1JSILIvlT0",
        "colab_type": "code",
        "colab": {
          "base_uri": "https://localhost:8080/",
          "height": 35
        },
        "outputId": "3bddbb85-2454-46eb-dc07-6b70c3386629"
      },
      "source": [
        "\"{{ and }}\".format()"
      ],
      "execution_count": 128,
      "outputs": [
        {
          "output_type": "execute_result",
          "data": {
            "text/plain": [
              "'{ and }'"
            ]
          },
          "metadata": {
            "tags": []
          },
          "execution_count": 128
        }
      ]
    },
    {
      "cell_type": "markdown",
      "metadata": {
        "id": "nh_IKns6xcVM",
        "colab_type": "text"
      },
      "source": [
        "## f 문자열 포매팅  .format() 대체"
      ]
    },
    {
      "cell_type": "code",
      "metadata": {
        "id": "DbCP9Oesvnnm",
        "colab_type": "code",
        "colab": {
          "base_uri": "https://localhost:8080/",
          "height": 35
        },
        "outputId": "db778b2c-e54b-41ad-99cd-b9aefd94eebb"
      },
      "source": [
        "print(\"문자열: f 문자열 포매팅\")\n",
        "name = \"홍길동\"\n",
        "age = 30"
      ],
      "execution_count": 136,
      "outputs": [
        {
          "output_type": "stream",
          "text": [
            "문자열: f 문자열 포매팅\n"
          ],
          "name": "stdout"
        }
      ]
    },
    {
      "cell_type": "code",
      "metadata": {
        "id": "4HVrCtCGxv1K",
        "colab_type": "code",
        "colab": {
          "base_uri": "https://localhost:8080/",
          "height": 154
        },
        "outputId": "e866e843-bbc6-4a26-a9e3-2e61df7f025d"
      },
      "source": [
        "f\"나의 이름은 {name}입니다. 나이는 {age}입니다.\""
      ],
      "execution_count": 137,
      "outputs": [
        {
          "output_type": "error",
          "ename": "SyntaxError",
          "evalue": "ignored",
          "traceback": [
            "\u001b[0;36m  File \u001b[0;32m\"<ipython-input-137-2a691c35e8a1>\"\u001b[0;36m, line \u001b[0;32m1\u001b[0m\n\u001b[0;31m    f\"나의 이름은 {name}입니다. 나이는 {age}입니다.\"\u001b[0m\n\u001b[0m                                      \n^\u001b[0m\n\u001b[0;31mSyntaxError\u001b[0m\u001b[0;31m:\u001b[0m invalid syntax\n"
          ]
        }
      ]
    },
    {
      "cell_type": "code",
      "metadata": {
        "id": "cw20vJP3xgSZ",
        "colab_type": "code",
        "colab": {
          "base_uri": "https://localhost:8080/",
          "height": 154
        },
        "outputId": "91373d46-1a0c-4d10-dfcf-a0d4e3801bc4"
      },
      "source": [
        "age = 30\n",
        "f\"나는 내년이면 {age+1}살이 된다.\""
      ],
      "execution_count": 138,
      "outputs": [
        {
          "output_type": "error",
          "ename": "SyntaxError",
          "evalue": "ignored",
          "traceback": [
            "\u001b[0;36m  File \u001b[0;32m\"<ipython-input-138-be599e6ca077>\"\u001b[0;36m, line \u001b[0;32m2\u001b[0m\n\u001b[0;31m    f\"나는 내년이면 {age+1}살이 된다.\"\u001b[0m\n\u001b[0m                            \n^\u001b[0m\n\u001b[0;31mSyntaxError\u001b[0m\u001b[0;31m:\u001b[0m invalid syntax\n"
          ]
        }
      ]
    },
    {
      "cell_type": "markdown",
      "metadata": {
        "id": "YbUkjO54xzs3",
        "colab_type": "text"
      },
      "source": [
        "## 딕셔너리는 f 문자열 포매팅에서 다음과 같이 사용"
      ]
    },
    {
      "cell_type": "code",
      "metadata": {
        "id": "NZO5OpOFvrHQ",
        "colab_type": "code",
        "colab": {
          "base_uri": "https://localhost:8080/",
          "height": 154
        },
        "outputId": "355ac40a-bba6-45f6-e1b1-65e0b9c928cf"
      },
      "source": [
        "d = {\"name\": \"홍길동\", \"age\": 30}\n",
        "f'나의 이름은 {d[\"name\"]}입니다. 나이는 {d[\"age\"]}입니다.'"
      ],
      "execution_count": 139,
      "outputs": [
        {
          "output_type": "error",
          "ename": "SyntaxError",
          "evalue": "ignored",
          "traceback": [
            "\u001b[0;36m  File \u001b[0;32m\"<ipython-input-139-8627adb55f09>\"\u001b[0;36m, line \u001b[0;32m2\u001b[0m\n\u001b[0;31m    f'나의 이름은 {d[\"name\"]}입니다. 나이는 {d[\"age\"]}입니다.'\u001b[0m\n\u001b[0m                                                \n^\u001b[0m\n\u001b[0;31mSyntaxError\u001b[0m\u001b[0;31m:\u001b[0m invalid syntax\n"
          ]
        }
      ]
    },
    {
      "cell_type": "markdown",
      "metadata": {
        "id": "0l5aJEWrx2zj",
        "colab_type": "text"
      },
      "source": [
        "## 정렬"
      ]
    },
    {
      "cell_type": "code",
      "metadata": {
        "id": "faO6mN7BvtbJ",
        "colab_type": "code",
        "colab": {
          "base_uri": "https://localhost:8080/",
          "height": 136
        },
        "outputId": "576c19d6-1726-4444-ffa8-c30b20dfaccd"
      },
      "source": [
        "f'{\"hi\":<10}'  # 왼쪽 정렬"
      ],
      "execution_count": 143,
      "outputs": [
        {
          "output_type": "error",
          "ename": "SyntaxError",
          "evalue": "ignored",
          "traceback": [
            "\u001b[0;36m  File \u001b[0;32m\"<ipython-input-143-32b6b6340f2a>\"\u001b[0;36m, line \u001b[0;32m1\u001b[0m\n\u001b[0;31m    print(f'{\"hi\":<10}')  # 왼쪽 정렬\u001b[0m\n\u001b[0m                      ^\u001b[0m\n\u001b[0;31mSyntaxError\u001b[0m\u001b[0;31m:\u001b[0m invalid syntax\n"
          ]
        }
      ]
    },
    {
      "cell_type": "code",
      "metadata": {
        "id": "UZn0mi6xx36w",
        "colab_type": "code",
        "colab": {
          "base_uri": "https://localhost:8080/",
          "height": 136
        },
        "outputId": "621181a5-7a16-4b7a-90f8-44f45f60b3cd"
      },
      "source": [
        "\n",
        "f'{\"hi\":>10}'  # 오른쪽 정렬\n"
      ],
      "execution_count": 141,
      "outputs": [
        {
          "output_type": "error",
          "ename": "SyntaxError",
          "evalue": "ignored",
          "traceback": [
            "\u001b[0;36m  File \u001b[0;32m\"<ipython-input-141-e6cf883e269b>\"\u001b[0;36m, line \u001b[0;32m2\u001b[0m\n\u001b[0;31m    f'{\"hi\":>10}'  # 오른쪽 정렬\u001b[0m\n\u001b[0m                ^\u001b[0m\n\u001b[0;31mSyntaxError\u001b[0m\u001b[0;31m:\u001b[0m invalid syntax\n"
          ]
        }
      ]
    },
    {
      "cell_type": "code",
      "metadata": {
        "id": "v7OuPI_Fx4in",
        "colab_type": "code",
        "colab": {
          "base_uri": "https://localhost:8080/",
          "height": 136
        },
        "outputId": "73ce256d-9c48-4b27-e7d4-77b6bdac7ac0"
      },
      "source": [
        "f'{\"hi\":^10}'  # 가운데 정렬"
      ],
      "execution_count": 140,
      "outputs": [
        {
          "output_type": "error",
          "ename": "SyntaxError",
          "evalue": "ignored",
          "traceback": [
            "\u001b[0;36m  File \u001b[0;32m\"<ipython-input-140-e54d129cc9af>\"\u001b[0;36m, line \u001b[0;32m1\u001b[0m\n\u001b[0;31m    f'{\"hi\":^10}'  # 가운데 정렬\u001b[0m\n\u001b[0m                ^\u001b[0m\n\u001b[0;31mSyntaxError\u001b[0m\u001b[0;31m:\u001b[0m invalid syntax\n"
          ]
        }
      ]
    },
    {
      "cell_type": "markdown",
      "metadata": {
        "id": "2s4FNvOQx_JS",
        "colab_type": "text"
      },
      "source": [
        "## 공백 채우기"
      ]
    },
    {
      "cell_type": "code",
      "metadata": {
        "id": "yhJfkynpvvQ9",
        "colab_type": "code",
        "colab": {
          "base_uri": "https://localhost:8080/",
          "height": 136
        },
        "outputId": "b1f9f11a-4865-45a7-fa49-08f5d1c4f3da"
      },
      "source": [
        "y = 3.42134234\n",
        "f\"{y:0.4f}\"  # 소수점 4자리까지만 표현"
      ],
      "execution_count": 146,
      "outputs": [
        {
          "output_type": "error",
          "ename": "SyntaxError",
          "evalue": "ignored",
          "traceback": [
            "\u001b[0;36m  File \u001b[0;32m\"<ipython-input-146-6cb1135411b1>\"\u001b[0;36m, line \u001b[0;32m2\u001b[0m\n\u001b[0;31m    f\"{y:0.4f}\"  # 소수점 4자리까지만 표현\u001b[0m\n\u001b[0m              ^\u001b[0m\n\u001b[0;31mSyntaxError\u001b[0m\u001b[0;31m:\u001b[0m invalid syntax\n"
          ]
        }
      ]
    },
    {
      "cell_type": "code",
      "metadata": {
        "id": "aw94B5ECyBWj",
        "colab_type": "code",
        "colab": {
          "base_uri": "https://localhost:8080/",
          "height": 136
        },
        "outputId": "1ae1e68f-30af-4ab0-d654-1c320aa482d9"
      },
      "source": [
        "\n",
        "f\"{y:10.4f}\"  # 소수점 4자리까지 표현하고 총 자리수를 10으로 맞춤\n",
        "# { } 문자를 표시\n",
        "f\"{{ and }}\""
      ],
      "execution_count": 145,
      "outputs": [
        {
          "output_type": "error",
          "ename": "SyntaxError",
          "evalue": "ignored",
          "traceback": [
            "\u001b[0;36m  File \u001b[0;32m\"<ipython-input-145-5b31540dbe53>\"\u001b[0;36m, line \u001b[0;32m2\u001b[0m\n\u001b[0;31m    f\"{y:10.4f}\"  # 소수점 4자리까지 표현하고 총 자리수를 10으로 맞춤\u001b[0m\n\u001b[0m               ^\u001b[0m\n\u001b[0;31mSyntaxError\u001b[0m\u001b[0;31m:\u001b[0m invalid syntax\n"
          ]
        }
      ]
    },
    {
      "cell_type": "markdown",
      "metadata": {
        "id": "iniEoGIoyDTO",
        "colab_type": "text"
      },
      "source": [
        "## 문자열: 관련 내장 함수들"
      ]
    },
    {
      "cell_type": "code",
      "metadata": {
        "id": "8boFg9nPvyzF",
        "colab_type": "code",
        "colab": {
          "base_uri": "https://localhost:8080/",
          "height": 35
        },
        "outputId": "67859b4c-732e-4a0e-95b7-ffc4afff06fa"
      },
      "source": [
        "print(\"문자열: 관련 내장 함수들\")\n",
        "# 문자 개수 세기(count)\n",
        "a = \"hobby\""
      ],
      "execution_count": 148,
      "outputs": [
        {
          "output_type": "stream",
          "text": [
            "문자열: 관련 내장 함수들\n"
          ],
          "name": "stdout"
        }
      ]
    },
    {
      "cell_type": "code",
      "metadata": {
        "id": "d4KnOxU8yF9u",
        "colab_type": "code",
        "colab": {
          "base_uri": "https://localhost:8080/",
          "height": 35
        },
        "outputId": "a4532af6-f3da-4b2a-d724-b9a897932ec7"
      },
      "source": [
        "\n",
        "a.count(\"b\")"
      ],
      "execution_count": 147,
      "outputs": [
        {
          "output_type": "execute_result",
          "data": {
            "text/plain": [
              "0"
            ]
          },
          "metadata": {
            "tags": []
          },
          "execution_count": 147
        }
      ]
    },
    {
      "cell_type": "markdown",
      "metadata": {
        "id": "WHK41F5DyHsh",
        "colab_type": "text"
      },
      "source": [
        "## 위치 알려주기1(find)"
      ]
    },
    {
      "cell_type": "code",
      "metadata": {
        "id": "1PgpRURmv0a2",
        "colab_type": "code",
        "colab": {
          "base_uri": "https://localhost:8080/",
          "height": 35
        },
        "outputId": "2083a91b-4680-48a7-d86e-1a9ce9884162"
      },
      "source": [
        "a = \"Python is the best choice\"\n",
        "a.find(\"b\")"
      ],
      "execution_count": 150,
      "outputs": [
        {
          "output_type": "execute_result",
          "data": {
            "text/plain": [
              "14"
            ]
          },
          "metadata": {
            "tags": []
          },
          "execution_count": 150
        }
      ]
    },
    {
      "cell_type": "code",
      "metadata": {
        "id": "zraa9IFvyI_F",
        "colab_type": "code",
        "colab": {
          "base_uri": "https://localhost:8080/",
          "height": 35
        },
        "outputId": "841ac562-32a7-4c5a-d27a-73c625683b87"
      },
      "source": [
        "\n",
        "a.find(\"k\")  # what value?"
      ],
      "execution_count": 149,
      "outputs": [
        {
          "output_type": "execute_result",
          "data": {
            "text/plain": [
              "-1"
            ]
          },
          "metadata": {
            "tags": []
          },
          "execution_count": 149
        }
      ]
    },
    {
      "cell_type": "markdown",
      "metadata": {
        "id": "QGEmcIYNyKc2",
        "colab_type": "text"
      },
      "source": [
        "## 위치 알려주기2(index)"
      ]
    },
    {
      "cell_type": "code",
      "metadata": {
        "id": "H9ekd5uJv110",
        "colab_type": "code",
        "colab": {
          "base_uri": "https://localhost:8080/",
          "height": 35
        },
        "outputId": "7022b786-33ed-43b8-f4a7-7485b3eec74d"
      },
      "source": [
        "a = \"Life is too short\"\n",
        "a.index(\"t\")"
      ],
      "execution_count": 152,
      "outputs": [
        {
          "output_type": "execute_result",
          "data": {
            "text/plain": [
              "8"
            ]
          },
          "metadata": {
            "tags": []
          },
          "execution_count": 152
        }
      ]
    },
    {
      "cell_type": "code",
      "metadata": {
        "id": "ay_scEgQyLTA",
        "colab_type": "code",
        "colab": {
          "base_uri": "https://localhost:8080/",
          "height": 190
        },
        "outputId": "a7aebde9-e49c-414d-c1fb-d947e4b43441"
      },
      "source": [
        "\n",
        "a.index(\"k\")"
      ],
      "execution_count": 151,
      "outputs": [
        {
          "output_type": "error",
          "ename": "ValueError",
          "evalue": "ignored",
          "traceback": [
            "\u001b[0;31m\u001b[0m",
            "\u001b[0;31mValueError\u001b[0mTraceback (most recent call last)",
            "\u001b[0;32m<ipython-input-151-ed828c0b9016>\u001b[0m in \u001b[0;36m<module>\u001b[0;34m()\u001b[0m\n\u001b[1;32m      1\u001b[0m \u001b[0;34m\u001b[0m\u001b[0m\n\u001b[0;32m----> 2\u001b[0;31m \u001b[0ma\u001b[0m\u001b[0;34m.\u001b[0m\u001b[0mindex\u001b[0m\u001b[0;34m(\u001b[0m\u001b[0;34m\"k\"\u001b[0m\u001b[0;34m)\u001b[0m\u001b[0;34m\u001b[0m\u001b[0;34m\u001b[0m\u001b[0m\n\u001b[0m",
            "\u001b[0;31mValueError\u001b[0m: substring not found"
          ]
        }
      ]
    },
    {
      "cell_type": "markdown",
      "metadata": {
        "id": "MQI6zTT1yNEY",
        "colab_type": "text"
      },
      "source": [
        "## 문자열 삽입(join)"
      ]
    },
    {
      "cell_type": "code",
      "metadata": {
        "id": "nXWKGTjyv3qQ",
        "colab_type": "code",
        "colab": {
          "base_uri": "https://localhost:8080/",
          "height": 35
        },
        "outputId": "fa0fa51e-a6d8-4f66-e406-d287e5c44b68"
      },
      "source": [
        "\",\".join(\"abcd\")\n"
      ],
      "execution_count": 154,
      "outputs": [
        {
          "output_type": "execute_result",
          "data": {
            "text/plain": [
              "'a,b,c,d'"
            ]
          },
          "metadata": {
            "tags": []
          },
          "execution_count": 154
        }
      ]
    },
    {
      "cell_type": "code",
      "metadata": {
        "id": "WeLGa4-zyOjJ",
        "colab_type": "code",
        "colab": {
          "base_uri": "https://localhost:8080/",
          "height": 35
        },
        "outputId": "63507174-00f9-4103-c9ba-2f10e2b86047"
      },
      "source": [
        "\",\".join([\"a\", \"b\", \"c\", \"d\"])"
      ],
      "execution_count": 153,
      "outputs": [
        {
          "output_type": "execute_result",
          "data": {
            "text/plain": [
              "'a,b,c,d'"
            ]
          },
          "metadata": {
            "tags": []
          },
          "execution_count": 153
        }
      ]
    },
    {
      "cell_type": "markdown",
      "metadata": {
        "id": "KqIf1bW4yRKh",
        "colab_type": "text"
      },
      "source": [
        "## 소문자를 대문자로 바꾸기(upper)"
      ]
    },
    {
      "cell_type": "code",
      "metadata": {
        "id": "GyWpFUfov5R2",
        "colab_type": "code",
        "colab": {}
      },
      "source": [
        "a = \"hi\""
      ],
      "execution_count": 0,
      "outputs": []
    },
    {
      "cell_type": "code",
      "metadata": {
        "id": "zSZY73qtySsH",
        "colab_type": "code",
        "colab": {
          "base_uri": "https://localhost:8080/",
          "height": 35
        },
        "outputId": "49fb2c06-0bbf-4473-cae6-aadf55f4a14d"
      },
      "source": [
        "\n",
        "a.upper()"
      ],
      "execution_count": 155,
      "outputs": [
        {
          "output_type": "execute_result",
          "data": {
            "text/plain": [
              "'LIFE IS TOO SHORT'"
            ]
          },
          "metadata": {
            "tags": []
          },
          "execution_count": 155
        }
      ]
    },
    {
      "cell_type": "markdown",
      "metadata": {
        "id": "iSKC9t4XyVex",
        "colab_type": "text"
      },
      "source": [
        "## 대문자를 소문자로 바꾸기(lower)"
      ]
    },
    {
      "cell_type": "code",
      "metadata": {
        "id": "tXh725AAv67n",
        "colab_type": "code",
        "colab": {}
      },
      "source": [
        "a = \"IoT\""
      ],
      "execution_count": 0,
      "outputs": []
    },
    {
      "cell_type": "code",
      "metadata": {
        "id": "v-nI59TTyWYF",
        "colab_type": "code",
        "colab": {
          "base_uri": "https://localhost:8080/",
          "height": 35
        },
        "outputId": "b500e0f0-a10d-4353-f5b8-3d45a86e29f3"
      },
      "source": [
        "\n",
        "a.lower()"
      ],
      "execution_count": 157,
      "outputs": [
        {
          "output_type": "execute_result",
          "data": {
            "text/plain": [
              "'hi'"
            ]
          },
          "metadata": {
            "tags": []
          },
          "execution_count": 157
        }
      ]
    },
    {
      "cell_type": "markdown",
      "metadata": {
        "id": "4v9-NeRHyYHT",
        "colab_type": "text"
      },
      "source": [
        "## 왼쪽 공백 지우기(lstrip)"
      ]
    },
    {
      "cell_type": "code",
      "metadata": {
        "id": "FLUFIj1cv870",
        "colab_type": "code",
        "colab": {}
      },
      "source": [
        "a = \" hi \""
      ],
      "execution_count": 0,
      "outputs": []
    },
    {
      "cell_type": "code",
      "metadata": {
        "id": "XwD0wixsyY_b",
        "colab_type": "code",
        "colab": {
          "base_uri": "https://localhost:8080/",
          "height": 35
        },
        "outputId": "1ca0ffd5-0944-4f19-fd88-6a06e58a93b4"
      },
      "source": [
        "\n",
        "a.lstrip()"
      ],
      "execution_count": 159,
      "outputs": [
        {
          "output_type": "execute_result",
          "data": {
            "text/plain": [
              "'IoT'"
            ]
          },
          "metadata": {
            "tags": []
          },
          "execution_count": 159
        }
      ]
    },
    {
      "cell_type": "markdown",
      "metadata": {
        "id": "uzrZTUevyaue",
        "colab_type": "text"
      },
      "source": [
        "## 오른쪽 공백 지우기(rstrip)"
      ]
    },
    {
      "cell_type": "code",
      "metadata": {
        "id": "H3tlaFJ2v-IO",
        "colab_type": "code",
        "colab": {
          "base_uri": "https://localhost:8080/",
          "height": 35
        },
        "outputId": "40f54701-8ac9-4e38-e875-53f7351bb3b6"
      },
      "source": [
        "a.rstrip()"
      ],
      "execution_count": 99,
      "outputs": [
        {
          "output_type": "execute_result",
          "data": {
            "text/plain": [
              "'Life is too short'"
            ]
          },
          "metadata": {
            "tags": []
          },
          "execution_count": 99
        }
      ]
    },
    {
      "cell_type": "markdown",
      "metadata": {
        "id": "Iyv8NyZNyd1z",
        "colab_type": "text"
      },
      "source": [
        "### 양쪽 공백 지우기(strip)"
      ]
    },
    {
      "cell_type": "code",
      "metadata": {
        "id": "h6pNVW_av-xM",
        "colab_type": "code",
        "colab": {
          "base_uri": "https://localhost:8080/",
          "height": 35
        },
        "outputId": "4cecfa7e-0c56-4b68-c1c7-2ae8334cc087"
      },
      "source": [
        "a.strip()"
      ],
      "execution_count": 98,
      "outputs": [
        {
          "output_type": "execute_result",
          "data": {
            "text/plain": [
              "'Life is too short'"
            ]
          },
          "metadata": {
            "tags": []
          },
          "execution_count": 98
        }
      ]
    },
    {
      "cell_type": "markdown",
      "metadata": {
        "id": "Y8vOZpMMygRc",
        "colab_type": "text"
      },
      "source": [
        "\n",
        "## 문자열 바꾸기(replace)"
      ]
    },
    {
      "cell_type": "code",
      "metadata": {
        "id": "lPWChZRrv_VM",
        "colab_type": "code",
        "colab": {}
      },
      "source": [
        "a = \"Life is too short\""
      ],
      "execution_count": 0,
      "outputs": []
    },
    {
      "cell_type": "code",
      "metadata": {
        "id": "pVeDmCvCyj8O",
        "colab_type": "code",
        "colab": {
          "base_uri": "https://localhost:8080/",
          "height": 35
        },
        "outputId": "554f3955-99c2-4c09-fe04-85e65d11f73f"
      },
      "source": [
        "\n",
        "a.replace(\"Life\", \"Your leg\")\n"
      ],
      "execution_count": 161,
      "outputs": [
        {
          "output_type": "execute_result",
          "data": {
            "text/plain": [
              "' hi '"
            ]
          },
          "metadata": {
            "tags": []
          },
          "execution_count": 161
        }
      ]
    },
    {
      "cell_type": "markdown",
      "metadata": {
        "id": "frDsxxFyyiV_",
        "colab_type": "text"
      },
      "source": [
        "## 문자열 나누기(split) -> 리스트로 변환하여 반환"
      ]
    },
    {
      "cell_type": "code",
      "metadata": {
        "id": "F49UGXdBwADi",
        "colab_type": "code",
        "colab": {}
      },
      "source": [
        "a = \"Life is too short\""
      ],
      "execution_count": 0,
      "outputs": []
    },
    {
      "cell_type": "code",
      "metadata": {
        "id": "MNK2eLCsyjUv",
        "colab_type": "code",
        "colab": {
          "base_uri": "https://localhost:8080/",
          "height": 35
        },
        "outputId": "63d7d6e3-c784-49b0-9084-3e6c420af283"
      },
      "source": [
        "\n",
        "a.split()\n"
      ],
      "execution_count": 164,
      "outputs": [
        {
          "output_type": "execute_result",
          "data": {
            "text/plain": [
              "['Life', 'is', 'too', 'short']"
            ]
          },
          "metadata": {
            "tags": []
          },
          "execution_count": 164
        }
      ]
    },
    {
      "cell_type": "code",
      "metadata": {
        "id": "AmvluCBYylvN",
        "colab_type": "code",
        "colab": {}
      },
      "source": [
        "b = \"a:b:c:d\"\n"
      ],
      "execution_count": 0,
      "outputs": []
    },
    {
      "cell_type": "code",
      "metadata": {
        "id": "HcFL_0XMymZH",
        "colab_type": "code",
        "colab": {
          "base_uri": "https://localhost:8080/",
          "height": 35
        },
        "outputId": "be09bb7e-ca8b-4b5f-d8d2-0db7538b26fa"
      },
      "source": [
        "b.split(\":\")\n"
      ],
      "execution_count": 165,
      "outputs": [
        {
          "output_type": "execute_result",
          "data": {
            "text/plain": [
              "['a', 'b', 'c', 'd']"
            ]
          },
          "metadata": {
            "tags": []
          },
          "execution_count": 165
        }
      ]
    },
    {
      "cell_type": "markdown",
      "metadata": {
        "id": "y936Xxl_yrhH",
        "colab_type": "text"
      },
      "source": [
        "## 도전하기"
      ]
    },
    {
      "cell_type": "code",
      "metadata": {
        "id": "ZIhzXtDvwAwV",
        "colab_type": "code",
        "colab": {
          "base_uri": "https://localhost:8080/",
          "height": 35
        },
        "outputId": "69aaa4e0-4c35-40f4-d11d-5c7f5a252beb"
      },
      "source": [
        "# format 함수 또는 f 문자열 포매팅을 이용해서 '!!!python!!!' 문자열을 출력해보시오.\n",
        "\"{0:!^12}\".format(\"python\")"
      ],
      "execution_count": 168,
      "outputs": [
        {
          "output_type": "execute_result",
          "data": {
            "text/plain": [
              "'!!!python!!!'"
            ]
          },
          "metadata": {
            "tags": []
          },
          "execution_count": 168
        }
      ]
    },
    {
      "cell_type": "code",
      "metadata": {
        "id": "d8s5nigWywsf",
        "colab_type": "code",
        "colab": {
          "base_uri": "https://localhost:8080/",
          "height": 136
        },
        "outputId": "2d7cb440-e9eb-41e6-cd10-6ec0e54364fa"
      },
      "source": [
        "\n",
        "f'{\"python\":!^12}'"
      ],
      "execution_count": 167,
      "outputs": [
        {
          "output_type": "error",
          "ename": "SyntaxError",
          "evalue": "ignored",
          "traceback": [
            "\u001b[0;36m  File \u001b[0;32m\"<ipython-input-167-4ba6d63817f5>\"\u001b[0;36m, line \u001b[0;32m2\u001b[0m\n\u001b[0;31m    f'{\"python\":!^12}'\u001b[0m\n\u001b[0m                     ^\u001b[0m\n\u001b[0;31mSyntaxError\u001b[0m\u001b[0;31m:\u001b[0m invalid syntax\n"
          ]
        }
      ]
    },
    {
      "cell_type": "code",
      "metadata": {
        "id": "jdlHHyCmwBeF",
        "colab_type": "code",
        "colab": {}
      },
      "source": [
        ""
      ],
      "execution_count": 0,
      "outputs": []
    }
  ]
}