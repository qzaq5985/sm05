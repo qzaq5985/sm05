{
  "nbformat": 4,
  "nbformat_minor": 0,
  "metadata": {
    "colab": {
      "name": "ch06_exercises.ipynb",
      "provenance": [],
      "collapsed_sections": [],
      "include_colab_link": true
    },
    "kernelspec": {
      "name": "python2",
      "display_name": "Python 2"
    }
  },
  "cells": [
    {
      "cell_type": "markdown",
      "metadata": {
        "id": "view-in-github",
        "colab_type": "text"
      },
      "source": [
        "<a href=\"https://colab.research.google.com/github/qzaq5985/sm05/blob/master/ch06/ch06_exercises.ipynb\" target=\"_parent\"><img src=\"https://colab.research.google.com/assets/colab-badge.svg\" alt=\"Open In Colab\"/></a>"
      ]
    },
    {
      "cell_type": "markdown",
      "metadata": {
        "id": "2CdCCcLb006J",
        "colab_type": "text"
      },
      "source": [
        "##내가 프로그램을 만들 수 있을까?"
      ]
    },
    {
      "cell_type": "code",
      "metadata": {
        "id": "XCx5cqHS0xET",
        "colab_type": "code",
        "outputId": "bb90c7fc-69b6-49c0-8613-8c5a2b52b9eb",
        "colab": {
          "base_uri": "https://localhost:8080/",
          "height": 34
        }
      },
      "source": [
        "def GuGu(n):\n",
        "    result = []\n",
        "    i = 1\n",
        "    while i < 10:\n",
        "        result.append(n * i)\n",
        "        i = i + 1\n",
        "    return result\n",
        "\n",
        "print(GuGu(2))"
      ],
      "execution_count": 0,
      "outputs": [
        {
          "output_type": "stream",
          "text": [
            "출력값 :[2, 4, 6, 8, 10, 12, 14, 16, 18]\n"
          ],
          "name": "stdout"
        }
      ]
    },
    {
      "cell_type": "code",
      "metadata": {
        "id": "7Snp_HZo2pyo",
        "colab_type": "code",
        "colab": {}
      },
      "source": [
        ""
      ],
      "execution_count": 0,
      "outputs": []
    },
    {
      "cell_type": "markdown",
      "metadata": {
        "id": "u5NwNfuT22R-",
        "colab_type": "text"
      },
      "source": [
        "##문제2, 3과5의 배수 합 구하기"
      ]
    },
    {
      "cell_type": "code",
      "metadata": {
        "id": "6UCGg7Cy26xC",
        "colab_type": "code",
        "outputId": "46228908-d19d-416b-94a9-72c9f64122fa",
        "colab": {
          "base_uri": "https://localhost:8080/",
          "height": 35
        }
      },
      "source": [
        "result = 0\n",
        "\n",
        "for n in range(1, 1000):\n",
        "    if n % 3 == 0 or n % 5 == 0:\n",
        "        result += n\n",
        "print(result)"
      ],
      "execution_count": 2,
      "outputs": [
        {
          "output_type": "stream",
          "text": [
            "233168\n"
          ],
          "name": "stdout"
        }
      ]
    },
    {
      "cell_type": "markdown",
      "metadata": {
        "id": "8GnjQzj53kh-",
        "colab_type": "text"
      },
      "source": [
        "##문제3:게시판 페이징하기"
      ]
    },
    {
      "cell_type": "code",
      "metadata": {
        "id": "vFSaUnwf6XRe",
        "colab_type": "code",
        "outputId": "f570e64a-1313-4ae4-cba4-6ccb7395b98a",
        "colab": {
          "base_uri": "https://localhost:8080/",
          "height": 89
        }
      },
      "source": [
        "def getTotalPage(m, n):  # m: 한페이지에 들어가는 최대 줄 수, n: 한 페이지당 보여 줄 건수\n",
        "    if m % n == 0:\n",
        "        return m // n    # // : 나눈다음 몫만 택함\n",
        "    else:\n",
        "        return m // n + 1\n",
        "\n",
        "\n",
        "print(getTotalPage(5, 10))\n",
        "print(getTotalPage(15, 10))\n",
        "print(getTotalPage(25, 10))\n",
        "print(getTotalPage(30, 10))"
      ],
      "execution_count": 3,
      "outputs": [
        {
          "output_type": "stream",
          "text": [
            "1\n",
            "2\n",
            "3\n",
            "3\n"
          ],
          "name": "stdout"
        }
      ]
    },
    {
      "cell_type": "markdown",
      "metadata": {
        "id": "aKnfxtCb-UNs",
        "colab_type": "text"
      },
      "source": [
        "##문제4 간단한 메모장 만들기"
      ]
    },
    {
      "cell_type": "code",
      "metadata": {
        "id": "3Y1GwIgz-Eb2",
        "colab_type": "code",
        "colab": {}
      },
      "source": [
        "# C:/doit/memo.py\n",
        "import sys\n",
        "\n",
        "option = sys.argv[1]\n",
        "\n",
        "if option == '-a':\n",
        "    memo = sys.argv[2]\n",
        "    f = open('memo.txt', 'a')\n",
        "    f.write(memo)\n",
        "    f.write('\\n')\n",
        "    f.close()\n",
        "elif option == '-v':\n",
        "    f = open('memo.txt')\n",
        "    memo = f.read()\n",
        "    f.close()\n",
        "    print(memo)"
      ],
      "execution_count": 0,
      "outputs": []
    },
    {
      "cell_type": "code",
      "metadata": {
        "id": "bXbxb_w2-gEE",
        "colab_type": "code",
        "colab": {}
      },
      "source": [
        "run memo.py -a \"Life is too short\""
      ],
      "execution_count": 0,
      "outputs": []
    },
    {
      "cell_type": "code",
      "metadata": {
        "id": "2xYF_9tg-jks",
        "colab_type": "code",
        "colab": {}
      },
      "source": [
        "run memo.py -a \"You need a Python\""
      ],
      "execution_count": 0,
      "outputs": []
    },
    {
      "cell_type": "code",
      "metadata": {
        "id": "vLbImjUQ-lCc",
        "colab_type": "code",
        "outputId": "646f3fea-67aa-4952-e4b6-7a1961ff0d8d",
        "colab": {
          "base_uri": "https://localhost:8080/",
          "height": 71
        }
      },
      "source": [
        "run memo.py -v"
      ],
      "execution_count": 0,
      "outputs": [
        {
          "output_type": "stream",
          "text": [
            "Life is too short\n",
            "You need a Python\n",
            "\n"
          ],
          "name": "stdout"
        }
      ]
    },
    {
      "cell_type": "markdown",
      "metadata": {
        "id": "ZkaRp4YMAG2x",
        "colab_type": "text"
      },
      "source": [
        "##문제5 탭을 4개의 공백으로 바꾸기"
      ]
    },
    {
      "cell_type": "code",
      "metadata": {
        "id": "uONXDMvIVKUi",
        "colab_type": "code",
        "colab": {}
      },
      "source": [
        "import sys\n",
        "\n",
        "src = sys.argv[1]\n",
        "dst = sys.argv[2]\n",
        "\n",
        "f = open(src)\n",
        "tab_content = f.read()\n",
        "f.close()\n",
        "\n",
        "space_content = tab_content.replace(\"\\t\", \" \"*4)\n",
        "\n",
        "f = open(dst, 'w')\n",
        "f.write(space_content)\n",
        "f.close()\n"
      ],
      "execution_count": 0,
      "outputs": []
    },
    {
      "cell_type": "code",
      "metadata": {
        "id": "MpifevbYAVF7",
        "colab_type": "code",
        "colab": {}
      },
      "source": [
        "run tabto4.py a.txt b.txt"
      ],
      "execution_count": 0,
      "outputs": []
    },
    {
      "cell_type": "code",
      "metadata": {
        "id": "K7qO32MuSmb3",
        "colab_type": "code",
        "outputId": "cfdd48ca-b50d-4ab2-8e38-9a5821837521",
        "colab": {
          "base_uri": "https://localhost:8080/",
          "height": 53
        }
      },
      "source": [
        "f = open(\"b.txt\",'r')\n",
        "print(f.read())\n",
        "f.close()"
      ],
      "execution_count": 0,
      "outputs": [
        {
          "output_type": "stream",
          "text": [
            "Life    is    too    short\n",
            "You    need    python\n"
          ],
          "name": "stdout"
        }
      ]
    }
  ]
}