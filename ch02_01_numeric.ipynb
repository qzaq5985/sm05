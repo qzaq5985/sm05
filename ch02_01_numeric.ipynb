{
  "nbformat": 4,
  "nbformat_minor": 0,
  "metadata": {
    "colab": {
      "name": "ch02_01_numeric.ipynb",
      "provenance": [],
      "collapsed_sections": [],
      "include_colab_link": true
    },
    "kernelspec": {
      "name": "python2",
      "display_name": "Python 2"
    }
  },
  "cells": [
    {
      "cell_type": "markdown",
      "metadata": {
        "id": "view-in-github",
        "colab_type": "text"
      },
      "source": [
        "<a href=\"https://colab.research.google.com/github/qzaq5985/sm05/blob/master/ch02_01_numeric.ipynb\" target=\"_parent\"><img src=\"https://colab.research.google.com/assets/colab-badge.svg\" alt=\"Open In Colab\"/></a>"
      ]
    },
    {
      "cell_type": "markdown",
      "metadata": {
        "id": "TFehA3FNl4D6",
        "colab_type": "text"
      },
      "source": [
        "#파이썬 데이터형: 숫자형"
      ]
    },
    {
      "cell_type": "markdown",
      "metadata": {
        "id": "pOl3RWSet90p",
        "colab_type": "text"
      },
      "source": [
        "## 숫자형: 정수"
      ]
    },
    {
      "cell_type": "code",
      "metadata": {
        "id": "JLGwFNULlwnB",
        "colab_type": "code",
        "colab": {
          "base_uri": "https://localhost:8080/",
          "height": 89
        },
        "outputId": "9d924170-d39a-4ce0-cefe-14eafa660095"
      },
      "source": [
        "# ch2_01_numeric.py\n",
        "#\n",
        "print(\"숫자형: 정수\")\n",
        "a = 123\n",
        "print(a)\n",
        "a = -178\n",
        "print(a)\n",
        "a = 0\n",
        "print(a)"
      ],
      "execution_count": 2,
      "outputs": [
        {
          "output_type": "stream",
          "text": [
            "숫자형: 정수\n",
            "123\n",
            "-178\n",
            "0\n"
          ],
          "name": "stdout"
        }
      ]
    },
    {
      "cell_type": "markdown",
      "metadata": {
        "id": "VDmZKTqouBhA",
        "colab_type": "text"
      },
      "source": [
        "## 숫자형: 실수"
      ]
    },
    {
      "cell_type": "code",
      "metadata": {
        "id": "QmlL4_WCmK59",
        "colab_type": "code",
        "colab": {
          "base_uri": "https://localhost:8080/",
          "height": 107
        },
        "outputId": "763784cb-797d-468e-d0f1-edaade7c42d6"
      },
      "source": [
        "print(\"숫자형: 실수\")\n",
        "a = 1.2\n",
        "print(a)\n",
        "a = -3.48\n",
        "print(a)\n",
        "a = 4.24e10\n",
        "print(a)\n",
        "a = 4.24e-10\n",
        "print(a)"
      ],
      "execution_count": 3,
      "outputs": [
        {
          "output_type": "stream",
          "text": [
            "숫자형: 실수\n",
            "1.2\n",
            "-3.48\n",
            "42400000000.0\n",
            "4.24e-10\n"
          ],
          "name": "stdout"
        }
      ]
    },
    {
      "cell_type": "markdown",
      "metadata": {
        "id": "cGyQX7RjuDnI",
        "colab_type": "text"
      },
      "source": [
        "## 숫자형: 8진수와 16진수"
      ]
    },
    {
      "cell_type": "code",
      "metadata": {
        "id": "qDiVzrUKmOP6",
        "colab_type": "code",
        "colab": {
          "base_uri": "https://localhost:8080/",
          "height": 89
        },
        "outputId": "cf4da3ac-def3-4f4b-ec5b-4598e9fff87e"
      },
      "source": [
        "print(\"숫자형: 8진수와 16진수\")\n",
        "a = 0o177\n",
        "print(a)\n",
        "a = 0x8FF\n",
        "print(a)\n",
        "a = 0xABC\n",
        "print(a)\n",
        "# 파이썬은 8진수와 16진수도 입력이됨\n"
      ],
      "execution_count": 4,
      "outputs": [
        {
          "output_type": "stream",
          "text": [
            "숫자형: 8진수와 16진수\n",
            "127\n",
            "2303\n",
            "2748\n"
          ],
          "name": "stdout"
        }
      ]
    },
    {
      "cell_type": "markdown",
      "metadata": {
        "id": "PQgDlU9EuGMn",
        "colab_type": "text"
      },
      "source": [
        "## 숫자형: 연산자와 연산"
      ]
    },
    {
      "cell_type": "code",
      "metadata": {
        "id": "tiBIXnKbmQQZ",
        "colab_type": "code",
        "colab": {
          "base_uri": "https://localhost:8080/",
          "height": 179
        },
        "outputId": "233ac9f2-1eeb-467c-ec16-79bef52c9b94"
      },
      "source": [
        "a = 3\n",
        "b = 4\n",
        "print(a + b)\n",
        "print(a * b)\n",
        "print(a / b)\n",
        "print(a ** b)\n",
        "print(a % b)\n",
        "print(a // b)\n",
        "\n",
        "print(14 // 3)\n",
        "print(14 % 3)"
      ],
      "execution_count": 5,
      "outputs": [
        {
          "output_type": "stream",
          "text": [
            "숫자형: 연산자와 연산\n",
            "7\n",
            "12\n",
            "0\n",
            "81\n",
            "3\n",
            "0\n",
            "4\n",
            "2\n"
          ],
          "name": "stdout"
        }
      ]
    },
    {
      "cell_type": "code",
      "metadata": {
        "id": "zcMVwxf5p-3K",
        "colab_type": "code",
        "colab": {
          "base_uri": "https://localhost:8080/",
          "height": 71
        },
        "outputId": "fb7ff748-b8c7-4829-de05-39c8355f8e72"
      },
      "source": [
        "print(\"a**b,a%b,a//b\")\n",
        "print(a **b,a%b,a//b)\n",
        "\"a**b = {0}, a%b={1},a//b={2}\".format(a**b,a%b,a//b)"
      ],
      "execution_count": 6,
      "outputs": [
        {
          "output_type": "stream",
          "text": [
            "a**b,a%b,a//b\n",
            "(81, 3, 0)\n"
          ],
          "name": "stdout"
        },
        {
          "output_type": "execute_result",
          "data": {
            "text/plain": [
              "'a**b = 81, a%b=3,a//b=0'"
            ]
          },
          "metadata": {
            "tags": []
          },
          "execution_count": 6
        }
      ]
    },
    {
      "cell_type": "code",
      "metadata": {
        "id": "TNyvezQXqNO2",
        "colab_type": "code",
        "colab": {}
      },
      "source": [
        ""
      ],
      "execution_count": 0,
      "outputs": []
    }
  ]
}