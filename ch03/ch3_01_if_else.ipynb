{
  "nbformat": 4,
  "nbformat_minor": 0,
  "metadata": {
    "colab": {
      "name": "ch3_01_if_else.ipynb",
      "provenance": [],
      "collapsed_sections": [],
      "include_colab_link": true
    },
    "kernelspec": {
      "name": "python2",
      "display_name": "Python 2"
    }
  },
  "cells": [
    {
      "cell_type": "markdown",
      "metadata": {
        "id": "view-in-github",
        "colab_type": "text"
      },
      "source": [
        "<a href=\"https://colab.research.google.com/github/qzaq5985/sm05/blob/master/ch03/ch3_01_if_else.ipynb\" target=\"_parent\"><img src=\"https://colab.research.google.com/assets/colab-badge.svg\" alt=\"Open In Colab\"/></a>"
      ]
    },
    {
      "cell_type": "markdown",
      "metadata": {
        "id": "YrQamvG2c04k",
        "colab_type": "text"
      },
      "source": [
        "# if문은 어떻게 사용?"
      ]
    },
    {
      "cell_type": "markdown",
      "metadata": {
        "id": "lA9gzMyhHgzD",
        "colab_type": "text"
      },
      "source": [
        "##if문 사용"
      ]
    },
    {
      "cell_type": "code",
      "metadata": {
        "id": "r8qKb6rpHPYw",
        "colab_type": "code",
        "outputId": "1fd64dbb-14b7-45ac-a4fd-58533f550c64",
        "colab": {
          "base_uri": "https://localhost:8080/",
          "height": 35
        }
      },
      "source": [
        "money = True\n",
        "if money:\n",
        "    print(\"택시를 타고 가라\")\n",
        "else:\n",
        "    print(\"걸어 가라\")"
      ],
      "execution_count": 19,
      "outputs": [
        {
          "output_type": "stream",
          "text": [
            "택시를 타고 가라\n"
          ],
          "name": "stdout"
        }
      ]
    },
    {
      "cell_type": "markdown",
      "metadata": {
        "id": "WPqzxYV7Kc-8",
        "colab_type": "text"
      },
      "source": [
        "#if문의 기본 구조\n",
        "##if 조건문:\n",
        "수행할 문장1\n",
        "수행할 문장2\n",
        "\n",
        "##else:\n",
        "수행할 문장A\n",
        "수행할 문장B\n"
      ]
    },
    {
      "cell_type": "markdown",
      "metadata": {
        "id": "RL0zzMkxH48f",
        "colab_type": "text"
      },
      "source": [
        "## 들여쓰기"
      ]
    },
    {
      "cell_type": "markdown",
      "metadata": {
        "id": "OanSzibRdK0P",
        "colab_type": "text"
      },
      "source": [
        "## ex1"
      ]
    },
    {
      "cell_type": "code",
      "metadata": {
        "id": "tO_jgb7gH3Xp",
        "colab_type": "code",
        "outputId": "8e7187b4-ad9f-43c2-aab7-49487ae558d5",
        "colab": {
          "base_uri": "https://localhost:8080/",
          "height": 71
        }
      },
      "source": [
        "money = True\n",
        "if money:\n",
        " print(\"택시를\")\n",
        " print(\"타고\")\n",
        " print(\"가라\")"
      ],
      "execution_count": 20,
      "outputs": [
        {
          "output_type": "stream",
          "text": [
            "택시를\n",
            "타고\n",
            "가라\n"
          ],
          "name": "stdout"
        }
      ]
    },
    {
      "cell_type": "markdown",
      "metadata": {
        "id": "RpPuySE7dNFh",
        "colab_type": "text"
      },
      "source": [
        "## ex2"
      ]
    },
    {
      "cell_type": "code",
      "metadata": {
        "id": "xIzB3646ICPz",
        "colab_type": "code",
        "outputId": "5619ddda-925c-4144-e523-de47c22ce253",
        "colab": {
          "base_uri": "https://localhost:8080/",
          "height": 71
        }
      },
      "source": [
        "money = True\n",
        "if money:\n",
        " print(\"택시를\")\n",
        " print(\"타고\")\n",
        " print(\"가라\")"
      ],
      "execution_count": 21,
      "outputs": [
        {
          "output_type": "stream",
          "text": [
            "택시를\n",
            "타고\n",
            "가라\n"
          ],
          "name": "stdout"
        }
      ]
    },
    {
      "cell_type": "markdown",
      "metadata": {
        "id": "TIrAlT25IKcZ",
        "colab_type": "text"
      },
      "source": [
        "## 조건식: 비교연산자"
      ]
    },
    {
      "cell_type": "code",
      "metadata": {
        "id": "7asik-l8IMOK",
        "colab_type": "code",
        "outputId": "1b68262b-b459-4802-f82c-7f11d4572442",
        "colab": {
          "base_uri": "https://localhost:8080/",
          "height": 35
        }
      },
      "source": [
        "x=3\n",
        "y=2\n",
        "x>y"
      ],
      "execution_count": 22,
      "outputs": [
        {
          "output_type": "execute_result",
          "data": {
            "text/plain": [
              "True"
            ]
          },
          "metadata": {
            "tags": []
          },
          "execution_count": 22
        }
      ]
    },
    {
      "cell_type": "code",
      "metadata": {
        "id": "sHIahHI9IO_B",
        "colab_type": "code",
        "outputId": "b9e87a16-b4c0-46fa-9755-5d95cd81a321",
        "colab": {
          "base_uri": "https://localhost:8080/",
          "height": 35
        }
      },
      "source": [
        "x<y\n",
        "x==y\n",
        "x!=y"
      ],
      "execution_count": 23,
      "outputs": [
        {
          "output_type": "execute_result",
          "data": {
            "text/plain": [
              "True"
            ]
          },
          "metadata": {
            "tags": []
          },
          "execution_count": 23
        }
      ]
    },
    {
      "cell_type": "markdown",
      "metadata": {
        "id": "7fQbVLXlIQXh",
        "colab_type": "text"
      },
      "source": [
        "##조건식 만들기"
      ]
    },
    {
      "cell_type": "code",
      "metadata": {
        "id": "W8IZuxY_IURR",
        "colab_type": "code",
        "outputId": "5823a8a1-b096-4358-b14c-9ed3ac404012",
        "colab": {
          "base_uri": "https://localhost:8080/",
          "height": 35
        }
      },
      "source": [
        "money = 2000\n",
        "\n",
        "if money >= 3000:\n",
        "    print(\"택시를 타고 가라\")\n",
        "else:\n",
        "    print(\"걸어가라\")"
      ],
      "execution_count": 24,
      "outputs": [
        {
          "output_type": "stream",
          "text": [
            "걸어가라\n"
          ],
          "name": "stdout"
        }
      ]
    },
    {
      "cell_type": "markdown",
      "metadata": {
        "id": "3q3eHwgUIXyx",
        "colab_type": "text"
      },
      "source": [
        "\n",
        "## 복합 조건식: or, and, not\n",
        "### 연산자\t설명\n",
        " x or y  :\tx와 y 둘중에 하나만 참이면 참이다    \n",
        " x and y :\tx와 y 모두 참이어야 참이다     \n",
        " not x\t  : x가 거짓이면 참이다\n",
        "### or 복합 조건식 이용\n",
        " \"돈이 3000원 이상 있거나 카드가 있다면 택시를 타고 그렇지 않으면 걸어 가라.\""
      ]
    },
    {
      "cell_type": "code",
      "metadata": {
        "id": "GwHT4KJaIdXZ",
        "colab_type": "code",
        "outputId": "05362e4c-3605-45d9-f2b7-f99d3bebb4e9",
        "colab": {
          "base_uri": "https://localhost:8080/",
          "height": 35
        }
      },
      "source": [
        "money = 2000\n",
        "\n",
        "card = True\n",
        "if money >= 3000 or card:\n",
        "    print(\"택시를 타고 가라\")\n",
        "else:\n",
        "    print(\"걸어가라\")"
      ],
      "execution_count": 25,
      "outputs": [
        {
          "output_type": "stream",
          "text": [
            "택시를 타고 가라\n"
          ],
          "name": "stdout"
        }
      ]
    },
    {
      "cell_type": "code",
      "metadata": {
        "id": "1YRh2zz1IgBC",
        "colab_type": "code",
        "colab": {}
      },
      "source": [
        ""
      ],
      "execution_count": 0,
      "outputs": []
    },
    {
      "cell_type": "markdown",
      "metadata": {
        "id": "jP29GMJOIg_p",
        "colab_type": "text"
      },
      "source": [
        "\n",
        "## 조건식: in, not in\n",
        "\n",
        "   in\t          not in     \n",
        " x in 리스트\tx not in 리스트         \n",
        " x in 튜플\t    x not in 튜플         \n",
        " x in 문자열\tx not in 문자열         \n"
      ]
    },
    {
      "cell_type": "code",
      "metadata": {
        "id": "39ULh0FFIpnp",
        "colab_type": "code",
        "outputId": "f2ec215e-2973-4b75-c896-aa5688eb8cfb",
        "colab": {
          "base_uri": "https://localhost:8080/",
          "height": 35
        }
      },
      "source": [
        "# list\n",
        "1 in [1, 2, 3]\n",
        "1 not in [1, 2, 3]"
      ],
      "execution_count": 26,
      "outputs": [
        {
          "output_type": "execute_result",
          "data": {
            "text/plain": [
              "False"
            ]
          },
          "metadata": {
            "tags": []
          },
          "execution_count": 26
        }
      ]
    },
    {
      "cell_type": "markdown",
      "metadata": {
        "id": "R6DKK4Xtdl-L",
        "colab_type": "text"
      },
      "source": [
        "## tuple"
      ]
    },
    {
      "cell_type": "code",
      "metadata": {
        "id": "qNz1m85UdkeC",
        "colab_type": "code",
        "colab": {
          "base_uri": "https://localhost:8080/",
          "height": 35
        },
        "outputId": "d4552139-77fa-48ca-8122-b279a6592d1f"
      },
      "source": [
        "'a' in ('a', 'b', 'c')"
      ],
      "execution_count": 27,
      "outputs": [
        {
          "output_type": "execute_result",
          "data": {
            "text/plain": [
              "True"
            ]
          },
          "metadata": {
            "tags": []
          },
          "execution_count": 27
        }
      ]
    },
    {
      "cell_type": "markdown",
      "metadata": {
        "id": "Q0IGXWB6dnb7",
        "colab_type": "text"
      },
      "source": [
        "## string"
      ]
    },
    {
      "cell_type": "code",
      "metadata": {
        "id": "kKlZsNgldlCj",
        "colab_type": "code",
        "colab": {
          "base_uri": "https://localhost:8080/",
          "height": 35
        },
        "outputId": "3e41d684-c39d-4bfd-bb3a-aa2cf5b7d8ce"
      },
      "source": [
        "'j' not in 'python'"
      ],
      "execution_count": 28,
      "outputs": [
        {
          "output_type": "execute_result",
          "data": {
            "text/plain": [
              "True"
            ]
          },
          "metadata": {
            "tags": []
          },
          "execution_count": 28
        }
      ]
    },
    {
      "cell_type": "markdown",
      "metadata": {
        "id": "s18g3ZlhdpCC",
        "colab_type": "text"
      },
      "source": [
        "## in을 이용한 코드"
      ]
    },
    {
      "cell_type": "markdown",
      "metadata": {
        "id": "shpOtA8Fd1ss",
        "colab_type": "text"
      },
      "source": [
        "### \"만약 주머니에 돈이 있으면 택시를 타고, 없으면 걸어 가라.\""
      ]
    },
    {
      "cell_type": "code",
      "metadata": {
        "id": "5Od6KWC3IyEB",
        "colab_type": "code",
        "outputId": "eccf27a1-43d1-4d34-e3b9-6b165643c732",
        "colab": {
          "base_uri": "https://localhost:8080/",
          "height": 35
        }
      },
      "source": [
        "pocket = ['paper', 'cellphone', 'money']\n",
        "\n",
        "if 'money' in pocket:\n",
        "    print(\"택시를 타고 가라\")\n",
        "else:\n",
        "    print(\"걸어가라\")"
      ],
      "execution_count": 29,
      "outputs": [
        {
          "output_type": "stream",
          "text": [
            "택시를 타고 가라\n"
          ],
          "name": "stdout"
        }
      ]
    },
    {
      "cell_type": "markdown",
      "metadata": {
        "id": "Bpf8EzOdI653",
        "colab_type": "text"
      },
      "source": [
        "##조건식 pass"
      ]
    },
    {
      "cell_type": "code",
      "metadata": {
        "id": "u5h-9ySCI8_h",
        "colab_type": "code",
        "colab": {}
      },
      "source": [
        "pocket = ['paper', 'cellphone', 'money']\n",
        "\n",
        "if 'money' in pocket:\n",
        "    # print(\"택시를 타고 가라\")\n",
        "    pass # 해당영역을 pass 클래스를 정의만 할때 사용\n",
        "else:\n",
        "    print(\"걸어가라\")\n",
        "    "
      ],
      "execution_count": 0,
      "outputs": []
    },
    {
      "cell_type": "markdown",
      "metadata": {
        "id": "W3W4RqIYJl7T",
        "colab_type": "text"
      },
      "source": [
        "## 다중 조건식 : elif\n",
        "### 다양한 조건을 판단"
      ]
    },
    {
      "cell_type": "code",
      "metadata": {
        "id": "2xWe7E6DJnvh",
        "colab_type": "code",
        "outputId": "8b853342-d835-4a17-918d-03aa831c0c48",
        "colab": {
          "base_uri": "https://localhost:8080/",
          "height": 35
        }
      },
      "source": [
        "pocket = ['paper', 'handphone']\n",
        "card = True\n",
        "\n",
        "if 'money' in pocket:\n",
        "    print(\"택시를 타고가라\")\n",
        "else:\n",
        "    if card:\n",
        "        print(\"택시를 타고가라\")\n",
        "    else:\n",
        "        print(\"걸어가라\")"
      ],
      "execution_count": 31,
      "outputs": [
        {
          "output_type": "stream",
          "text": [
            "택시를 타고가라\n"
          ],
          "name": "stdout"
        }
      ]
    },
    {
      "cell_type": "markdown",
      "metadata": {
        "id": "eZnDdMn4JqO5",
        "colab_type": "text"
      },
      "source": [
        "## elif 를 이용한 코드\n"
      ]
    },
    {
      "cell_type": "code",
      "metadata": {
        "id": "oXOK-kV2Jtwz",
        "colab_type": "code",
        "outputId": "f63ee01d-bc26-4ec8-d565-fbe9cbce43f5",
        "colab": {
          "base_uri": "https://localhost:8080/",
          "height": 35
        }
      },
      "source": [
        "pocket = ['paper', 'handphone']\n",
        "card = True\n",
        "\n",
        "if 'money' in pocket:\n",
        "    print(\"택시를 타고가라\")\n",
        "elif card:\n",
        "    print(\"택시를 타고가라\")\n",
        "else:\n",
        "    print(\"걸어가라\")"
      ],
      "execution_count": 32,
      "outputs": [
        {
          "output_type": "stream",
          "text": [
            "택시를 타고가라\n"
          ],
          "name": "stdout"
        }
      ]
    },
    {
      "cell_type": "markdown",
      "metadata": {
        "id": "fJDmVzUMJwkC",
        "colab_type": "text"
      },
      "source": [
        "##if문을 한 줄로 작성"
      ]
    },
    {
      "cell_type": "code",
      "metadata": {
        "id": "7L_3sUMvJzQx",
        "colab_type": "code",
        "colab": {}
      },
      "source": [
        "pocket = ['paper', 'cellphone', 'money']\n",
        "\n",
        "if 'money' in pocket:\n",
        "    pass\n",
        "else:\n",
        "    print(\"카드를 사용해라.\")"
      ],
      "execution_count": 0,
      "outputs": []
    },
    {
      "cell_type": "markdown",
      "metadata": {
        "id": "1uHH2MQQeQ1S",
        "colab_type": "text"
      },
      "source": [
        "## 한줄로 바꾸어진 코드"
      ]
    },
    {
      "cell_type": "code",
      "metadata": {
        "id": "-I2e2ekzJ6Hr",
        "colab_type": "code",
        "colab": {}
      },
      "source": [
        "if 'money' in pocket: pass\n",
        "else: print(\"카드를 사용해라.\")"
      ],
      "execution_count": 0,
      "outputs": []
    },
    {
      "cell_type": "markdown",
      "metadata": {
        "id": "qRMpEKvSKJ5E",
        "colab_type": "text"
      },
      "source": [
        "##조건부 표현식 (conditional expression)\n",
        "조건문이 참인 경우 if 조건문 else 조건문이 거짓인 경우"
      ]
    },
    {
      "cell_type": "code",
      "metadata": {
        "id": "_RD3i5AAKHUx",
        "colab_type": "code",
        "outputId": "aefa7611-20e1-4a9a-bfb1-2a1fa52324ca",
        "colab": {
          "base_uri": "https://localhost:8080/",
          "height": 35
        }
      },
      "source": [
        "score=80\n",
        "if score >= 60:\n",
        "    message = \"success\"\n",
        "else:\n",
        "    message = \"failure\"\n",
        "\n",
        "print(message)"
      ],
      "execution_count": 35,
      "outputs": [
        {
          "output_type": "stream",
          "text": [
            "success\n"
          ],
          "name": "stdout"
        }
      ]
    },
    {
      "cell_type": "markdown",
      "metadata": {
        "id": "Z_aCJNViKNVh",
        "colab_type": "text"
      },
      "source": [
        "##한줄코드"
      ]
    },
    {
      "cell_type": "code",
      "metadata": {
        "id": "cbts_XcoKPAg",
        "colab_type": "code",
        "outputId": "c1e6c723-c6ed-451a-fd31-ef77faf04d00",
        "colab": {
          "base_uri": "https://localhost:8080/",
          "height": 35
        }
      },
      "source": [
        "message = \"success\" if score >= 60 else \"failure\"\n",
        "print(message)"
      ],
      "execution_count": 36,
      "outputs": [
        {
          "output_type": "stream",
          "text": [
            "success\n"
          ],
          "name": "stdout"
        }
      ]
    }
  ]
}