{
  "nbformat": 4,
  "nbformat_minor": 0,
  "metadata": {
    "colab": {
      "name": "ch3_04_for_iterates.ipynb",
      "provenance": [],
      "collapsed_sections": [],
      "include_colab_link": true
    },
    "kernelspec": {
      "name": "python3",
      "display_name": "Python 3"
    }
  },
  "cells": [
    {
      "cell_type": "markdown",
      "metadata": {
        "id": "view-in-github",
        "colab_type": "text"
      },
      "source": [
        "<a href=\"https://colab.research.google.com/github/qzaq5985/sm05/blob/master/ch03/ch3_04_for_iterates.ipynb\" target=\"_parent\"><img src=\"https://colab.research.google.com/assets/colab-badge.svg\" alt=\"Open In Colab\"/></a>"
      ]
    },
    {
      "cell_type": "markdown",
      "metadata": {
        "id": "kcLmCrAvWxJ2",
        "colab_type": "text"
      },
      "source": [
        "## for 문과 itrator"
      ]
    },
    {
      "cell_type": "code",
      "metadata": {
        "id": "Ai2kzw42WZCH",
        "colab_type": "code",
        "colab": {}
      },
      "source": [
        "subjects = ['python', 'english', 'math', 'science']\n",
        "scores = [88, 77, 66, 95]"
      ],
      "execution_count": 0,
      "outputs": []
    },
    {
      "cell_type": "markdown",
      "metadata": {
        "id": "217d4sRUWzwh",
        "colab_type": "text"
      },
      "source": [
        "## 과목명 출력"
      ]
    },
    {
      "cell_type": "code",
      "metadata": {
        "id": "Uc1Uzb7SWazz",
        "colab_type": "code",
        "outputId": "01c73155-976b-4c20-fcf3-cd733ca7f6d8",
        "colab": {
          "base_uri": "https://localhost:8080/",
          "height": 89
        }
      },
      "source": [
        "for subject in subjects:\n",
        "    print(subject)"
      ],
      "execution_count": 0,
      "outputs": [
        {
          "output_type": "stream",
          "text": [
            "python\n",
            "english\n",
            "math\n",
            "science\n"
          ],
          "name": "stdout"
        }
      ]
    },
    {
      "cell_type": "markdown",
      "metadata": {
        "id": "Pn4najfwW2VB",
        "colab_type": "text"
      },
      "source": [
        "## 과목 점수 출력"
      ]
    },
    {
      "cell_type": "code",
      "metadata": {
        "id": "1cuq-5nWWbPh",
        "colab_type": "code",
        "outputId": "f411c2ca-ad4b-4d41-cb37-9a162a5ce3c9",
        "colab": {
          "base_uri": "https://localhost:8080/",
          "height": 89
        }
      },
      "source": [
        "for score in scores:\n",
        "    print(score)"
      ],
      "execution_count": 0,
      "outputs": [
        {
          "output_type": "stream",
          "text": [
            "88\n",
            "77\n",
            "66\n",
            "95\n"
          ],
          "name": "stdout"
        }
      ]
    },
    {
      "cell_type": "markdown",
      "metadata": {
        "id": "mvUCVWsSW5Kg",
        "colab_type": "text"
      },
      "source": [
        "## enumerate()를 이용한 출력"
      ]
    },
    {
      "cell_type": "code",
      "metadata": {
        "id": "5SABOn_gWboP",
        "colab_type": "code",
        "outputId": "c148ace1-52eb-4412-c219-72de10883c84",
        "colab": {
          "base_uri": "https://localhost:8080/",
          "height": 89
        }
      },
      "source": [
        "for position, subject in enumerate(subjects):\n",
        "    print(position,subject)"
      ],
      "execution_count": 0,
      "outputs": [
        {
          "output_type": "stream",
          "text": [
            "0 python\n",
            "1 english\n",
            "2 math\n",
            "3 science\n"
          ],
          "name": "stdout"
        }
      ]
    },
    {
      "cell_type": "code",
      "metadata": {
        "id": "oCFqgnmKWcA1",
        "colab_type": "code",
        "outputId": "92018c84-b80d-4cfe-d0d6-4acae6b5460d",
        "colab": {
          "base_uri": "https://localhost:8080/",
          "height": 89
        }
      },
      "source": [
        "for position, subject in enumerate(subjects):\n",
        "    print(subjects[position])"
      ],
      "execution_count": 0,
      "outputs": [
        {
          "output_type": "stream",
          "text": [
            "python\n",
            "english\n",
            "math\n",
            "science\n"
          ],
          "name": "stdout"
        }
      ]
    },
    {
      "cell_type": "markdown",
      "metadata": {
        "id": "9lsD89FhW-tI",
        "colab_type": "text"
      },
      "source": [
        "# enumerate()를 이용하여 점수를 출력해보시오"
      ]
    },
    {
      "cell_type": "markdown",
      "metadata": {
        "id": "_u1UeNriXC85",
        "colab_type": "text"
      },
      "source": [
        "## for 문과 itrator의 응용: 복합 문자열 리스트"
      ]
    },
    {
      "cell_type": "code",
      "metadata": {
        "id": "DEi_had-WduC",
        "colab_type": "code",
        "colab": {}
      },
      "source": [
        "subjects = ['python', 'english', 'math', 'science']\n",
        "scores = [88, 77, 66, 95]"
      ],
      "execution_count": 0,
      "outputs": []
    },
    {
      "cell_type": "markdown",
      "metadata": {
        "id": "9_2N2Rt4XEb5",
        "colab_type": "text"
      },
      "source": [
        "## Method-1"
      ]
    },
    {
      "cell_type": "code",
      "metadata": {
        "id": "uN4Rmk9nWfHf",
        "colab_type": "code",
        "outputId": "0d4775f4-0610-434d-a38c-5ab0ad7bfdba",
        "colab": {
          "base_uri": "https://localhost:8080/",
          "height": 89
        }
      },
      "source": [
        "for position in range(len(subjects)):\n",
        "    subject = subjects[position]\n",
        "    score = scores[position]\n",
        "    print(subject, score)"
      ],
      "execution_count": 0,
      "outputs": [
        {
          "output_type": "stream",
          "text": [
            "python 88\n",
            "english 77\n",
            "math 66\n",
            "science 95\n"
          ],
          "name": "stdout"
        }
      ]
    },
    {
      "cell_type": "markdown",
      "metadata": {
        "id": "g3d5ItSCXGiw",
        "colab_type": "text"
      },
      "source": [
        "## Method-2"
      ]
    },
    {
      "cell_type": "code",
      "metadata": {
        "id": "caMdj_mVWf0J",
        "colab_type": "code",
        "outputId": "6b676993-67ea-4bad-b8cc-562c324a3b0c",
        "colab": {
          "base_uri": "https://localhost:8080/",
          "height": 89
        }
      },
      "source": [
        "for position, subject in enumerate(subjects):\n",
        "    score = scores[position]\n",
        "    print(subject, score)"
      ],
      "execution_count": 0,
      "outputs": [
        {
          "output_type": "stream",
          "text": [
            "python 88\n",
            "english 77\n",
            "math 66\n",
            "science 95\n"
          ],
          "name": "stdout"
        }
      ]
    },
    {
      "cell_type": "markdown",
      "metadata": {
        "id": "O0E5oc7WXIM6",
        "colab_type": "text"
      },
      "source": [
        "## Method-3"
      ]
    },
    {
      "cell_type": "code",
      "metadata": {
        "id": "pUC6eQ1XWg4l",
        "colab_type": "code",
        "outputId": "1e802f78-31ce-41e3-8b09-fd2f1fd7f574",
        "colab": {
          "base_uri": "https://localhost:8080/",
          "height": 89
        }
      },
      "source": [
        "for subject, score in zip(subjects, scores):\n",
        "    print(subject, score)"
      ],
      "execution_count": 0,
      "outputs": [
        {
          "output_type": "stream",
          "text": [
            "python 88\n",
            "english 77\n",
            "math 66\n",
            "science 95\n"
          ],
          "name": "stdout"
        }
      ]
    },
    {
      "cell_type": "markdown",
      "metadata": {
        "id": "aVTq-El2XKCJ",
        "colab_type": "text"
      },
      "source": [
        "## 응용 코드 평균 성적구하기"
      ]
    },
    {
      "cell_type": "code",
      "metadata": {
        "id": "_ER-_C6kWhVj",
        "colab_type": "code",
        "outputId": "ce7661bc-6ffd-41fa-a390-c2dde2475afc",
        "colab": {
          "base_uri": "https://localhost:8080/",
          "height": 107
        }
      },
      "source": [
        "subjects = ['python', 'english', 'math', 'science']\n",
        "scores = [88, 77, 66, 95]\n",
        "\n",
        "average = 0\n",
        "total = 0\n",
        "for subject, score in zip(subjects, scores):\n",
        "    total += score\n",
        "    print(subject, score)\n",
        "\n",
        "print(\"평균 점수 = {0}\".format(total/len(subjects)))\n"
      ],
      "execution_count": 0,
      "outputs": [
        {
          "output_type": "stream",
          "text": [
            "python 88\n",
            "english 77\n",
            "math 66\n",
            "science 95\n",
            "평균 점수 = 81.5\n"
          ],
          "name": "stdout"
        }
      ]
    }
  ]
}