{
  "nbformat": 4,
  "nbformat_minor": 0,
  "metadata": {
    "colab": {
      "name": "ch3_03_for.ipynb",
      "provenance": [],
      "collapsed_sections": [],
      "include_colab_link": true
    },
    "kernelspec": {
      "name": "python2",
      "display_name": "Python 2"
    }
  },
  "cells": [
    {
      "cell_type": "markdown",
      "metadata": {
        "id": "view-in-github",
        "colab_type": "text"
      },
      "source": [
        "<a href=\"https://colab.research.google.com/github/qzaq5985/sm05/blob/master/ch03/ch3_03_for.ipynb\" target=\"_parent\"><img src=\"https://colab.research.google.com/assets/colab-badge.svg\" alt=\"Open In Colab\"/></a>"
      ]
    },
    {
      "cell_type": "markdown",
      "metadata": {
        "id": "0kw111oGQnAw",
        "colab_type": "text"
      },
      "source": [
        "## For : for 문은 어떻게 사용?"
      ]
    },
    {
      "cell_type": "code",
      "metadata": {
        "id": "3y4kcjfqLk2Y",
        "colab_type": "code",
        "colab": {}
      },
      "source": [
        "#for문사용법은 반복해서 문장을 수행해야 할 경우 for문을 사용한다. "
      ],
      "execution_count": 0,
      "outputs": []
    },
    {
      "cell_type": "markdown",
      "metadata": {
        "id": "3P64eObxQvZF",
        "colab_type": "text"
      },
      "source": [
        "## for문의 기본 구조"
      ]
    },
    {
      "cell_type": "code",
      "metadata": {
        "id": "ugjfORT0QWy8",
        "colab_type": "code",
        "colab": {}
      },
      "source": [
        "# for 변수 in 리스트(또는 튜플, 문자열):\n",
        "#    수행할 문장1\n",
        "#    수행할 문장2"
      ],
      "execution_count": 0,
      "outputs": []
    },
    {
      "cell_type": "markdown",
      "metadata": {
        "id": "Re6RWJfIQ3kI",
        "colab_type": "text"
      },
      "source": [
        "## 예제를 통해 for문 이해하기"
      ]
    },
    {
      "cell_type": "markdown",
      "metadata": {
        "id": "J_szFYN0Q56n",
        "colab_type": "text"
      },
      "source": [
        "## 1. 전형적인 for문"
      ]
    },
    {
      "cell_type": "code",
      "metadata": {
        "id": "RYNLGmJtQYWi",
        "colab_type": "code",
        "outputId": "33723f51-0db3-4c27-a092-25a999bc3f95",
        "colab": {
          "base_uri": "https://localhost:8080/",
          "height": 71
        }
      },
      "source": [
        "test_list = ['one', 'two', 'three'] \n",
        "for i in test_list:\n",
        "    print(i)"
      ],
      "execution_count": 0,
      "outputs": [
        {
          "output_type": "stream",
          "text": [
            "one\n",
            "two\n",
            "three\n"
          ],
          "name": "stdout"
        }
      ]
    },
    {
      "cell_type": "markdown",
      "metadata": {
        "id": "djG-XZlqQ9QQ",
        "colab_type": "text"
      },
      "source": [
        "## 2. 다양한 for문의 사용"
      ]
    },
    {
      "cell_type": "code",
      "metadata": {
        "id": "cjXzUXqSQY-y",
        "colab_type": "code",
        "outputId": "0f271d7c-b726-4df0-b608-e43001128d4c",
        "colab": {
          "base_uri": "https://localhost:8080/",
          "height": 71
        }
      },
      "source": [
        "a = [(1,2), (3,4), (5,6)]\n",
        "\n",
        "for (first, last) in a:\n",
        "    print(first + last)"
      ],
      "execution_count": 0,
      "outputs": [
        {
          "output_type": "stream",
          "text": [
            "3\n",
            "7\n",
            "11\n"
          ],
          "name": "stdout"
        }
      ]
    },
    {
      "cell_type": "markdown",
      "metadata": {
        "id": "7kLAt37vQ_44",
        "colab_type": "text"
      },
      "source": [
        "## 3. for문의 응용"
      ]
    },
    {
      "cell_type": "code",
      "metadata": {
        "id": "JIeRGGczQZdD",
        "colab_type": "code",
        "outputId": "64a0d3f5-e825-40c7-a729-48a36824fef4",
        "colab": {
          "base_uri": "https://localhost:8080/",
          "height": 107
        }
      },
      "source": [
        "# \"총 5명의 학생이 시험을 보았는데 시험 점수가 60점이 넘으면 \n",
        "# 합격이고 그렇지 않으면 불합격이다. \n",
        "# 합격인지 불합격인지 결과를 보여 주시오.\"\n",
        "\n",
        "# cmd에서 실행하시오.\n",
        "# python marks1.py\n",
        "\n",
        "# marks1.py\n",
        "\n",
        "marks = [90, 25, 67, 45, 80]\n",
        "\n",
        "number = 0 \n",
        "for mark in marks: \n",
        "    number = number +1 \n",
        "    if mark >= 60: \n",
        "        print(\"%d번 학생은 합격입니다.\" % number)\n",
        "    else: \n",
        "        print(\"%d번 학생은 불합격입니다.\" % number)"
      ],
      "execution_count": 0,
      "outputs": [
        {
          "output_type": "stream",
          "text": [
            "1번 학생은 합격입니다.\n",
            "2번 학생은 불합격입니다.\n",
            "3번 학생은 합격입니다.\n",
            "4번 학생은 불합격입니다.\n",
            "5번 학생은 합격입니다.\n"
          ],
          "name": "stdout"
        }
      ]
    },
    {
      "cell_type": "markdown",
      "metadata": {
        "id": "tC_M-KxkRQoI",
        "colab_type": "text"
      },
      "source": [
        "## for문과 continue"
      ]
    },
    {
      "cell_type": "code",
      "metadata": {
        "id": "OL_Yo22TQaEv",
        "colab_type": "code",
        "outputId": "61984150-3aae-4f76-89e5-869142c2e529",
        "colab": {
          "base_uri": "https://localhost:8080/",
          "height": 71
        }
      },
      "source": [
        "# for문 안의 문장을 수행하는 도중에 continue문을 만나면 \n",
        "# for문의 처음으로 돌아가게 된다.\n",
        "\n",
        "# 앞에서 for문 응용 예제를 그대로 사용해서 60점 이상인 사람에게는 \n",
        "# 축하 메시지를 보내고 나머지 사람에게는 아무 메시지도 전하지 않는 \n",
        "# 프로그램을 작성.\n",
        "\n",
        "\n",
        "# cmd에서 실행하시오.\n",
        "# python marks2.py\n",
        "\n",
        "\n",
        "# marks2.py \n",
        "marks = [90, 25, 67, 45, 80]\n",
        "\n",
        "number = 0 \n",
        "for mark in marks: \n",
        "    number = number +1 \n",
        "    if mark < 60:\n",
        "        continue \n",
        "    print(\"%d번 학생 축하합니다. 합격입니다. \" % number)"
      ],
      "execution_count": 0,
      "outputs": [
        {
          "output_type": "stream",
          "text": [
            "1번 학생 축하합니다. 합격입니다. \n",
            "3번 학생 축하합니다. 합격입니다. \n",
            "5번 학생 축하합니다. 합격입니다. \n"
          ],
          "name": "stdout"
        }
      ]
    },
    {
      "cell_type": "markdown",
      "metadata": {
        "id": "dxr1nCu6Rp1P",
        "colab_type": "text"
      },
      "source": [
        "## for문과 함께 자주 사용하는 range 함수"
      ]
    },
    {
      "cell_type": "code",
      "metadata": {
        "id": "x_VKRrshQcDP",
        "colab_type": "code",
        "outputId": "c41fe56a-d7cc-4222-8ac0-873097432c06",
        "colab": {
          "base_uri": "https://localhost:8080/",
          "height": 35
        }
      },
      "source": [
        "# range(number)\n",
        "# range(시작 숫자, 끝 숫자)\n",
        "\n",
        "a = range(10)\n",
        "a\n",
        "list(a)\n",
        "\n",
        "a = range(1, 11)\n",
        "a"
      ],
      "execution_count": 0,
      "outputs": [
        {
          "output_type": "execute_result",
          "data": {
            "text/plain": [
              "[1, 2, 3, 4, 5, 6, 7, 8, 9, 10]"
            ]
          },
          "metadata": {
            "tags": []
          },
          "execution_count": 8
        }
      ]
    },
    {
      "cell_type": "markdown",
      "metadata": {
        "id": "c-xPm2ioRt8A",
        "colab_type": "text"
      },
      "source": [
        "## range 함수를 이용한 코드"
      ]
    },
    {
      "cell_type": "code",
      "metadata": {
        "id": "SoqsL-YxRrjm",
        "colab_type": "code",
        "outputId": "a2a8226e-c7d3-4717-b96c-0e303d6d7303",
        "colab": {
          "base_uri": "https://localhost:8080/",
          "height": 35
        }
      },
      "source": [
        "add = 0 \n",
        "for i in range(1, 11): \n",
        "    add = add + i\n",
        "\n",
        "print(add)"
      ],
      "execution_count": 0,
      "outputs": [
        {
          "output_type": "stream",
          "text": [
            "55\n"
          ],
          "name": "stdout"
        }
      ]
    },
    {
      "cell_type": "code",
      "metadata": {
        "id": "XcfqwU_tRvp-",
        "colab_type": "code",
        "outputId": "33504783-5003-4544-84ac-14ad2bc91fb2",
        "colab": {
          "base_uri": "https://localhost:8080/",
          "height": 71
        }
      },
      "source": [
        "#marks3.py\n",
        "marks = [90, 25, 67, 45, 80]\n",
        "for number in range(len(marks)):\n",
        "    if marks[number] < 60: \n",
        "        continue\n",
        "    print(\"%d번 학생 축하합니다. 합격입니다.\" % (number+1))\n",
        "\n",
        "\n",
        "\n",
        "# cmd에서 실행하시오.\n",
        "# python marks3.py"
      ],
      "execution_count": 0,
      "outputs": [
        {
          "output_type": "stream",
          "text": [
            "1번 학생 축하합니다. 합격입니다.\n",
            "3번 학생 축하합니다. 합격입니다.\n",
            "5번 학생 축하합니다. 합격입니다.\n"
          ],
          "name": "stdout"
        }
      ]
    },
    {
      "cell_type": "markdown",
      "metadata": {
        "id": "4cNiMEigR0ko",
        "colab_type": "text"
      },
      "source": [
        "## for와 range를 이용한 구구단"
      ]
    },
    {
      "cell_type": "markdown",
      "metadata": {
        "id": "BNMsC0ZsbTe9",
        "colab_type": "text"
      },
      "source": [
        "## 중첩 for 문"
      ]
    },
    {
      "cell_type": "code",
      "metadata": {
        "id": "qn2aKzdlQdUQ",
        "colab_type": "code",
        "outputId": "f32887f9-00c2-410b-9837-8db24ff95af3",
        "colab": {
          "base_uri": "https://localhost:8080/",
          "height": 1000
        }
      },
      "source": [
        "# for와 range 함수를 사용하면 \n",
        "# 소스 코드 단 4줄만으로 구구단을 출력\n",
        "\n",
        "for i in range(2,10):         # ①번 for문 (i-loop)\n",
        "     for j in range(1, 10):   # ②번 for문 (j-loop)\n",
        "         print(i*j)           # , end = \" \"를 이용하면 줄바꿈\n",
        "     print('')   # 줄 바꿈"
      ],
      "execution_count": 0,
      "outputs": [
        {
          "output_type": "stream",
          "text": [
            "2\n",
            "4\n",
            "6\n",
            "8\n",
            "10\n",
            "12\n",
            "14\n",
            "16\n",
            "18\n",
            "\n",
            "3\n",
            "6\n",
            "9\n",
            "12\n",
            "15\n",
            "18\n",
            "21\n",
            "24\n",
            "27\n",
            "\n",
            "4\n",
            "8\n",
            "12\n",
            "16\n",
            "20\n",
            "24\n",
            "28\n",
            "32\n",
            "36\n",
            "\n",
            "5\n",
            "10\n",
            "15\n",
            "20\n",
            "25\n",
            "30\n",
            "35\n",
            "40\n",
            "45\n",
            "\n",
            "6\n",
            "12\n",
            "18\n",
            "24\n",
            "30\n",
            "36\n",
            "42\n",
            "48\n",
            "54\n",
            "\n",
            "7\n",
            "14\n",
            "21\n",
            "28\n",
            "35\n",
            "42\n",
            "49\n",
            "56\n",
            "63\n",
            "\n",
            "8\n",
            "16\n",
            "24\n",
            "32\n",
            "40\n",
            "48\n",
            "56\n",
            "64\n",
            "72\n",
            "\n",
            "9\n",
            "18\n",
            "27\n",
            "36\n",
            "45\n",
            "54\n",
            "63\n",
            "72\n",
            "81\n",
            "\n"
          ],
          "name": "stdout"
        }
      ]
    },
    {
      "cell_type": "markdown",
      "metadata": {
        "id": "NR0jhwclR6lf",
        "colab_type": "text"
      },
      "source": [
        "## 아래와 같이 출력"
      ]
    },
    {
      "cell_type": "markdown",
      "metadata": {
        "id": "e8S0P0Zxene0",
        "colab_type": "text"
      },
      "source": [
        ""
      ]
    },
    {
      "cell_type": "code",
      "metadata": {
        "id": "nXB41vEsQecB",
        "colab_type": "code",
        "outputId": "33d73a3b-6625-483b-d709-278771266863",
        "colab": {
          "base_uri": "https://localhost:8080/",
          "height": 1000
        }
      },
      "source": [
        "#############################################################\n",
        "# 2 X 1 = 2 2 X 2 = 4 2 X 3 = 6 2 X 4 = 8 2 X 5 = 10 2 X 6 = 12 2 X 7 = 14 2 X 8 = 16 2 X 9 = 18\n",
        "# 3 X 1 = 3 3 X 2 = 6 3 X 3 = 9 3 X 4 = 12 3 X 5 = 15 3 X 6 = 18 3 X 7 = 21 3 X 8 = 24 3 X 9 = 27\n",
        "# 4 X 1 = 4 4 X 2 = 8 4 X 3 = 12 4 X 4 = 16 4 X 5 = 20 4 X 6 = 24 4 X 7 = 28 4 X 8 = 32 4 X 9 = 36\n",
        "# 5 X 1 = 5 5 X 2 = 10 5 X 3 = 15 5 X 4 = 20 5 X 5 = 25 5 X 6 = 30 5 X 7 = 35 5 X 8 = 40 5 X 9 = 45\n",
        "# 6 X 1 = 6 6 X 2 = 12 6 X 3 = 18 6 X 4 = 24 6 X 5 = 30 6 X 6 = 36 6 X 7 = 42 6 X 8 = 48 6 X 9 = 54\n",
        "# 7 X 1 = 7 7 X 2 = 14 7 X 3 = 21 7 X 4 = 28 7 X 5 = 35 7 X 6 = 42 7 X 7 = 49 7 X 8 = 56 7 X 9 = 63\n",
        "# 8 X 1 = 8 8 X 2 = 16 8 X 3 = 24 8 X 4 = 32 8 X 5 = 40 8 X 6 = 48 8 X 7 = 56 8 X 8 = 64 8 X 9 = 72\n",
        "# 9 X 1 = 9 9 X 2 = 18 9 X 3 = 27 9 X 4 = 36 9 X 5 = 45 9 X 6 = 54 9 X 7 = 63 9 X 8 = 72 9 X 9 = 81\n",
        "#############################################################\n",
        "# \n",
        "for i in range(2,10):        # ①번 for문\n",
        "     for j in range(1, 10):   # ②번 for문\n",
        "         print(i, \"X\", j, \"=\", i*j)  # , end=\"  \"를 이용하면 줄바꿈\n",
        "     print('') \n",
        "\n"
      ],
      "execution_count": 0,
      "outputs": [
        {
          "output_type": "stream",
          "text": [
            "(2, 'X', 1, '=', 2)\n",
            "(2, 'X', 2, '=', 4)\n",
            "(2, 'X', 3, '=', 6)\n",
            "(2, 'X', 4, '=', 8)\n",
            "(2, 'X', 5, '=', 10)\n",
            "(2, 'X', 6, '=', 12)\n",
            "(2, 'X', 7, '=', 14)\n",
            "(2, 'X', 8, '=', 16)\n",
            "(2, 'X', 9, '=', 18)\n",
            "\n",
            "(3, 'X', 1, '=', 3)\n",
            "(3, 'X', 2, '=', 6)\n",
            "(3, 'X', 3, '=', 9)\n",
            "(3, 'X', 4, '=', 12)\n",
            "(3, 'X', 5, '=', 15)\n",
            "(3, 'X', 6, '=', 18)\n",
            "(3, 'X', 7, '=', 21)\n",
            "(3, 'X', 8, '=', 24)\n",
            "(3, 'X', 9, '=', 27)\n",
            "\n",
            "(4, 'X', 1, '=', 4)\n",
            "(4, 'X', 2, '=', 8)\n",
            "(4, 'X', 3, '=', 12)\n",
            "(4, 'X', 4, '=', 16)\n",
            "(4, 'X', 5, '=', 20)\n",
            "(4, 'X', 6, '=', 24)\n",
            "(4, 'X', 7, '=', 28)\n",
            "(4, 'X', 8, '=', 32)\n",
            "(4, 'X', 9, '=', 36)\n",
            "\n",
            "(5, 'X', 1, '=', 5)\n",
            "(5, 'X', 2, '=', 10)\n",
            "(5, 'X', 3, '=', 15)\n",
            "(5, 'X', 4, '=', 20)\n",
            "(5, 'X', 5, '=', 25)\n",
            "(5, 'X', 6, '=', 30)\n",
            "(5, 'X', 7, '=', 35)\n",
            "(5, 'X', 8, '=', 40)\n",
            "(5, 'X', 9, '=', 45)\n",
            "\n",
            "(6, 'X', 1, '=', 6)\n",
            "(6, 'X', 2, '=', 12)\n",
            "(6, 'X', 3, '=', 18)\n",
            "(6, 'X', 4, '=', 24)\n",
            "(6, 'X', 5, '=', 30)\n",
            "(6, 'X', 6, '=', 36)\n",
            "(6, 'X', 7, '=', 42)\n",
            "(6, 'X', 8, '=', 48)\n",
            "(6, 'X', 9, '=', 54)\n",
            "\n",
            "(7, 'X', 1, '=', 7)\n",
            "(7, 'X', 2, '=', 14)\n",
            "(7, 'X', 3, '=', 21)\n",
            "(7, 'X', 4, '=', 28)\n",
            "(7, 'X', 5, '=', 35)\n",
            "(7, 'X', 6, '=', 42)\n",
            "(7, 'X', 7, '=', 49)\n",
            "(7, 'X', 8, '=', 56)\n",
            "(7, 'X', 9, '=', 63)\n",
            "\n",
            "(8, 'X', 1, '=', 8)\n",
            "(8, 'X', 2, '=', 16)\n",
            "(8, 'X', 3, '=', 24)\n",
            "(8, 'X', 4, '=', 32)\n",
            "(8, 'X', 5, '=', 40)\n",
            "(8, 'X', 6, '=', 48)\n",
            "(8, 'X', 7, '=', 56)\n",
            "(8, 'X', 8, '=', 64)\n",
            "(8, 'X', 9, '=', 72)\n",
            "\n",
            "(9, 'X', 1, '=', 9)\n",
            "(9, 'X', 2, '=', 18)\n",
            "(9, 'X', 3, '=', 27)\n",
            "(9, 'X', 4, '=', 36)\n",
            "(9, 'X', 5, '=', 45)\n",
            "(9, 'X', 6, '=', 54)\n",
            "(9, 'X', 7, '=', 63)\n",
            "(9, 'X', 8, '=', 72)\n",
            "(9, 'X', 9, '=', 81)\n",
            "\n"
          ],
          "name": "stdout"
        }
      ]
    },
    {
      "cell_type": "markdown",
      "metadata": {
        "id": "l-msOdlJSInA",
        "colab_type": "text"
      },
      "source": [
        "## 리스트 내포(List comprehension)"
      ]
    },
    {
      "cell_type": "code",
      "metadata": {
        "id": "j2-XisMaQfFM",
        "colab_type": "code",
        "outputId": "cc66c4c2-832d-467b-fa50-797fdbfa3471",
        "colab": {
          "base_uri": "https://localhost:8080/",
          "height": 35
        }
      },
      "source": [
        "a = [1,2,3,4]\n",
        "result = []\n",
        "for num in a:\n",
        "    result.append(num*3)\n",
        "\n",
        "\n",
        "print(result)"
      ],
      "execution_count": 0,
      "outputs": [
        {
          "output_type": "stream",
          "text": [
            "[3, 6, 9, 12]\n"
          ],
          "name": "stdout"
        }
      ]
    },
    {
      "cell_type": "markdown",
      "metadata": {
        "id": "L8nv4K4-SK4X",
        "colab_type": "text"
      },
      "source": [
        "## 리스트 내포"
      ]
    },
    {
      "cell_type": "code",
      "metadata": {
        "id": "_-7tR0a8SJsL",
        "colab_type": "code",
        "outputId": "5177e197-8a38-46db-e296-656cce53892d",
        "colab": {
          "base_uri": "https://localhost:8080/",
          "height": 35
        }
      },
      "source": [
        "a = [1,2,3,4]\n",
        "result = [num*3 for num in a]\n",
        "print(result)"
      ],
      "execution_count": 0,
      "outputs": [
        {
          "output_type": "stream",
          "text": [
            "[3, 6, 9, 12]\n"
          ],
          "name": "stdout"
        }
      ]
    },
    {
      "cell_type": "markdown",
      "metadata": {
        "id": "ev-U9b2vSOoQ",
        "colab_type": "text"
      },
      "source": [
        "## 리스트 내포의 일반 문법"
      ]
    },
    {
      "cell_type": "code",
      "metadata": {
        "id": "Sg9W28NWQiJE",
        "colab_type": "code",
        "colab": {}
      },
      "source": [
        "# [표현식 for 항목 in 반복가능객체 if 조건문]\n",
        "# -----------------------------------------\n",
        "\n",
        "# 일반화\n",
        "# [표현식 for 항목1 in 반복가능객체1 if 조건문1\n",
        "#         for 항목2 in 반복가능객체2 if 조건문2\n",
        "#         ...\n",
        "#         for 항목n in 반복가능객체n if 조건문n]"
      ],
      "execution_count": 0,
      "outputs": []
    },
    {
      "cell_type": "markdown",
      "metadata": {
        "id": "8_84APa2SVF3",
        "colab_type": "text"
      },
      "source": [
        "## 구구단의 모든 결과를 리스트에 담는 코드"
      ]
    },
    {
      "cell_type": "code",
      "metadata": {
        "id": "pAoiuoA9SRFV",
        "colab_type": "code",
        "colab": {}
      },
      "source": [
        "result = [x*y for x in range(2,10) for y in range(1,10)]"
      ],
      "execution_count": 0,
      "outputs": []
    },
    {
      "cell_type": "markdown",
      "metadata": {
        "id": "u_UaQjmFSYUP",
        "colab_type": "text"
      },
      "source": [
        "## 9 이하의 정수 중 짝수는 2배로, 홀수는 그대로 리스트에 담는 코드"
      ]
    },
    {
      "cell_type": "code",
      "metadata": {
        "id": "KCgl83yzQjBl",
        "colab_type": "code",
        "outputId": "9800e6cc-ec00-43b9-aa39-8c46a90d5b95",
        "colab": {
          "base_uri": "https://localhost:8080/",
          "height": 35
        }
      },
      "source": [
        "x = [1, 2, 3, 4, 5, 6, 7, 8, 9]  # -> [1, 4, 3, 8, 5, 12, 7, 16, 9]\n",
        "result = []\n",
        "for idx in range(len(x)):\n",
        "    if x[idx] % 2 == 0:\n",
        "        result.append(x[idx] * 2)\n",
        "    else:\n",
        "        result.append(x[idx])\n",
        "result"
      ],
      "execution_count": 0,
      "outputs": [
        {
          "output_type": "execute_result",
          "data": {
            "text/plain": [
              "[1, 4, 3, 8, 5, 12, 7, 16, 9]"
            ]
          },
          "metadata": {
            "tags": []
          },
          "execution_count": 17
        }
      ]
    },
    {
      "cell_type": "markdown",
      "metadata": {
        "id": "eKM7pJmMSaSH",
        "colab_type": "text"
      },
      "source": [
        "## 짝수만 추출하여 2배로 만든 리스트 구성"
      ]
    },
    {
      "cell_type": "code",
      "metadata": {
        "id": "4sB77IZqQjt4",
        "colab_type": "code",
        "outputId": "7aae73d5-672f-4106-da3b-8a396f35cd9d",
        "colab": {
          "base_uri": "https://localhost:8080/",
          "height": 35
        }
      },
      "source": [
        "[element * 2 for element in x if element % 2 == 0]"
      ],
      "execution_count": 0,
      "outputs": [
        {
          "output_type": "execute_result",
          "data": {
            "text/plain": [
              "[4, 8, 12, 16]"
            ]
          },
          "metadata": {
            "tags": []
          },
          "execution_count": 18
        }
      ]
    },
    {
      "cell_type": "code",
      "metadata": {
        "id": "_stciHx_SbN2",
        "colab_type": "code",
        "outputId": "d2626ae1-5562-4c11-a314-52d83748a291",
        "colab": {
          "base_uri": "https://localhost:8080/",
          "height": 35
        }
      },
      "source": [
        "[(element * 2 if element % 2 == 0 else element) for element in x]"
      ],
      "execution_count": 0,
      "outputs": [
        {
          "output_type": "execute_result",
          "data": {
            "text/plain": [
              "[1, 4, 3, 8, 5, 12, 7, 16, 9]"
            ]
          },
          "metadata": {
            "tags": []
          },
          "execution_count": 19
        }
      ]
    }
  ]
}